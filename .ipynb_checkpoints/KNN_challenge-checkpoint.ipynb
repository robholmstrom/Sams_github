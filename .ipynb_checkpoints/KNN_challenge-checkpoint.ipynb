{
 "cells": [
  {
   "cell_type": "code",
   "execution_count": 145,
   "metadata": {},
   "outputs": [],
   "source": [
    "import math\n",
    "import pandas as pd\n",
    "import numpy as np\n",
    "import matplotlib.pyplot as plt\n",
    "from scipy import stats\n",
    "from statsmodels.stats.multicomp import pairwise_tukeyhsd\n",
    "import seaborn as sns \n",
    "sns.set()\n",
    "from sklearn.neighbors import KNeighborsClassifier\n",
    "from sklearn.neighbors import KNeighborsRegressor\n",
    "from sklearn import neighbors\n",
    "from sklearn.model_selection import cross_val_score\n",
    "from sklearn.model_selection import train_test_split\n",
    "from sklearn import linear_model\n",
    "from sqlalchemy import create_engine\n",
    "import statsmodels.api as sm\n",
    "from sklearn.linear_model import LinearRegression\n",
    "from sklearn.metrics import mean_absolute_error\n",
    "from statsmodels.tools.eval_measures import mse, rmse\n",
    "\n",
    "\n"
   ]
  },
  {
   "cell_type": "markdown",
   "metadata": {},
   "source": [
    "Here let's work on regression. Find a data set and build a KNN Regression and an OLS regression. Compare the two. How similar are they? Do they miss in different ways?"
   ]
  },
  {
   "cell_type": "code",
   "execution_count": 110,
   "metadata": {},
   "outputs": [],
   "source": [
    "df = pd.read_csv('https://raw.githubusercontent.com/robholmstrom/Sams_github/master/houses_to_rent_v2.csv')\n",
    "\n",
    "\n"
   ]
  },
  {
   "cell_type": "code",
   "execution_count": 121,
   "metadata": {},
   "outputs": [
    {
     "name": "stdout",
     "output_type": "stream",
     "text": [
      "<class 'pandas.core.frame.DataFrame'>\n",
      "RangeIndex: 10692 entries, 0 to 10691\n",
      "Data columns (total 13 columns):\n",
      " #   Column               Non-Null Count  Dtype \n",
      "---  ------               --------------  ----- \n",
      " 0   city                 10692 non-null  object\n",
      " 1   area                 10692 non-null  int64 \n",
      " 2   rooms                10692 non-null  int64 \n",
      " 3   bathroom             10692 non-null  int64 \n",
      " 4   parking spaces       10692 non-null  int64 \n",
      " 5   floor                10692 non-null  object\n",
      " 6   animal               10692 non-null  object\n",
      " 7   furniture            10692 non-null  object\n",
      " 8   hoa (R$)             10692 non-null  int64 \n",
      " 9   rent amount (R$)     10692 non-null  int64 \n",
      " 10  property tax (R$)    10692 non-null  int64 \n",
      " 11  fire insurance (R$)  10692 non-null  int64 \n",
      " 12  total (R$)           10692 non-null  int64 \n",
      "dtypes: int64(9), object(4)\n",
      "memory usage: 1.1+ MB\n"
     ]
    }
   ],
   "source": [
    "df.head()\n",
    "df.info()\n"
   ]
  },
  {
   "cell_type": "markdown",
   "metadata": {},
   "source": [
    "Create a Jupyter notebook with your models. At the end in a markdown cell write a few paragraphs to describe the models' behaviors and why you favor one model or the other. Try to determine whether there is a situation where you would change your mind, or whether one is unambiguously better than the other. Lastly, try to note what it is about the data that causes the better model to outperform the weaker model. Submit a link to your notebook below."
   ]
  },
  {
   "cell_type": "code",
   "execution_count": 140,
   "metadata": {},
   "outputs": [],
   "source": [
    "target = 'rent amount (R$)'\n",
    "drop_list = ['total (R$)', 'property tax (R$)', 'floor', 'rooms', 'bathroom', 'area']\n",
    "\n",
    "\n",
    "dfdum = df.drop(drop_list, axis =1)\n",
    "\n",
    "dumcols = [i for i in dfdum.select_dtypes(include = 'object')]\n",
    "dfdum = pd.get_dummies(dfdum, prefix=dumcols, drop_first = True).drop(target, axis =1)\n",
    "\n",
    "dfdum = dfdum.applymap(lambda x: x.strip() if isinstance(x, str) else x)\n",
    "\n",
    "\n"
   ]
  },
  {
   "cell_type": "code",
   "execution_count": 141,
   "metadata": {},
   "outputs": [
    {
     "data": {
      "text/html": [
       "<div>\n",
       "<style scoped>\n",
       "    .dataframe tbody tr th:only-of-type {\n",
       "        vertical-align: middle;\n",
       "    }\n",
       "\n",
       "    .dataframe tbody tr th {\n",
       "        vertical-align: top;\n",
       "    }\n",
       "\n",
       "    .dataframe thead th {\n",
       "        text-align: right;\n",
       "    }\n",
       "</style>\n",
       "<table border=\"1\" class=\"dataframe\">\n",
       "  <thead>\n",
       "    <tr style=\"text-align: right;\">\n",
       "      <th></th>\n",
       "      <th>level_0</th>\n",
       "      <th>level_1</th>\n",
       "      <th>Corr</th>\n",
       "    </tr>\n",
       "  </thead>\n",
       "  <tbody>\n",
       "    <tr>\n",
       "      <th>9</th>\n",
       "      <td>parking spaces</td>\n",
       "      <td>fire insurance (R$)</td>\n",
       "      <td>0.597348</td>\n",
       "    </tr>\n",
       "    <tr>\n",
       "      <th>10</th>\n",
       "      <td>fire insurance (R$)</td>\n",
       "      <td>parking spaces</td>\n",
       "      <td>0.597348</td>\n",
       "    </tr>\n",
       "    <tr>\n",
       "      <th>11</th>\n",
       "      <td>city_Rio de Janeiro</td>\n",
       "      <td>city_São Paulo</td>\n",
       "      <td>0.447311</td>\n",
       "    </tr>\n",
       "    <tr>\n",
       "      <th>12</th>\n",
       "      <td>city_São Paulo</td>\n",
       "      <td>city_Rio de Janeiro</td>\n",
       "      <td>0.447311</td>\n",
       "    </tr>\n",
       "    <tr>\n",
       "      <th>13</th>\n",
       "      <td>city_Porto Alegre</td>\n",
       "      <td>city_São Paulo</td>\n",
       "      <td>0.392267</td>\n",
       "    </tr>\n",
       "  </tbody>\n",
       "</table>\n",
       "</div>"
      ],
      "text/plain": [
       "                level_0              level_1      Corr\n",
       "9        parking spaces  fire insurance (R$)  0.597348\n",
       "10  fire insurance (R$)       parking spaces  0.597348\n",
       "11  city_Rio de Janeiro       city_São Paulo  0.447311\n",
       "12       city_São Paulo  city_Rio de Janeiro  0.447311\n",
       "13    city_Porto Alegre       city_São Paulo  0.392267"
      ]
     },
     "execution_count": 141,
     "metadata": {},
     "output_type": "execute_result"
    }
   ],
   "source": [
    "corr_list = dfdum.corr().unstack().abs().sort_values(ascending= False).reset_index().rename(columns = {0:'Corr'})\n",
    "corr_list_uq = corr_list[corr_list.iloc[:,0] != corr_list.iloc[:,1]]\n",
    "corr_list_uq.head(5)\n"
   ]
  },
  {
   "cell_type": "code",
   "execution_count": 142,
   "metadata": {},
   "outputs": [],
   "source": [
    "\n",
    "\n",
    "X = dfdum\n",
    "y = df[target]\n",
    "X_train, X_test, y_train, y_test = train_test_split(X, y, test_size = 0.2)\n",
    "\n",
    "\n"
   ]
  },
  {
   "cell_type": "code",
   "execution_count": 143,
   "metadata": {},
   "outputs": [
    {
     "data": {
      "text/plain": [
       "parking spaces             3.324458\n",
       "hoa (R$)                   1.007324\n",
       "fire insurance (R$)        3.556262\n",
       "city_Campinas              1.264734\n",
       "city_Porto Alegre          1.272576\n",
       "city_Rio de Janeiro        1.393864\n",
       "city_São Paulo             2.931355\n",
       "animal_not acept           1.245827\n",
       "furniture_not furnished    2.993264\n",
       "dtype: float64"
      ]
     },
     "execution_count": 143,
     "metadata": {},
     "output_type": "execute_result"
    }
   ],
   "source": [
    "from statsmodels.stats.outliers_influence import variance_inflation_factor\n",
    "\n",
    "pd.Series([variance_inflation_factor(X.values, i) \n",
    "               for i in range(X.shape[1])], \n",
    "              index=X.columns)"
   ]
  },
  {
   "cell_type": "code",
   "execution_count": 144,
   "metadata": {},
   "outputs": [
    {
     "data": {
      "text/html": [
       "<table class=\"simpletable\">\n",
       "<caption>OLS Regression Results</caption>\n",
       "<tr>\n",
       "  <th>Dep. Variable:</th>    <td>rent amount (R$)</td> <th>  R-squared:         </th> <td>   0.978</td> \n",
       "</tr>\n",
       "<tr>\n",
       "  <th>Model:</th>                   <td>OLS</td>       <th>  Adj. R-squared:    </th> <td>   0.978</td> \n",
       "</tr>\n",
       "<tr>\n",
       "  <th>Method:</th>             <td>Least Squares</td>  <th>  F-statistic:       </th> <td>5.364e+04</td>\n",
       "</tr>\n",
       "<tr>\n",
       "  <th>Date:</th>             <td>Tue, 02 Jun 2020</td> <th>  Prob (F-statistic):</th>  <td>  0.00</td>  \n",
       "</tr>\n",
       "<tr>\n",
       "  <th>Time:</th>                 <td>20:57:42</td>     <th>  Log-Likelihood:    </th> <td> -81650.</td> \n",
       "</tr>\n",
       "<tr>\n",
       "  <th>No. Observations:</th>      <td> 10692</td>      <th>  AIC:               </th> <td>1.633e+05</td>\n",
       "</tr>\n",
       "<tr>\n",
       "  <th>Df Residuals:</th>          <td> 10682</td>      <th>  BIC:               </th> <td>1.634e+05</td>\n",
       "</tr>\n",
       "<tr>\n",
       "  <th>Df Model:</th>              <td>     9</td>      <th>                     </th>     <td> </td>    \n",
       "</tr>\n",
       "<tr>\n",
       "  <th>Covariance Type:</th>      <td>nonrobust</td>    <th>                     </th>     <td> </td>    \n",
       "</tr>\n",
       "</table>\n",
       "<table class=\"simpletable\">\n",
       "<tr>\n",
       "             <td></td>                <th>coef</th>     <th>std err</th>      <th>t</th>      <th>P>|t|</th>  <th>[0.025</th>    <th>0.975]</th>  \n",
       "</tr>\n",
       "<tr>\n",
       "  <th>const</th>                   <td>   81.8855</td> <td>   19.428</td> <td>    4.215</td> <td> 0.000</td> <td>   43.803</td> <td>  119.968</td>\n",
       "</tr>\n",
       "<tr>\n",
       "  <th>parking spaces</th>          <td>  -29.6571</td> <td>    3.963</td> <td>   -7.483</td> <td> 0.000</td> <td>  -37.426</td> <td>  -21.888</td>\n",
       "</tr>\n",
       "<tr>\n",
       "  <th>hoa (R$)</th>                <td>    0.0016</td> <td>    0.000</td> <td>    5.182</td> <td> 0.000</td> <td>    0.001</td> <td>    0.002</td>\n",
       "</tr>\n",
       "<tr>\n",
       "  <th>fire insurance (R$)</th>     <td>   70.2742</td> <td>    0.131</td> <td>  536.484</td> <td> 0.000</td> <td>   70.017</td> <td>   70.531</td>\n",
       "</tr>\n",
       "<tr>\n",
       "  <th>city_Campinas</th>           <td>  191.5277</td> <td>   22.397</td> <td>    8.552</td> <td> 0.000</td> <td>  147.626</td> <td>  235.430</td>\n",
       "</tr>\n",
       "<tr>\n",
       "  <th>city_Porto Alegre</th>       <td> -155.8984</td> <td>   20.622</td> <td>   -7.560</td> <td> 0.000</td> <td> -196.321</td> <td> -115.476</td>\n",
       "</tr>\n",
       "<tr>\n",
       "  <th>city_Rio de Janeiro</th>     <td>  301.8096</td> <td>   19.705</td> <td>   15.316</td> <td> 0.000</td> <td>  263.183</td> <td>  340.436</td>\n",
       "</tr>\n",
       "<tr>\n",
       "  <th>city_São Paulo</th>          <td>  351.9414</td> <td>   15.703</td> <td>   22.412</td> <td> 0.000</td> <td>  321.160</td> <td>  382.723</td>\n",
       "</tr>\n",
       "<tr>\n",
       "  <th>animal_not acept</th>        <td>   36.7472</td> <td>   11.896</td> <td>    3.089</td> <td> 0.002</td> <td>   13.429</td> <td>   60.066</td>\n",
       "</tr>\n",
       "<tr>\n",
       "  <th>furniture_not furnished</th> <td> -168.8387</td> <td>   11.601</td> <td>  -14.554</td> <td> 0.000</td> <td> -191.579</td> <td> -146.099</td>\n",
       "</tr>\n",
       "</table>\n",
       "<table class=\"simpletable\">\n",
       "<tr>\n",
       "  <th>Omnibus:</th>       <td>5087.085</td> <th>  Durbin-Watson:     </th>  <td>   2.004</td> \n",
       "</tr>\n",
       "<tr>\n",
       "  <th>Prob(Omnibus):</th>  <td> 0.000</td>  <th>  Jarque-Bera (JB):  </th> <td>429212.698</td>\n",
       "</tr>\n",
       "<tr>\n",
       "  <th>Skew:</th>           <td> 1.388</td>  <th>  Prob(JB):          </th>  <td>    0.00</td> \n",
       "</tr>\n",
       "<tr>\n",
       "  <th>Kurtosis:</th>       <td>33.915</td>  <th>  Cond. No.          </th>  <td>1.15e+05</td> \n",
       "</tr>\n",
       "</table><br/><br/>Warnings:<br/>[1] Standard Errors assume that the covariance matrix of the errors is correctly specified.<br/>[2] The condition number is large, 1.15e+05. This might indicate that there are<br/>strong multicollinearity or other numerical problems."
      ],
      "text/plain": [
       "<class 'statsmodels.iolib.summary.Summary'>\n",
       "\"\"\"\n",
       "                            OLS Regression Results                            \n",
       "==============================================================================\n",
       "Dep. Variable:       rent amount (R$)   R-squared:                       0.978\n",
       "Model:                            OLS   Adj. R-squared:                  0.978\n",
       "Method:                 Least Squares   F-statistic:                 5.364e+04\n",
       "Date:                Tue, 02 Jun 2020   Prob (F-statistic):               0.00\n",
       "Time:                        20:57:42   Log-Likelihood:                -81650.\n",
       "No. Observations:               10692   AIC:                         1.633e+05\n",
       "Df Residuals:                   10682   BIC:                         1.634e+05\n",
       "Df Model:                           9                                         \n",
       "Covariance Type:            nonrobust                                         \n",
       "===========================================================================================\n",
       "                              coef    std err          t      P>|t|      [0.025      0.975]\n",
       "-------------------------------------------------------------------------------------------\n",
       "const                      81.8855     19.428      4.215      0.000      43.803     119.968\n",
       "parking spaces            -29.6571      3.963     -7.483      0.000     -37.426     -21.888\n",
       "hoa (R$)                    0.0016      0.000      5.182      0.000       0.001       0.002\n",
       "fire insurance (R$)        70.2742      0.131    536.484      0.000      70.017      70.531\n",
       "city_Campinas             191.5277     22.397      8.552      0.000     147.626     235.430\n",
       "city_Porto Alegre        -155.8984     20.622     -7.560      0.000    -196.321    -115.476\n",
       "city_Rio de Janeiro       301.8096     19.705     15.316      0.000     263.183     340.436\n",
       "city_São Paulo            351.9414     15.703     22.412      0.000     321.160     382.723\n",
       "animal_not acept           36.7472     11.896      3.089      0.002      13.429      60.066\n",
       "furniture_not furnished  -168.8387     11.601    -14.554      0.000    -191.579    -146.099\n",
       "==============================================================================\n",
       "Omnibus:                     5087.085   Durbin-Watson:                   2.004\n",
       "Prob(Omnibus):                  0.000   Jarque-Bera (JB):           429212.698\n",
       "Skew:                           1.388   Prob(JB):                         0.00\n",
       "Kurtosis:                      33.915   Cond. No.                     1.15e+05\n",
       "==============================================================================\n",
       "\n",
       "Warnings:\n",
       "[1] Standard Errors assume that the covariance matrix of the errors is correctly specified.\n",
       "[2] The condition number is large, 1.15e+05. This might indicate that there are\n",
       "strong multicollinearity or other numerical problems.\n",
       "\"\"\""
      ]
     },
     "execution_count": 144,
     "metadata": {},
     "output_type": "execute_result"
    }
   ],
   "source": [
    "X_ols = X.copy()\n",
    "X_ols = sm.add_constant(X_ols)\n",
    "results = sm.OLS(y,X_ols).fit()\n",
    "results.summary()"
   ]
  },
  {
   "cell_type": "code",
   "execution_count": null,
   "metadata": {},
   "outputs": [],
   "source": [
    "c_list = [x for x in arange(1,100000)]\n",
    "knn = KNeighborsRegressor(C= c_list, weight='distance')"
   ]
  },
  {
   "cell_type": "code",
   "execution_count": null,
   "metadata": {},
   "outputs": [],
   "source": [
    "c_list = [10**x for x in range(1, 5)]\n",
    "c_list"
   ]
  },
  {
   "cell_type": "code",
   "execution_count": null,
   "metadata": {},
   "outputs": [],
   "source": []
  }
 ],
 "metadata": {
  "kernelspec": {
   "display_name": "Python 3",
   "language": "python",
   "name": "python3"
  },
  "language_info": {
   "codemirror_mode": {
    "name": "ipython",
    "version": 3
   },
   "file_extension": ".py",
   "mimetype": "text/x-python",
   "name": "python",
   "nbconvert_exporter": "python",
   "pygments_lexer": "ipython3",
   "version": "3.7.4"
  }
 },
 "nbformat": 4,
 "nbformat_minor": 4
}
