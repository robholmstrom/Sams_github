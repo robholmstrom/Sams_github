{
 "cells": [
  {
   "cell_type": "code",
   "execution_count": 2,
   "metadata": {},
   "outputs": [],
   "source": [
    "import json\n",
    "from datetime import datetime\n",
    "import plotly.express as px\n",
    "from sklearn.model_selection import train_test_split\n",
    "import sqlite3\n",
    "import nltk\n",
    "import spacy\n",
    "import geopandas as gpd\n",
    "from shapely.geometry import Polygon\n",
    "import numpy as np\n",
    "import umap\n",
    "import pandas as pd\n",
    "import shapefile as shp\n",
    "import matplotlib.pyplot as plt\n",
    "import seaborn as sns\n",
    "from sklearn.cluster import KMeans\n",
    "from sklearn.mixture import GaussianMixture\n",
    "from sklearn.decomposition import PCA\n",
    "from sklearn.feature_extraction.text import CountVectorizer\n",
    "from sklearn.preprocessing import LabelEncoder, MinMaxScaler\n",
    "from sklearn.ensemble import RandomForestClassifier\n",
    "from sklearn.neighbors import KNeighborsClassifier\n",
    "from sklearn.svm import SVC\n",
    "\n",
    "%matplotlib inline"
   ]
  },
  {
   "cell_type": "code",
   "execution_count": 3,
   "metadata": {},
   "outputs": [
    {
     "name": "stderr",
     "output_type": "stream",
     "text": [
      "/Users/robholmstrom/miniconda3/lib/python3.7/site-packages/IPython/core/interactiveshell.py:3072: DtypeWarning: Columns (0) have mixed types.Specify dtype option on import or set low_memory=False.\n",
      "  interactivity=interactivity, compiler=compiler, result=result)\n"
     ]
    }
   ],
   "source": [
    "df_reviews_4yrs_open = pd.read_csv('/Users/robholmstrom/OneDrive/Gitrepos/nonrepo_files/capstone4_files/df_reviews_last_4yrs_open.csv')\n",
    "\n"
   ]
  },
  {
   "cell_type": "code",
   "execution_count": 10,
   "metadata": {},
   "outputs": [
    {
     "name": "stdout",
     "output_type": "stream",
     "text": [
      "<class 'pandas.core.frame.DataFrame'>\n",
      "RangeIndex: 163300 entries, 0 to 163299\n",
      "Data columns (total 15 columns):\n",
      " #   Column        Non-Null Count   Dtype  \n",
      "---  ------        --------------   -----  \n",
      " 0   Unnamed: 0    163300 non-null  int64  \n",
      " 1   business_id   163300 non-null  object \n",
      " 2   name          163300 non-null  object \n",
      " 3   address       155907 non-null  object \n",
      " 4   city          163298 non-null  object \n",
      " 5   state         163300 non-null  object \n",
      " 6   postal_code   162939 non-null  object \n",
      " 7   latitude      163300 non-null  float64\n",
      " 8   longitude     163300 non-null  float64\n",
      " 9   stars         163300 non-null  float64\n",
      " 10  review_count  163300 non-null  int64  \n",
      " 11  is_open       163300 non-null  int64  \n",
      " 12  attributes    139458 non-null  object \n",
      " 13  categories    162834 non-null  object \n",
      " 14  hours         134741 non-null  object \n",
      "dtypes: float64(3), int64(3), object(9)\n",
      "memory usage: 18.7+ MB\n"
     ]
    }
   ],
   "source": [
    "df_business_4yrs_open.info()"
   ]
  },
  {
   "cell_type": "code",
   "execution_count": 5,
   "metadata": {},
   "outputs": [
    {
     "data": {
      "text/plain": [
       "3       25906\n",
       "4       14132\n",
       "5       10986\n",
       "6        8852\n",
       "7        7430\n",
       "        ...  \n",
       "1445        1\n",
       "2648        1\n",
       "3414        1\n",
       "2855        1\n",
       "1791        1\n",
       "Name: review_count, Length: 1292, dtype: int64"
      ]
     },
     "execution_count": 5,
     "metadata": {},
     "output_type": "execute_result"
    }
   ],
   "source": [
    "df_business_4yrs_open['review_count'].value_counts()"
   ]
  },
  {
   "cell_type": "code",
   "execution_count": 6,
   "metadata": {},
   "outputs": [],
   "source": [
    "df_bus_select =  df_business_4yrs_open[df_business_4yrs_open['review_count']>10]"
   ]
  },
  {
   "cell_type": "code",
   "execution_count": 7,
   "metadata": {},
   "outputs": [
    {
     "data": {
      "text/plain": [
       "11      4114\n",
       "12      3555\n",
       "13      3232\n",
       "14      2893\n",
       "15      2707\n",
       "        ... \n",
       "1204       1\n",
       "1268       1\n",
       "2164       1\n",
       "2228       1\n",
       "1791       1\n",
       "Name: review_count, Length: 1284, dtype: int64"
      ]
     },
     "execution_count": 7,
     "metadata": {},
     "output_type": "execute_result"
    }
   ],
   "source": [
    "df_bus_select['review_count'].value_counts()"
   ]
  },
  {
   "cell_type": "code",
   "execution_count": 12,
   "metadata": {},
   "outputs": [
    {
     "data": {
      "text/html": [
       "<div>\n",
       "<style scoped>\n",
       "    .dataframe tbody tr th:only-of-type {\n",
       "        vertical-align: middle;\n",
       "    }\n",
       "\n",
       "    .dataframe tbody tr th {\n",
       "        vertical-align: top;\n",
       "    }\n",
       "\n",
       "    .dataframe thead th {\n",
       "        text-align: right;\n",
       "    }\n",
       "</style>\n",
       "<table border=\"1\" class=\"dataframe\">\n",
       "  <thead>\n",
       "    <tr style=\"text-align: right;\">\n",
       "      <th></th>\n",
       "      <th>state</th>\n",
       "    </tr>\n",
       "  </thead>\n",
       "  <tbody>\n",
       "    <tr>\n",
       "      <th>AZ</th>\n",
       "      <td>25777</td>\n",
       "    </tr>\n",
       "    <tr>\n",
       "      <th>NV</th>\n",
       "      <td>18208</td>\n",
       "    </tr>\n",
       "    <tr>\n",
       "      <th>ON</th>\n",
       "      <td>11548</td>\n",
       "    </tr>\n",
       "    <tr>\n",
       "      <th>NC</th>\n",
       "      <td>6122</td>\n",
       "    </tr>\n",
       "    <tr>\n",
       "      <th>OH</th>\n",
       "      <td>5436</td>\n",
       "    </tr>\n",
       "    <tr>\n",
       "      <th>PA</th>\n",
       "      <td>4298</td>\n",
       "    </tr>\n",
       "    <tr>\n",
       "      <th>QC</th>\n",
       "      <td>3020</td>\n",
       "    </tr>\n",
       "  </tbody>\n",
       "</table>\n",
       "</div>"
      ],
      "text/plain": [
       "    state\n",
       "AZ  25777\n",
       "NV  18208\n",
       "ON  11548\n",
       "NC   6122\n",
       "OH   5436\n",
       "PA   4298\n",
       "QC   3020"
      ]
     },
     "execution_count": 12,
     "metadata": {},
     "output_type": "execute_result"
    }
   ],
   "source": [
    "threshold = 0.1\n",
    "review_by_state = pd.DataFrame(df_bus_select['state'].value_counts())\n",
    "states_select = review_by_state[review_by_state['state'] > threshold*review_by_state.max()['state']]\n",
    "states_select"
   ]
  },
  {
   "cell_type": "code",
   "execution_count": 13,
   "metadata": {},
   "outputs": [
    {
     "name": "stdout",
     "output_type": "stream",
     "text": [
      "<class 'pandas.core.frame.DataFrame'>\n",
      "RangeIndex: 4464626 entries, 0 to 4464625\n",
      "Data columns (total 11 columns):\n",
      " #   Column       Dtype  \n",
      "---  ------       -----  \n",
      " 0   Unnamed: 0   object \n",
      " 1   review_id    object \n",
      " 2   user_id      object \n",
      " 3   business_id  object \n",
      " 4   stars        float64\n",
      " 5   useful       float64\n",
      " 6   funny        float64\n",
      " 7   cool         float64\n",
      " 8   text         object \n",
      " 9   date         object \n",
      " 10  year         float64\n",
      "dtypes: float64(5), object(6)\n",
      "memory usage: 374.7+ MB\n"
     ]
    }
   ],
   "source": [
    "df_reviews_4yrs_open.info()"
   ]
  },
  {
   "cell_type": "code",
   "execution_count": 14,
   "metadata": {},
   "outputs": [],
   "source": [
    "df_rev_bus_raw = df_reviews_4yrs_open.merge(df_bus_select, on = 'business_id', how= 'inner')"
   ]
  },
  {
   "cell_type": "code",
   "execution_count": 17,
   "metadata": {},
   "outputs": [
    {
     "name": "stdout",
     "output_type": "stream",
     "text": [
      "<class 'pandas.core.frame.DataFrame'>\n",
      "Int64Index: 4135344 entries, 0 to 4135343\n",
      "Data columns (total 26 columns):\n",
      " #   Column        Dtype  \n",
      "---  ------        -----  \n",
      " 0   Unnamed: 0_x  object \n",
      " 1   review_id     object \n",
      " 2   user_id       object \n",
      " 3   business_id   object \n",
      " 4   stars_x       float64\n",
      " 5   useful        float64\n",
      " 6   funny         float64\n",
      " 7   cool          float64\n",
      " 8   text          object \n",
      " 9   date          object \n",
      " 10  year          float64\n",
      " 11  Unnamed: 0_y  int64  \n",
      " 12  name          object \n",
      " 13  address       object \n",
      " 14  city          object \n",
      " 15  state         object \n",
      " 16  postal_code   object \n",
      " 17  latitude      float64\n",
      " 18  longitude     float64\n",
      " 19  stars_y       float64\n",
      " 20  review_count  int64  \n",
      " 21  is_open       int64  \n",
      " 22  attributes    object \n",
      " 23  categories    object \n",
      " 24  hours         object \n",
      " 25  text length   int64  \n",
      "dtypes: float64(8), int64(4), object(14)\n",
      "memory usage: 851.9+ MB\n"
     ]
    }
   ],
   "source": [
    "df_rev_bus_raw.info()"
   ]
  },
  {
   "cell_type": "code",
   "execution_count": 30,
   "metadata": {},
   "outputs": [
    {
     "data": {
      "text/plain": [
       "<seaborn.axisgrid.FacetGrid at 0x7feccb77e4d0>"
      ]
     },
     "execution_count": 30,
     "metadata": {},
     "output_type": "execute_result"
    },
    {
     "data": {
      "image/png": "[encoded data removed]",
      "text/plain": [
       "<Figure size 1728x216 with 8 Axes>"
      ]
     },
     "metadata": {
      "needs_background": "light"
     },
     "output_type": "display_data"
    }
   ],
   "source": [
    "df_rev_bus_raw['text length'] = df_rev_bus_raw['text'].apply(len)\n",
    "g = sns.FacetGrid(data=df_rev_bus_raw[df_rev_bus_raw['state'].isin(['AZ', 'NV', 'OH', 'ON', 'PA', 'QC', 'NC', 'WI'])], col='state')\n",
    "g.map(plt.hist, 'stars_x', density=True, rwidth = 2)"
   ]
  },
  {
   "cell_type": "code",
   "execution_count": null,
   "metadata": {},
   "outputs": [],
   "source": [
    "df_rev_bus_raw.shape"
   ]
  },
  {
   "cell_type": "code",
   "execution_count": null,
   "metadata": {},
   "outputs": [],
   "source": [
    "df_rev_bus_raw = df_rev_bus_raw.rename(columns = {'stars_x': 'stars'})"
   ]
  },
  {
   "cell_type": "code",
   "execution_count": null,
   "metadata": {},
   "outputs": [],
   "source": [
    "df_rev_bus_select = df_rev_bus_raw.loc[df_rev_bus_raw['state'].isin(states_select.index)==True]"
   ]
  },
  {
   "cell_type": "code",
   "execution_count": null,
   "metadata": {},
   "outputs": [],
   "source": [
    "df_rev_bus_select.state.value_counts()"
   ]
  },
  {
   "cell_type": "code",
   "execution_count": null,
   "metadata": {},
   "outputs": [],
   "source": [
    "df_food_rev = df_rev_bus_select[df_rev_bus_select['categories'].str.contains('Restaurant')|\n",
    "                 df_rev_bus_select['categories'].str.contains('Coffee & Tea')]"
   ]
  },
  {
   "cell_type": "code",
   "execution_count": null,
   "metadata": {},
   "outputs": [],
   "source": [
    "df_food = df_food_rev.copy()\n",
    "catlist_clean = df_food['categories'].str.replace(' ', '' ).str.replace(',', ', ')"
   ]
  },
  {
   "cell_type": "code",
   "execution_count": null,
   "metadata": {},
   "outputs": [],
   "source": [
    "df_food['categories_filtered']= catlist_clean"
   ]
  },
  {
   "cell_type": "code",
   "execution_count": null,
   "metadata": {},
   "outputs": [],
   "source": [
    "food_categories = pd.read_csv('/Users/robholmstrom/OneDrive/Gitrepos/nonrepo_files/Yelp_food_categories.csv')\n",
    "food_categories.info()"
   ]
  },
  {
   "cell_type": "code",
   "execution_count": null,
   "metadata": {},
   "outputs": [],
   "source": [
    "food_types = food_categories['Food_types'].dropna().str.strip().str.replace(' ', '')\n",
    "ethnicities = food_categories['Ethnicities'].dropna().str.strip().str.replace(' ', '')\n",
    "venue_types = food_categories['Venue_type'].dropna().str.strip().str.replace(' ', '')"
   ]
  },
  {
   "cell_type": "code",
   "execution_count": null,
   "metadata": {},
   "outputs": [],
   "source": []
  },
  {
   "cell_type": "code",
   "execution_count": null,
   "metadata": {},
   "outputs": [],
   "source": [
    "type_list = []\n",
    "\n",
    "for x in df_food['categories_filtered']:\n",
    "    sublist = []\n",
    "    for i in food_types:\n",
    "        if i in x:\n",
    "            sublist.append(i)\n",
    "    \n",
    "    if len(sublist) == 0:\n",
    "        type_list.append(['Undefined'])\n",
    "    else:\n",
    "        type_list.append(sublist)  \n",
    "\n",
    "print(len(type_list))\n",
    "print(df_food.shape[0])\n"
   ]
  },
  {
   "cell_type": "code",
   "execution_count": null,
   "metadata": {},
   "outputs": [],
   "source": [
    "venue_list = []\n",
    "\n",
    "for x in  df_food['categories_filtered']:\n",
    "    sublist = []\n",
    "    for i in venue_types:\n",
    "        if i in x:\n",
    "            sublist.append(i)\n",
    "    \n",
    "    if len(sublist) == 0:\n",
    "        venue_list.append(['Restaurant'])\n",
    "    else:\n",
    "        venue_list.append(sublist)  \n",
    "\n",
    "print(len(venue_list))\n",
    "print(df_food.shape[0])\n"
   ]
  },
  {
   "cell_type": "code",
   "execution_count": null,
   "metadata": {},
   "outputs": [],
   "source": [
    "ethnicity_list = []\n",
    "\n",
    "for x in  df_food['categories_filtered']:\n",
    "    sublist = []\n",
    "    for i in ethnicities:\n",
    "        if i in x:\n",
    "            sublist.append(i)\n",
    "    \n",
    "    if len(sublist) == 0:\n",
    "        ethnicity_list.append(['Undefined'])\n",
    "    else:\n",
    "        ethnicity_list.append(sublist)  \n",
    "print(len(ethnicity_list))\n",
    "print(df_food.shape[0])\n"
   ]
  },
  {
   "cell_type": "code",
   "execution_count": null,
   "metadata": {},
   "outputs": [],
   "source": [
    "df_food['food_type'] = type_list\n",
    "df_food['ethnicity'] = ethnicity_list\n",
    "df_food['venue'] = venue_list\n"
   ]
  },
  {
   "cell_type": "code",
   "execution_count": null,
   "metadata": {},
   "outputs": [],
   "source": [
    "df_food['food_comb'] = (df_food['food_type']+df_food['ethnicity']+df_food['venue']).apply(lambda x: ', '.join(x))\n",
    "df_food['food_comb'] = df_food['food_comb'].str.replace('Undefined,', '')\n"
   ]
  },
  {
   "cell_type": "code",
   "execution_count": null,
   "metadata": {},
   "outputs": [],
   "source": []
  },
  {
   "cell_type": "code",
   "execution_count": null,
   "metadata": {},
   "outputs": [],
   "source": [
    "df_food_clean = df_food.drop(columns = ['categories'])\n",
    "df_food_clean['food_type'] = df_food_clean['food_type'].apply(lambda x: ', '.join(x))\n",
    "df_food_clean['venue'] = df_food_clean['venue'].apply(lambda x: ', '.join(x))\n",
    "df_food_clean['ethnicity']= df_food_clean['ethnicity'].apply(lambda x: ', '.join(x))"
   ]
  },
  {
   "cell_type": "code",
   "execution_count": null,
   "metadata": {},
   "outputs": [],
   "source": [
    "(df_food_clean['postal_code']=='').value_counts()"
   ]
  },
  {
   "cell_type": "code",
   "execution_count": null,
   "metadata": {},
   "outputs": [],
   "source": [
    "df_food_clean['postal_code'].replace('', np.nan, inplace = True)\n",
    "df_food_clean.dropna(inplace = True)"
   ]
  },
  {
   "cell_type": "code",
   "execution_count": null,
   "metadata": {},
   "outputs": [],
   "source": [
    "df_food_clean.reset_index(drop=True, inplace= True)\n"
   ]
  },
  {
   "cell_type": "code",
   "execution_count": null,
   "metadata": {},
   "outputs": [],
   "source": [
    "df_food_clean = df_food_clean.rename(columns = {'stars_x':'stars'})"
   ]
  },
  {
   "cell_type": "code",
   "execution_count": null,
   "metadata": {},
   "outputs": [],
   "source": [
    "df_food_clean"
   ]
  },
  {
   "cell_type": "code",
   "execution_count": null,
   "metadata": {},
   "outputs": [],
   "source": [
    "df_food_clean.drop(['Unnamed: 0_x'], axis = True, inplace = True)"
   ]
  },
  {
   "cell_type": "code",
   "execution_count": null,
   "metadata": {},
   "outputs": [],
   "source": [
    "df_food_clean.to_csv('/Users/robholmstrom/OneDrive/Gitrepos/nonrepo_files/capstone4_files/df_food_clean_rev.csv')"
   ]
  },
  {
   "cell_type": "code",
   "execution_count": null,
   "metadata": {},
   "outputs": [],
   "source": [
    "df_food_clean['review_count'].value_counts()"
   ]
  },
  {
   "cell_type": "code",
   "execution_count": null,
   "metadata": {},
   "outputs": [],
   "source": []
  }
 ],
 "metadata": {
  "kernelspec": {
   "display_name": "Python 3",
   "language": "python",
   "name": "python3"
  },
  "language_info": {
   "codemirror_mode": {
    "name": "ipython",
    "version": 3
   },
   "file_extension": ".py",
   "mimetype": "text/x-python",
   "name": "python",
   "nbconvert_exporter": "python",
   "pygments_lexer": "ipython3",
   "version": "3.7.7"
  }
 },
 "nbformat": 4,
 "nbformat_minor": 4
}
