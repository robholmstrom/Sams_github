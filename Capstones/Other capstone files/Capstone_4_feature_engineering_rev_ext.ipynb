{
 "cells": [
  {
   "cell_type": "code",
   "execution_count": 1,
   "metadata": {},
   "outputs": [],
   "source": [
    "import json\n",
    "from datetime import datetime\n",
    "import plotly.express as px\n",
    "from sklearn.model_selection import train_test_split\n",
    "import sqlite3\n",
    "import nltk\n",
    "import spacy\n",
    "import geopandas as gpd\n",
    "from shapely.geometry import Polygon\n",
    "import numpy as np\n",
    "import umap\n",
    "import pandas as pd\n",
    "import shapefile as shp\n",
    "import matplotlib.pyplot as plt\n",
    "import seaborn as sns\n",
    "from sklearn.cluster import KMeans\n",
    "from sklearn.mixture import GaussianMixture\n",
    "from sklearn.decomposition import PCA\n",
    "from sklearn.feature_extraction.text import CountVectorizer, TfidfVectorizer\n",
    "from sklearn.preprocessing import LabelEncoder, MinMaxScaler\n",
    "from sklearn.ensemble import RandomForestClassifier\n",
    "from sklearn.neighbors import KNeighborsClassifier\n",
    "from sklearn.svm import SVC\n",
    "from sklearn.preprocessing import MinMaxScaler\n",
    "from sklearn.feature_selection import SelectKBest, f_classif\n",
    "from imblearn.over_sampling import SMOTE\n",
    "from imblearn.under_sampling import RandomUnderSampler\n",
    "%matplotlib inline"
   ]
  },
  {
   "cell_type": "code",
   "execution_count": 2,
   "metadata": {},
   "outputs": [],
   "source": [
    "df_food = pd.read_csv('/Users/robholmstrom/OneDrive/Gitrepos/nonrepo_files/capstone4_files/df_food_clean_rev.csv')"
   ]
  },
  {
   "cell_type": "code",
   "execution_count": 4,
   "metadata": {},
   "outputs": [],
   "source": [
    "df_food['stars'].replace(3,np.nan, inplace =True)\n",
    "df_food['stars'].replace(4,np.nan, inplace =True)\n",
    "df_food.dropna(inplace=True)\n",
    "df_food['star_binary'] = np.where(df_food['stars'] <2, 'no', 'yes')\n"
   ]
  },
  {
   "cell_type": "code",
   "execution_count": 5,
   "metadata": {},
   "outputs": [],
   "source": [
    "df_food['state_star'] = df_food['state'] + df_food['star_binary']\n"
   ]
  },
  {
   "cell_type": "code",
   "execution_count": null,
   "metadata": {},
   "outputs": [],
   "source": []
  },
  {
   "cell_type": "code",
   "execution_count": 6,
   "metadata": {},
   "outputs": [],
   "source": [
    "df_food_v2 = df_food.reset_index(drop=True).drop('Unnamed: 0', axis = 1)"
   ]
  },
  {
   "cell_type": "code",
   "execution_count": 7,
   "metadata": {},
   "outputs": [],
   "source": [
    "df_food_clean = df_food_v2.copy()"
   ]
  },
  {
   "cell_type": "code",
   "execution_count": 8,
   "metadata": {},
   "outputs": [],
   "source": [
    "#df_food_clean = df_food_v2.loc[df_food_v2['state_star'].str.contains('no')].reset_index(drop=True)\n"
   ]
  },
  {
   "cell_type": "code",
   "execution_count": 9,
   "metadata": {},
   "outputs": [],
   "source": [
    "vectorizer = CountVectorizer(analyzer='word', min_df=200, max_features=25)\n",
    "Xvec = vectorizer.fit_transform(df_food_clean['food_comb'])\n",
    "bow_df = pd.DataFrame(Xvec.toarray(), columns=vectorizer.get_feature_names())"
   ]
  },
  {
   "cell_type": "code",
   "execution_count": 10,
   "metadata": {},
   "outputs": [],
   "source": [
    "vectorizertf = TfidfVectorizer(analyzer='word', min_df=50, max_features=50)\n",
    "Xvectf = vectorizertf.fit_transform(df_food_clean['food_comb'])\n",
    "tf_df = pd.DataFrame(Xvectf.toarray(), columns=vectorizertf.get_feature_names())"
   ]
  },
  {
   "cell_type": "code",
   "execution_count": 11,
   "metadata": {},
   "outputs": [],
   "source": [
    "#df_vec = pd.concat([bow_df, df_food_clean['stars_avg']], axis=1)"
   ]
  },
  {
   "cell_type": "code",
   "execution_count": 12,
   "metadata": {},
   "outputs": [],
   "source": [
    "df_vec = bow_df"
   ]
  },
  {
   "cell_type": "code",
   "execution_count": 13,
   "metadata": {},
   "outputs": [],
   "source": [
    "df_vec = tf_df"
   ]
  },
  {
   "cell_type": "code",
   "execution_count": 14,
   "metadata": {},
   "outputs": [],
   "source": [
    "#df_vec = np.array(df_food_clean['stars_avg']).reshape(-1, 1)"
   ]
  },
  {
   "cell_type": "code",
   "execution_count": 15,
   "metadata": {},
   "outputs": [],
   "source": [
    "X = df_vec\n",
    "y = df_food_clean['state_star']"
   ]
  },
  {
   "cell_type": "code",
   "execution_count": 16,
   "metadata": {},
   "outputs": [
    {
     "data": {
      "text/plain": [
       "Index(['american', 'asianfusion', 'bakeries', 'barbeque', 'breakfast',\n",
       "       'brunch', 'buffets', 'burgers', 'cafes', 'chickenwings', 'chinese',\n",
       "       'coffee', 'comfortfood', 'desserts', 'diners', 'fastfood', 'french',\n",
       "       'frozenyogurt', 'gastropubs', 'greek', 'hawaiian', 'italian',\n",
       "       'japanese', 'juicebars', 'korean', 'mediterranean', 'mexican', 'new',\n",
       "       'noodles', 'pizza', 'ramen', 'restaurant', 'salad', 'sandwiches',\n",
       "       'seafood', 'smallplates', 'smoothies', 'soup', 'southern',\n",
       "       'specialtyfood', 'steakhouses', 'sushibars', 'tacos', 'tapas', 'tea',\n",
       "       'thai', 'traditional', 'vegan', 'vegetarian', 'vietnamese'],\n",
       "      dtype='object')"
      ]
     },
     "execution_count": 16,
     "metadata": {},
     "output_type": "execute_result"
    }
   ],
   "source": [
    "X.columns"
   ]
  },
  {
   "cell_type": "code",
   "execution_count": 17,
   "metadata": {},
   "outputs": [],
   "source": [
    "k = 25\n",
    "if len(X.columns) >= k:\n",
    "    skb = SelectKBest(k = k, score_func = f_classif)\n",
    "    best_kfit = skb.fit(X, y)\n",
    "    X_best_feat = best_kfit.fit_transform(X,y)\n",
    "\n",
    "    X_best_feat = pd.DataFrame(X_best_feat, columns=X.columns[best_kfit.get_support()])\n",
    "\n",
    "    best_features = X_best_feat.columns.tolist()\n",
    "else:\n",
    "    print('To few columns to select')"
   ]
  },
  {
   "cell_type": "code",
   "execution_count": 18,
   "metadata": {},
   "outputs": [
    {
     "data": {
      "text/plain": [
       "['american',\n",
       " 'breakfast',\n",
       " 'brunch',\n",
       " 'buffets',\n",
       " 'chickenwings',\n",
       " 'chinese',\n",
       " 'comfortfood',\n",
       " 'fastfood',\n",
       " 'french',\n",
       " 'japanese',\n",
       " 'korean',\n",
       " 'mexican',\n",
       " 'new',\n",
       " 'noodles',\n",
       " 'pizza',\n",
       " 'ramen',\n",
       " 'restaurant',\n",
       " 'salad',\n",
       " 'sandwiches',\n",
       " 'smallplates',\n",
       " 'southern',\n",
       " 'steakhouses',\n",
       " 'tacos',\n",
       " 'tapas',\n",
       " 'traditional']"
      ]
     },
     "execution_count": 18,
     "metadata": {},
     "output_type": "execute_result"
    }
   ],
   "source": [
    "best_features"
   ]
  },
  {
   "cell_type": "code",
   "execution_count": 19,
   "metadata": {},
   "outputs": [],
   "source": [
    "# X = df_vec[best_features]\n",
    "# y = df_food_clean['state']"
   ]
  },
  {
   "cell_type": "code",
   "execution_count": 20,
   "metadata": {},
   "outputs": [
    {
     "data": {
      "text/html": [
       "<div>\n",
       "<style scoped>\n",
       "    .dataframe tbody tr th:only-of-type {\n",
       "        vertical-align: middle;\n",
       "    }\n",
       "\n",
       "    .dataframe tbody tr th {\n",
       "        vertical-align: top;\n",
       "    }\n",
       "\n",
       "    .dataframe thead th {\n",
       "        text-align: right;\n",
       "    }\n",
       "</style>\n",
       "<table border=\"1\" class=\"dataframe\">\n",
       "  <thead>\n",
       "    <tr style=\"text-align: right;\">\n",
       "      <th></th>\n",
       "      <th>american</th>\n",
       "      <th>asianfusion</th>\n",
       "      <th>bakeries</th>\n",
       "      <th>barbeque</th>\n",
       "      <th>breakfast</th>\n",
       "      <th>brunch</th>\n",
       "      <th>buffets</th>\n",
       "      <th>burgers</th>\n",
       "      <th>cafes</th>\n",
       "      <th>chickenwings</th>\n",
       "      <th>...</th>\n",
       "      <th>steakhouses</th>\n",
       "      <th>sushibars</th>\n",
       "      <th>tacos</th>\n",
       "      <th>tapas</th>\n",
       "      <th>tea</th>\n",
       "      <th>thai</th>\n",
       "      <th>traditional</th>\n",
       "      <th>vegan</th>\n",
       "      <th>vegetarian</th>\n",
       "      <th>vietnamese</th>\n",
       "    </tr>\n",
       "  </thead>\n",
       "  <tbody>\n",
       "    <tr>\n",
       "      <th>0</th>\n",
       "      <td>0.0</td>\n",
       "      <td>0.0</td>\n",
       "      <td>0.0</td>\n",
       "      <td>0.0</td>\n",
       "      <td>0.0</td>\n",
       "      <td>0.0</td>\n",
       "      <td>0.0</td>\n",
       "      <td>0.0</td>\n",
       "      <td>0.0</td>\n",
       "      <td>0.634515</td>\n",
       "      <td>...</td>\n",
       "      <td>0.0</td>\n",
       "      <td>0.0</td>\n",
       "      <td>0.0</td>\n",
       "      <td>0.0</td>\n",
       "      <td>0.0</td>\n",
       "      <td>0.0</td>\n",
       "      <td>0.0</td>\n",
       "      <td>0.0</td>\n",
       "      <td>0.0</td>\n",
       "      <td>0.0</td>\n",
       "    </tr>\n",
       "    <tr>\n",
       "      <th>1</th>\n",
       "      <td>0.0</td>\n",
       "      <td>0.0</td>\n",
       "      <td>0.0</td>\n",
       "      <td>0.0</td>\n",
       "      <td>0.0</td>\n",
       "      <td>0.0</td>\n",
       "      <td>0.0</td>\n",
       "      <td>0.0</td>\n",
       "      <td>0.0</td>\n",
       "      <td>0.634515</td>\n",
       "      <td>...</td>\n",
       "      <td>0.0</td>\n",
       "      <td>0.0</td>\n",
       "      <td>0.0</td>\n",
       "      <td>0.0</td>\n",
       "      <td>0.0</td>\n",
       "      <td>0.0</td>\n",
       "      <td>0.0</td>\n",
       "      <td>0.0</td>\n",
       "      <td>0.0</td>\n",
       "      <td>0.0</td>\n",
       "    </tr>\n",
       "    <tr>\n",
       "      <th>2</th>\n",
       "      <td>0.0</td>\n",
       "      <td>0.0</td>\n",
       "      <td>0.0</td>\n",
       "      <td>0.0</td>\n",
       "      <td>0.0</td>\n",
       "      <td>0.0</td>\n",
       "      <td>0.0</td>\n",
       "      <td>0.0</td>\n",
       "      <td>0.0</td>\n",
       "      <td>0.634515</td>\n",
       "      <td>...</td>\n",
       "      <td>0.0</td>\n",
       "      <td>0.0</td>\n",
       "      <td>0.0</td>\n",
       "      <td>0.0</td>\n",
       "      <td>0.0</td>\n",
       "      <td>0.0</td>\n",
       "      <td>0.0</td>\n",
       "      <td>0.0</td>\n",
       "      <td>0.0</td>\n",
       "      <td>0.0</td>\n",
       "    </tr>\n",
       "    <tr>\n",
       "      <th>3</th>\n",
       "      <td>0.0</td>\n",
       "      <td>0.0</td>\n",
       "      <td>0.0</td>\n",
       "      <td>0.0</td>\n",
       "      <td>0.0</td>\n",
       "      <td>0.0</td>\n",
       "      <td>0.0</td>\n",
       "      <td>0.0</td>\n",
       "      <td>0.0</td>\n",
       "      <td>0.634515</td>\n",
       "      <td>...</td>\n",
       "      <td>0.0</td>\n",
       "      <td>0.0</td>\n",
       "      <td>0.0</td>\n",
       "      <td>0.0</td>\n",
       "      <td>0.0</td>\n",
       "      <td>0.0</td>\n",
       "      <td>0.0</td>\n",
       "      <td>0.0</td>\n",
       "      <td>0.0</td>\n",
       "      <td>0.0</td>\n",
       "    </tr>\n",
       "    <tr>\n",
       "      <th>4</th>\n",
       "      <td>0.0</td>\n",
       "      <td>0.0</td>\n",
       "      <td>0.0</td>\n",
       "      <td>0.0</td>\n",
       "      <td>0.0</td>\n",
       "      <td>0.0</td>\n",
       "      <td>0.0</td>\n",
       "      <td>0.0</td>\n",
       "      <td>0.0</td>\n",
       "      <td>0.634515</td>\n",
       "      <td>...</td>\n",
       "      <td>0.0</td>\n",
       "      <td>0.0</td>\n",
       "      <td>0.0</td>\n",
       "      <td>0.0</td>\n",
       "      <td>0.0</td>\n",
       "      <td>0.0</td>\n",
       "      <td>0.0</td>\n",
       "      <td>0.0</td>\n",
       "      <td>0.0</td>\n",
       "      <td>0.0</td>\n",
       "    </tr>\n",
       "    <tr>\n",
       "      <th>...</th>\n",
       "      <td>...</td>\n",
       "      <td>...</td>\n",
       "      <td>...</td>\n",
       "      <td>...</td>\n",
       "      <td>...</td>\n",
       "      <td>...</td>\n",
       "      <td>...</td>\n",
       "      <td>...</td>\n",
       "      <td>...</td>\n",
       "      <td>...</td>\n",
       "      <td>...</td>\n",
       "      <td>...</td>\n",
       "      <td>...</td>\n",
       "      <td>...</td>\n",
       "      <td>...</td>\n",
       "      <td>...</td>\n",
       "      <td>...</td>\n",
       "      <td>...</td>\n",
       "      <td>...</td>\n",
       "      <td>...</td>\n",
       "      <td>...</td>\n",
       "    </tr>\n",
       "    <tr>\n",
       "      <th>1256365</th>\n",
       "      <td>0.0</td>\n",
       "      <td>0.0</td>\n",
       "      <td>0.0</td>\n",
       "      <td>0.0</td>\n",
       "      <td>0.0</td>\n",
       "      <td>0.0</td>\n",
       "      <td>0.0</td>\n",
       "      <td>0.0</td>\n",
       "      <td>0.0</td>\n",
       "      <td>0.000000</td>\n",
       "      <td>...</td>\n",
       "      <td>0.0</td>\n",
       "      <td>0.0</td>\n",
       "      <td>0.0</td>\n",
       "      <td>0.0</td>\n",
       "      <td>0.0</td>\n",
       "      <td>0.0</td>\n",
       "      <td>0.0</td>\n",
       "      <td>0.0</td>\n",
       "      <td>0.0</td>\n",
       "      <td>0.0</td>\n",
       "    </tr>\n",
       "    <tr>\n",
       "      <th>1256366</th>\n",
       "      <td>0.0</td>\n",
       "      <td>0.0</td>\n",
       "      <td>0.0</td>\n",
       "      <td>0.0</td>\n",
       "      <td>0.0</td>\n",
       "      <td>0.0</td>\n",
       "      <td>0.0</td>\n",
       "      <td>0.0</td>\n",
       "      <td>0.0</td>\n",
       "      <td>0.000000</td>\n",
       "      <td>...</td>\n",
       "      <td>0.0</td>\n",
       "      <td>0.0</td>\n",
       "      <td>0.0</td>\n",
       "      <td>0.0</td>\n",
       "      <td>0.0</td>\n",
       "      <td>0.0</td>\n",
       "      <td>0.0</td>\n",
       "      <td>0.0</td>\n",
       "      <td>0.0</td>\n",
       "      <td>0.0</td>\n",
       "    </tr>\n",
       "    <tr>\n",
       "      <th>1256367</th>\n",
       "      <td>0.0</td>\n",
       "      <td>0.0</td>\n",
       "      <td>0.0</td>\n",
       "      <td>0.0</td>\n",
       "      <td>0.0</td>\n",
       "      <td>0.0</td>\n",
       "      <td>0.0</td>\n",
       "      <td>0.0</td>\n",
       "      <td>0.0</td>\n",
       "      <td>0.000000</td>\n",
       "      <td>...</td>\n",
       "      <td>0.0</td>\n",
       "      <td>0.0</td>\n",
       "      <td>0.0</td>\n",
       "      <td>0.0</td>\n",
       "      <td>0.0</td>\n",
       "      <td>0.0</td>\n",
       "      <td>0.0</td>\n",
       "      <td>0.0</td>\n",
       "      <td>0.0</td>\n",
       "      <td>0.0</td>\n",
       "    </tr>\n",
       "    <tr>\n",
       "      <th>1256368</th>\n",
       "      <td>0.0</td>\n",
       "      <td>0.0</td>\n",
       "      <td>0.0</td>\n",
       "      <td>0.0</td>\n",
       "      <td>0.0</td>\n",
       "      <td>0.0</td>\n",
       "      <td>0.0</td>\n",
       "      <td>0.0</td>\n",
       "      <td>0.0</td>\n",
       "      <td>0.000000</td>\n",
       "      <td>...</td>\n",
       "      <td>0.0</td>\n",
       "      <td>0.0</td>\n",
       "      <td>0.0</td>\n",
       "      <td>0.0</td>\n",
       "      <td>0.0</td>\n",
       "      <td>0.0</td>\n",
       "      <td>0.0</td>\n",
       "      <td>0.0</td>\n",
       "      <td>0.0</td>\n",
       "      <td>0.0</td>\n",
       "    </tr>\n",
       "    <tr>\n",
       "      <th>1256369</th>\n",
       "      <td>0.0</td>\n",
       "      <td>0.0</td>\n",
       "      <td>0.0</td>\n",
       "      <td>0.0</td>\n",
       "      <td>0.0</td>\n",
       "      <td>0.0</td>\n",
       "      <td>0.0</td>\n",
       "      <td>0.0</td>\n",
       "      <td>0.0</td>\n",
       "      <td>0.000000</td>\n",
       "      <td>...</td>\n",
       "      <td>0.0</td>\n",
       "      <td>0.0</td>\n",
       "      <td>0.0</td>\n",
       "      <td>0.0</td>\n",
       "      <td>0.0</td>\n",
       "      <td>0.0</td>\n",
       "      <td>0.0</td>\n",
       "      <td>0.0</td>\n",
       "      <td>0.0</td>\n",
       "      <td>0.0</td>\n",
       "    </tr>\n",
       "  </tbody>\n",
       "</table>\n",
       "<p>1256370 rows × 50 columns</p>\n",
       "</div>"
      ],
      "text/plain": [
       "         american  asianfusion  bakeries  barbeque  breakfast  brunch  \\\n",
       "0             0.0          0.0       0.0       0.0        0.0     0.0   \n",
       "1             0.0          0.0       0.0       0.0        0.0     0.0   \n",
       "2             0.0          0.0       0.0       0.0        0.0     0.0   \n",
       "3             0.0          0.0       0.0       0.0        0.0     0.0   \n",
       "4             0.0          0.0       0.0       0.0        0.0     0.0   \n",
       "...           ...          ...       ...       ...        ...     ...   \n",
       "1256365       0.0          0.0       0.0       0.0        0.0     0.0   \n",
       "1256366       0.0          0.0       0.0       0.0        0.0     0.0   \n",
       "1256367       0.0          0.0       0.0       0.0        0.0     0.0   \n",
       "1256368       0.0          0.0       0.0       0.0        0.0     0.0   \n",
       "1256369       0.0          0.0       0.0       0.0        0.0     0.0   \n",
       "\n",
       "         buffets  burgers  cafes  chickenwings  ...  steakhouses  sushibars  \\\n",
       "0            0.0      0.0    0.0      0.634515  ...          0.0        0.0   \n",
       "1            0.0      0.0    0.0      0.634515  ...          0.0        0.0   \n",
       "2            0.0      0.0    0.0      0.634515  ...          0.0        0.0   \n",
       "3            0.0      0.0    0.0      0.634515  ...          0.0        0.0   \n",
       "4            0.0      0.0    0.0      0.634515  ...          0.0        0.0   \n",
       "...          ...      ...    ...           ...  ...          ...        ...   \n",
       "1256365      0.0      0.0    0.0      0.000000  ...          0.0        0.0   \n",
       "1256366      0.0      0.0    0.0      0.000000  ...          0.0        0.0   \n",
       "1256367      0.0      0.0    0.0      0.000000  ...          0.0        0.0   \n",
       "1256368      0.0      0.0    0.0      0.000000  ...          0.0        0.0   \n",
       "1256369      0.0      0.0    0.0      0.000000  ...          0.0        0.0   \n",
       "\n",
       "         tacos  tapas  tea  thai  traditional  vegan  vegetarian  vietnamese  \n",
       "0          0.0    0.0  0.0   0.0          0.0    0.0         0.0         0.0  \n",
       "1          0.0    0.0  0.0   0.0          0.0    0.0         0.0         0.0  \n",
       "2          0.0    0.0  0.0   0.0          0.0    0.0         0.0         0.0  \n",
       "3          0.0    0.0  0.0   0.0          0.0    0.0         0.0         0.0  \n",
       "4          0.0    0.0  0.0   0.0          0.0    0.0         0.0         0.0  \n",
       "...        ...    ...  ...   ...          ...    ...         ...         ...  \n",
       "1256365    0.0    0.0  0.0   0.0          0.0    0.0         0.0         0.0  \n",
       "1256366    0.0    0.0  0.0   0.0          0.0    0.0         0.0         0.0  \n",
       "1256367    0.0    0.0  0.0   0.0          0.0    0.0         0.0         0.0  \n",
       "1256368    0.0    0.0  0.0   0.0          0.0    0.0         0.0         0.0  \n",
       "1256369    0.0    0.0  0.0   0.0          0.0    0.0         0.0         0.0  \n",
       "\n",
       "[1256370 rows x 50 columns]"
      ]
     },
     "execution_count": 20,
     "metadata": {},
     "output_type": "execute_result"
    }
   ],
   "source": [
    "X"
   ]
  },
  {
   "cell_type": "code",
   "execution_count": 20,
   "metadata": {},
   "outputs": [],
   "source": [
    "\n",
    "# df_umap = X[(X != 0).any(axis=1)]\n",
    "# df_umap = X.loc[:, (X != 0).any(axis=0)]\n",
    "# df_umap"
   ]
  },
  {
   "cell_type": "code",
   "execution_count": null,
   "metadata": {},
   "outputs": [],
   "source": [
    "up = umap.UMAP(n_neighbors = 20, min_dist = .8, metric = 'euclidean')\n",
    "Xumap = up.fit_transform(X)\n",
    "sns.scatterplot(Xumap[:, 0], Xumap[:, 1], hue = df_food_clean['star_binary'], s= 10)"
   ]
  },
  {
   "cell_type": "code",
   "execution_count": 21,
   "metadata": {},
   "outputs": [],
   "source": [
    "le_train = LabelEncoder()\n",
    "y_le = le_train.fit_transform(y)"
   ]
  },
  {
   "cell_type": "code",
   "execution_count": 22,
   "metadata": {},
   "outputs": [
    {
     "data": {
      "text/plain": [
       "array([0, 1, 2, 3, 4, 5, 6, 7])"
      ]
     },
     "execution_count": 22,
     "metadata": {},
     "output_type": "execute_result"
    }
   ],
   "source": [
    "np.unique(y_le)"
   ]
  },
  {
   "cell_type": "code",
   "execution_count": 23,
   "metadata": {},
   "outputs": [
    {
     "data": {
      "text/plain": [
       "NVyes    497688\n",
       "AZyes    397868\n",
       "NVno     101179\n",
       "AZno      77738\n",
       "NCyes     76363\n",
       "ONyes     75261\n",
       "ONno      15693\n",
       "NCno      14580\n",
       "Name: state_star, dtype: int64"
      ]
     },
     "execution_count": 23,
     "metadata": {},
     "output_type": "execute_result"
    }
   ],
   "source": [
    "y.value_counts()"
   ]
  },
  {
   "cell_type": "code",
   "execution_count": 24,
   "metadata": {},
   "outputs": [],
   "source": [
    "y_state_dict= pd.concat([pd.DataFrame(y_le), pd.DataFrame(y)], axis = 1).groupby('state_star')[0].mean()"
   ]
  },
  {
   "cell_type": "code",
   "execution_count": 25,
   "metadata": {},
   "outputs": [
    {
     "data": {
      "text/plain": [
       "state_star\n",
       "AZno     0\n",
       "AZyes    1\n",
       "NCno     2\n",
       "NCyes    3\n",
       "NVno     4\n",
       "NVyes    5\n",
       "ONno     6\n",
       "ONyes    7\n",
       "Name: 0, dtype: int64"
      ]
     },
     "execution_count": 25,
     "metadata": {},
     "output_type": "execute_result"
    }
   ],
   "source": [
    "y_state_dict"
   ]
  },
  {
   "cell_type": "code",
   "execution_count": 26,
   "metadata": {},
   "outputs": [
    {
     "data": {
      "text/plain": [
       "{'AZno': 0,\n",
       " 'AZyes': 1,\n",
       " 'NCno': 2,\n",
       " 'NCyes': 3,\n",
       " 'NVno': 4,\n",
       " 'NVyes': 5,\n",
       " 'ONno': 6,\n",
       " 'ONyes': 7}"
      ]
     },
     "execution_count": 26,
     "metadata": {},
     "output_type": "execute_result"
    }
   ],
   "source": [
    "y_state_dict.to_dict()"
   ]
  },
  {
   "cell_type": "code",
   "execution_count": 27,
   "metadata": {},
   "outputs": [
    {
     "data": {
      "text/plain": [
       "{0: 'AZno',\n",
       " 1: 'AZyes',\n",
       " 2: 'NCno',\n",
       " 3: 'NCyes',\n",
       " 4: 'NVno',\n",
       " 5: 'NVyes',\n",
       " 6: 'ONno',\n",
       " 7: 'ONyes'}"
      ]
     },
     "execution_count": 27,
     "metadata": {},
     "output_type": "execute_result"
    }
   ],
   "source": [
    "y_state_dict_swap = {value:key for key, value in y_state_dict.items()}\n",
    "y_state_dict_swap"
   ]
  },
  {
   "cell_type": "code",
   "execution_count": 28,
   "metadata": {},
   "outputs": [],
   "source": [
    "X_train, X_test, y_train, y_test = train_test_split(X, y_le, stratify = y_le, random_state = 42)"
   ]
  },
  {
   "cell_type": "code",
   "execution_count": 29,
   "metadata": {},
   "outputs": [
    {
     "data": {
      "text/plain": [
       "array([1, 1, 5, ..., 5, 1, 4])"
      ]
     },
     "execution_count": 29,
     "metadata": {},
     "output_type": "execute_result"
    }
   ],
   "source": [
    "y_train"
   ]
  },
  {
   "cell_type": "code",
   "execution_count": 30,
   "metadata": {},
   "outputs": [],
   "source": [
    "rus = RandomUnderSampler()\n",
    "X_train_rus, y_train_rus = rus.fit_sample(X_train, y_train)\n",
    "X_test_rus, y_test_rus = rus.fit_sample(X_test, y_test)\n"
   ]
  },
  {
   "cell_type": "code",
   "execution_count": 31,
   "metadata": {},
   "outputs": [
    {
     "data": {
      "text/plain": [
       "array([1, 1, 5, ..., 5, 1, 4])"
      ]
     },
     "execution_count": 31,
     "metadata": {},
     "output_type": "execute_result"
    }
   ],
   "source": [
    "y_train"
   ]
  },
  {
   "cell_type": "code",
   "execution_count": 32,
   "metadata": {},
   "outputs": [],
   "source": [
    "\n",
    "scaler = MinMaxScaler()\n",
    "X_train_scaled = scaler.fit_transform(X_train_rus)\n",
    "X_test_scaled = scaler.transform(X_test_rus)"
   ]
  },
  {
   "cell_type": "code",
   "execution_count": 33,
   "metadata": {},
   "outputs": [],
   "source": [
    "from sklearn.linear_model import LogisticRegression\n",
    "lr = LogisticRegression(multi_class= 'ovr', solver = 'lbfgs', penalty = 'l2', max_iter = 1000)"
   ]
  },
  {
   "cell_type": "code",
   "execution_count": 34,
   "metadata": {},
   "outputs": [
    {
     "data": {
      "text/plain": [
       "LogisticRegression(max_iter=1000, multi_class='ovr')"
      ]
     },
     "execution_count": 34,
     "metadata": {},
     "output_type": "execute_result"
    }
   ],
   "source": [
    "lr.fit(X_train_scaled, y_train_rus)"
   ]
  },
  {
   "cell_type": "code",
   "execution_count": 35,
   "metadata": {},
   "outputs": [],
   "source": [
    "y_test_pred = lr.predict(X_test_scaled)\n",
    "y_train_pred = lr.predict(X_train_scaled)"
   ]
  },
  {
   "cell_type": "code",
   "execution_count": 36,
   "metadata": {},
   "outputs": [
    {
     "data": {
      "text/plain": [
       "array([1, 1, 0, ..., 7, 0, 3])"
      ]
     },
     "execution_count": 36,
     "metadata": {},
     "output_type": "execute_result"
    }
   ],
   "source": [
    "y_train_pred"
   ]
  },
  {
   "cell_type": "code",
   "execution_count": 37,
   "metadata": {},
   "outputs": [
    {
     "name": "stdout",
     "output_type": "stream",
     "text": [
      "LR1 confusion matrix\n"
     ]
    },
    {
     "data": {
      "text/html": [
       "<div>\n",
       "<style scoped>\n",
       "    .dataframe tbody tr th:only-of-type {\n",
       "        vertical-align: middle;\n",
       "    }\n",
       "\n",
       "    .dataframe tbody tr th {\n",
       "        vertical-align: top;\n",
       "    }\n",
       "\n",
       "    .dataframe thead th {\n",
       "        text-align: right;\n",
       "    }\n",
       "</style>\n",
       "<table border=\"1\" class=\"dataframe\">\n",
       "  <thead>\n",
       "    <tr style=\"text-align: right;\">\n",
       "      <th></th>\n",
       "      <th>AZno</th>\n",
       "      <th>AZyes</th>\n",
       "      <th>NCno</th>\n",
       "      <th>NCyes</th>\n",
       "      <th>NVno</th>\n",
       "      <th>NVyes</th>\n",
       "      <th>ONno</th>\n",
       "      <th>ONyes</th>\n",
       "    </tr>\n",
       "  </thead>\n",
       "  <tbody>\n",
       "    <tr>\n",
       "      <th>AZno</th>\n",
       "      <td>705</td>\n",
       "      <td>819</td>\n",
       "      <td>695</td>\n",
       "      <td>249</td>\n",
       "      <td>265</td>\n",
       "      <td>199</td>\n",
       "      <td>432</td>\n",
       "      <td>281</td>\n",
       "    </tr>\n",
       "    <tr>\n",
       "      <th>AZyes</th>\n",
       "      <td>475</td>\n",
       "      <td>1110</td>\n",
       "      <td>512</td>\n",
       "      <td>281</td>\n",
       "      <td>210</td>\n",
       "      <td>281</td>\n",
       "      <td>412</td>\n",
       "      <td>364</td>\n",
       "    </tr>\n",
       "    <tr>\n",
       "      <th>NCno</th>\n",
       "      <td>389</td>\n",
       "      <td>497</td>\n",
       "      <td>1146</td>\n",
       "      <td>573</td>\n",
       "      <td>134</td>\n",
       "      <td>181</td>\n",
       "      <td>322</td>\n",
       "      <td>403</td>\n",
       "    </tr>\n",
       "    <tr>\n",
       "      <th>NCyes</th>\n",
       "      <td>278</td>\n",
       "      <td>575</td>\n",
       "      <td>689</td>\n",
       "      <td>823</td>\n",
       "      <td>151</td>\n",
       "      <td>263</td>\n",
       "      <td>324</td>\n",
       "      <td>542</td>\n",
       "    </tr>\n",
       "    <tr>\n",
       "      <th>NVno</th>\n",
       "      <td>375</td>\n",
       "      <td>452</td>\n",
       "      <td>586</td>\n",
       "      <td>222</td>\n",
       "      <td>611</td>\n",
       "      <td>308</td>\n",
       "      <td>479</td>\n",
       "      <td>612</td>\n",
       "    </tr>\n",
       "    <tr>\n",
       "      <th>NVyes</th>\n",
       "      <td>381</td>\n",
       "      <td>575</td>\n",
       "      <td>464</td>\n",
       "      <td>277</td>\n",
       "      <td>380</td>\n",
       "      <td>495</td>\n",
       "      <td>428</td>\n",
       "      <td>645</td>\n",
       "    </tr>\n",
       "    <tr>\n",
       "      <th>ONno</th>\n",
       "      <td>157</td>\n",
       "      <td>281</td>\n",
       "      <td>301</td>\n",
       "      <td>285</td>\n",
       "      <td>184</td>\n",
       "      <td>191</td>\n",
       "      <td>1265</td>\n",
       "      <td>981</td>\n",
       "    </tr>\n",
       "    <tr>\n",
       "      <th>ONyes</th>\n",
       "      <td>129</td>\n",
       "      <td>363</td>\n",
       "      <td>244</td>\n",
       "      <td>303</td>\n",
       "      <td>151</td>\n",
       "      <td>258</td>\n",
       "      <td>916</td>\n",
       "      <td>1281</td>\n",
       "    </tr>\n",
       "  </tbody>\n",
       "</table>\n",
       "</div>"
      ],
      "text/plain": [
       "       AZno  AZyes  NCno  NCyes  NVno  NVyes  ONno  ONyes\n",
       "AZno    705    819   695    249   265    199   432    281\n",
       "AZyes   475   1110   512    281   210    281   412    364\n",
       "NCno    389    497  1146    573   134    181   322    403\n",
       "NCyes   278    575   689    823   151    263   324    542\n",
       "NVno    375    452   586    222   611    308   479    612\n",
       "NVyes   381    575   464    277   380    495   428    645\n",
       "ONno    157    281   301    285   184    191  1265    981\n",
       "ONyes   129    363   244    303   151    258   916   1281"
      ]
     },
     "execution_count": 37,
     "metadata": {},
     "output_type": "execute_result"
    }
   ],
   "source": [
    "from sklearn.metrics import confusion_matrix\n",
    "from sklearn.metrics import roc_curve,log_loss, precision_score, recall_score, confusion_matrix, classification_report, accuracy_score, f1_score\n",
    "print('LR1 confusion matrix')\n",
    "#lr1train = confusion_matrix(y_train, y_pred_train, normalize= None)\n",
    "lr1test = confusion_matrix(y_test_rus, y_test_pred, normalize = None)\n",
    "pd.DataFrame(lr1test).rename(columns = y_state_dict_swap, index = y_state_dict_swap)"
   ]
  },
  {
   "cell_type": "code",
   "execution_count": null,
   "metadata": {},
   "outputs": [],
   "source": []
  },
  {
   "cell_type": "code",
   "execution_count": 38,
   "metadata": {},
   "outputs": [
    {
     "name": "stdout",
     "output_type": "stream",
     "text": [
      "Test macro average recall score is  0.2550068587105624\n",
      "Train macro average recall score is  0.25850480109739365\n"
     ]
    }
   ],
   "source": [
    "print('Test macro average recall score is ',recall_score(y_test_rus, y_test_pred, average = 'macro'))\n",
    "print('Train macro average recall score is ',recall_score(y_train_rus, y_train_pred, average = 'macro'))"
   ]
  },
  {
   "cell_type": "code",
   "execution_count": 39,
   "metadata": {},
   "outputs": [
    {
     "name": "stdout",
     "output_type": "stream",
     "text": [
      "Test accuracy score is  0.2550068587105624\n",
      "Train accuracy score is  0.2585048010973937\n"
     ]
    }
   ],
   "source": [
    "print('Test accuracy score is ',accuracy_score(y_test_rus, y_test_pred))\n",
    "print('Train accuracy score is ',accuracy_score(y_train_rus, y_train_pred))"
   ]
  },
  {
   "cell_type": "code",
   "execution_count": 40,
   "metadata": {},
   "outputs": [
    {
     "data": {
      "text/plain": [
       "2.040054869684499"
      ]
     },
     "execution_count": 40,
     "metadata": {},
     "output_type": "execute_result"
    }
   ],
   "source": [
    "recall_score(y_test_rus, y_test_pred, average = 'macro')/(1/lr1test.shape[0])"
   ]
  },
  {
   "cell_type": "code",
   "execution_count": 41,
   "metadata": {},
   "outputs": [
    {
     "name": "stdout",
     "output_type": "stream",
     "text": [
      "Test macro average recall score is  0.3087105624142661\n",
      "Train macro average recall score is  0.32445130315500686\n"
     ]
    }
   ],
   "source": [
    "knn1 = KNeighborsClassifier(n_neighbors=15, weights='uniform', leaf_size=20)\n",
    "knn1.fit(X_train_scaled, y_train_rus)\n",
    "\n",
    "y_test_predknn1 = knn1.predict(X_test_scaled)\n",
    "y_train_predknn1 = knn1.predict(X_train_scaled)\n",
    "print('Test macro average recall score is ',recall_score(y_test_rus, y_test_predknn1,average = 'macro'))\n",
    "print('Train macro average recall score is ',recall_score(y_train_rus, y_train_predknn1,average = 'macro'))"
   ]
  },
  {
   "cell_type": "code",
   "execution_count": 42,
   "metadata": {},
   "outputs": [
    {
     "data": {
      "text/html": [
       "<div>\n",
       "<style scoped>\n",
       "    .dataframe tbody tr th:only-of-type {\n",
       "        vertical-align: middle;\n",
       "    }\n",
       "\n",
       "    .dataframe tbody tr th {\n",
       "        vertical-align: top;\n",
       "    }\n",
       "\n",
       "    .dataframe thead th {\n",
       "        text-align: right;\n",
       "    }\n",
       "</style>\n",
       "<table border=\"1\" class=\"dataframe\">\n",
       "  <thead>\n",
       "    <tr style=\"text-align: right;\">\n",
       "      <th></th>\n",
       "      <th>AZno</th>\n",
       "      <th>AZyes</th>\n",
       "      <th>NCno</th>\n",
       "      <th>NCyes</th>\n",
       "      <th>NVno</th>\n",
       "      <th>NVyes</th>\n",
       "      <th>ONno</th>\n",
       "      <th>ONyes</th>\n",
       "    </tr>\n",
       "  </thead>\n",
       "  <tbody>\n",
       "    <tr>\n",
       "      <th>0</th>\n",
       "      <td>705</td>\n",
       "      <td>819</td>\n",
       "      <td>695</td>\n",
       "      <td>249</td>\n",
       "      <td>265</td>\n",
       "      <td>199</td>\n",
       "      <td>432</td>\n",
       "      <td>281</td>\n",
       "    </tr>\n",
       "    <tr>\n",
       "      <th>1</th>\n",
       "      <td>475</td>\n",
       "      <td>1110</td>\n",
       "      <td>512</td>\n",
       "      <td>281</td>\n",
       "      <td>210</td>\n",
       "      <td>281</td>\n",
       "      <td>412</td>\n",
       "      <td>364</td>\n",
       "    </tr>\n",
       "    <tr>\n",
       "      <th>2</th>\n",
       "      <td>389</td>\n",
       "      <td>497</td>\n",
       "      <td>1146</td>\n",
       "      <td>573</td>\n",
       "      <td>134</td>\n",
       "      <td>181</td>\n",
       "      <td>322</td>\n",
       "      <td>403</td>\n",
       "    </tr>\n",
       "    <tr>\n",
       "      <th>3</th>\n",
       "      <td>278</td>\n",
       "      <td>575</td>\n",
       "      <td>689</td>\n",
       "      <td>823</td>\n",
       "      <td>151</td>\n",
       "      <td>263</td>\n",
       "      <td>324</td>\n",
       "      <td>542</td>\n",
       "    </tr>\n",
       "    <tr>\n",
       "      <th>4</th>\n",
       "      <td>375</td>\n",
       "      <td>452</td>\n",
       "      <td>586</td>\n",
       "      <td>222</td>\n",
       "      <td>611</td>\n",
       "      <td>308</td>\n",
       "      <td>479</td>\n",
       "      <td>612</td>\n",
       "    </tr>\n",
       "    <tr>\n",
       "      <th>5</th>\n",
       "      <td>381</td>\n",
       "      <td>575</td>\n",
       "      <td>464</td>\n",
       "      <td>277</td>\n",
       "      <td>380</td>\n",
       "      <td>495</td>\n",
       "      <td>428</td>\n",
       "      <td>645</td>\n",
       "    </tr>\n",
       "    <tr>\n",
       "      <th>6</th>\n",
       "      <td>157</td>\n",
       "      <td>281</td>\n",
       "      <td>301</td>\n",
       "      <td>285</td>\n",
       "      <td>184</td>\n",
       "      <td>191</td>\n",
       "      <td>1265</td>\n",
       "      <td>981</td>\n",
       "    </tr>\n",
       "    <tr>\n",
       "      <th>7</th>\n",
       "      <td>129</td>\n",
       "      <td>363</td>\n",
       "      <td>244</td>\n",
       "      <td>303</td>\n",
       "      <td>151</td>\n",
       "      <td>258</td>\n",
       "      <td>916</td>\n",
       "      <td>1281</td>\n",
       "    </tr>\n",
       "  </tbody>\n",
       "</table>\n",
       "</div>"
      ],
      "text/plain": [
       "   AZno  AZyes  NCno  NCyes  NVno  NVyes  ONno  ONyes\n",
       "0   705    819   695    249   265    199   432    281\n",
       "1   475   1110   512    281   210    281   412    364\n",
       "2   389    497  1146    573   134    181   322    403\n",
       "3   278    575   689    823   151    263   324    542\n",
       "4   375    452   586    222   611    308   479    612\n",
       "5   381    575   464    277   380    495   428    645\n",
       "6   157    281   301    285   184    191  1265    981\n",
       "7   129    363   244    303   151    258   916   1281"
      ]
     },
     "execution_count": 42,
     "metadata": {},
     "output_type": "execute_result"
    }
   ],
   "source": [
    "knntest = confusion_matrix(y_test_rus, y_test_pred, normalize = None)\n",
    "pd.DataFrame(knntest).rename(columns = y_state_dict_swap)"
   ]
  },
  {
   "cell_type": "code",
   "execution_count": 43,
   "metadata": {},
   "outputs": [
    {
     "name": "stdout",
     "output_type": "stream",
     "text": [
      "Test accuracy score is  0.30871056241426614\n",
      "Train accuracy score is  0.32445130315500686\n"
     ]
    }
   ],
   "source": [
    "print('Test accuracy score is ',accuracy_score(y_test_rus, y_test_predknn1))\n",
    "print('Train accuracy score is ',accuracy_score(y_train_rus, y_train_predknn1))"
   ]
  },
  {
   "cell_type": "code",
   "execution_count": 44,
   "metadata": {},
   "outputs": [
    {
     "name": "stdout",
     "output_type": "stream",
     "text": [
      "Test macro average recall score is  0.3052469135802469\n",
      "Train macro average recall score is  0.3109510745313214\n"
     ]
    }
   ],
   "source": [
    "rf = RandomForestClassifier(max_depth = 8)\n",
    "rf.fit(X_train_scaled, y_train_rus)\n",
    "y_test_predrf = rf.predict(X_test_scaled)\n",
    "y_train_predrf = rf.predict(X_train_scaled)\n",
    "\n",
    "print('Test macro average recall score is ',recall_score(y_test_rus, y_test_predrf,average = 'macro'))\n",
    "print('Train macro average recall score is ',recall_score(y_train_rus, y_train_predrf,average = 'macro'))"
   ]
  },
  {
   "cell_type": "code",
   "execution_count": 45,
   "metadata": {},
   "outputs": [
    {
     "data": {
      "text/html": [
       "<div>\n",
       "<style scoped>\n",
       "    .dataframe tbody tr th:only-of-type {\n",
       "        vertical-align: middle;\n",
       "    }\n",
       "\n",
       "    .dataframe tbody tr th {\n",
       "        vertical-align: top;\n",
       "    }\n",
       "\n",
       "    .dataframe thead th {\n",
       "        text-align: right;\n",
       "    }\n",
       "</style>\n",
       "<table border=\"1\" class=\"dataframe\">\n",
       "  <thead>\n",
       "    <tr style=\"text-align: right;\">\n",
       "      <th></th>\n",
       "      <th>AZno</th>\n",
       "      <th>AZyes</th>\n",
       "      <th>NCno</th>\n",
       "      <th>NCyes</th>\n",
       "      <th>NVno</th>\n",
       "      <th>NVyes</th>\n",
       "      <th>ONno</th>\n",
       "      <th>ONyes</th>\n",
       "    </tr>\n",
       "  </thead>\n",
       "  <tbody>\n",
       "    <tr>\n",
       "      <th>0</th>\n",
       "      <td>905</td>\n",
       "      <td>747</td>\n",
       "      <td>585</td>\n",
       "      <td>108</td>\n",
       "      <td>94</td>\n",
       "      <td>85</td>\n",
       "      <td>160</td>\n",
       "      <td>961</td>\n",
       "    </tr>\n",
       "    <tr>\n",
       "      <th>1</th>\n",
       "      <td>589</td>\n",
       "      <td>1089</td>\n",
       "      <td>412</td>\n",
       "      <td>123</td>\n",
       "      <td>70</td>\n",
       "      <td>98</td>\n",
       "      <td>146</td>\n",
       "      <td>1118</td>\n",
       "    </tr>\n",
       "    <tr>\n",
       "      <th>2</th>\n",
       "      <td>325</td>\n",
       "      <td>278</td>\n",
       "      <td>1231</td>\n",
       "      <td>586</td>\n",
       "      <td>32</td>\n",
       "      <td>52</td>\n",
       "      <td>133</td>\n",
       "      <td>1008</td>\n",
       "    </tr>\n",
       "    <tr>\n",
       "      <th>3</th>\n",
       "      <td>246</td>\n",
       "      <td>360</td>\n",
       "      <td>680</td>\n",
       "      <td>950</td>\n",
       "      <td>39</td>\n",
       "      <td>48</td>\n",
       "      <td>92</td>\n",
       "      <td>1230</td>\n",
       "    </tr>\n",
       "    <tr>\n",
       "      <th>4</th>\n",
       "      <td>394</td>\n",
       "      <td>274</td>\n",
       "      <td>457</td>\n",
       "      <td>126</td>\n",
       "      <td>606</td>\n",
       "      <td>302</td>\n",
       "      <td>217</td>\n",
       "      <td>1269</td>\n",
       "    </tr>\n",
       "    <tr>\n",
       "      <th>5</th>\n",
       "      <td>348</td>\n",
       "      <td>299</td>\n",
       "      <td>348</td>\n",
       "      <td>179</td>\n",
       "      <td>232</td>\n",
       "      <td>715</td>\n",
       "      <td>144</td>\n",
       "      <td>1380</td>\n",
       "    </tr>\n",
       "    <tr>\n",
       "      <th>6</th>\n",
       "      <td>164</td>\n",
       "      <td>159</td>\n",
       "      <td>260</td>\n",
       "      <td>63</td>\n",
       "      <td>68</td>\n",
       "      <td>33</td>\n",
       "      <td>922</td>\n",
       "      <td>1976</td>\n",
       "    </tr>\n",
       "    <tr>\n",
       "      <th>7</th>\n",
       "      <td>164</td>\n",
       "      <td>205</td>\n",
       "      <td>192</td>\n",
       "      <td>59</td>\n",
       "      <td>38</td>\n",
       "      <td>25</td>\n",
       "      <td>479</td>\n",
       "      <td>2483</td>\n",
       "    </tr>\n",
       "  </tbody>\n",
       "</table>\n",
       "</div>"
      ],
      "text/plain": [
       "   AZno  AZyes  NCno  NCyes  NVno  NVyes  ONno  ONyes\n",
       "0   905    747   585    108    94     85   160    961\n",
       "1   589   1089   412    123    70     98   146   1118\n",
       "2   325    278  1231    586    32     52   133   1008\n",
       "3   246    360   680    950    39     48    92   1230\n",
       "4   394    274   457    126   606    302   217   1269\n",
       "5   348    299   348    179   232    715   144   1380\n",
       "6   164    159   260     63    68     33   922   1976\n",
       "7   164    205   192     59    38     25   479   2483"
      ]
     },
     "execution_count": 45,
     "metadata": {},
     "output_type": "execute_result"
    }
   ],
   "source": [
    "rftest = confusion_matrix(y_test_rus, y_test_predrf, normalize = None)\n",
    "pd.DataFrame(rftest).rename(columns = y_state_dict_swap)"
   ]
  },
  {
   "cell_type": "code",
   "execution_count": null,
   "metadata": {},
   "outputs": [],
   "source": []
  },
  {
   "cell_type": "code",
   "execution_count": null,
   "metadata": {},
   "outputs": [],
   "source": []
  }
 ],
 "metadata": {
  "kernelspec": {
   "display_name": "Python 3",
   "language": "python",
   "name": "python3"
  },
  "language_info": {
   "codemirror_mode": {
    "name": "ipython",
    "version": 3
   },
   "file_extension": ".py",
   "mimetype": "text/x-python",
   "name": "python",
   "nbconvert_exporter": "python",
   "pygments_lexer": "ipython3",
   "version": "3.7.7"
  }
 },
 "nbformat": 4,
 "nbformat_minor": 4
}
