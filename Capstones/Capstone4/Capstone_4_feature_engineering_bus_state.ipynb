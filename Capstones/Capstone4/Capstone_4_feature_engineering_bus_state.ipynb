{
 "cells": [
  {
   "cell_type": "code",
   "execution_count": 1,
   "metadata": {},
   "outputs": [],
   "source": [
    "import json\n",
    "from datetime import datetime\n",
    "import plotly.express as px\n",
    "from sklearn.model_selection import train_test_split, GridSearchCV\n",
    "import sqlite3\n",
    "import nltk\n",
    "import spacy\n",
    "import geopandas as gpd\n",
    "from shapely.geometry import Polygon\n",
    "import numpy as np\n",
    "import umap\n",
    "import pandas as pd\n",
    "import shapefile as shp\n",
    "import matplotlib.pyplot as plt\n",
    "import seaborn as sns\n",
    "from sklearn.cluster import KMeans\n",
    "from sklearn.mixture import GaussianMixture\n",
    "from sklearn.decomposition import PCA\n",
    "from sklearn.linear_model import LogisticRegression\n",
    "from sklearn.feature_extraction.text import CountVectorizer, TfidfVectorizer\n",
    "from sklearn.preprocessing import LabelEncoder, MinMaxScaler\n",
    "from sklearn.ensemble import RandomForestClassifier, GradientBoostingClassifier\n",
    "from sklearn.neighbors import KNeighborsClassifier\n",
    "from sklearn.svm import SVC\n",
    "from sklearn.preprocessing import MinMaxScaler\n",
    "from sklearn.feature_selection import SelectKBest, f_classif\n",
    "from sklearn.model_selection import  cross_val_score\n",
    "from imblearn.over_sampling import SMOTE\n",
    "%matplotlib inline\n",
    "import itertools"
   ]
  },
  {
   "cell_type": "code",
   "execution_count": 2,
   "metadata": {},
   "outputs": [],
   "source": [
    "df_food = pd.read_csv('/Users/robholmstrom/OneDrive/Gitrepos/nonrepo_files/capstone4_files/df_food_clean.csv')"
   ]
  },
  {
   "cell_type": "code",
   "execution_count": 3,
   "metadata": {},
   "outputs": [
    {
     "data": {
      "text/html": [
       "<div>\n",
       "<style scoped>\n",
       "    .dataframe tbody tr th:only-of-type {\n",
       "        vertical-align: middle;\n",
       "    }\n",
       "\n",
       "    .dataframe tbody tr th {\n",
       "        vertical-align: top;\n",
       "    }\n",
       "\n",
       "    .dataframe thead th {\n",
       "        text-align: right;\n",
       "    }\n",
       "</style>\n",
       "<table border=\"1\" class=\"dataframe\">\n",
       "  <thead>\n",
       "    <tr style=\"text-align: right;\">\n",
       "      <th></th>\n",
       "      <th>Unnamed: 0</th>\n",
       "      <th>Unnamed: 0.1</th>\n",
       "      <th>business_id</th>\n",
       "      <th>name</th>\n",
       "      <th>address</th>\n",
       "      <th>city</th>\n",
       "      <th>state</th>\n",
       "      <th>postal_code</th>\n",
       "      <th>latitude</th>\n",
       "      <th>longitude</th>\n",
       "      <th>review_count</th>\n",
       "      <th>is_open</th>\n",
       "      <th>stars_avg</th>\n",
       "      <th>categories_filtered</th>\n",
       "      <th>food_type</th>\n",
       "      <th>ethnicity</th>\n",
       "      <th>venue</th>\n",
       "      <th>food_comb</th>\n",
       "    </tr>\n",
       "  </thead>\n",
       "  <tbody>\n",
       "    <tr>\n",
       "      <th>0</th>\n",
       "      <td>0</td>\n",
       "      <td>41</td>\n",
       "      <td>98hyK2QEUeI8v2y0AghfZA</td>\n",
       "      <td>Pho Lee's Vietnamese Restaurant</td>\n",
       "      <td>1541 E 38th St, Ste 101</td>\n",
       "      <td>Cleveland</td>\n",
       "      <td>OH</td>\n",
       "      <td>44114</td>\n",
       "      <td>41.512155</td>\n",
       "      <td>-81.663332</td>\n",
       "      <td>23</td>\n",
       "      <td>1</td>\n",
       "      <td>4</td>\n",
       "      <td>Restaurants, Vietnamese, Soup</td>\n",
       "      <td>Soup</td>\n",
       "      <td>Vietnamese</td>\n",
       "      <td>Restaurant</td>\n",
       "      <td>Soup, Vietnamese, Restaurant</td>\n",
       "    </tr>\n",
       "    <tr>\n",
       "      <th>1</th>\n",
       "      <td>1</td>\n",
       "      <td>43</td>\n",
       "      <td>LoRef3ChgZKbxUio-sHgQg</td>\n",
       "      <td>Amir</td>\n",
       "      <td>5252 Rue Jean Talon O</td>\n",
       "      <td>Montréal</td>\n",
       "      <td>QC</td>\n",
       "      <td>H4P 2A7</td>\n",
       "      <td>45.494870</td>\n",
       "      <td>-73.651904</td>\n",
       "      <td>18</td>\n",
       "      <td>1</td>\n",
       "      <td>3</td>\n",
       "      <td>Restaurants, Lebanese, MiddleEastern</td>\n",
       "      <td>Undefined</td>\n",
       "      <td>MiddleEastern, Lebanese</td>\n",
       "      <td>Restaurant</td>\n",
       "      <td>MiddleEastern, Lebanese, Restaurant</td>\n",
       "    </tr>\n",
       "    <tr>\n",
       "      <th>2</th>\n",
       "      <td>2</td>\n",
       "      <td>63</td>\n",
       "      <td>ZkzutF0P_u0C0yTulwaHkA</td>\n",
       "      <td>Lelulos Pizzeria</td>\n",
       "      <td>311 Unity Center Rd</td>\n",
       "      <td>Plum</td>\n",
       "      <td>PA</td>\n",
       "      <td>15239</td>\n",
       "      <td>40.489996</td>\n",
       "      <td>-79.779288</td>\n",
       "      <td>31</td>\n",
       "      <td>1</td>\n",
       "      <td>4</td>\n",
       "      <td>Restaurants, Pizza</td>\n",
       "      <td>Pizza</td>\n",
       "      <td>Undefined</td>\n",
       "      <td>Restaurant</td>\n",
       "      <td>Pizza,  Restaurant</td>\n",
       "    </tr>\n",
       "    <tr>\n",
       "      <th>3</th>\n",
       "      <td>3</td>\n",
       "      <td>73</td>\n",
       "      <td>0QjROMVW9ACKjhSEfHqNCQ</td>\n",
       "      <td>Mi Mi Restaurant</td>\n",
       "      <td>688 Gerrard Street E</td>\n",
       "      <td>Toronto</td>\n",
       "      <td>ON</td>\n",
       "      <td>M4M 1Y3</td>\n",
       "      <td>43.666376</td>\n",
       "      <td>-79.348773</td>\n",
       "      <td>116</td>\n",
       "      <td>1</td>\n",
       "      <td>4</td>\n",
       "      <td>Vietnamese, Restaurants</td>\n",
       "      <td>Undefined</td>\n",
       "      <td>Vietnamese</td>\n",
       "      <td>Restaurant</td>\n",
       "      <td>Vietnamese, Restaurant</td>\n",
       "    </tr>\n",
       "    <tr>\n",
       "      <th>4</th>\n",
       "      <td>4</td>\n",
       "      <td>83</td>\n",
       "      <td>7j0kor_fkeYhyEpXh4OpnQ</td>\n",
       "      <td>Scramblers - Strongsville</td>\n",
       "      <td>16726 Pearl Rd</td>\n",
       "      <td>Strongsville</td>\n",
       "      <td>OH</td>\n",
       "      <td>44136</td>\n",
       "      <td>41.295689</td>\n",
       "      <td>-81.835722</td>\n",
       "      <td>81</td>\n",
       "      <td>1</td>\n",
       "      <td>3</td>\n",
       "      <td>Breakfast&amp;Brunch, Restaurants, American(Tradit...</td>\n",
       "      <td>Breakfast&amp;Brunch, Salad</td>\n",
       "      <td>American(Traditional)</td>\n",
       "      <td>Restaurant</td>\n",
       "      <td>Breakfast&amp;Brunch, Salad, American(Traditional)...</td>\n",
       "    </tr>\n",
       "    <tr>\n",
       "      <th>...</th>\n",
       "      <td>...</td>\n",
       "      <td>...</td>\n",
       "      <td>...</td>\n",
       "      <td>...</td>\n",
       "      <td>...</td>\n",
       "      <td>...</td>\n",
       "      <td>...</td>\n",
       "      <td>...</td>\n",
       "      <td>...</td>\n",
       "      <td>...</td>\n",
       "      <td>...</td>\n",
       "      <td>...</td>\n",
       "      <td>...</td>\n",
       "      <td>...</td>\n",
       "      <td>...</td>\n",
       "      <td>...</td>\n",
       "      <td>...</td>\n",
       "      <td>...</td>\n",
       "    </tr>\n",
       "    <tr>\n",
       "      <th>30539</th>\n",
       "      <td>30539</td>\n",
       "      <td>209376</td>\n",
       "      <td>cmsAFAymfVoBitSF8R6GKw</td>\n",
       "      <td>Yao Fine Chinese Cuisine</td>\n",
       "      <td>2487 S Gilbert Rd, Ste 102</td>\n",
       "      <td>Gilbert</td>\n",
       "      <td>AZ</td>\n",
       "      <td>85295</td>\n",
       "      <td>33.304935</td>\n",
       "      <td>-111.788861</td>\n",
       "      <td>230</td>\n",
       "      <td>1</td>\n",
       "      <td>4</td>\n",
       "      <td>Chinese, Restaurants</td>\n",
       "      <td>Undefined</td>\n",
       "      <td>Chinese</td>\n",
       "      <td>Restaurant</td>\n",
       "      <td>Chinese, Restaurant</td>\n",
       "    </tr>\n",
       "    <tr>\n",
       "      <th>30540</th>\n",
       "      <td>30540</td>\n",
       "      <td>209377</td>\n",
       "      <td>n2BKYb8aw4AhRKLkdUjQRg</td>\n",
       "      <td>Steak &amp; Cheese &amp; Quick Pita Restaurant</td>\n",
       "      <td>199 College St</td>\n",
       "      <td>Toronto</td>\n",
       "      <td>ON</td>\n",
       "      <td>M5T 1P9</td>\n",
       "      <td>43.658683</td>\n",
       "      <td>-79.395071</td>\n",
       "      <td>21</td>\n",
       "      <td>1</td>\n",
       "      <td>3</td>\n",
       "      <td>Sandwiches, Restaurants</td>\n",
       "      <td>Sandwiches</td>\n",
       "      <td>Undefined</td>\n",
       "      <td>Restaurant</td>\n",
       "      <td>Sandwiches,  Restaurant</td>\n",
       "    </tr>\n",
       "    <tr>\n",
       "      <th>30541</th>\n",
       "      <td>30541</td>\n",
       "      <td>209380</td>\n",
       "      <td>YZeUH6zYS0dq5QHLYZhUnQ</td>\n",
       "      <td>Hooters</td>\n",
       "      <td>2820 N 75th Ave</td>\n",
       "      <td>Phoenix</td>\n",
       "      <td>AZ</td>\n",
       "      <td>85035</td>\n",
       "      <td>33.479139</td>\n",
       "      <td>-112.221142</td>\n",
       "      <td>106</td>\n",
       "      <td>1</td>\n",
       "      <td>2</td>\n",
       "      <td>Nightlife, American(Traditional), ChickenWings...</td>\n",
       "      <td>ChickenWings</td>\n",
       "      <td>American(Traditional)</td>\n",
       "      <td>Restaurant</td>\n",
       "      <td>ChickenWings, American(Traditional), Restaurant</td>\n",
       "    </tr>\n",
       "    <tr>\n",
       "      <th>30542</th>\n",
       "      <td>30542</td>\n",
       "      <td>209385</td>\n",
       "      <td>hskVqZCPqy-omm9CHi44xQ</td>\n",
       "      <td>Domino's</td>\n",
       "      <td>6420 Rea Rd, Suite B1</td>\n",
       "      <td>Charlotte</td>\n",
       "      <td>NC</td>\n",
       "      <td>28226</td>\n",
       "      <td>35.078538</td>\n",
       "      <td>-80.818358</td>\n",
       "      <td>16</td>\n",
       "      <td>1</td>\n",
       "      <td>1</td>\n",
       "      <td>Restaurants, Pizza, Sandwiches, FastFood, Chic...</td>\n",
       "      <td>ChickenWings, FastFood, Pizza, Sandwiches</td>\n",
       "      <td>Undefined</td>\n",
       "      <td>Restaurant</td>\n",
       "      <td>ChickenWings, FastFood, Pizza, Sandwiches,  Re...</td>\n",
       "    </tr>\n",
       "    <tr>\n",
       "      <th>30543</th>\n",
       "      <td>30543</td>\n",
       "      <td>209390</td>\n",
       "      <td>SYa2j1boLF8DcGVOYfHPcA</td>\n",
       "      <td>Five Guys</td>\n",
       "      <td>7014-590 E Camelback Rd</td>\n",
       "      <td>Scottsdale</td>\n",
       "      <td>AZ</td>\n",
       "      <td>85251</td>\n",
       "      <td>33.504062</td>\n",
       "      <td>-111.929431</td>\n",
       "      <td>97</td>\n",
       "      <td>1</td>\n",
       "      <td>3</td>\n",
       "      <td>American(New), Food, Burgers, Restaurants, Fas...</td>\n",
       "      <td>Burgers, FastFood</td>\n",
       "      <td>American(New)</td>\n",
       "      <td>Restaurant</td>\n",
       "      <td>Burgers, FastFood, American(New), Restaurant</td>\n",
       "    </tr>\n",
       "  </tbody>\n",
       "</table>\n",
       "<p>30544 rows × 18 columns</p>\n",
       "</div>"
      ],
      "text/plain": [
       "       Unnamed: 0  Unnamed: 0.1             business_id  \\\n",
       "0               0            41  98hyK2QEUeI8v2y0AghfZA   \n",
       "1               1            43  LoRef3ChgZKbxUio-sHgQg   \n",
       "2               2            63  ZkzutF0P_u0C0yTulwaHkA   \n",
       "3               3            73  0QjROMVW9ACKjhSEfHqNCQ   \n",
       "4               4            83  7j0kor_fkeYhyEpXh4OpnQ   \n",
       "...           ...           ...                     ...   \n",
       "30539       30539        209376  cmsAFAymfVoBitSF8R6GKw   \n",
       "30540       30540        209377  n2BKYb8aw4AhRKLkdUjQRg   \n",
       "30541       30541        209380  YZeUH6zYS0dq5QHLYZhUnQ   \n",
       "30542       30542        209385  hskVqZCPqy-omm9CHi44xQ   \n",
       "30543       30543        209390  SYa2j1boLF8DcGVOYfHPcA   \n",
       "\n",
       "                                         name                     address  \\\n",
       "0             Pho Lee's Vietnamese Restaurant     1541 E 38th St, Ste 101   \n",
       "1                                        Amir       5252 Rue Jean Talon O   \n",
       "2                            Lelulos Pizzeria         311 Unity Center Rd   \n",
       "3                            Mi Mi Restaurant        688 Gerrard Street E   \n",
       "4                   Scramblers - Strongsville              16726 Pearl Rd   \n",
       "...                                       ...                         ...   \n",
       "30539                Yao Fine Chinese Cuisine  2487 S Gilbert Rd, Ste 102   \n",
       "30540  Steak & Cheese & Quick Pita Restaurant              199 College St   \n",
       "30541                                 Hooters             2820 N 75th Ave   \n",
       "30542                                Domino's       6420 Rea Rd, Suite B1   \n",
       "30543                               Five Guys     7014-590 E Camelback Rd   \n",
       "\n",
       "               city state postal_code   latitude   longitude  review_count  \\\n",
       "0         Cleveland    OH       44114  41.512155  -81.663332            23   \n",
       "1          Montréal    QC     H4P 2A7  45.494870  -73.651904            18   \n",
       "2              Plum    PA       15239  40.489996  -79.779288            31   \n",
       "3           Toronto    ON     M4M 1Y3  43.666376  -79.348773           116   \n",
       "4      Strongsville    OH       44136  41.295689  -81.835722            81   \n",
       "...             ...   ...         ...        ...         ...           ...   \n",
       "30539       Gilbert    AZ       85295  33.304935 -111.788861           230   \n",
       "30540       Toronto    ON     M5T 1P9  43.658683  -79.395071            21   \n",
       "30541       Phoenix    AZ       85035  33.479139 -112.221142           106   \n",
       "30542     Charlotte    NC       28226  35.078538  -80.818358            16   \n",
       "30543    Scottsdale    AZ       85251  33.504062 -111.929431            97   \n",
       "\n",
       "       is_open  stars_avg                                categories_filtered  \\\n",
       "0            1          4                      Restaurants, Vietnamese, Soup   \n",
       "1            1          3               Restaurants, Lebanese, MiddleEastern   \n",
       "2            1          4                                 Restaurants, Pizza   \n",
       "3            1          4                            Vietnamese, Restaurants   \n",
       "4            1          3  Breakfast&Brunch, Restaurants, American(Tradit...   \n",
       "...        ...        ...                                                ...   \n",
       "30539        1          4                               Chinese, Restaurants   \n",
       "30540        1          3                            Sandwiches, Restaurants   \n",
       "30541        1          2  Nightlife, American(Traditional), ChickenWings...   \n",
       "30542        1          1  Restaurants, Pizza, Sandwiches, FastFood, Chic...   \n",
       "30543        1          3  American(New), Food, Burgers, Restaurants, Fas...   \n",
       "\n",
       "                                       food_type                ethnicity  \\\n",
       "0                                           Soup               Vietnamese   \n",
       "1                                      Undefined  MiddleEastern, Lebanese   \n",
       "2                                          Pizza                Undefined   \n",
       "3                                      Undefined               Vietnamese   \n",
       "4                        Breakfast&Brunch, Salad    American(Traditional)   \n",
       "...                                          ...                      ...   \n",
       "30539                                  Undefined                  Chinese   \n",
       "30540                                 Sandwiches                Undefined   \n",
       "30541                               ChickenWings    American(Traditional)   \n",
       "30542  ChickenWings, FastFood, Pizza, Sandwiches                Undefined   \n",
       "30543                          Burgers, FastFood            American(New)   \n",
       "\n",
       "            venue                                          food_comb  \n",
       "0      Restaurant                       Soup, Vietnamese, Restaurant  \n",
       "1      Restaurant                MiddleEastern, Lebanese, Restaurant  \n",
       "2      Restaurant                                 Pizza,  Restaurant  \n",
       "3      Restaurant                             Vietnamese, Restaurant  \n",
       "4      Restaurant  Breakfast&Brunch, Salad, American(Traditional)...  \n",
       "...           ...                                                ...  \n",
       "30539  Restaurant                                Chinese, Restaurant  \n",
       "30540  Restaurant                            Sandwiches,  Restaurant  \n",
       "30541  Restaurant    ChickenWings, American(Traditional), Restaurant  \n",
       "30542  Restaurant  ChickenWings, FastFood, Pizza, Sandwiches,  Re...  \n",
       "30543  Restaurant       Burgers, FastFood, American(New), Restaurant  \n",
       "\n",
       "[30544 rows x 18 columns]"
      ]
     },
     "execution_count": 3,
     "metadata": {},
     "output_type": "execute_result"
    }
   ],
   "source": [
    "df_food"
   ]
  },
  {
   "cell_type": "code",
   "execution_count": 4,
   "metadata": {},
   "outputs": [],
   "source": [
    "df_food['stars_avg'].replace(3,np.nan, inplace =True)\n",
    "df_food.dropna(inplace=True)\n",
    "df_food['star_binary'] = np.where(df_food['stars_avg'] <3, 'no', 'yes')\n"
   ]
  },
  {
   "cell_type": "code",
   "execution_count": 5,
   "metadata": {},
   "outputs": [],
   "source": [
    "df_food['state_star'] = df_food['state'] + df_food['star_binary']\n"
   ]
  },
  {
   "cell_type": "code",
   "execution_count": 6,
   "metadata": {},
   "outputs": [],
   "source": [
    "df_food_v2 = df_food.reset_index(drop=True).drop('Unnamed: 0', axis = 1)"
   ]
  },
  {
   "cell_type": "code",
   "execution_count": 7,
   "metadata": {},
   "outputs": [],
   "source": [
    "df_food_clean = df_food_v2.copy()"
   ]
  },
  {
   "cell_type": "code",
   "execution_count": 19,
   "metadata": {},
   "outputs": [],
   "source": [
    "df_food_clean = df_food_v2.loc[df_food_v2['state_star'].str.contains('yes')].reset_index(drop=True)"
   ]
  },
  {
   "cell_type": "code",
   "execution_count": 20,
   "metadata": {},
   "outputs": [],
   "source": [
    "vectorizer = CountVectorizer(analyzer='word', min_df=50)\n",
    "Xvec = vectorizer.fit_transform(df_food_clean['food_comb'])\n",
    "bow_df = pd.DataFrame(Xvec.toarray(), columns=vectorizer.get_feature_names())"
   ]
  },
  {
   "cell_type": "code",
   "execution_count": 21,
   "metadata": {},
   "outputs": [],
   "source": [
    "vectorizertf = TfidfVectorizer(analyzer='word', min_df=50, max_features=50)\n",
    "Xvectf = vectorizertf.fit_transform(df_food_clean['food_comb'])\n",
    "tf_df = pd.DataFrame(Xvectf.toarray(), columns=vectorizertf.get_feature_names())"
   ]
  },
  {
   "cell_type": "code",
   "execution_count": 22,
   "metadata": {},
   "outputs": [],
   "source": [
    "state_dummies = pd.get_dummies(df_food_clean['state'], drop_first = True)"
   ]
  },
  {
   "cell_type": "code",
   "execution_count": 23,
   "metadata": {},
   "outputs": [],
   "source": [
    "df_vec = bow_df"
   ]
  },
  {
   "cell_type": "code",
   "execution_count": 24,
   "metadata": {},
   "outputs": [],
   "source": [
    "df_vec = tf_df"
   ]
  },
  {
   "cell_type": "code",
   "execution_count": 25,
   "metadata": {},
   "outputs": [],
   "source": [
    "X = df_vec\n",
    "y = df_food_clean['state']"
   ]
  },
  {
   "cell_type": "code",
   "execution_count": 26,
   "metadata": {},
   "outputs": [],
   "source": [
    "k = 25\n",
    "if len(X.columns) >= k:\n",
    "    skb = SelectKBest(k = k, score_func = f_classif)\n",
    "    best_kfit = skb.fit(X, y)\n",
    "    X_best_feat = best_kfit.fit_transform(X,y)\n",
    "\n",
    "    X_best_feat = pd.DataFrame(X_best_feat, columns=X.columns[best_kfit.get_support()])\n",
    "\n",
    "    best_features = X_best_feat.columns.tolist()\n",
    "else:\n",
    "    print('To few columns to select')"
   ]
  },
  {
   "cell_type": "code",
   "execution_count": 27,
   "metadata": {},
   "outputs": [
    {
     "data": {
      "text/plain": [
       "['american',\n",
       " 'breakfast',\n",
       " 'brunch',\n",
       " 'cafes',\n",
       " 'chickenwings',\n",
       " 'delis',\n",
       " 'diners',\n",
       " 'fastfood',\n",
       " 'french',\n",
       " 'indian',\n",
       " 'japanese',\n",
       " 'juicebars',\n",
       " 'korean',\n",
       " 'mexican',\n",
       " 'middleeastern',\n",
       " 'new',\n",
       " 'pizza',\n",
       " 'restaurant',\n",
       " 'salad',\n",
       " 'sandwiches',\n",
       " 'seafood',\n",
       " 'smoothies',\n",
       " 'steakhouses',\n",
       " 'traditional',\n",
       " 'vietnamese']"
      ]
     },
     "execution_count": 27,
     "metadata": {},
     "output_type": "execute_result"
    }
   ],
   "source": [
    "best_features"
   ]
  },
  {
   "cell_type": "code",
   "execution_count": 28,
   "metadata": {},
   "outputs": [],
   "source": [
    "# X = df_vec[best_features]\n",
    "# y = df_food_clean['state']"
   ]
  },
  {
   "cell_type": "code",
   "execution_count": 29,
   "metadata": {},
   "outputs": [
    {
     "data": {
      "text/html": [
       "<div>\n",
       "<style scoped>\n",
       "    .dataframe tbody tr th:only-of-type {\n",
       "        vertical-align: middle;\n",
       "    }\n",
       "\n",
       "    .dataframe tbody tr th {\n",
       "        vertical-align: top;\n",
       "    }\n",
       "\n",
       "    .dataframe thead th {\n",
       "        text-align: right;\n",
       "    }\n",
       "</style>\n",
       "<table border=\"1\" class=\"dataframe\">\n",
       "  <thead>\n",
       "    <tr style=\"text-align: right;\">\n",
       "      <th></th>\n",
       "      <th>american</th>\n",
       "      <th>asianfusion</th>\n",
       "      <th>bakeries</th>\n",
       "      <th>barbeque</th>\n",
       "      <th>breakfast</th>\n",
       "      <th>brunch</th>\n",
       "      <th>burgers</th>\n",
       "      <th>cafes</th>\n",
       "      <th>chickenwings</th>\n",
       "      <th>chinese</th>\n",
       "      <th>...</th>\n",
       "      <th>specialtyfood</th>\n",
       "      <th>steakhouses</th>\n",
       "      <th>sushibars</th>\n",
       "      <th>tapas</th>\n",
       "      <th>tea</th>\n",
       "      <th>thai</th>\n",
       "      <th>traditional</th>\n",
       "      <th>vegan</th>\n",
       "      <th>vegetarian</th>\n",
       "      <th>vietnamese</th>\n",
       "    </tr>\n",
       "  </thead>\n",
       "  <tbody>\n",
       "    <tr>\n",
       "      <th>0</th>\n",
       "      <td>0.000000</td>\n",
       "      <td>0.0</td>\n",
       "      <td>0.0</td>\n",
       "      <td>0.0</td>\n",
       "      <td>0.000000</td>\n",
       "      <td>0.000000</td>\n",
       "      <td>0.0</td>\n",
       "      <td>0.0</td>\n",
       "      <td>0.0</td>\n",
       "      <td>0.000000</td>\n",
       "      <td>...</td>\n",
       "      <td>0.0</td>\n",
       "      <td>0.0</td>\n",
       "      <td>0.0</td>\n",
       "      <td>0.0</td>\n",
       "      <td>0.000000</td>\n",
       "      <td>0.0</td>\n",
       "      <td>0.000000</td>\n",
       "      <td>0.0</td>\n",
       "      <td>0.00000</td>\n",
       "      <td>0.678644</td>\n",
       "    </tr>\n",
       "    <tr>\n",
       "      <th>1</th>\n",
       "      <td>0.000000</td>\n",
       "      <td>0.0</td>\n",
       "      <td>0.0</td>\n",
       "      <td>0.0</td>\n",
       "      <td>0.000000</td>\n",
       "      <td>0.000000</td>\n",
       "      <td>0.0</td>\n",
       "      <td>0.0</td>\n",
       "      <td>0.0</td>\n",
       "      <td>0.000000</td>\n",
       "      <td>...</td>\n",
       "      <td>0.0</td>\n",
       "      <td>0.0</td>\n",
       "      <td>0.0</td>\n",
       "      <td>0.0</td>\n",
       "      <td>0.000000</td>\n",
       "      <td>0.0</td>\n",
       "      <td>0.000000</td>\n",
       "      <td>0.0</td>\n",
       "      <td>0.00000</td>\n",
       "      <td>0.000000</td>\n",
       "    </tr>\n",
       "    <tr>\n",
       "      <th>2</th>\n",
       "      <td>0.000000</td>\n",
       "      <td>0.0</td>\n",
       "      <td>0.0</td>\n",
       "      <td>0.0</td>\n",
       "      <td>0.000000</td>\n",
       "      <td>0.000000</td>\n",
       "      <td>0.0</td>\n",
       "      <td>0.0</td>\n",
       "      <td>0.0</td>\n",
       "      <td>0.000000</td>\n",
       "      <td>...</td>\n",
       "      <td>0.0</td>\n",
       "      <td>0.0</td>\n",
       "      <td>0.0</td>\n",
       "      <td>0.0</td>\n",
       "      <td>0.000000</td>\n",
       "      <td>0.0</td>\n",
       "      <td>0.000000</td>\n",
       "      <td>0.0</td>\n",
       "      <td>0.00000</td>\n",
       "      <td>0.954158</td>\n",
       "    </tr>\n",
       "    <tr>\n",
       "      <th>3</th>\n",
       "      <td>0.307134</td>\n",
       "      <td>0.0</td>\n",
       "      <td>0.0</td>\n",
       "      <td>0.0</td>\n",
       "      <td>0.000000</td>\n",
       "      <td>0.000000</td>\n",
       "      <td>0.0</td>\n",
       "      <td>0.0</td>\n",
       "      <td>0.0</td>\n",
       "      <td>0.000000</td>\n",
       "      <td>...</td>\n",
       "      <td>0.0</td>\n",
       "      <td>0.0</td>\n",
       "      <td>0.0</td>\n",
       "      <td>0.0</td>\n",
       "      <td>0.000000</td>\n",
       "      <td>0.0</td>\n",
       "      <td>0.361777</td>\n",
       "      <td>0.0</td>\n",
       "      <td>0.00000</td>\n",
       "      <td>0.000000</td>\n",
       "    </tr>\n",
       "    <tr>\n",
       "      <th>4</th>\n",
       "      <td>0.361767</td>\n",
       "      <td>0.0</td>\n",
       "      <td>0.0</td>\n",
       "      <td>0.0</td>\n",
       "      <td>0.412978</td>\n",
       "      <td>0.412978</td>\n",
       "      <td>0.0</td>\n",
       "      <td>0.0</td>\n",
       "      <td>0.0</td>\n",
       "      <td>0.000000</td>\n",
       "      <td>...</td>\n",
       "      <td>0.0</td>\n",
       "      <td>0.0</td>\n",
       "      <td>0.0</td>\n",
       "      <td>0.0</td>\n",
       "      <td>0.416195</td>\n",
       "      <td>0.0</td>\n",
       "      <td>0.426129</td>\n",
       "      <td>0.0</td>\n",
       "      <td>0.00000</td>\n",
       "      <td>0.000000</td>\n",
       "    </tr>\n",
       "    <tr>\n",
       "      <th>...</th>\n",
       "      <td>...</td>\n",
       "      <td>...</td>\n",
       "      <td>...</td>\n",
       "      <td>...</td>\n",
       "      <td>...</td>\n",
       "      <td>...</td>\n",
       "      <td>...</td>\n",
       "      <td>...</td>\n",
       "      <td>...</td>\n",
       "      <td>...</td>\n",
       "      <td>...</td>\n",
       "      <td>...</td>\n",
       "      <td>...</td>\n",
       "      <td>...</td>\n",
       "      <td>...</td>\n",
       "      <td>...</td>\n",
       "      <td>...</td>\n",
       "      <td>...</td>\n",
       "      <td>...</td>\n",
       "      <td>...</td>\n",
       "      <td>...</td>\n",
       "    </tr>\n",
       "    <tr>\n",
       "      <th>17260</th>\n",
       "      <td>0.000000</td>\n",
       "      <td>0.0</td>\n",
       "      <td>0.0</td>\n",
       "      <td>0.0</td>\n",
       "      <td>0.669834</td>\n",
       "      <td>0.669834</td>\n",
       "      <td>0.0</td>\n",
       "      <td>0.0</td>\n",
       "      <td>0.0</td>\n",
       "      <td>0.000000</td>\n",
       "      <td>...</td>\n",
       "      <td>0.0</td>\n",
       "      <td>0.0</td>\n",
       "      <td>0.0</td>\n",
       "      <td>0.0</td>\n",
       "      <td>0.000000</td>\n",
       "      <td>0.0</td>\n",
       "      <td>0.000000</td>\n",
       "      <td>0.0</td>\n",
       "      <td>0.00000</td>\n",
       "      <td>0.000000</td>\n",
       "    </tr>\n",
       "    <tr>\n",
       "      <th>17261</th>\n",
       "      <td>0.000000</td>\n",
       "      <td>0.0</td>\n",
       "      <td>0.0</td>\n",
       "      <td>0.0</td>\n",
       "      <td>0.000000</td>\n",
       "      <td>0.000000</td>\n",
       "      <td>0.0</td>\n",
       "      <td>0.0</td>\n",
       "      <td>0.0</td>\n",
       "      <td>0.000000</td>\n",
       "      <td>...</td>\n",
       "      <td>0.0</td>\n",
       "      <td>0.0</td>\n",
       "      <td>0.0</td>\n",
       "      <td>0.0</td>\n",
       "      <td>0.000000</td>\n",
       "      <td>0.0</td>\n",
       "      <td>0.000000</td>\n",
       "      <td>0.0</td>\n",
       "      <td>0.41247</td>\n",
       "      <td>0.000000</td>\n",
       "    </tr>\n",
       "    <tr>\n",
       "      <th>17262</th>\n",
       "      <td>0.000000</td>\n",
       "      <td>0.0</td>\n",
       "      <td>0.0</td>\n",
       "      <td>0.0</td>\n",
       "      <td>0.000000</td>\n",
       "      <td>0.000000</td>\n",
       "      <td>0.0</td>\n",
       "      <td>0.0</td>\n",
       "      <td>0.0</td>\n",
       "      <td>0.000000</td>\n",
       "      <td>...</td>\n",
       "      <td>0.0</td>\n",
       "      <td>0.0</td>\n",
       "      <td>0.0</td>\n",
       "      <td>0.0</td>\n",
       "      <td>0.000000</td>\n",
       "      <td>0.0</td>\n",
       "      <td>0.000000</td>\n",
       "      <td>0.0</td>\n",
       "      <td>0.00000</td>\n",
       "      <td>0.000000</td>\n",
       "    </tr>\n",
       "    <tr>\n",
       "      <th>17263</th>\n",
       "      <td>0.000000</td>\n",
       "      <td>0.0</td>\n",
       "      <td>0.0</td>\n",
       "      <td>0.0</td>\n",
       "      <td>0.000000</td>\n",
       "      <td>0.000000</td>\n",
       "      <td>0.0</td>\n",
       "      <td>0.0</td>\n",
       "      <td>0.0</td>\n",
       "      <td>0.000000</td>\n",
       "      <td>...</td>\n",
       "      <td>0.0</td>\n",
       "      <td>0.0</td>\n",
       "      <td>0.0</td>\n",
       "      <td>0.0</td>\n",
       "      <td>0.707107</td>\n",
       "      <td>0.0</td>\n",
       "      <td>0.000000</td>\n",
       "      <td>0.0</td>\n",
       "      <td>0.00000</td>\n",
       "      <td>0.000000</td>\n",
       "    </tr>\n",
       "    <tr>\n",
       "      <th>17264</th>\n",
       "      <td>0.000000</td>\n",
       "      <td>0.0</td>\n",
       "      <td>0.0</td>\n",
       "      <td>0.0</td>\n",
       "      <td>0.000000</td>\n",
       "      <td>0.000000</td>\n",
       "      <td>0.0</td>\n",
       "      <td>0.0</td>\n",
       "      <td>0.0</td>\n",
       "      <td>0.931142</td>\n",
       "      <td>...</td>\n",
       "      <td>0.0</td>\n",
       "      <td>0.0</td>\n",
       "      <td>0.0</td>\n",
       "      <td>0.0</td>\n",
       "      <td>0.000000</td>\n",
       "      <td>0.0</td>\n",
       "      <td>0.000000</td>\n",
       "      <td>0.0</td>\n",
       "      <td>0.00000</td>\n",
       "      <td>0.000000</td>\n",
       "    </tr>\n",
       "  </tbody>\n",
       "</table>\n",
       "<p>17265 rows × 50 columns</p>\n",
       "</div>"
      ],
      "text/plain": [
       "       american  asianfusion  bakeries  barbeque  breakfast    brunch  \\\n",
       "0      0.000000          0.0       0.0       0.0   0.000000  0.000000   \n",
       "1      0.000000          0.0       0.0       0.0   0.000000  0.000000   \n",
       "2      0.000000          0.0       0.0       0.0   0.000000  0.000000   \n",
       "3      0.307134          0.0       0.0       0.0   0.000000  0.000000   \n",
       "4      0.361767          0.0       0.0       0.0   0.412978  0.412978   \n",
       "...         ...          ...       ...       ...        ...       ...   \n",
       "17260  0.000000          0.0       0.0       0.0   0.669834  0.669834   \n",
       "17261  0.000000          0.0       0.0       0.0   0.000000  0.000000   \n",
       "17262  0.000000          0.0       0.0       0.0   0.000000  0.000000   \n",
       "17263  0.000000          0.0       0.0       0.0   0.000000  0.000000   \n",
       "17264  0.000000          0.0       0.0       0.0   0.000000  0.000000   \n",
       "\n",
       "       burgers  cafes  chickenwings   chinese  ...  specialtyfood  \\\n",
       "0          0.0    0.0           0.0  0.000000  ...            0.0   \n",
       "1          0.0    0.0           0.0  0.000000  ...            0.0   \n",
       "2          0.0    0.0           0.0  0.000000  ...            0.0   \n",
       "3          0.0    0.0           0.0  0.000000  ...            0.0   \n",
       "4          0.0    0.0           0.0  0.000000  ...            0.0   \n",
       "...        ...    ...           ...       ...  ...            ...   \n",
       "17260      0.0    0.0           0.0  0.000000  ...            0.0   \n",
       "17261      0.0    0.0           0.0  0.000000  ...            0.0   \n",
       "17262      0.0    0.0           0.0  0.000000  ...            0.0   \n",
       "17263      0.0    0.0           0.0  0.000000  ...            0.0   \n",
       "17264      0.0    0.0           0.0  0.931142  ...            0.0   \n",
       "\n",
       "       steakhouses  sushibars  tapas       tea  thai  traditional  vegan  \\\n",
       "0              0.0        0.0    0.0  0.000000   0.0     0.000000    0.0   \n",
       "1              0.0        0.0    0.0  0.000000   0.0     0.000000    0.0   \n",
       "2              0.0        0.0    0.0  0.000000   0.0     0.000000    0.0   \n",
       "3              0.0        0.0    0.0  0.000000   0.0     0.361777    0.0   \n",
       "4              0.0        0.0    0.0  0.416195   0.0     0.426129    0.0   \n",
       "...            ...        ...    ...       ...   ...          ...    ...   \n",
       "17260          0.0        0.0    0.0  0.000000   0.0     0.000000    0.0   \n",
       "17261          0.0        0.0    0.0  0.000000   0.0     0.000000    0.0   \n",
       "17262          0.0        0.0    0.0  0.000000   0.0     0.000000    0.0   \n",
       "17263          0.0        0.0    0.0  0.707107   0.0     0.000000    0.0   \n",
       "17264          0.0        0.0    0.0  0.000000   0.0     0.000000    0.0   \n",
       "\n",
       "       vegetarian  vietnamese  \n",
       "0         0.00000    0.678644  \n",
       "1         0.00000    0.000000  \n",
       "2         0.00000    0.954158  \n",
       "3         0.00000    0.000000  \n",
       "4         0.00000    0.000000  \n",
       "...           ...         ...  \n",
       "17260     0.00000    0.000000  \n",
       "17261     0.41247    0.000000  \n",
       "17262     0.00000    0.000000  \n",
       "17263     0.00000    0.000000  \n",
       "17264     0.00000    0.000000  \n",
       "\n",
       "[17265 rows x 50 columns]"
      ]
     },
     "execution_count": 29,
     "metadata": {},
     "output_type": "execute_result"
    }
   ],
   "source": [
    "X"
   ]
  },
  {
   "cell_type": "code",
   "execution_count": 30,
   "metadata": {},
   "outputs": [],
   "source": [
    "le_train = LabelEncoder()\n",
    "y_le = le_train.fit_transform(y)"
   ]
  },
  {
   "cell_type": "code",
   "execution_count": 31,
   "metadata": {},
   "outputs": [
    {
     "data": {
      "text/plain": [
       "ON    4122\n",
       "AZ    3887\n",
       "NV    2792\n",
       "OH    1859\n",
       "QC    1678\n",
       "NC    1516\n",
       "PA    1411\n",
       "Name: state, dtype: int64"
      ]
     },
     "execution_count": 31,
     "metadata": {},
     "output_type": "execute_result"
    }
   ],
   "source": [
    "y.value_counts()"
   ]
  },
  {
   "cell_type": "code",
   "execution_count": 37,
   "metadata": {},
   "outputs": [],
   "source": [
    "y_state_dict= pd.concat([pd.DataFrame(y_le), pd.DataFrame(y)], axis = 1).groupby('state')[0].mean()"
   ]
  },
  {
   "cell_type": "code",
   "execution_count": 38,
   "metadata": {},
   "outputs": [],
   "source": [
    "y_state_dict_swap = {value:key for key, value in y_state_dict.items()}\n",
    "labels = list(y_state_dict_swap.values())"
   ]
  },
  {
   "cell_type": "code",
   "execution_count": 67,
   "metadata": {},
   "outputs": [],
   "source": [
    "X_train, X_test, y_train, y_test = train_test_split(X, y_le, stratify = y_le, random_state = 42)"
   ]
  },
  {
   "cell_type": "code",
   "execution_count": 68,
   "metadata": {},
   "outputs": [],
   "source": [
    "y_export = pd.Series(y_le)\n",
    "X.to_csv('/Users/robholmstrom/OneDrive/Gitrepos/nonrepo_files/capstone4_files/C4_bus_state_X.csv')\n",
    "y.to_csv('/Users/robholmstrom/OneDrive/Gitrepos/nonrepo_files/capstone4_files/C4_bus_state_y.csv')"
   ]
  },
  {
   "cell_type": "code",
   "execution_count": 70,
   "metadata": {},
   "outputs": [
    {
     "data": {
      "text/plain": [
       "(17265,)"
      ]
     },
     "execution_count": 70,
     "metadata": {},
     "output_type": "execute_result"
    }
   ],
   "source": [
    "y.shape"
   ]
  },
  {
   "cell_type": "code",
   "execution_count": 41,
   "metadata": {},
   "outputs": [],
   "source": [
    "\n",
    "oversample = SMOTE()\n",
    "X_train, y_train = oversample.fit_resample(X_train, y_train)"
   ]
  },
  {
   "cell_type": "code",
   "execution_count": 42,
   "metadata": {},
   "outputs": [],
   "source": [
    "\n",
    "scaler = MinMaxScaler()\n",
    "X_train_scaled = scaler.fit_transform(X_train)\n",
    "X_test_scaled = scaler.transform(X_test)"
   ]
  },
  {
   "cell_type": "code",
   "execution_count": 43,
   "metadata": {},
   "outputs": [
    {
     "data": {
      "text/plain": [
       "GridSearchCV(estimator=LogisticRegression(),\n",
       "             param_grid={'C': [0.001, 0.01, 0.1, 1, 10], 'max_iter': [10000],\n",
       "                         'penalty': ['l2'], 'solver': ['liblinear', 'lbfgs']})"
      ]
     },
     "execution_count": 43,
     "metadata": {},
     "output_type": "execute_result"
    }
   ],
   "source": [
    "\n",
    "lr1 = LogisticRegression()\n",
    "thresholds = [x for x in np.arange(.01,1,.01)]\n",
    "c_values = [10**x for x in range(-3,2)]\n",
    "params = {'solver':['liblinear','lbfgs'], 'C':c_values, 'penalty':['l2'], 'max_iter': [10000]}\n",
    "\n",
    "gslr1 = GridSearchCV(lr1, params)\n",
    "gslr1.fit(X_train_scaled, y_train)\n"
   ]
  },
  {
   "cell_type": "code",
   "execution_count": 44,
   "metadata": {},
   "outputs": [],
   "source": [
    "y_test_pred = gslr1.predict(X_test_scaled)\n",
    "y_train_pred = gslr1.predict(X_train_scaled)"
   ]
  },
  {
   "cell_type": "code",
   "execution_count": 45,
   "metadata": {},
   "outputs": [
    {
     "name": "stdout",
     "output_type": "stream",
     "text": [
      "LR1 confusion matrix\n"
     ]
    }
   ],
   "source": [
    "from sklearn.metrics import confusion_matrix\n",
    "from sklearn.metrics import roc_curve,log_loss, precision_score, recall_score, confusion_matrix, classification_report, accuracy_score, f1_score\n",
    "print('LR1 confusion matrix')\n",
    "#lr1train = confusion_matrix(y_train, y_pred_train, normalize= None)\n",
    "lr1test = confusion_matrix(y_test, y_test_pred, normalize = None)\n",
    "lrdata = pd.DataFrame(lr1test).rename(columns = y_state_dict_swap, index = y_state_dict_swap)\n"
   ]
  },
  {
   "cell_type": "code",
   "execution_count": 46,
   "metadata": {},
   "outputs": [],
   "source": [
    "def plot_confusion_matrix(cm,\n",
    "                          target_names,\n",
    "                          title='Confusion matrix',\n",
    "                          cmap=None,\n",
    "                          normalize=None):\n",
    "    \"\"\"\n",
    "    given a sklearn confusion matrix (cm), make a nice plot\n",
    "\n",
    "    Arguments\n",
    "    ---------\n",
    "    cm:           confusion matrix from sklearn.metrics.confusion_matrix\n",
    "\n",
    "    target_names: given classification classes such as [0, 1, 2]\n",
    "                  the class names, for example: ['high', 'medium', 'low']\n",
    "\n",
    "    title:        the text to display at the top of the matrix\n",
    "\n",
    "    cmap:         the gradient of the values displayed from matplotlib.pyplot.cm\n",
    "                  see http://matplotlib.org/examples/color/colormaps_reference.html\n",
    "                  plt.get_cmap('jet') or plt.cm.Blues\n",
    "\n",
    "    normalize:    If False, plot the raw numbers\n",
    "                  If True, plot the proportions\n",
    "\n",
    "    Usage\n",
    "    -----\n",
    "    plot_confusion_matrix(cm           = cm,                  # confusion matrix created by\n",
    "                                                              # sklearn.metrics.confusion_matrix\n",
    "                          normalize    = True,                # show proportions\n",
    "                          target_names = y_labels_vals,       # list of names of the classes\n",
    "                          title        = best_estimator_name) # title of graph\n",
    "\n",
    "    Citiation\n",
    "    ---------\n",
    "    http://scikit-learn.org/stable/auto_examples/model_selection/plot_confusion_matrix.html\n",
    "\n",
    "    \"\"\"\n",
    "    \n",
    "   \n",
    "\n",
    "    accuracy = np.trace(cm) / float(np.sum(cm))\n",
    "    misclass = 1 - accuracy\n",
    "\n",
    "    if cmap is None:\n",
    "        cmap = plt.get_cmap('Blues')\n",
    "        \n",
    "    plt.figure(figsize=(8, 6))\n",
    "    plt.imshow(cm, interpolation='nearest', cmap=cmap)\n",
    "    plt.title(title)\n",
    "    plt.colorbar()\n",
    "\n",
    "    if target_names is not None:\n",
    "        tick_marks = np.arange(len(target_names))\n",
    "        plt.xticks(tick_marks, target_names, rotation=45)\n",
    "        plt.yticks(tick_marks, target_names)\n",
    "\n",
    "    if normalize:\n",
    "        cm = cm.astype('float') / cm.sum(axis=1)[:, np.newaxis]\n",
    "\n",
    "\n",
    "    thresh = cm.max() / 1.5 if normalize else cm.max() / 2\n",
    "    for i, j in itertools.product(range(cm.shape[0]), range(cm.shape[1])):\n",
    "        if normalize:\n",
    "            plt.text(j, i, \"{:0.4f}\".format(cm[i, j]),\n",
    "                     horizontalalignment=\"center\",\n",
    "                     color=\"white\" if cm[i, j] > thresh else \"black\", fontsize=10)\n",
    "        else:\n",
    "            plt.text(j, i, \"{:,}\".format(cm[i, j]),\n",
    "                     horizontalalignment=\"center\",\n",
    "                     color=\"white\" if cm[i, j] > thresh else \"black\",fontsize=10)\n",
    "\n",
    "\n",
    "    plt.tight_layout()\n",
    "    plt.ylabel('True label')\n",
    "    plt.xlabel('Predicted label\\naccuracy={:0.4f}; misclass={:0.4f}'.format(accuracy, misclass))\n",
    "    plt.show()"
   ]
  },
  {
   "cell_type": "code",
   "execution_count": 47,
   "metadata": {
    "scrolled": true
   },
   "outputs": [
    {
     "data": {
      "image/png": "[encoded data removed]",
      "text/plain": [
       "<Figure size 576x432 with 2 Axes>"
      ]
     },
     "metadata": {
      "needs_background": "light"
     },
     "output_type": "display_data"
    }
   ],
   "source": [
    "target_names = labels \n",
    "plot_confusion_matrix(lr1test,\n",
    "                          target_names,\n",
    "                          title='Confusion matrix: Logistic Regression\\nBy Business',\n",
    "                          cmap=None,\n",
    "                          normalize=None)"
   ]
  },
  {
   "cell_type": "code",
   "execution_count": 48,
   "metadata": {},
   "outputs": [
    {
     "name": "stdout",
     "output_type": "stream",
     "text": [
      "Test macro average recall score is  0.247\n",
      "Train macro average recall score is  0.274\n"
     ]
    }
   ],
   "source": [
    "print('Test macro average recall score is ',recall_score(y_test, y_test_pred, average = 'macro').round(3))\n",
    "print('Train macro average recall score is ',recall_score(y_train, y_train_pred, average = 'macro').round(3))"
   ]
  },
  {
   "cell_type": "code",
   "execution_count": 49,
   "metadata": {},
   "outputs": [
    {
     "name": "stdout",
     "output_type": "stream",
     "text": [
      "Test accuracy score is  0.2541116516099143\n",
      "Train accuracy score is  0.2742062208254379\n"
     ]
    }
   ],
   "source": [
    "print('Test accuracy score is ',accuracy_score(y_test, y_test_pred))\n",
    "print('Train accuracy score is ',accuracy_score(y_train, y_train_pred))"
   ]
  },
  {
   "cell_type": "code",
   "execution_count": 50,
   "metadata": {},
   "outputs": [
    {
     "data": {
      "text/plain": [
       "1.730177390864948"
      ]
     },
     "execution_count": 50,
     "metadata": {},
     "output_type": "execute_result"
    }
   ],
   "source": [
    "recall_score(y_test, y_test_pred, average = 'macro')/(1/lr1test.shape[0])"
   ]
  },
  {
   "cell_type": "code",
   "execution_count": 51,
   "metadata": {},
   "outputs": [],
   "source": [
    "# knn1 = KNeighborsClassifier(n_neighbors=15, weights='uniform', leaf_size=20)\n",
    "# knn1.fit(X_train_scaled, y_train)\n",
    "\n",
    "# y_test_predknn1 = knn1.predict(X_test_scaled)\n",
    "# y_train_predknn1 = knn1.predict(X_train_scaled)\n",
    "# print('Test macro average recall score is ',recall_score(y_test, y_test_predknn1,average = 'macro'))\n",
    "# print('Train macro average recall score is ',recall_score(y_train, y_train_predknn1,average = 'macro'))"
   ]
  },
  {
   "cell_type": "code",
   "execution_count": 52,
   "metadata": {},
   "outputs": [],
   "source": [
    "# knntest = confusion_matrix(y_test, y_test_pred, normalize = None)\n",
    "# dfknn = pd.DataFrame(knntest).rename(columns = y_state_dict_swap)"
   ]
  },
  {
   "cell_type": "code",
   "execution_count": 53,
   "metadata": {},
   "outputs": [],
   "source": [
    "# print('Test accuracy score is ',accuracy_score(y_test, y_test_predknn1))\n",
    "# print('Train accuracy score is ',accuracy_score(y_train, y_train_predknn1))"
   ]
  },
  {
   "cell_type": "code",
   "execution_count": 54,
   "metadata": {},
   "outputs": [
    {
     "data": {
      "text/plain": [
       "GridSearchCV(estimator=RandomForestClassifier(),\n",
       "             param_grid={'max_depth': [5, 10], 'max_features': ['auto', 'sqrt'],\n",
       "                         'min_samples_leaf': [1, 2, 4],\n",
       "                         'n_estimators': [100, 1000]})"
      ]
     },
     "execution_count": 54,
     "metadata": {},
     "output_type": "execute_result"
    }
   ],
   "source": [
    "rf = RandomForestClassifier()\n",
    "rf.fit(X_train_scaled, y_train)\n",
    "y_test_predrf = rf.predict(X_test_scaled)\n",
    "y_train_predrf = rf.predict(X_train_scaled)\n",
    "thresholds = [x for x in np.arange(.01,1,.01)]\n",
    "c_values = [10**x for x in range(-3,2)]\n",
    "params = { 'max_depth': [5, 10],\n",
    " 'max_features': ['auto', 'sqrt'],\n",
    " 'min_samples_leaf': [1, 2, 4],\n",
    " 'n_estimators': [100, 1000]}\n",
    "\n",
    "gsrf = GridSearchCV(rf, params)\n",
    "gsrf.fit(X_train_scaled, y_train)\n"
   ]
  },
  {
   "cell_type": "code",
   "execution_count": 55,
   "metadata": {
    "scrolled": true
   },
   "outputs": [
    {
     "name": "stdout",
     "output_type": "stream",
     "text": [
      "Train macro average recall score is  0.538\n",
      "Test macro average recall score is  0.246\n"
     ]
    }
   ],
   "source": [
    "y_test_predrf = rf.predict(X_test_scaled)\n",
    "y_train_predrf = rf.predict(X_train_scaled)\n",
    "\n",
    "print('Train macro average recall score is ',recall_score(y_train, y_train_predrf,average = 'macro').round(3))\n",
    "print('Test macro average recall score is ',recall_score(y_test, y_test_predrf,average = 'macro').round(3))"
   ]
  },
  {
   "cell_type": "code",
   "execution_count": 56,
   "metadata": {},
   "outputs": [],
   "source": [
    "rftest = confusion_matrix(y_test, y_test_predrf, normalize = None)\n",
    "dfrf = pd.DataFrame(rftest).rename(columns = y_state_dict_swap)"
   ]
  },
  {
   "cell_type": "code",
   "execution_count": 57,
   "metadata": {},
   "outputs": [
    {
     "data": {
      "image/png": "[encoded data removed]",
      "text/plain": [
       "<Figure size 576x432 with 2 Axes>"
      ]
     },
     "metadata": {
      "needs_background": "light"
     },
     "output_type": "display_data"
    }
   ],
   "source": [
    "\n",
    "plot_confusion_matrix(rftest,target_names,'Confusion Matrix: Random Forest\\nBy Business')"
   ]
  },
  {
   "cell_type": "code",
   "execution_count": 58,
   "metadata": {},
   "outputs": [
    {
     "data": {
      "text/plain": [
       "1.719"
      ]
     },
     "execution_count": 58,
     "metadata": {},
     "output_type": "execute_result"
    }
   ],
   "source": [
    "(recall_score(y_test, y_test_predrf, average = 'macro')/(1/rftest.shape[0])).round(3)"
   ]
  },
  {
   "cell_type": "code",
   "execution_count": 59,
   "metadata": {},
   "outputs": [
    {
     "data": {
      "image/png": "[encoded data removed]",
      "text/plain": [
       "<Figure size 1008x1008 with 1 Axes>"
      ]
     },
     "metadata": {
      "needs_background": "light"
     },
     "output_type": "display_data"
    }
   ],
   "source": [
    "feature_importance = rf.feature_importances_\n",
    "\n",
    "# Make importances relative to max importance.\n",
    "feature_importance = 100.0 * (feature_importance / feature_importance.max())\n",
    "sorted_idx = np.argsort(feature_importance)\n",
    "pos = np.arange(sorted_idx.shape[0]) + .5\n",
    "plt.figure(figsize = (14,14))\n",
    "\n",
    "plt.subplot(1, 2, 2)\n",
    "plt.barh(pos, feature_importance[sorted_idx], align='center')\n",
    "plt.yticks(pos, X.columns[sorted_idx])\n",
    "plt.xlabel('Relative Importance')\n",
    "plt.title('Variable Importance\\nRandom Forest\\nBy Businesses')\n",
    "plt.show()"
   ]
  },
  {
   "cell_type": "code",
   "execution_count": 60,
   "metadata": {},
   "outputs": [],
   "source": [
    "params = {'n_estimators': 1000,\n",
    "          'max_depth': 2,\n",
    "          'loss': 'deviance', \n",
    "          'learning_rate':0.08, \n",
    "          'subsample':.62, \n",
    "          'min_samples_split':.02}\n",
    "\n",
    "# Initialize and fit the model.\n",
    "gbc = GradientBoostingClassifier(**params)\n",
    "gbc.fit(X_train_scaled, y_train)\n",
    "\n",
    "y_test_predgb = gbc.predict(X_test_scaled)\n",
    "y_train_predgb = gbc.predict(X_train_scaled)"
   ]
  },
  {
   "cell_type": "code",
   "execution_count": 61,
   "metadata": {},
   "outputs": [
    {
     "data": {
      "image/png": "[encoded data removed]",
      "text/plain": [
       "<Figure size 576x432 with 2 Axes>"
      ]
     },
     "metadata": {
      "needs_background": "light"
     },
     "output_type": "display_data"
    }
   ],
   "source": [
    "gbtest = confusion_matrix(y_test, y_test_predgb)\n",
    "plot_confusion_matrix(gbtest,target_names,'Confusion Matrix: Gradient Boost\\nBy Business')"
   ]
  },
  {
   "cell_type": "code",
   "execution_count": 62,
   "metadata": {},
   "outputs": [
    {
     "name": "stdout",
     "output_type": "stream",
     "text": [
      "Test macro average recall score is  0.244\n",
      "Train macro average recall score is  0.403\n"
     ]
    }
   ],
   "source": [
    "print('Test macro average recall score is ',recall_score(y_test, y_test_predgb,average = 'macro').round(3))\n",
    "print('Train macro average recall score is ',recall_score(y_train, y_train_predgb,average = 'macro').round(3))"
   ]
  },
  {
   "cell_type": "code",
   "execution_count": 63,
   "metadata": {},
   "outputs": [
    {
     "data": {
      "text/plain": [
       "1.730177390864948"
      ]
     },
     "execution_count": 63,
     "metadata": {},
     "output_type": "execute_result"
    }
   ],
   "source": [
    "recall_score(y_test, y_test_pred, average = 'macro')/(1/gbtest.shape[0])"
   ]
  },
  {
   "cell_type": "code",
   "execution_count": 64,
   "metadata": {},
   "outputs": [
    {
     "data": {
      "image/png": "[encoded data removed]",
      "text/plain": [
       "<Figure size 1008x1008 with 1 Axes>"
      ]
     },
     "metadata": {
      "needs_background": "light"
     },
     "output_type": "display_data"
    }
   ],
   "source": [
    "feature_importance = gbc.feature_importances_\n",
    "\n",
    "# Make importances relative to max importance.\n",
    "feature_importance = 100.0 * (feature_importance / feature_importance.max())\n",
    "sorted_idx = np.argsort(feature_importance)\n",
    "pos = np.arange(sorted_idx.shape[0]) + .5\n",
    "plt.figure(figsize = (14,14))\n",
    "\n",
    "plt.subplot(1, 2, 2)\n",
    "plt.barh(pos, feature_importance[sorted_idx], align='center')\n",
    "plt.yticks(pos, X.columns[sorted_idx])\n",
    "plt.xlabel('Relative Importance')\n",
    "plt.title('Variable Importance\\nGradient Boost\\nBy Businesses')\n",
    "plt.show()"
   ]
  },
  {
   "cell_type": "code",
   "execution_count": null,
   "metadata": {},
   "outputs": [],
   "source": []
  }
 ],
 "metadata": {
  "kernelspec": {
   "display_name": "Python 3",
   "language": "python",
   "name": "python3"
  },
  "language_info": {
   "codemirror_mode": {
    "name": "ipython",
    "version": 3
   },
   "file_extension": ".py",
   "mimetype": "text/x-python",
   "name": "python",
   "nbconvert_exporter": "python",
   "pygments_lexer": "ipython3",
   "version": "3.7.7"
  }
 },
 "nbformat": 4,
 "nbformat_minor": 4
}
