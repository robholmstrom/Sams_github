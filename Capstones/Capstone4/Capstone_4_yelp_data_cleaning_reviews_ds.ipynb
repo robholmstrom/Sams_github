{
 "cells": [
  {
   "cell_type": "code",
   "execution_count": 2,
   "metadata": {},
   "outputs": [],
   "source": [
    "import json\n",
    "from datetime import datetime\n",
    "import plotly.express as px\n",
    "from sklearn.model_selection import train_test_split\n",
    "import sqlite3\n",
    "import nltk\n",
    "import spacy\n",
    "import geopandas as gpd\n",
    "from shapely.geometry import Polygon\n",
    "import numpy as np\n",
    "import umap\n",
    "import pandas as pd\n",
    "import shapefile as shp\n",
    "import matplotlib.pyplot as plt\n",
    "import seaborn as sns\n",
    "from sklearn.cluster import KMeans\n",
    "from sklearn.mixture import GaussianMixture\n",
    "from sklearn.decomposition import PCA\n",
    "from sklearn.feature_extraction.text import CountVectorizer\n",
    "from sklearn.preprocessing import LabelEncoder, MinMaxScaler\n",
    "from sklearn.ensemble import RandomForestClassifier\n",
    "from sklearn.neighbors import KNeighborsClassifier\n",
    "from sklearn.svm import SVC\n",
    "%matplotlib inline"
   ]
  },
  {
   "cell_type": "code",
   "execution_count": 24,
   "metadata": {},
   "outputs": [
    {
     "name": "stderr",
     "output_type": "stream",
     "text": [
      "/Users/robholmstrom/miniconda3/lib/python3.7/site-packages/IPython/core/interactiveshell.py:3072: DtypeWarning: Columns (0) have mixed types.Specify dtype option on import or set low_memory=False.\n",
      "  interactivity=interactivity, compiler=compiler, result=result)\n"
     ]
    }
   ],
   "source": [
    "df_reviews_4yrs_open = pd.read_csv('/Users/robholmstrom/OneDrive/Gitrepos/nonrepo_files/capstone4_files/df_reviews_last_4yrs_open.csv')\n",
    "\n"
   ]
  },
  {
   "cell_type": "code",
   "execution_count": 29,
   "metadata": {},
   "outputs": [],
   "source": [
    "df_business_4yrs_open = pd.read_csv('/Users/robholmstrom/OneDrive/Gitrepos/nonrepo_files/capstone4_files/df_business_last_4yrs_open.csv')\n"
   ]
  },
  {
   "cell_type": "code",
   "execution_count": 30,
   "metadata": {},
   "outputs": [
    {
     "data": {
      "text/plain": [
       "3       25906\n",
       "4       14132\n",
       "5       10986\n",
       "6        8852\n",
       "7        7430\n",
       "        ...  \n",
       "1445        1\n",
       "2648        1\n",
       "3414        1\n",
       "2855        1\n",
       "1791        1\n",
       "Name: review_count, Length: 1292, dtype: int64"
      ]
     },
     "execution_count": 30,
     "metadata": {},
     "output_type": "execute_result"
    }
   ],
   "source": [
    "df_business_4yrs_open['review_count'].value_counts()"
   ]
  },
  {
   "cell_type": "code",
   "execution_count": 31,
   "metadata": {},
   "outputs": [],
   "source": [
    "df_bus_select =  df_business_4yrs_open[df_business_4yrs_open['review_count']>10]"
   ]
  },
  {
   "cell_type": "code",
   "execution_count": 32,
   "metadata": {},
   "outputs": [
    {
     "data": {
      "text/plain": [
       "11      4114\n",
       "12      3555\n",
       "13      3232\n",
       "14      2893\n",
       "15      2707\n",
       "        ... \n",
       "1204       1\n",
       "1268       1\n",
       "2164       1\n",
       "2228       1\n",
       "1791       1\n",
       "Name: review_count, Length: 1284, dtype: int64"
      ]
     },
     "execution_count": 32,
     "metadata": {},
     "output_type": "execute_result"
    }
   ],
   "source": [
    "df_bus_select['review_count'].value_counts()"
   ]
  },
  {
   "cell_type": "code",
   "execution_count": 33,
   "metadata": {},
   "outputs": [
    {
     "data": {
      "text/html": [
       "<div>\n",
       "<style scoped>\n",
       "    .dataframe tbody tr th:only-of-type {\n",
       "        vertical-align: middle;\n",
       "    }\n",
       "\n",
       "    .dataframe tbody tr th {\n",
       "        vertical-align: top;\n",
       "    }\n",
       "\n",
       "    .dataframe thead th {\n",
       "        text-align: right;\n",
       "    }\n",
       "</style>\n",
       "<table border=\"1\" class=\"dataframe\">\n",
       "  <thead>\n",
       "    <tr style=\"text-align: right;\">\n",
       "      <th></th>\n",
       "      <th>state</th>\n",
       "    </tr>\n",
       "  </thead>\n",
       "  <tbody>\n",
       "    <tr>\n",
       "      <th>AZ</th>\n",
       "      <td>25777</td>\n",
       "    </tr>\n",
       "    <tr>\n",
       "      <th>NV</th>\n",
       "      <td>18208</td>\n",
       "    </tr>\n",
       "    <tr>\n",
       "      <th>ON</th>\n",
       "      <td>11548</td>\n",
       "    </tr>\n",
       "    <tr>\n",
       "      <th>NC</th>\n",
       "      <td>6122</td>\n",
       "    </tr>\n",
       "    <tr>\n",
       "      <th>OH</th>\n",
       "      <td>5436</td>\n",
       "    </tr>\n",
       "    <tr>\n",
       "      <th>PA</th>\n",
       "      <td>4298</td>\n",
       "    </tr>\n",
       "    <tr>\n",
       "      <th>QC</th>\n",
       "      <td>3020</td>\n",
       "    </tr>\n",
       "  </tbody>\n",
       "</table>\n",
       "</div>"
      ],
      "text/plain": [
       "    state\n",
       "AZ  25777\n",
       "NV  18208\n",
       "ON  11548\n",
       "NC   6122\n",
       "OH   5436\n",
       "PA   4298\n",
       "QC   3020"
      ]
     },
     "execution_count": 33,
     "metadata": {},
     "output_type": "execute_result"
    }
   ],
   "source": [
    "threshold = 0.1\n",
    "review_by_state = pd.DataFrame(df_bus_select['state'].value_counts())\n",
    "states_select = review_by_state[review_by_state['state'] > threshold*review_by_state.max()['state']]\n",
    "states_select"
   ]
  },
  {
   "cell_type": "code",
   "execution_count": 34,
   "metadata": {},
   "outputs": [
    {
     "name": "stdout",
     "output_type": "stream",
     "text": [
      "<class 'pandas.core.frame.DataFrame'>\n",
      "RangeIndex: 4464626 entries, 0 to 4464625\n",
      "Data columns (total 11 columns):\n",
      " #   Column       Dtype  \n",
      "---  ------       -----  \n",
      " 0   Unnamed: 0   object \n",
      " 1   review_id    object \n",
      " 2   user_id      object \n",
      " 3   business_id  object \n",
      " 4   stars        float64\n",
      " 5   useful       float64\n",
      " 6   funny        float64\n",
      " 7   cool         float64\n",
      " 8   text         object \n",
      " 9   date         object \n",
      " 10  year         float64\n",
      "dtypes: float64(5), object(6)\n",
      "memory usage: 374.7+ MB\n"
     ]
    }
   ],
   "source": [
    "df_reviews_4yrs_open.info()"
   ]
  },
  {
   "cell_type": "code",
   "execution_count": 36,
   "metadata": {},
   "outputs": [],
   "source": [
    "df_rev_bus_raw = df_reviews_4yrs_open.merge(df_bus_select, on = 'business_id', how= 'inner')"
   ]
  },
  {
   "cell_type": "code",
   "execution_count": 37,
   "metadata": {},
   "outputs": [
    {
     "data": {
      "text/plain": [
       "(4135344, 25)"
      ]
     },
     "execution_count": 37,
     "metadata": {},
     "output_type": "execute_result"
    }
   ],
   "source": [
    "df_rev_bus_raw.shape"
   ]
  },
  {
   "cell_type": "code",
   "execution_count": 38,
   "metadata": {},
   "outputs": [],
   "source": [
    "df_rev_bus_raw = df_rev_bus_raw.rename(columns = {'stars_x': 'stars'})"
   ]
  },
  {
   "cell_type": "code",
   "execution_count": 39,
   "metadata": {},
   "outputs": [],
   "source": [
    "df_rev_bus_select = df_rev_bus_raw.loc[df_rev_bus_raw['state'].isin(states_select.index)==True]"
   ]
  },
  {
   "cell_type": "code",
   "execution_count": 40,
   "metadata": {},
   "outputs": [
    {
     "data": {
      "text/plain": [
       "NV    1512272\n",
       "AZ    1335777\n",
       "ON     414192\n",
       "NC     276269\n",
       "OH     186370\n",
       "PA     175134\n",
       "QC      97686\n",
       "Name: state, dtype: int64"
      ]
     },
     "execution_count": 40,
     "metadata": {},
     "output_type": "execute_result"
    }
   ],
   "source": [
    "df_rev_bus_select.state.value_counts()"
   ]
  },
  {
   "cell_type": "code",
   "execution_count": 41,
   "metadata": {},
   "outputs": [],
   "source": [
    "df_food_rev = df_rev_bus_select[df_rev_bus_select['categories'].str.contains('Restaurant')|\n",
    "                 df_rev_bus_select['categories'].str.contains('Coffee & Tea')]"
   ]
  },
  {
   "cell_type": "code",
   "execution_count": 42,
   "metadata": {},
   "outputs": [],
   "source": [
    "df_food = df_food_rev.copy()\n",
    "catlist_clean = df_food['categories'].str.replace(' ', '' ).str.replace(',', ', ')"
   ]
  },
  {
   "cell_type": "code",
   "execution_count": 43,
   "metadata": {},
   "outputs": [],
   "source": [
    "df_food['categories_filtered']= catlist_clean"
   ]
  },
  {
   "cell_type": "code",
   "execution_count": 44,
   "metadata": {},
   "outputs": [
    {
     "name": "stdout",
     "output_type": "stream",
     "text": [
      "<class 'pandas.core.frame.DataFrame'>\n",
      "RangeIndex: 218 entries, 0 to 217\n",
      "Data columns (total 4 columns):\n",
      " #   Column       Non-Null Count  Dtype  \n",
      "---  ------       --------------  -----  \n",
      " 0   Categories   0 non-null      float64\n",
      " 1   Food_types   69 non-null     object \n",
      " 2   Ethnicities  96 non-null     object \n",
      " 3   Venue_type   51 non-null     object \n",
      "dtypes: float64(1), object(3)\n",
      "memory usage: 6.9+ KB\n"
     ]
    }
   ],
   "source": [
    "food_categories = pd.read_csv('/Users/robholmstrom/OneDrive/Gitrepos/nonrepo_files/Yelp_food_categories.csv')\n",
    "food_categories.info()"
   ]
  },
  {
   "cell_type": "code",
   "execution_count": 45,
   "metadata": {},
   "outputs": [],
   "source": [
    "food_types = food_categories['Food_types'].dropna().str.strip().str.replace(' ', '')\n",
    "ethnicities = food_categories['Ethnicities'].dropna().str.strip().str.replace(' ', '')\n",
    "venue_types = food_categories['Venue_type'].dropna().str.strip().str.replace(' ', '')"
   ]
  },
  {
   "cell_type": "code",
   "execution_count": null,
   "metadata": {},
   "outputs": [],
   "source": []
  },
  {
   "cell_type": "code",
   "execution_count": 46,
   "metadata": {},
   "outputs": [
    {
     "name": "stdout",
     "output_type": "stream",
     "text": [
      "2638450\n",
      "2638450\n"
     ]
    }
   ],
   "source": [
    "type_list = []\n",
    "\n",
    "for x in df_food['categories_filtered']:\n",
    "    sublist = []\n",
    "    for i in food_types:\n",
    "        if i in x:\n",
    "            sublist.append(i)\n",
    "    \n",
    "    if len(sublist) == 0:\n",
    "        type_list.append(['Undefined'])\n",
    "    else:\n",
    "        type_list.append(sublist)  \n",
    "\n",
    "print(len(type_list))\n",
    "print(df_food.shape[0])\n"
   ]
  },
  {
   "cell_type": "code",
   "execution_count": 47,
   "metadata": {},
   "outputs": [
    {
     "name": "stdout",
     "output_type": "stream",
     "text": [
      "2638450\n",
      "2638450\n"
     ]
    }
   ],
   "source": [
    "venue_list = []\n",
    "\n",
    "for x in  df_food['categories_filtered']:\n",
    "    sublist = []\n",
    "    for i in venue_types:\n",
    "        if i in x:\n",
    "            sublist.append(i)\n",
    "    \n",
    "    if len(sublist) == 0:\n",
    "        venue_list.append(['Restaurant'])\n",
    "    else:\n",
    "        venue_list.append(sublist)  \n",
    "\n",
    "print(len(venue_list))\n",
    "print(df_food.shape[0])\n"
   ]
  },
  {
   "cell_type": "code",
   "execution_count": 48,
   "metadata": {},
   "outputs": [
    {
     "name": "stdout",
     "output_type": "stream",
     "text": [
      "2638450\n",
      "2638450\n"
     ]
    }
   ],
   "source": [
    "ethnicity_list = []\n",
    "\n",
    "for x in  df_food['categories_filtered']:\n",
    "    sublist = []\n",
    "    for i in ethnicities:\n",
    "        if i in x:\n",
    "            sublist.append(i)\n",
    "    \n",
    "    if len(sublist) == 0:\n",
    "        ethnicity_list.append(['Undefined'])\n",
    "    else:\n",
    "        ethnicity_list.append(sublist)  \n",
    "print(len(ethnicity_list))\n",
    "print(df_food.shape[0])\n"
   ]
  },
  {
   "cell_type": "code",
   "execution_count": 49,
   "metadata": {},
   "outputs": [],
   "source": [
    "df_food['food_type'] = type_list\n",
    "df_food['ethnicity'] = ethnicity_list\n",
    "df_food['venue'] = venue_list\n"
   ]
  },
  {
   "cell_type": "code",
   "execution_count": 50,
   "metadata": {},
   "outputs": [],
   "source": [
    "df_food['food_comb'] = (df_food['food_type']+df_food['ethnicity']+df_food['venue']).apply(lambda x: ', '.join(x))\n",
    "df_food['food_comb'] = df_food['food_comb'].str.replace('Undefined,', '')\n"
   ]
  },
  {
   "cell_type": "code",
   "execution_count": 51,
   "metadata": {},
   "outputs": [],
   "source": [
    "df_food_clean = df_food.drop(columns = ['categories'])\n",
    "df_food_clean['food_type'] = df_food_clean['food_type'].apply(lambda x: ', '.join(x))\n",
    "df_food_clean['venue'] = df_food_clean['venue'].apply(lambda x: ', '.join(x))\n",
    "df_food_clean['ethnicity']= df_food_clean['ethnicity'].apply(lambda x: ', '.join(x))"
   ]
  },
  {
   "cell_type": "code",
   "execution_count": 52,
   "metadata": {},
   "outputs": [
    {
     "data": {
      "text/plain": [
       "False    2638450\n",
       "Name: postal_code, dtype: int64"
      ]
     },
     "execution_count": 52,
     "metadata": {},
     "output_type": "execute_result"
    }
   ],
   "source": [
    "(df_food_clean['postal_code']=='').value_counts()"
   ]
  },
  {
   "cell_type": "code",
   "execution_count": 53,
   "metadata": {},
   "outputs": [],
   "source": [
    "df_food_clean['postal_code'].replace('', np.nan, inplace = True)\n",
    "df_food_clean.dropna(inplace = True)"
   ]
  },
  {
   "cell_type": "code",
   "execution_count": 54,
   "metadata": {},
   "outputs": [],
   "source": [
    "df_food_clean.reset_index(drop=True, inplace= True)\n"
   ]
  },
  {
   "cell_type": "code",
   "execution_count": 55,
   "metadata": {},
   "outputs": [],
   "source": [
    "df_food_clean = df_food_clean.rename(columns = {'stars_x':'stars'})"
   ]
  },
  {
   "cell_type": "code",
   "execution_count": 56,
   "metadata": {},
   "outputs": [
    {
     "data": {
      "text/html": [
       "<div>\n",
       "<style scoped>\n",
       "    .dataframe tbody tr th:only-of-type {\n",
       "        vertical-align: middle;\n",
       "    }\n",
       "\n",
       "    .dataframe tbody tr th {\n",
       "        vertical-align: top;\n",
       "    }\n",
       "\n",
       "    .dataframe thead th {\n",
       "        text-align: right;\n",
       "    }\n",
       "</style>\n",
       "<table border=\"1\" class=\"dataframe\">\n",
       "  <thead>\n",
       "    <tr style=\"text-align: right;\">\n",
       "      <th></th>\n",
       "      <th>Unnamed: 0_x</th>\n",
       "      <th>review_id</th>\n",
       "      <th>user_id</th>\n",
       "      <th>business_id</th>\n",
       "      <th>stars</th>\n",
       "      <th>useful</th>\n",
       "      <th>funny</th>\n",
       "      <th>cool</th>\n",
       "      <th>text</th>\n",
       "      <th>date</th>\n",
       "      <th>...</th>\n",
       "      <th>stars_y</th>\n",
       "      <th>review_count</th>\n",
       "      <th>is_open</th>\n",
       "      <th>attributes</th>\n",
       "      <th>hours</th>\n",
       "      <th>categories_filtered</th>\n",
       "      <th>food_type</th>\n",
       "      <th>ethnicity</th>\n",
       "      <th>venue</th>\n",
       "      <th>food_comb</th>\n",
       "    </tr>\n",
       "  </thead>\n",
       "  <tbody>\n",
       "    <tr>\n",
       "      <th>0</th>\n",
       "      <td>4</td>\n",
       "      <td>6TdNDKywdbjoTkizeMce8A</td>\n",
       "      <td>UgMW8bLE0QMJDCkQ1Ax5Mg</td>\n",
       "      <td>IS4cv902ykd8wj1TR0N3-A</td>\n",
       "      <td>4.0</td>\n",
       "      <td>0.0</td>\n",
       "      <td>0.0</td>\n",
       "      <td>0.0</td>\n",
       "      <td>Oh happy day, finally have a Canes near my cas...</td>\n",
       "      <td>2017-01-14 21:56:57</td>\n",
       "      <td>...</td>\n",
       "      <td>3.5</td>\n",
       "      <td>159</td>\n",
       "      <td>1</td>\n",
       "      <td>{'DriveThru': 'True', 'GoodForMeal': \"{'desser...</td>\n",
       "      <td>{'Monday': '9:0-0:0', 'Tuesday': '9:0-0:0', 'W...</td>\n",
       "      <td>FastFood, Restaurants, Sandwiches, ChickenWings</td>\n",
       "      <td>ChickenWings, FastFood, Sandwiches</td>\n",
       "      <td>Undefined</td>\n",
       "      <td>Restaurant</td>\n",
       "      <td>ChickenWings, FastFood, Sandwiches,  Restaurant</td>\n",
       "    </tr>\n",
       "    <tr>\n",
       "      <th>1</th>\n",
       "      <td>3103</td>\n",
       "      <td>gQuXBrYo8dqY7h_rfDzwLw</td>\n",
       "      <td>46TNf-5T5EcNFRJPYv_nrw</td>\n",
       "      <td>IS4cv902ykd8wj1TR0N3-A</td>\n",
       "      <td>4.0</td>\n",
       "      <td>0.0</td>\n",
       "      <td>0.0</td>\n",
       "      <td>0.0</td>\n",
       "      <td>Love the chicken. It's always hot and fresh ta...</td>\n",
       "      <td>2018-01-09 20:25:20</td>\n",
       "      <td>...</td>\n",
       "      <td>3.5</td>\n",
       "      <td>159</td>\n",
       "      <td>1</td>\n",
       "      <td>{'DriveThru': 'True', 'GoodForMeal': \"{'desser...</td>\n",
       "      <td>{'Monday': '9:0-0:0', 'Tuesday': '9:0-0:0', 'W...</td>\n",
       "      <td>FastFood, Restaurants, Sandwiches, ChickenWings</td>\n",
       "      <td>ChickenWings, FastFood, Sandwiches</td>\n",
       "      <td>Undefined</td>\n",
       "      <td>Restaurant</td>\n",
       "      <td>ChickenWings, FastFood, Sandwiches,  Restaurant</td>\n",
       "    </tr>\n",
       "    <tr>\n",
       "      <th>2</th>\n",
       "      <td>3173</td>\n",
       "      <td>xkq0ekkZ39uSbb29LihkfQ</td>\n",
       "      <td>OTGWjBCELxkZ6lpS2OEtxQ</td>\n",
       "      <td>IS4cv902ykd8wj1TR0N3-A</td>\n",
       "      <td>3.0</td>\n",
       "      <td>0.0</td>\n",
       "      <td>1.0</td>\n",
       "      <td>0.0</td>\n",
       "      <td>Great food right down the street, long line si...</td>\n",
       "      <td>2017-01-28 00:03:26</td>\n",
       "      <td>...</td>\n",
       "      <td>3.5</td>\n",
       "      <td>159</td>\n",
       "      <td>1</td>\n",
       "      <td>{'DriveThru': 'True', 'GoodForMeal': \"{'desser...</td>\n",
       "      <td>{'Monday': '9:0-0:0', 'Tuesday': '9:0-0:0', 'W...</td>\n",
       "      <td>FastFood, Restaurants, Sandwiches, ChickenWings</td>\n",
       "      <td>ChickenWings, FastFood, Sandwiches</td>\n",
       "      <td>Undefined</td>\n",
       "      <td>Restaurant</td>\n",
       "      <td>ChickenWings, FastFood, Sandwiches,  Restaurant</td>\n",
       "    </tr>\n",
       "    <tr>\n",
       "      <th>3</th>\n",
       "      <td>20520</td>\n",
       "      <td>m4AkgxXvb-GHuDK4b9i9sA</td>\n",
       "      <td>YvlcRfeulgtusMFBOQTWzw</td>\n",
       "      <td>IS4cv902ykd8wj1TR0N3-A</td>\n",
       "      <td>1.0</td>\n",
       "      <td>0.0</td>\n",
       "      <td>0.0</td>\n",
       "      <td>1.0</td>\n",
       "      <td>Terrible terrible service I waited 30 minutes ...</td>\n",
       "      <td>2017-01-15 05:55:07</td>\n",
       "      <td>...</td>\n",
       "      <td>3.5</td>\n",
       "      <td>159</td>\n",
       "      <td>1</td>\n",
       "      <td>{'DriveThru': 'True', 'GoodForMeal': \"{'desser...</td>\n",
       "      <td>{'Monday': '9:0-0:0', 'Tuesday': '9:0-0:0', 'W...</td>\n",
       "      <td>FastFood, Restaurants, Sandwiches, ChickenWings</td>\n",
       "      <td>ChickenWings, FastFood, Sandwiches</td>\n",
       "      <td>Undefined</td>\n",
       "      <td>Restaurant</td>\n",
       "      <td>ChickenWings, FastFood, Sandwiches,  Restaurant</td>\n",
       "    </tr>\n",
       "    <tr>\n",
       "      <th>4</th>\n",
       "      <td>22003</td>\n",
       "      <td>OkgQVoHBJ6w-4qL-9lOczA</td>\n",
       "      <td>DBq1YkbIJ4yTXUYJw1V_KA</td>\n",
       "      <td>IS4cv902ykd8wj1TR0N3-A</td>\n",
       "      <td>3.0</td>\n",
       "      <td>0.0</td>\n",
       "      <td>0.0</td>\n",
       "      <td>0.0</td>\n",
       "      <td>I am giving it 3 stars because all the drinks ...</td>\n",
       "      <td>2017-03-15 21:36:27</td>\n",
       "      <td>...</td>\n",
       "      <td>3.5</td>\n",
       "      <td>159</td>\n",
       "      <td>1</td>\n",
       "      <td>{'DriveThru': 'True', 'GoodForMeal': \"{'desser...</td>\n",
       "      <td>{'Monday': '9:0-0:0', 'Tuesday': '9:0-0:0', 'W...</td>\n",
       "      <td>FastFood, Restaurants, Sandwiches, ChickenWings</td>\n",
       "      <td>ChickenWings, FastFood, Sandwiches</td>\n",
       "      <td>Undefined</td>\n",
       "      <td>Restaurant</td>\n",
       "      <td>ChickenWings, FastFood, Sandwiches,  Restaurant</td>\n",
       "    </tr>\n",
       "    <tr>\n",
       "      <th>...</th>\n",
       "      <td>...</td>\n",
       "      <td>...</td>\n",
       "      <td>...</td>\n",
       "      <td>...</td>\n",
       "      <td>...</td>\n",
       "      <td>...</td>\n",
       "      <td>...</td>\n",
       "      <td>...</td>\n",
       "      <td>...</td>\n",
       "      <td>...</td>\n",
       "      <td>...</td>\n",
       "      <td>...</td>\n",
       "      <td>...</td>\n",
       "      <td>...</td>\n",
       "      <td>...</td>\n",
       "      <td>...</td>\n",
       "      <td>...</td>\n",
       "      <td>...</td>\n",
       "      <td>...</td>\n",
       "      <td>...</td>\n",
       "      <td>...</td>\n",
       "    </tr>\n",
       "    <tr>\n",
       "      <th>2569382</th>\n",
       "      <td>7962856</td>\n",
       "      <td>zgdS5ggJ4D6Eers3VyXaQQ</td>\n",
       "      <td>8MYvRl2qr3Ys6URmLSLJDw</td>\n",
       "      <td>KzNG3-kfGCC01USMS2BZvA</td>\n",
       "      <td>4.0</td>\n",
       "      <td>0.0</td>\n",
       "      <td>1.0</td>\n",
       "      <td>0.0</td>\n",
       "      <td>Great wings! Food is good staff is friendly an...</td>\n",
       "      <td>2017-07-02 00:39:31</td>\n",
       "      <td>...</td>\n",
       "      <td>3.5</td>\n",
       "      <td>14</td>\n",
       "      <td>1</td>\n",
       "      <td>{'BusinessAcceptsCreditCards': 'True', 'Caters...</td>\n",
       "      <td>{'Monday': '11:0-22:0', 'Tuesday': '11:0-22:0'...</td>\n",
       "      <td>Restaurants, Pizza</td>\n",
       "      <td>Pizza</td>\n",
       "      <td>Undefined</td>\n",
       "      <td>Restaurant</td>\n",
       "      <td>Pizza,  Restaurant</td>\n",
       "    </tr>\n",
       "    <tr>\n",
       "      <th>2569383</th>\n",
       "      <td>7962857</td>\n",
       "      <td>BoACFPqsa_wLvG61ZYJqTg</td>\n",
       "      <td>RuxZ18eNzPRU2rpVvzYGkA</td>\n",
       "      <td>KzNG3-kfGCC01USMS2BZvA</td>\n",
       "      <td>1.0</td>\n",
       "      <td>2.0</td>\n",
       "      <td>0.0</td>\n",
       "      <td>0.0</td>\n",
       "      <td>Wings were good, delivery drivers with Nazi ta...</td>\n",
       "      <td>2018-08-07 13:41:56</td>\n",
       "      <td>...</td>\n",
       "      <td>3.5</td>\n",
       "      <td>14</td>\n",
       "      <td>1</td>\n",
       "      <td>{'BusinessAcceptsCreditCards': 'True', 'Caters...</td>\n",
       "      <td>{'Monday': '11:0-22:0', 'Tuesday': '11:0-22:0'...</td>\n",
       "      <td>Restaurants, Pizza</td>\n",
       "      <td>Pizza</td>\n",
       "      <td>Undefined</td>\n",
       "      <td>Restaurant</td>\n",
       "      <td>Pizza,  Restaurant</td>\n",
       "    </tr>\n",
       "    <tr>\n",
       "      <th>2569384</th>\n",
       "      <td>7971875</td>\n",
       "      <td>KWV3NOmZgnqmfns-bG1PVA</td>\n",
       "      <td>7K0kU03q2kWGD4I1ZsMznA</td>\n",
       "      <td>KzNG3-kfGCC01USMS2BZvA</td>\n",
       "      <td>5.0</td>\n",
       "      <td>1.0</td>\n",
       "      <td>0.0</td>\n",
       "      <td>0.0</td>\n",
       "      <td>Love the wings from the West Mifflin location....</td>\n",
       "      <td>2016-09-30 00:29:32</td>\n",
       "      <td>...</td>\n",
       "      <td>3.5</td>\n",
       "      <td>14</td>\n",
       "      <td>1</td>\n",
       "      <td>{'BusinessAcceptsCreditCards': 'True', 'Caters...</td>\n",
       "      <td>{'Monday': '11:0-22:0', 'Tuesday': '11:0-22:0'...</td>\n",
       "      <td>Restaurants, Pizza</td>\n",
       "      <td>Pizza</td>\n",
       "      <td>Undefined</td>\n",
       "      <td>Restaurant</td>\n",
       "      <td>Pizza,  Restaurant</td>\n",
       "    </tr>\n",
       "    <tr>\n",
       "      <th>2569385</th>\n",
       "      <td>8011272</td>\n",
       "      <td>MKNsjnas-oh64zx0LhcopQ</td>\n",
       "      <td>HtuReE1QJa2Catuq4Z0z9g</td>\n",
       "      <td>KzNG3-kfGCC01USMS2BZvA</td>\n",
       "      <td>5.0</td>\n",
       "      <td>0.0</td>\n",
       "      <td>1.0</td>\n",
       "      <td>1.0</td>\n",
       "      <td>Best wing sauces in the city, great subs fresh...</td>\n",
       "      <td>2016-07-21 22:47:06</td>\n",
       "      <td>...</td>\n",
       "      <td>3.5</td>\n",
       "      <td>14</td>\n",
       "      <td>1</td>\n",
       "      <td>{'BusinessAcceptsCreditCards': 'True', 'Caters...</td>\n",
       "      <td>{'Monday': '11:0-22:0', 'Tuesday': '11:0-22:0'...</td>\n",
       "      <td>Restaurants, Pizza</td>\n",
       "      <td>Pizza</td>\n",
       "      <td>Undefined</td>\n",
       "      <td>Restaurant</td>\n",
       "      <td>Pizza,  Restaurant</td>\n",
       "    </tr>\n",
       "    <tr>\n",
       "      <th>2569386</th>\n",
       "      <td>8010703</td>\n",
       "      <td>t-JScwv42iOJfQWefWcgSA</td>\n",
       "      <td>kf1R97OMSqcZLqvH1wr5Ew</td>\n",
       "      <td>tVTYtqpJRzfaFyWipLS8Tg</td>\n",
       "      <td>1.0</td>\n",
       "      <td>0.0</td>\n",
       "      <td>0.0</td>\n",
       "      <td>0.0</td>\n",
       "      <td>I asked the waitress if she could put a note t...</td>\n",
       "      <td>2019-08-12 04:33:17</td>\n",
       "      <td>...</td>\n",
       "      <td>3.5</td>\n",
       "      <td>16</td>\n",
       "      <td>1</td>\n",
       "      <td>{'NoiseLevel': \"u'average'\", 'BikeParking': 'T...</td>\n",
       "      <td>{'Monday': '5:30-16:0', 'Tuesday': '5:30-16:0'...</td>\n",
       "      <td>Restaurants, Breakfast&amp;Brunch</td>\n",
       "      <td>Breakfast&amp;Brunch</td>\n",
       "      <td>Undefined</td>\n",
       "      <td>Restaurant</td>\n",
       "      <td>Breakfast&amp;Brunch,  Restaurant</td>\n",
       "    </tr>\n",
       "  </tbody>\n",
       "</table>\n",
       "<p>2569387 rows × 29 columns</p>\n",
       "</div>"
      ],
      "text/plain": [
       "        Unnamed: 0_x               review_id                 user_id  \\\n",
       "0                  4  6TdNDKywdbjoTkizeMce8A  UgMW8bLE0QMJDCkQ1Ax5Mg   \n",
       "1               3103  gQuXBrYo8dqY7h_rfDzwLw  46TNf-5T5EcNFRJPYv_nrw   \n",
       "2               3173  xkq0ekkZ39uSbb29LihkfQ  OTGWjBCELxkZ6lpS2OEtxQ   \n",
       "3              20520  m4AkgxXvb-GHuDK4b9i9sA  YvlcRfeulgtusMFBOQTWzw   \n",
       "4              22003  OkgQVoHBJ6w-4qL-9lOczA  DBq1YkbIJ4yTXUYJw1V_KA   \n",
       "...              ...                     ...                     ...   \n",
       "2569382      7962856  zgdS5ggJ4D6Eers3VyXaQQ  8MYvRl2qr3Ys6URmLSLJDw   \n",
       "2569383      7962857  BoACFPqsa_wLvG61ZYJqTg  RuxZ18eNzPRU2rpVvzYGkA   \n",
       "2569384      7971875  KWV3NOmZgnqmfns-bG1PVA  7K0kU03q2kWGD4I1ZsMznA   \n",
       "2569385      8011272  MKNsjnas-oh64zx0LhcopQ  HtuReE1QJa2Catuq4Z0z9g   \n",
       "2569386      8010703  t-JScwv42iOJfQWefWcgSA  kf1R97OMSqcZLqvH1wr5Ew   \n",
       "\n",
       "                    business_id  stars  useful  funny  cool  \\\n",
       "0        IS4cv902ykd8wj1TR0N3-A    4.0     0.0    0.0   0.0   \n",
       "1        IS4cv902ykd8wj1TR0N3-A    4.0     0.0    0.0   0.0   \n",
       "2        IS4cv902ykd8wj1TR0N3-A    3.0     0.0    1.0   0.0   \n",
       "3        IS4cv902ykd8wj1TR0N3-A    1.0     0.0    0.0   1.0   \n",
       "4        IS4cv902ykd8wj1TR0N3-A    3.0     0.0    0.0   0.0   \n",
       "...                         ...    ...     ...    ...   ...   \n",
       "2569382  KzNG3-kfGCC01USMS2BZvA    4.0     0.0    1.0   0.0   \n",
       "2569383  KzNG3-kfGCC01USMS2BZvA    1.0     2.0    0.0   0.0   \n",
       "2569384  KzNG3-kfGCC01USMS2BZvA    5.0     1.0    0.0   0.0   \n",
       "2569385  KzNG3-kfGCC01USMS2BZvA    5.0     0.0    1.0   1.0   \n",
       "2569386  tVTYtqpJRzfaFyWipLS8Tg    1.0     0.0    0.0   0.0   \n",
       "\n",
       "                                                      text  \\\n",
       "0        Oh happy day, finally have a Canes near my cas...   \n",
       "1        Love the chicken. It's always hot and fresh ta...   \n",
       "2        Great food right down the street, long line si...   \n",
       "3        Terrible terrible service I waited 30 minutes ...   \n",
       "4        I am giving it 3 stars because all the drinks ...   \n",
       "...                                                    ...   \n",
       "2569382  Great wings! Food is good staff is friendly an...   \n",
       "2569383  Wings were good, delivery drivers with Nazi ta...   \n",
       "2569384  Love the wings from the West Mifflin location....   \n",
       "2569385  Best wing sauces in the city, great subs fresh...   \n",
       "2569386  I asked the waitress if she could put a note t...   \n",
       "\n",
       "                        date  ...  stars_y  review_count is_open  \\\n",
       "0        2017-01-14 21:56:57  ...      3.5           159       1   \n",
       "1        2018-01-09 20:25:20  ...      3.5           159       1   \n",
       "2        2017-01-28 00:03:26  ...      3.5           159       1   \n",
       "3        2017-01-15 05:55:07  ...      3.5           159       1   \n",
       "4        2017-03-15 21:36:27  ...      3.5           159       1   \n",
       "...                      ...  ...      ...           ...     ...   \n",
       "2569382  2017-07-02 00:39:31  ...      3.5            14       1   \n",
       "2569383  2018-08-07 13:41:56  ...      3.5            14       1   \n",
       "2569384  2016-09-30 00:29:32  ...      3.5            14       1   \n",
       "2569385  2016-07-21 22:47:06  ...      3.5            14       1   \n",
       "2569386  2019-08-12 04:33:17  ...      3.5            16       1   \n",
       "\n",
       "                                                attributes  \\\n",
       "0        {'DriveThru': 'True', 'GoodForMeal': \"{'desser...   \n",
       "1        {'DriveThru': 'True', 'GoodForMeal': \"{'desser...   \n",
       "2        {'DriveThru': 'True', 'GoodForMeal': \"{'desser...   \n",
       "3        {'DriveThru': 'True', 'GoodForMeal': \"{'desser...   \n",
       "4        {'DriveThru': 'True', 'GoodForMeal': \"{'desser...   \n",
       "...                                                    ...   \n",
       "2569382  {'BusinessAcceptsCreditCards': 'True', 'Caters...   \n",
       "2569383  {'BusinessAcceptsCreditCards': 'True', 'Caters...   \n",
       "2569384  {'BusinessAcceptsCreditCards': 'True', 'Caters...   \n",
       "2569385  {'BusinessAcceptsCreditCards': 'True', 'Caters...   \n",
       "2569386  {'NoiseLevel': \"u'average'\", 'BikeParking': 'T...   \n",
       "\n",
       "                                                     hours  \\\n",
       "0        {'Monday': '9:0-0:0', 'Tuesday': '9:0-0:0', 'W...   \n",
       "1        {'Monday': '9:0-0:0', 'Tuesday': '9:0-0:0', 'W...   \n",
       "2        {'Monday': '9:0-0:0', 'Tuesday': '9:0-0:0', 'W...   \n",
       "3        {'Monday': '9:0-0:0', 'Tuesday': '9:0-0:0', 'W...   \n",
       "4        {'Monday': '9:0-0:0', 'Tuesday': '9:0-0:0', 'W...   \n",
       "...                                                    ...   \n",
       "2569382  {'Monday': '11:0-22:0', 'Tuesday': '11:0-22:0'...   \n",
       "2569383  {'Monday': '11:0-22:0', 'Tuesday': '11:0-22:0'...   \n",
       "2569384  {'Monday': '11:0-22:0', 'Tuesday': '11:0-22:0'...   \n",
       "2569385  {'Monday': '11:0-22:0', 'Tuesday': '11:0-22:0'...   \n",
       "2569386  {'Monday': '5:30-16:0', 'Tuesday': '5:30-16:0'...   \n",
       "\n",
       "                                     categories_filtered  \\\n",
       "0        FastFood, Restaurants, Sandwiches, ChickenWings   \n",
       "1        FastFood, Restaurants, Sandwiches, ChickenWings   \n",
       "2        FastFood, Restaurants, Sandwiches, ChickenWings   \n",
       "3        FastFood, Restaurants, Sandwiches, ChickenWings   \n",
       "4        FastFood, Restaurants, Sandwiches, ChickenWings   \n",
       "...                                                  ...   \n",
       "2569382                               Restaurants, Pizza   \n",
       "2569383                               Restaurants, Pizza   \n",
       "2569384                               Restaurants, Pizza   \n",
       "2569385                               Restaurants, Pizza   \n",
       "2569386                    Restaurants, Breakfast&Brunch   \n",
       "\n",
       "                                  food_type  ethnicity       venue  \\\n",
       "0        ChickenWings, FastFood, Sandwiches  Undefined  Restaurant   \n",
       "1        ChickenWings, FastFood, Sandwiches  Undefined  Restaurant   \n",
       "2        ChickenWings, FastFood, Sandwiches  Undefined  Restaurant   \n",
       "3        ChickenWings, FastFood, Sandwiches  Undefined  Restaurant   \n",
       "4        ChickenWings, FastFood, Sandwiches  Undefined  Restaurant   \n",
       "...                                     ...        ...         ...   \n",
       "2569382                               Pizza  Undefined  Restaurant   \n",
       "2569383                               Pizza  Undefined  Restaurant   \n",
       "2569384                               Pizza  Undefined  Restaurant   \n",
       "2569385                               Pizza  Undefined  Restaurant   \n",
       "2569386                    Breakfast&Brunch  Undefined  Restaurant   \n",
       "\n",
       "                                               food_comb  \n",
       "0        ChickenWings, FastFood, Sandwiches,  Restaurant  \n",
       "1        ChickenWings, FastFood, Sandwiches,  Restaurant  \n",
       "2        ChickenWings, FastFood, Sandwiches,  Restaurant  \n",
       "3        ChickenWings, FastFood, Sandwiches,  Restaurant  \n",
       "4        ChickenWings, FastFood, Sandwiches,  Restaurant  \n",
       "...                                                  ...  \n",
       "2569382                               Pizza,  Restaurant  \n",
       "2569383                               Pizza,  Restaurant  \n",
       "2569384                               Pizza,  Restaurant  \n",
       "2569385                               Pizza,  Restaurant  \n",
       "2569386                    Breakfast&Brunch,  Restaurant  \n",
       "\n",
       "[2569387 rows x 29 columns]"
      ]
     },
     "execution_count": 56,
     "metadata": {},
     "output_type": "execute_result"
    }
   ],
   "source": [
    "df_food_clean"
   ]
  },
  {
   "cell_type": "code",
   "execution_count": 57,
   "metadata": {},
   "outputs": [],
   "source": [
    "df_food_clean.drop(['Unnamed: 0_x'], axis = True, inplace = True)"
   ]
  },
  {
   "cell_type": "code",
   "execution_count": 58,
   "metadata": {},
   "outputs": [],
   "source": [
    "df_food_clean.to_csv('/Users/robholmstrom/OneDrive/Gitrepos/nonrepo_files/capstone4_files/df_food_clean_rev.csv')"
   ]
  },
  {
   "cell_type": "code",
   "execution_count": 59,
   "metadata": {},
   "outputs": [
    {
     "data": {
      "text/plain": [
       "92     7426\n",
       "75     7343\n",
       "50     7328\n",
       "49     7263\n",
       "44     7225\n",
       "       ... \n",
       "500     266\n",
       "602     247\n",
       "609     243\n",
       "777     235\n",
       "652     184\n",
       "Name: review_count, Length: 1222, dtype: int64"
      ]
     },
     "execution_count": 59,
     "metadata": {},
     "output_type": "execute_result"
    }
   ],
   "source": [
    "df_food_clean['review_count'].value_counts()"
   ]
  },
  {
   "cell_type": "code",
   "execution_count": null,
   "metadata": {},
   "outputs": [],
   "source": []
  }
 ],
 "metadata": {
  "kernelspec": {
   "display_name": "Python 3",
   "language": "python",
   "name": "python3"
  },
  "language_info": {
   "codemirror_mode": {
    "name": "ipython",
    "version": 3
   },
   "file_extension": ".py",
   "mimetype": "text/x-python",
   "name": "python",
   "nbconvert_exporter": "python",
   "pygments_lexer": "ipython3",
   "version": "3.7.7"
  }
 },
 "nbformat": 4,
 "nbformat_minor": 4
}
