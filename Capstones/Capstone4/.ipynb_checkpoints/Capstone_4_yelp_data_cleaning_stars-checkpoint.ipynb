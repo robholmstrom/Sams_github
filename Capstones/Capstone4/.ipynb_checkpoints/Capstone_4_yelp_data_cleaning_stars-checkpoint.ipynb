{
 "cells": [
  {
   "cell_type": "code",
   "execution_count": 158,
   "metadata": {},
   "outputs": [],
   "source": [
    "import json\n",
    "from datetime import datetime\n",
    "import plotly.express as px\n",
    "from sklearn.model_selection import train_test_split\n",
    "import sqlite3\n",
    "import nltk\n",
    "import spacy\n",
    "import geopandas as gpd\n",
    "from shapely.geometry import Polygon\n",
    "import numpy as np\n",
    "import umap\n",
    "import pandas as pd\n",
    "import shapefile as shp\n",
    "import matplotlib.pyplot as plt\n",
    "import seaborn as sns\n",
    "from sklearn.cluster import KMeans\n",
    "from sklearn.mixture import GaussianMixture\n",
    "from sklearn.decomposition import PCA\n",
    "from sklearn.feature_extraction.text import CountVectorizer\n",
    "from sklearn.preprocessing import LabelEncoder, MinMaxScaler\n",
    "from sklearn.ensemble import RandomForestClassifier\n",
    "from sklearn.neighbors import KNeighborsClassifier\n",
    "from sklearn.svm import SVC\n",
    "%matplotlib inline"
   ]
  },
  {
   "cell_type": "code",
   "execution_count": 264,
   "metadata": {},
   "outputs": [
    {
     "ename": "KeyboardInterrupt",
     "evalue": "",
     "output_type": "error",
     "traceback": [
      "\u001b[0;31m---------------------------------------------------------------------------\u001b[0m",
      "\u001b[0;31mKeyboardInterrupt\u001b[0m                         Traceback (most recent call last)",
      "\u001b[0;32m<ipython-input-264-003a1c179c25>\u001b[0m in \u001b[0;36m<module>\u001b[0;34m\u001b[0m\n\u001b[0;32m----> 1\u001b[0;31m \u001b[0mdf_reviews_4yrs_open\u001b[0m \u001b[0;34m=\u001b[0m \u001b[0mpd\u001b[0m\u001b[0;34m.\u001b[0m\u001b[0mread_csv\u001b[0m\u001b[0;34m(\u001b[0m\u001b[0;34m'/Users/robholmstrom/OneDrive/Gitrepos/nonrepo_files/capstone4_files/df_reviews_last_4yrs_open.csv'\u001b[0m\u001b[0;34m)\u001b[0m\u001b[0;34m\u001b[0m\u001b[0;34m\u001b[0m\u001b[0m\n\u001b[0m\u001b[1;32m      2\u001b[0m \u001b[0;34m\u001b[0m\u001b[0m\n",
      "\u001b[0;32m~/miniconda3/lib/python3.7/site-packages/pandas/io/parsers.py\u001b[0m in \u001b[0;36mparser_f\u001b[0;34m(filepath_or_buffer, sep, delimiter, header, names, index_col, usecols, squeeze, prefix, mangle_dupe_cols, dtype, engine, converters, true_values, false_values, skipinitialspace, skiprows, skipfooter, nrows, na_values, keep_default_na, na_filter, verbose, skip_blank_lines, parse_dates, infer_datetime_format, keep_date_col, date_parser, dayfirst, cache_dates, iterator, chunksize, compression, thousands, decimal, lineterminator, quotechar, quoting, doublequote, escapechar, comment, encoding, dialect, error_bad_lines, warn_bad_lines, delim_whitespace, low_memory, memory_map, float_precision)\u001b[0m\n\u001b[1;32m    674\u001b[0m         )\n\u001b[1;32m    675\u001b[0m \u001b[0;34m\u001b[0m\u001b[0m\n\u001b[0;32m--> 676\u001b[0;31m         \u001b[0;32mreturn\u001b[0m \u001b[0m_read\u001b[0m\u001b[0;34m(\u001b[0m\u001b[0mfilepath_or_buffer\u001b[0m\u001b[0;34m,\u001b[0m \u001b[0mkwds\u001b[0m\u001b[0;34m)\u001b[0m\u001b[0;34m\u001b[0m\u001b[0;34m\u001b[0m\u001b[0m\n\u001b[0m\u001b[1;32m    677\u001b[0m \u001b[0;34m\u001b[0m\u001b[0m\n\u001b[1;32m    678\u001b[0m     \u001b[0mparser_f\u001b[0m\u001b[0;34m.\u001b[0m\u001b[0m__name__\u001b[0m \u001b[0;34m=\u001b[0m \u001b[0mname\u001b[0m\u001b[0;34m\u001b[0m\u001b[0;34m\u001b[0m\u001b[0m\n",
      "\u001b[0;32m~/miniconda3/lib/python3.7/site-packages/pandas/io/parsers.py\u001b[0m in \u001b[0;36m_read\u001b[0;34m(filepath_or_buffer, kwds)\u001b[0m\n\u001b[1;32m    452\u001b[0m \u001b[0;34m\u001b[0m\u001b[0m\n\u001b[1;32m    453\u001b[0m     \u001b[0;32mtry\u001b[0m\u001b[0;34m:\u001b[0m\u001b[0;34m\u001b[0m\u001b[0;34m\u001b[0m\u001b[0m\n\u001b[0;32m--> 454\u001b[0;31m         \u001b[0mdata\u001b[0m \u001b[0;34m=\u001b[0m \u001b[0mparser\u001b[0m\u001b[0;34m.\u001b[0m\u001b[0mread\u001b[0m\u001b[0;34m(\u001b[0m\u001b[0mnrows\u001b[0m\u001b[0;34m)\u001b[0m\u001b[0;34m\u001b[0m\u001b[0;34m\u001b[0m\u001b[0m\n\u001b[0m\u001b[1;32m    455\u001b[0m     \u001b[0;32mfinally\u001b[0m\u001b[0;34m:\u001b[0m\u001b[0;34m\u001b[0m\u001b[0;34m\u001b[0m\u001b[0m\n\u001b[1;32m    456\u001b[0m         \u001b[0mparser\u001b[0m\u001b[0;34m.\u001b[0m\u001b[0mclose\u001b[0m\u001b[0;34m(\u001b[0m\u001b[0;34m)\u001b[0m\u001b[0;34m\u001b[0m\u001b[0;34m\u001b[0m\u001b[0m\n",
      "\u001b[0;32m~/miniconda3/lib/python3.7/site-packages/pandas/io/parsers.py\u001b[0m in \u001b[0;36mread\u001b[0;34m(self, nrows)\u001b[0m\n\u001b[1;32m   1131\u001b[0m     \u001b[0;32mdef\u001b[0m \u001b[0mread\u001b[0m\u001b[0;34m(\u001b[0m\u001b[0mself\u001b[0m\u001b[0;34m,\u001b[0m \u001b[0mnrows\u001b[0m\u001b[0;34m=\u001b[0m\u001b[0;32mNone\u001b[0m\u001b[0;34m)\u001b[0m\u001b[0;34m:\u001b[0m\u001b[0;34m\u001b[0m\u001b[0;34m\u001b[0m\u001b[0m\n\u001b[1;32m   1132\u001b[0m         \u001b[0mnrows\u001b[0m \u001b[0;34m=\u001b[0m \u001b[0m_validate_integer\u001b[0m\u001b[0;34m(\u001b[0m\u001b[0;34m\"nrows\"\u001b[0m\u001b[0;34m,\u001b[0m \u001b[0mnrows\u001b[0m\u001b[0;34m)\u001b[0m\u001b[0;34m\u001b[0m\u001b[0;34m\u001b[0m\u001b[0m\n\u001b[0;32m-> 1133\u001b[0;31m         \u001b[0mret\u001b[0m \u001b[0;34m=\u001b[0m \u001b[0mself\u001b[0m\u001b[0;34m.\u001b[0m\u001b[0m_engine\u001b[0m\u001b[0;34m.\u001b[0m\u001b[0mread\u001b[0m\u001b[0;34m(\u001b[0m\u001b[0mnrows\u001b[0m\u001b[0;34m)\u001b[0m\u001b[0;34m\u001b[0m\u001b[0;34m\u001b[0m\u001b[0m\n\u001b[0m\u001b[1;32m   1134\u001b[0m \u001b[0;34m\u001b[0m\u001b[0m\n\u001b[1;32m   1135\u001b[0m         \u001b[0;31m# May alter columns / col_dict\u001b[0m\u001b[0;34m\u001b[0m\u001b[0;34m\u001b[0m\u001b[0;34m\u001b[0m\u001b[0m\n",
      "\u001b[0;32m~/miniconda3/lib/python3.7/site-packages/pandas/io/parsers.py\u001b[0m in \u001b[0;36mread\u001b[0;34m(self, nrows)\u001b[0m\n\u001b[1;32m   2035\u001b[0m     \u001b[0;32mdef\u001b[0m \u001b[0mread\u001b[0m\u001b[0;34m(\u001b[0m\u001b[0mself\u001b[0m\u001b[0;34m,\u001b[0m \u001b[0mnrows\u001b[0m\u001b[0;34m=\u001b[0m\u001b[0;32mNone\u001b[0m\u001b[0;34m)\u001b[0m\u001b[0;34m:\u001b[0m\u001b[0;34m\u001b[0m\u001b[0;34m\u001b[0m\u001b[0m\n\u001b[1;32m   2036\u001b[0m         \u001b[0;32mtry\u001b[0m\u001b[0;34m:\u001b[0m\u001b[0;34m\u001b[0m\u001b[0;34m\u001b[0m\u001b[0m\n\u001b[0;32m-> 2037\u001b[0;31m             \u001b[0mdata\u001b[0m \u001b[0;34m=\u001b[0m \u001b[0mself\u001b[0m\u001b[0;34m.\u001b[0m\u001b[0m_reader\u001b[0m\u001b[0;34m.\u001b[0m\u001b[0mread\u001b[0m\u001b[0;34m(\u001b[0m\u001b[0mnrows\u001b[0m\u001b[0;34m)\u001b[0m\u001b[0;34m\u001b[0m\u001b[0;34m\u001b[0m\u001b[0m\n\u001b[0m\u001b[1;32m   2038\u001b[0m         \u001b[0;32mexcept\u001b[0m \u001b[0mStopIteration\u001b[0m\u001b[0;34m:\u001b[0m\u001b[0;34m\u001b[0m\u001b[0;34m\u001b[0m\u001b[0m\n\u001b[1;32m   2039\u001b[0m             \u001b[0;32mif\u001b[0m \u001b[0mself\u001b[0m\u001b[0;34m.\u001b[0m\u001b[0m_first_chunk\u001b[0m\u001b[0;34m:\u001b[0m\u001b[0;34m\u001b[0m\u001b[0;34m\u001b[0m\u001b[0m\n",
      "\u001b[0;32mpandas/_libs/parsers.pyx\u001b[0m in \u001b[0;36mpandas._libs.parsers.TextReader.read\u001b[0;34m()\u001b[0m\n",
      "\u001b[0;32mpandas/_libs/parsers.pyx\u001b[0m in \u001b[0;36mpandas._libs.parsers.TextReader._read_low_memory\u001b[0;34m()\u001b[0m\n",
      "\u001b[0;32mpandas/_libs/parsers.pyx\u001b[0m in \u001b[0;36mpandas._libs.parsers.TextReader._read_rows\u001b[0;34m()\u001b[0m\n",
      "\u001b[0;32mpandas/_libs/parsers.pyx\u001b[0m in \u001b[0;36mpandas._libs.parsers.TextReader._convert_column_data\u001b[0;34m()\u001b[0m\n",
      "\u001b[0;32mpandas/_libs/parsers.pyx\u001b[0m in \u001b[0;36mpandas._libs.parsers.TextReader._convert_tokens\u001b[0;34m()\u001b[0m\n",
      "\u001b[0;32mpandas/_libs/parsers.pyx\u001b[0m in \u001b[0;36mpandas._libs.parsers.TextReader._convert_with_dtype\u001b[0;34m()\u001b[0m\n",
      "\u001b[0;32m~/miniconda3/lib/python3.7/site-packages/pandas/core/dtypes/common.py\u001b[0m in \u001b[0;36mis_categorical_dtype\u001b[0;34m(arr_or_dtype)\u001b[0m\n\u001b[1;32m    540\u001b[0m \u001b[0;34m\u001b[0m\u001b[0m\n\u001b[1;32m    541\u001b[0m \u001b[0;34m\u001b[0m\u001b[0m\n\u001b[0;32m--> 542\u001b[0;31m \u001b[0;32mdef\u001b[0m \u001b[0mis_categorical_dtype\u001b[0m\u001b[0;34m(\u001b[0m\u001b[0marr_or_dtype\u001b[0m\u001b[0;34m)\u001b[0m \u001b[0;34m->\u001b[0m \u001b[0mbool\u001b[0m\u001b[0;34m:\u001b[0m\u001b[0;34m\u001b[0m\u001b[0;34m\u001b[0m\u001b[0m\n\u001b[0m\u001b[1;32m    543\u001b[0m     \"\"\"\n\u001b[1;32m    544\u001b[0m     \u001b[0mCheck\u001b[0m \u001b[0mwhether\u001b[0m \u001b[0man\u001b[0m \u001b[0marray\u001b[0m\u001b[0;34m-\u001b[0m\u001b[0mlike\u001b[0m \u001b[0;32mor\u001b[0m \u001b[0mdtype\u001b[0m \u001b[0;32mis\u001b[0m \u001b[0mof\u001b[0m \u001b[0mthe\u001b[0m \u001b[0mCategorical\u001b[0m \u001b[0mdtype\u001b[0m\u001b[0;34m.\u001b[0m\u001b[0;34m\u001b[0m\u001b[0;34m\u001b[0m\u001b[0m\n",
      "\u001b[0;31mKeyboardInterrupt\u001b[0m: "
     ]
    }
   ],
   "source": [
    "df_reviews_4yrs_open = pd.read_csv('/Users/robholmstrom/OneDrive/Gitrepos/nonrepo_files/capstone4_files/df_reviews_last_4yrs_open.csv')\n",
    "\n"
   ]
  },
  {
   "cell_type": "code",
   "execution_count": 159,
   "metadata": {},
   "outputs": [],
   "source": [
    "df_business_last_4yrs = pd.read_csv('/Users/robholmstrom/OneDrive/Gitrepos/nonrepo_files/capstone4_files/df_business_last_4yrs_open.csv')\n"
   ]
  },
  {
   "cell_type": "code",
   "execution_count": 308,
   "metadata": {},
   "outputs": [
    {
     "data": {
      "text/plain": [
       "3       25906\n",
       "4       14132\n",
       "5       10986\n",
       "6        8852\n",
       "7        7430\n",
       "        ...  \n",
       "1445        1\n",
       "2648        1\n",
       "3414        1\n",
       "2855        1\n",
       "1791        1\n",
       "Name: review_count, Length: 1292, dtype: int64"
      ]
     },
     "execution_count": 308,
     "metadata": {},
     "output_type": "execute_result"
    }
   ],
   "source": [
    "df_business_last_4yrs['review_count'].value_counts()"
   ]
  },
  {
   "cell_type": "code",
   "execution_count": 310,
   "metadata": {},
   "outputs": [],
   "source": [
    "df_bus_select =  df_business_last_4yrs[df_business_last_4yrs['review_count']>100]"
   ]
  },
  {
   "cell_type": "code",
   "execution_count": 311,
   "metadata": {},
   "outputs": [
    {
     "data": {
      "text/plain": [
       "105     144\n",
       "107     144\n",
       "113     137\n",
       "102     133\n",
       "103     129\n",
       "       ... \n",
       "1827      1\n",
       "1803      1\n",
       "1747      1\n",
       "1675      1\n",
       "4138      1\n",
       "Name: review_count, Length: 1194, dtype: int64"
      ]
     },
     "execution_count": 311,
     "metadata": {},
     "output_type": "execute_result"
    }
   ],
   "source": [
    "df_bus_select['review_count'].value_counts()"
   ]
  },
  {
   "cell_type": "code",
   "execution_count": 280,
   "metadata": {},
   "outputs": [
    {
     "data": {
      "text/html": [
       "<div>\n",
       "<style scoped>\n",
       "    .dataframe tbody tr th:only-of-type {\n",
       "        vertical-align: middle;\n",
       "    }\n",
       "\n",
       "    .dataframe tbody tr th {\n",
       "        vertical-align: top;\n",
       "    }\n",
       "\n",
       "    .dataframe thead th {\n",
       "        text-align: right;\n",
       "    }\n",
       "</style>\n",
       "<table border=\"1\" class=\"dataframe\">\n",
       "  <thead>\n",
       "    <tr style=\"text-align: right;\">\n",
       "      <th></th>\n",
       "      <th>state</th>\n",
       "    </tr>\n",
       "  </thead>\n",
       "  <tbody>\n",
       "    <tr>\n",
       "      <th>AZ</th>\n",
       "      <td>4664</td>\n",
       "    </tr>\n",
       "    <tr>\n",
       "      <th>NV</th>\n",
       "      <td>4459</td>\n",
       "    </tr>\n",
       "    <tr>\n",
       "      <th>ON</th>\n",
       "      <td>1508</td>\n",
       "    </tr>\n",
       "    <tr>\n",
       "      <th>NC</th>\n",
       "      <td>966</td>\n",
       "    </tr>\n",
       "  </tbody>\n",
       "</table>\n",
       "</div>"
      ],
      "text/plain": [
       "    state\n",
       "AZ   4664\n",
       "NV   4459\n",
       "ON   1508\n",
       "NC    966"
      ]
     },
     "execution_count": 280,
     "metadata": {},
     "output_type": "execute_result"
    }
   ],
   "source": [
    "threshold = 0.2\n",
    "review_by_state = pd.DataFrame(df_bus_select['state'].value_counts())\n",
    "states_select = review_by_state[review_by_state['state'] > threshold*review_by_state.max()['state']]\n",
    "states_select"
   ]
  },
  {
   "cell_type": "code",
   "execution_count": 281,
   "metadata": {},
   "outputs": [
    {
     "name": "stdout",
     "output_type": "stream",
     "text": [
      "<class 'pandas.core.frame.DataFrame'>\n",
      "RangeIndex: 4464626 entries, 0 to 4464625\n",
      "Data columns (total 11 columns):\n",
      " #   Column       Dtype  \n",
      "---  ------       -----  \n",
      " 0   Unnamed: 0   object \n",
      " 1   review_id    object \n",
      " 2   user_id      object \n",
      " 3   business_id  object \n",
      " 4   stars        float64\n",
      " 5   useful       float64\n",
      " 6   funny        float64\n",
      " 7   cool         float64\n",
      " 8   text         object \n",
      " 9   date         object \n",
      " 10  year         float64\n",
      "dtypes: float64(5), object(6)\n",
      "memory usage: 374.7+ MB\n"
     ]
    }
   ],
   "source": [
    "df_reviews_4yrs_open.info()"
   ]
  },
  {
   "cell_type": "code",
   "execution_count": 283,
   "metadata": {},
   "outputs": [],
   "source": [
    "df_rev_bus_raw = df_reviews_4yrs.merge(df_bus_select, on = 'business_id', how= 'inner')"
   ]
  },
  {
   "cell_type": "code",
   "execution_count": 293,
   "metadata": {},
   "outputs": [
    {
     "data": {
      "text/plain": [
       "(2617026, 25)"
      ]
     },
     "execution_count": 293,
     "metadata": {},
     "output_type": "execute_result"
    }
   ],
   "source": [
    "df_rev_bus_raw.shape"
   ]
  },
  {
   "cell_type": "code",
   "execution_count": 284,
   "metadata": {},
   "outputs": [],
   "source": [
    "df_rev_bus_raw = df_rev_bus_raw.rename(columns = {'stars_x': 'stars'})"
   ]
  },
  {
   "cell_type": "code",
   "execution_count": 285,
   "metadata": {},
   "outputs": [],
   "source": [
    "df_rev_bus_select = df_rev_bus_raw.loc[df_rev_bus_raw['state'].isin(states_select.index)==True]"
   ]
  },
  {
   "cell_type": "code",
   "execution_count": 286,
   "metadata": {},
   "outputs": [
    {
     "data": {
      "text/plain": [
       "NV    1146452\n",
       "AZ     837743\n",
       "ON     200238\n",
       "NC     156578\n",
       "Name: state, dtype: int64"
      ]
     },
     "execution_count": 286,
     "metadata": {},
     "output_type": "execute_result"
    }
   ],
   "source": [
    "df_rev_bus_select.state.value_counts()"
   ]
  },
  {
   "cell_type": "code",
   "execution_count": 287,
   "metadata": {},
   "outputs": [],
   "source": [
    "df_food_rev = df_rev_bus_select[df_rev_bus_select['categories'].str.contains('Restaurant')|\n",
    "                 df_rev_bus_select['categories'].str.contains('Coffee & Tea')]"
   ]
  },
  {
   "cell_type": "code",
   "execution_count": 288,
   "metadata": {},
   "outputs": [],
   "source": [
    "df_food = df_food_rev.copy()\n",
    "catlist_clean = df_food['categories'].str.replace(' ', '' ).str.replace(',', ', ')"
   ]
  },
  {
   "cell_type": "code",
   "execution_count": 289,
   "metadata": {},
   "outputs": [],
   "source": [
    "df_food['categories_filtered']= catlist_clean"
   ]
  },
  {
   "cell_type": "code",
   "execution_count": 290,
   "metadata": {},
   "outputs": [
    {
     "name": "stdout",
     "output_type": "stream",
     "text": [
      "<class 'pandas.core.frame.DataFrame'>\n",
      "RangeIndex: 218 entries, 0 to 217\n",
      "Data columns (total 4 columns):\n",
      " #   Column       Non-Null Count  Dtype  \n",
      "---  ------       --------------  -----  \n",
      " 0   Categories   0 non-null      float64\n",
      " 1   Food_types   69 non-null     object \n",
      " 2   Ethnicities  96 non-null     object \n",
      " 3   Venue_type   51 non-null     object \n",
      "dtypes: float64(1), object(3)\n",
      "memory usage: 6.9+ KB\n"
     ]
    }
   ],
   "source": [
    "food_categories = pd.read_csv('/Users/robholmstrom/OneDrive/Gitrepos/nonrepo_files/Yelp_food_categories.csv')\n",
    "food_categories.info()"
   ]
  },
  {
   "cell_type": "code",
   "execution_count": 291,
   "metadata": {},
   "outputs": [],
   "source": [
    "food_types = food_categories['Food_types'].dropna().str.strip().str.replace(' ', '')\n",
    "ethnicities = food_categories['Ethnicities'].dropna().str.strip().str.replace(' ', '')\n",
    "venue_types = food_categories['Venue_type'].dropna().str.strip().str.replace(' ', '')"
   ]
  },
  {
   "cell_type": "code",
   "execution_count": null,
   "metadata": {},
   "outputs": [],
   "source": []
  },
  {
   "cell_type": "code",
   "execution_count": 292,
   "metadata": {},
   "outputs": [
    {
     "name": "stdout",
     "output_type": "stream",
     "text": [
      "1833249\n",
      "1833249\n"
     ]
    }
   ],
   "source": [
    "type_list = []\n",
    "\n",
    "for x in df_food['categories_filtered']:\n",
    "    sublist = []\n",
    "    for i in food_types:\n",
    "        if i in x:\n",
    "            sublist.append(i)\n",
    "    \n",
    "    if len(sublist) == 0:\n",
    "        type_list.append(['Undefined'])\n",
    "    else:\n",
    "        type_list.append(sublist)  \n",
    "\n",
    "print(len(type_list))\n",
    "print(df_food.shape[0])\n"
   ]
  },
  {
   "cell_type": "code",
   "execution_count": 294,
   "metadata": {},
   "outputs": [
    {
     "name": "stdout",
     "output_type": "stream",
     "text": [
      "1833249\n",
      "1833249\n"
     ]
    }
   ],
   "source": [
    "venue_list = []\n",
    "\n",
    "for x in  df_food['categories_filtered']:\n",
    "    sublist = []\n",
    "    for i in venue_types:\n",
    "        if i in x:\n",
    "            sublist.append(i)\n",
    "    \n",
    "    if len(sublist) == 0:\n",
    "        venue_list.append(['Restaurant'])\n",
    "    else:\n",
    "        venue_list.append(sublist)  \n",
    "\n",
    "print(len(venue_list))\n",
    "print(df_food.shape[0])\n"
   ]
  },
  {
   "cell_type": "code",
   "execution_count": 295,
   "metadata": {},
   "outputs": [
    {
     "name": "stdout",
     "output_type": "stream",
     "text": [
      "1833249\n",
      "1833249\n"
     ]
    }
   ],
   "source": [
    "ethnicity_list = []\n",
    "\n",
    "for x in  df_food['categories_filtered']:\n",
    "    sublist = []\n",
    "    for i in ethnicities:\n",
    "        if i in x:\n",
    "            sublist.append(i)\n",
    "    \n",
    "    if len(sublist) == 0:\n",
    "        ethnicity_list.append(['Undefined'])\n",
    "    else:\n",
    "        ethnicity_list.append(sublist)  \n",
    "print(len(ethnicity_list))\n",
    "print(df_food.shape[0])\n"
   ]
  },
  {
   "cell_type": "code",
   "execution_count": 296,
   "metadata": {},
   "outputs": [],
   "source": [
    "df_food['food_type'] = type_list\n",
    "df_food['ethnicity'] = ethnicity_list\n",
    "df_food['venue'] = venue_list\n"
   ]
  },
  {
   "cell_type": "code",
   "execution_count": 297,
   "metadata": {},
   "outputs": [],
   "source": [
    "df_food['food_comb'] = (df_food['food_type']+df_food['ethnicity']+df_food['venue']).apply(lambda x: ', '.join(x))\n",
    "df_food['food_comb'] = df_food['food_comb'].str.replace('Undefined,', '')\n"
   ]
  },
  {
   "cell_type": "code",
   "execution_count": 298,
   "metadata": {},
   "outputs": [],
   "source": [
    "df_food_clean = df_food.drop(columns = ['categories'])\n",
    "df_food_clean['food_type'] = df_food_clean['food_type'].apply(lambda x: ', '.join(x))\n",
    "df_food_clean['venue'] = df_food_clean['venue'].apply(lambda x: ', '.join(x))\n",
    "df_food_clean['ethnicity']= df_food_clean['ethnicity'].apply(lambda x: ', '.join(x))"
   ]
  },
  {
   "cell_type": "code",
   "execution_count": 299,
   "metadata": {},
   "outputs": [
    {
     "data": {
      "text/plain": [
       "False    1833249\n",
       "Name: postal_code, dtype: int64"
      ]
     },
     "execution_count": 299,
     "metadata": {},
     "output_type": "execute_result"
    }
   ],
   "source": [
    "(df_food_clean['postal_code']=='').value_counts()"
   ]
  },
  {
   "cell_type": "code",
   "execution_count": 300,
   "metadata": {},
   "outputs": [],
   "source": [
    "df_food_clean['postal_code'].replace('', np.nan, inplace = True)\n",
    "df_food_clean.dropna(inplace = True)"
   ]
  },
  {
   "cell_type": "code",
   "execution_count": 301,
   "metadata": {},
   "outputs": [],
   "source": [
    "df_food_clean.reset_index(drop=True, inplace= True)\n"
   ]
  },
  {
   "cell_type": "code",
   "execution_count": 302,
   "metadata": {},
   "outputs": [],
   "source": [
    "df_food_clean = df_food_clean.rename(columns = {'stars_x':'stars'})"
   ]
  },
  {
   "cell_type": "code",
   "execution_count": 303,
   "metadata": {},
   "outputs": [
    {
     "data": {
      "text/html": [
       "<div>\n",
       "<style scoped>\n",
       "    .dataframe tbody tr th:only-of-type {\n",
       "        vertical-align: middle;\n",
       "    }\n",
       "\n",
       "    .dataframe tbody tr th {\n",
       "        vertical-align: top;\n",
       "    }\n",
       "\n",
       "    .dataframe thead th {\n",
       "        text-align: right;\n",
       "    }\n",
       "</style>\n",
       "<table border=\"1\" class=\"dataframe\">\n",
       "  <thead>\n",
       "    <tr style=\"text-align: right;\">\n",
       "      <th></th>\n",
       "      <th>Unnamed: 0_x</th>\n",
       "      <th>review_id</th>\n",
       "      <th>user_id</th>\n",
       "      <th>business_id</th>\n",
       "      <th>stars</th>\n",
       "      <th>useful</th>\n",
       "      <th>funny</th>\n",
       "      <th>cool</th>\n",
       "      <th>text</th>\n",
       "      <th>date</th>\n",
       "      <th>...</th>\n",
       "      <th>stars_y</th>\n",
       "      <th>review_count</th>\n",
       "      <th>is_open</th>\n",
       "      <th>attributes</th>\n",
       "      <th>hours</th>\n",
       "      <th>categories_filtered</th>\n",
       "      <th>food_type</th>\n",
       "      <th>ethnicity</th>\n",
       "      <th>venue</th>\n",
       "      <th>food_comb</th>\n",
       "    </tr>\n",
       "  </thead>\n",
       "  <tbody>\n",
       "    <tr>\n",
       "      <th>0</th>\n",
       "      <td>4</td>\n",
       "      <td>6TdNDKywdbjoTkizeMce8A</td>\n",
       "      <td>UgMW8bLE0QMJDCkQ1Ax5Mg</td>\n",
       "      <td>IS4cv902ykd8wj1TR0N3-A</td>\n",
       "      <td>4.0</td>\n",
       "      <td>0.0</td>\n",
       "      <td>0.0</td>\n",
       "      <td>0.0</td>\n",
       "      <td>Oh happy day, finally have a Canes near my cas...</td>\n",
       "      <td>2017-01-14 21:56:57</td>\n",
       "      <td>...</td>\n",
       "      <td>3.5</td>\n",
       "      <td>159</td>\n",
       "      <td>1</td>\n",
       "      <td>{'DriveThru': 'True', 'GoodForMeal': \"{'desser...</td>\n",
       "      <td>{'Monday': '9:0-0:0', 'Tuesday': '9:0-0:0', 'W...</td>\n",
       "      <td>FastFood, Restaurants, Sandwiches, ChickenWings</td>\n",
       "      <td>ChickenWings, FastFood, Sandwiches</td>\n",
       "      <td>Undefined</td>\n",
       "      <td>Restaurant</td>\n",
       "      <td>ChickenWings, FastFood, Sandwiches,  Restaurant</td>\n",
       "    </tr>\n",
       "    <tr>\n",
       "      <th>1</th>\n",
       "      <td>3103</td>\n",
       "      <td>gQuXBrYo8dqY7h_rfDzwLw</td>\n",
       "      <td>46TNf-5T5EcNFRJPYv_nrw</td>\n",
       "      <td>IS4cv902ykd8wj1TR0N3-A</td>\n",
       "      <td>4.0</td>\n",
       "      <td>0.0</td>\n",
       "      <td>0.0</td>\n",
       "      <td>0.0</td>\n",
       "      <td>Love the chicken. It's always hot and fresh ta...</td>\n",
       "      <td>2018-01-09 20:25:20</td>\n",
       "      <td>...</td>\n",
       "      <td>3.5</td>\n",
       "      <td>159</td>\n",
       "      <td>1</td>\n",
       "      <td>{'DriveThru': 'True', 'GoodForMeal': \"{'desser...</td>\n",
       "      <td>{'Monday': '9:0-0:0', 'Tuesday': '9:0-0:0', 'W...</td>\n",
       "      <td>FastFood, Restaurants, Sandwiches, ChickenWings</td>\n",
       "      <td>ChickenWings, FastFood, Sandwiches</td>\n",
       "      <td>Undefined</td>\n",
       "      <td>Restaurant</td>\n",
       "      <td>ChickenWings, FastFood, Sandwiches,  Restaurant</td>\n",
       "    </tr>\n",
       "    <tr>\n",
       "      <th>2</th>\n",
       "      <td>3173</td>\n",
       "      <td>xkq0ekkZ39uSbb29LihkfQ</td>\n",
       "      <td>OTGWjBCELxkZ6lpS2OEtxQ</td>\n",
       "      <td>IS4cv902ykd8wj1TR0N3-A</td>\n",
       "      <td>3.0</td>\n",
       "      <td>0.0</td>\n",
       "      <td>1.0</td>\n",
       "      <td>0.0</td>\n",
       "      <td>Great food right down the street, long line si...</td>\n",
       "      <td>2017-01-28 00:03:26</td>\n",
       "      <td>...</td>\n",
       "      <td>3.5</td>\n",
       "      <td>159</td>\n",
       "      <td>1</td>\n",
       "      <td>{'DriveThru': 'True', 'GoodForMeal': \"{'desser...</td>\n",
       "      <td>{'Monday': '9:0-0:0', 'Tuesday': '9:0-0:0', 'W...</td>\n",
       "      <td>FastFood, Restaurants, Sandwiches, ChickenWings</td>\n",
       "      <td>ChickenWings, FastFood, Sandwiches</td>\n",
       "      <td>Undefined</td>\n",
       "      <td>Restaurant</td>\n",
       "      <td>ChickenWings, FastFood, Sandwiches,  Restaurant</td>\n",
       "    </tr>\n",
       "    <tr>\n",
       "      <th>3</th>\n",
       "      <td>20520</td>\n",
       "      <td>m4AkgxXvb-GHuDK4b9i9sA</td>\n",
       "      <td>YvlcRfeulgtusMFBOQTWzw</td>\n",
       "      <td>IS4cv902ykd8wj1TR0N3-A</td>\n",
       "      <td>1.0</td>\n",
       "      <td>0.0</td>\n",
       "      <td>0.0</td>\n",
       "      <td>1.0</td>\n",
       "      <td>Terrible terrible service I waited 30 minutes ...</td>\n",
       "      <td>2017-01-15 05:55:07</td>\n",
       "      <td>...</td>\n",
       "      <td>3.5</td>\n",
       "      <td>159</td>\n",
       "      <td>1</td>\n",
       "      <td>{'DriveThru': 'True', 'GoodForMeal': \"{'desser...</td>\n",
       "      <td>{'Monday': '9:0-0:0', 'Tuesday': '9:0-0:0', 'W...</td>\n",
       "      <td>FastFood, Restaurants, Sandwiches, ChickenWings</td>\n",
       "      <td>ChickenWings, FastFood, Sandwiches</td>\n",
       "      <td>Undefined</td>\n",
       "      <td>Restaurant</td>\n",
       "      <td>ChickenWings, FastFood, Sandwiches,  Restaurant</td>\n",
       "    </tr>\n",
       "    <tr>\n",
       "      <th>4</th>\n",
       "      <td>22003</td>\n",
       "      <td>OkgQVoHBJ6w-4qL-9lOczA</td>\n",
       "      <td>DBq1YkbIJ4yTXUYJw1V_KA</td>\n",
       "      <td>IS4cv902ykd8wj1TR0N3-A</td>\n",
       "      <td>3.0</td>\n",
       "      <td>0.0</td>\n",
       "      <td>0.0</td>\n",
       "      <td>0.0</td>\n",
       "      <td>I am giving it 3 stars because all the drinks ...</td>\n",
       "      <td>2017-03-15 21:36:27</td>\n",
       "      <td>...</td>\n",
       "      <td>3.5</td>\n",
       "      <td>159</td>\n",
       "      <td>1</td>\n",
       "      <td>{'DriveThru': 'True', 'GoodForMeal': \"{'desser...</td>\n",
       "      <td>{'Monday': '9:0-0:0', 'Tuesday': '9:0-0:0', 'W...</td>\n",
       "      <td>FastFood, Restaurants, Sandwiches, ChickenWings</td>\n",
       "      <td>ChickenWings, FastFood, Sandwiches</td>\n",
       "      <td>Undefined</td>\n",
       "      <td>Restaurant</td>\n",
       "      <td>ChickenWings, FastFood, Sandwiches,  Restaurant</td>\n",
       "    </tr>\n",
       "    <tr>\n",
       "      <th>...</th>\n",
       "      <td>...</td>\n",
       "      <td>...</td>\n",
       "      <td>...</td>\n",
       "      <td>...</td>\n",
       "      <td>...</td>\n",
       "      <td>...</td>\n",
       "      <td>...</td>\n",
       "      <td>...</td>\n",
       "      <td>...</td>\n",
       "      <td>...</td>\n",
       "      <td>...</td>\n",
       "      <td>...</td>\n",
       "      <td>...</td>\n",
       "      <td>...</td>\n",
       "      <td>...</td>\n",
       "      <td>...</td>\n",
       "      <td>...</td>\n",
       "      <td>...</td>\n",
       "      <td>...</td>\n",
       "      <td>...</td>\n",
       "      <td>...</td>\n",
       "    </tr>\n",
       "    <tr>\n",
       "      <th>1814878</th>\n",
       "      <td>8009356</td>\n",
       "      <td>Zg3NGfTXJcmi_ZFnugrXdQ</td>\n",
       "      <td>hD9Hr15XgM_NTAsT7aboHg</td>\n",
       "      <td>ZrHFTAckri4Iv9z55NDD_w</td>\n",
       "      <td>5.0</td>\n",
       "      <td>0.0</td>\n",
       "      <td>0.0</td>\n",
       "      <td>0.0</td>\n",
       "      <td>This place reminds my husband and me about a r...</td>\n",
       "      <td>2019-07-01 02:04:11</td>\n",
       "      <td>...</td>\n",
       "      <td>4.0</td>\n",
       "      <td>125</td>\n",
       "      <td>1</td>\n",
       "      <td>{'GoodForMeal': \"{'dessert': False, 'latenight...</td>\n",
       "      <td>{'Monday': '0:0-0:0', 'Tuesday': '11:0-22:0', ...</td>\n",
       "      <td>Japanese, JapaneseCurry, Ramen, Restaurants</td>\n",
       "      <td>JapaneseCurry, Ramen</td>\n",
       "      <td>Japanese</td>\n",
       "      <td>Restaurant</td>\n",
       "      <td>JapaneseCurry, Ramen, Japanese, Restaurant</td>\n",
       "    </tr>\n",
       "    <tr>\n",
       "      <th>1814879</th>\n",
       "      <td>8016256</td>\n",
       "      <td>b1u-gqS9z_QD1AInjnGmzA</td>\n",
       "      <td>PnaEwJPxwuYVIO269NZE0A</td>\n",
       "      <td>ZrHFTAckri4Iv9z55NDD_w</td>\n",
       "      <td>5.0</td>\n",
       "      <td>0.0</td>\n",
       "      <td>0.0</td>\n",
       "      <td>1.0</td>\n",
       "      <td>Who doesn't love curry!? I really enjoyed my e...</td>\n",
       "      <td>2019-10-15 22:18:00</td>\n",
       "      <td>...</td>\n",
       "      <td>4.0</td>\n",
       "      <td>125</td>\n",
       "      <td>1</td>\n",
       "      <td>{'GoodForMeal': \"{'dessert': False, 'latenight...</td>\n",
       "      <td>{'Monday': '0:0-0:0', 'Tuesday': '11:0-22:0', ...</td>\n",
       "      <td>Japanese, JapaneseCurry, Ramen, Restaurants</td>\n",
       "      <td>JapaneseCurry, Ramen</td>\n",
       "      <td>Japanese</td>\n",
       "      <td>Restaurant</td>\n",
       "      <td>JapaneseCurry, Ramen, Japanese, Restaurant</td>\n",
       "    </tr>\n",
       "    <tr>\n",
       "      <th>1814880</th>\n",
       "      <td>8017474</td>\n",
       "      <td>WyyMWmG_huNZ0g4TQtqy4A</td>\n",
       "      <td>TsUP8OWLOJu8C4gGmrnctQ</td>\n",
       "      <td>ZrHFTAckri4Iv9z55NDD_w</td>\n",
       "      <td>4.0</td>\n",
       "      <td>0.0</td>\n",
       "      <td>0.0</td>\n",
       "      <td>0.0</td>\n",
       "      <td>I came in because I was craving takoyaki and t...</td>\n",
       "      <td>2019-11-23 05:37:35</td>\n",
       "      <td>...</td>\n",
       "      <td>4.0</td>\n",
       "      <td>125</td>\n",
       "      <td>1</td>\n",
       "      <td>{'GoodForMeal': \"{'dessert': False, 'latenight...</td>\n",
       "      <td>{'Monday': '0:0-0:0', 'Tuesday': '11:0-22:0', ...</td>\n",
       "      <td>Japanese, JapaneseCurry, Ramen, Restaurants</td>\n",
       "      <td>JapaneseCurry, Ramen</td>\n",
       "      <td>Japanese</td>\n",
       "      <td>Restaurant</td>\n",
       "      <td>JapaneseCurry, Ramen, Japanese, Restaurant</td>\n",
       "    </tr>\n",
       "    <tr>\n",
       "      <th>1814881</th>\n",
       "      <td>8017497</td>\n",
       "      <td>ykj8iOY27SWS10dK5yeYkw</td>\n",
       "      <td>SS3sFA9ksCT9bjocM3Wbug</td>\n",
       "      <td>ZrHFTAckri4Iv9z55NDD_w</td>\n",
       "      <td>1.0</td>\n",
       "      <td>1.0</td>\n",
       "      <td>1.0</td>\n",
       "      <td>0.0</td>\n",
       "      <td>Just found out they won't substitute the chick...</td>\n",
       "      <td>2019-11-26 04:59:11</td>\n",
       "      <td>...</td>\n",
       "      <td>4.0</td>\n",
       "      <td>125</td>\n",
       "      <td>1</td>\n",
       "      <td>{'GoodForMeal': \"{'dessert': False, 'latenight...</td>\n",
       "      <td>{'Monday': '0:0-0:0', 'Tuesday': '11:0-22:0', ...</td>\n",
       "      <td>Japanese, JapaneseCurry, Ramen, Restaurants</td>\n",
       "      <td>JapaneseCurry, Ramen</td>\n",
       "      <td>Japanese</td>\n",
       "      <td>Restaurant</td>\n",
       "      <td>JapaneseCurry, Ramen, Japanese, Restaurant</td>\n",
       "    </tr>\n",
       "    <tr>\n",
       "      <th>1814882</th>\n",
       "      <td>8017972</td>\n",
       "      <td>e6-4rP5wq070hbtqAPML_Q</td>\n",
       "      <td>DINx5Uz4MtHYUGgf8BZmdg</td>\n",
       "      <td>ZrHFTAckri4Iv9z55NDD_w</td>\n",
       "      <td>5.0</td>\n",
       "      <td>1.0</td>\n",
       "      <td>0.0</td>\n",
       "      <td>1.0</td>\n",
       "      <td>This place is so cute! I went here with friend...</td>\n",
       "      <td>2019-10-15 04:02:55</td>\n",
       "      <td>...</td>\n",
       "      <td>4.0</td>\n",
       "      <td>125</td>\n",
       "      <td>1</td>\n",
       "      <td>{'GoodForMeal': \"{'dessert': False, 'latenight...</td>\n",
       "      <td>{'Monday': '0:0-0:0', 'Tuesday': '11:0-22:0', ...</td>\n",
       "      <td>Japanese, JapaneseCurry, Ramen, Restaurants</td>\n",
       "      <td>JapaneseCurry, Ramen</td>\n",
       "      <td>Japanese</td>\n",
       "      <td>Restaurant</td>\n",
       "      <td>JapaneseCurry, Ramen, Japanese, Restaurant</td>\n",
       "    </tr>\n",
       "  </tbody>\n",
       "</table>\n",
       "<p>1814883 rows × 29 columns</p>\n",
       "</div>"
      ],
      "text/plain": [
       "        Unnamed: 0_x               review_id                 user_id  \\\n",
       "0                  4  6TdNDKywdbjoTkizeMce8A  UgMW8bLE0QMJDCkQ1Ax5Mg   \n",
       "1               3103  gQuXBrYo8dqY7h_rfDzwLw  46TNf-5T5EcNFRJPYv_nrw   \n",
       "2               3173  xkq0ekkZ39uSbb29LihkfQ  OTGWjBCELxkZ6lpS2OEtxQ   \n",
       "3              20520  m4AkgxXvb-GHuDK4b9i9sA  YvlcRfeulgtusMFBOQTWzw   \n",
       "4              22003  OkgQVoHBJ6w-4qL-9lOczA  DBq1YkbIJ4yTXUYJw1V_KA   \n",
       "...              ...                     ...                     ...   \n",
       "1814878      8009356  Zg3NGfTXJcmi_ZFnugrXdQ  hD9Hr15XgM_NTAsT7aboHg   \n",
       "1814879      8016256  b1u-gqS9z_QD1AInjnGmzA  PnaEwJPxwuYVIO269NZE0A   \n",
       "1814880      8017474  WyyMWmG_huNZ0g4TQtqy4A  TsUP8OWLOJu8C4gGmrnctQ   \n",
       "1814881      8017497  ykj8iOY27SWS10dK5yeYkw  SS3sFA9ksCT9bjocM3Wbug   \n",
       "1814882      8017972  e6-4rP5wq070hbtqAPML_Q  DINx5Uz4MtHYUGgf8BZmdg   \n",
       "\n",
       "                    business_id  stars  useful  funny  cool  \\\n",
       "0        IS4cv902ykd8wj1TR0N3-A    4.0     0.0    0.0   0.0   \n",
       "1        IS4cv902ykd8wj1TR0N3-A    4.0     0.0    0.0   0.0   \n",
       "2        IS4cv902ykd8wj1TR0N3-A    3.0     0.0    1.0   0.0   \n",
       "3        IS4cv902ykd8wj1TR0N3-A    1.0     0.0    0.0   1.0   \n",
       "4        IS4cv902ykd8wj1TR0N3-A    3.0     0.0    0.0   0.0   \n",
       "...                         ...    ...     ...    ...   ...   \n",
       "1814878  ZrHFTAckri4Iv9z55NDD_w    5.0     0.0    0.0   0.0   \n",
       "1814879  ZrHFTAckri4Iv9z55NDD_w    5.0     0.0    0.0   1.0   \n",
       "1814880  ZrHFTAckri4Iv9z55NDD_w    4.0     0.0    0.0   0.0   \n",
       "1814881  ZrHFTAckri4Iv9z55NDD_w    1.0     1.0    1.0   0.0   \n",
       "1814882  ZrHFTAckri4Iv9z55NDD_w    5.0     1.0    0.0   1.0   \n",
       "\n",
       "                                                      text  \\\n",
       "0        Oh happy day, finally have a Canes near my cas...   \n",
       "1        Love the chicken. It's always hot and fresh ta...   \n",
       "2        Great food right down the street, long line si...   \n",
       "3        Terrible terrible service I waited 30 minutes ...   \n",
       "4        I am giving it 3 stars because all the drinks ...   \n",
       "...                                                    ...   \n",
       "1814878  This place reminds my husband and me about a r...   \n",
       "1814879  Who doesn't love curry!? I really enjoyed my e...   \n",
       "1814880  I came in because I was craving takoyaki and t...   \n",
       "1814881  Just found out they won't substitute the chick...   \n",
       "1814882  This place is so cute! I went here with friend...   \n",
       "\n",
       "                        date  ...  stars_y  review_count is_open  \\\n",
       "0        2017-01-14 21:56:57  ...      3.5           159       1   \n",
       "1        2018-01-09 20:25:20  ...      3.5           159       1   \n",
       "2        2017-01-28 00:03:26  ...      3.5           159       1   \n",
       "3        2017-01-15 05:55:07  ...      3.5           159       1   \n",
       "4        2017-03-15 21:36:27  ...      3.5           159       1   \n",
       "...                      ...  ...      ...           ...     ...   \n",
       "1814878  2019-07-01 02:04:11  ...      4.0           125       1   \n",
       "1814879  2019-10-15 22:18:00  ...      4.0           125       1   \n",
       "1814880  2019-11-23 05:37:35  ...      4.0           125       1   \n",
       "1814881  2019-11-26 04:59:11  ...      4.0           125       1   \n",
       "1814882  2019-10-15 04:02:55  ...      4.0           125       1   \n",
       "\n",
       "                                                attributes  \\\n",
       "0        {'DriveThru': 'True', 'GoodForMeal': \"{'desser...   \n",
       "1        {'DriveThru': 'True', 'GoodForMeal': \"{'desser...   \n",
       "2        {'DriveThru': 'True', 'GoodForMeal': \"{'desser...   \n",
       "3        {'DriveThru': 'True', 'GoodForMeal': \"{'desser...   \n",
       "4        {'DriveThru': 'True', 'GoodForMeal': \"{'desser...   \n",
       "...                                                    ...   \n",
       "1814878  {'GoodForMeal': \"{'dessert': False, 'latenight...   \n",
       "1814879  {'GoodForMeal': \"{'dessert': False, 'latenight...   \n",
       "1814880  {'GoodForMeal': \"{'dessert': False, 'latenight...   \n",
       "1814881  {'GoodForMeal': \"{'dessert': False, 'latenight...   \n",
       "1814882  {'GoodForMeal': \"{'dessert': False, 'latenight...   \n",
       "\n",
       "                                                     hours  \\\n",
       "0        {'Monday': '9:0-0:0', 'Tuesday': '9:0-0:0', 'W...   \n",
       "1        {'Monday': '9:0-0:0', 'Tuesday': '9:0-0:0', 'W...   \n",
       "2        {'Monday': '9:0-0:0', 'Tuesday': '9:0-0:0', 'W...   \n",
       "3        {'Monday': '9:0-0:0', 'Tuesday': '9:0-0:0', 'W...   \n",
       "4        {'Monday': '9:0-0:0', 'Tuesday': '9:0-0:0', 'W...   \n",
       "...                                                    ...   \n",
       "1814878  {'Monday': '0:0-0:0', 'Tuesday': '11:0-22:0', ...   \n",
       "1814879  {'Monday': '0:0-0:0', 'Tuesday': '11:0-22:0', ...   \n",
       "1814880  {'Monday': '0:0-0:0', 'Tuesday': '11:0-22:0', ...   \n",
       "1814881  {'Monday': '0:0-0:0', 'Tuesday': '11:0-22:0', ...   \n",
       "1814882  {'Monday': '0:0-0:0', 'Tuesday': '11:0-22:0', ...   \n",
       "\n",
       "                                     categories_filtered  \\\n",
       "0        FastFood, Restaurants, Sandwiches, ChickenWings   \n",
       "1        FastFood, Restaurants, Sandwiches, ChickenWings   \n",
       "2        FastFood, Restaurants, Sandwiches, ChickenWings   \n",
       "3        FastFood, Restaurants, Sandwiches, ChickenWings   \n",
       "4        FastFood, Restaurants, Sandwiches, ChickenWings   \n",
       "...                                                  ...   \n",
       "1814878      Japanese, JapaneseCurry, Ramen, Restaurants   \n",
       "1814879      Japanese, JapaneseCurry, Ramen, Restaurants   \n",
       "1814880      Japanese, JapaneseCurry, Ramen, Restaurants   \n",
       "1814881      Japanese, JapaneseCurry, Ramen, Restaurants   \n",
       "1814882      Japanese, JapaneseCurry, Ramen, Restaurants   \n",
       "\n",
       "                                  food_type  ethnicity       venue  \\\n",
       "0        ChickenWings, FastFood, Sandwiches  Undefined  Restaurant   \n",
       "1        ChickenWings, FastFood, Sandwiches  Undefined  Restaurant   \n",
       "2        ChickenWings, FastFood, Sandwiches  Undefined  Restaurant   \n",
       "3        ChickenWings, FastFood, Sandwiches  Undefined  Restaurant   \n",
       "4        ChickenWings, FastFood, Sandwiches  Undefined  Restaurant   \n",
       "...                                     ...        ...         ...   \n",
       "1814878                JapaneseCurry, Ramen   Japanese  Restaurant   \n",
       "1814879                JapaneseCurry, Ramen   Japanese  Restaurant   \n",
       "1814880                JapaneseCurry, Ramen   Japanese  Restaurant   \n",
       "1814881                JapaneseCurry, Ramen   Japanese  Restaurant   \n",
       "1814882                JapaneseCurry, Ramen   Japanese  Restaurant   \n",
       "\n",
       "                                               food_comb  \n",
       "0        ChickenWings, FastFood, Sandwiches,  Restaurant  \n",
       "1        ChickenWings, FastFood, Sandwiches,  Restaurant  \n",
       "2        ChickenWings, FastFood, Sandwiches,  Restaurant  \n",
       "3        ChickenWings, FastFood, Sandwiches,  Restaurant  \n",
       "4        ChickenWings, FastFood, Sandwiches,  Restaurant  \n",
       "...                                                  ...  \n",
       "1814878       JapaneseCurry, Ramen, Japanese, Restaurant  \n",
       "1814879       JapaneseCurry, Ramen, Japanese, Restaurant  \n",
       "1814880       JapaneseCurry, Ramen, Japanese, Restaurant  \n",
       "1814881       JapaneseCurry, Ramen, Japanese, Restaurant  \n",
       "1814882       JapaneseCurry, Ramen, Japanese, Restaurant  \n",
       "\n",
       "[1814883 rows x 29 columns]"
      ]
     },
     "execution_count": 303,
     "metadata": {},
     "output_type": "execute_result"
    }
   ],
   "source": [
    "df_food_clean"
   ]
  },
  {
   "cell_type": "code",
   "execution_count": 304,
   "metadata": {},
   "outputs": [],
   "source": [
    "df_food_clean.drop(['Unnamed: 0_x'], axis = True, inplace = True)"
   ]
  },
  {
   "cell_type": "code",
   "execution_count": 305,
   "metadata": {},
   "outputs": [],
   "source": [
    "df_food_clean.to_csv('/Users/robholmstrom/OneDrive/Gitrepos/nonrepo_files/capstone4_files/df_food_clean_rev.csv')"
   ]
  },
  {
   "cell_type": "code",
   "execution_count": 307,
   "metadata": {},
   "outputs": [
    {
     "data": {
      "text/plain": [
       "10129    6052\n",
       "107      5507\n",
       "113      5434\n",
       "198      5374\n",
       "143      5224\n",
       "         ... \n",
       "609       243\n",
       "777       235\n",
       "718       220\n",
       "564       220\n",
       "494       216\n",
       "Name: review_count, Length: 1114, dtype: int64"
      ]
     },
     "execution_count": 307,
     "metadata": {},
     "output_type": "execute_result"
    }
   ],
   "source": [
    "df_food_clean['review_count'].value_counts()"
   ]
  },
  {
   "cell_type": "code",
   "execution_count": null,
   "metadata": {},
   "outputs": [],
   "source": []
  }
 ],
 "metadata": {
  "kernelspec": {
   "display_name": "Python 3",
   "language": "python",
   "name": "python3"
  },
  "language_info": {
   "codemirror_mode": {
    "name": "ipython",
    "version": 3
   },
   "file_extension": ".py",
   "mimetype": "text/x-python",
   "name": "python",
   "nbconvert_exporter": "python",
   "pygments_lexer": "ipython3",
   "version": "3.7.7"
  }
 },
 "nbformat": 4,
 "nbformat_minor": 4
}
