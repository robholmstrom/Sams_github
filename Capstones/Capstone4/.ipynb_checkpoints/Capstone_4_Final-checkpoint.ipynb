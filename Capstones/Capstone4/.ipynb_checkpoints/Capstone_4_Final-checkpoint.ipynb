{
 "cells": [
  {
   "cell_type": "code",
   "execution_count": 1,
   "metadata": {},
   "outputs": [
    {
     "name": "stderr",
     "output_type": "stream",
     "text": [
      "/Users/robholmstrom/miniconda3/lib/python3.7/site-packages/tensorflow/python/framework/dtypes.py:516: FutureWarning: Passing (type, 1) or '1type' as a synonym of type is deprecated; in a future version of numpy, it will be understood as (type, (1,)) / '(1,)type'.\n",
      "  _np_qint8 = np.dtype([(\"qint8\", np.int8, 1)])\n",
      "/Users/robholmstrom/miniconda3/lib/python3.7/site-packages/tensorflow/python/framework/dtypes.py:517: FutureWarning: Passing (type, 1) or '1type' as a synonym of type is deprecated; in a future version of numpy, it will be understood as (type, (1,)) / '(1,)type'.\n",
      "  _np_quint8 = np.dtype([(\"quint8\", np.uint8, 1)])\n",
      "/Users/robholmstrom/miniconda3/lib/python3.7/site-packages/tensorflow/python/framework/dtypes.py:518: FutureWarning: Passing (type, 1) or '1type' as a synonym of type is deprecated; in a future version of numpy, it will be understood as (type, (1,)) / '(1,)type'.\n",
      "  _np_qint16 = np.dtype([(\"qint16\", np.int16, 1)])\n",
      "/Users/robholmstrom/miniconda3/lib/python3.7/site-packages/tensorflow/python/framework/dtypes.py:519: FutureWarning: Passing (type, 1) or '1type' as a synonym of type is deprecated; in a future version of numpy, it will be understood as (type, (1,)) / '(1,)type'.\n",
      "  _np_quint16 = np.dtype([(\"quint16\", np.uint16, 1)])\n",
      "/Users/robholmstrom/miniconda3/lib/python3.7/site-packages/tensorflow/python/framework/dtypes.py:520: FutureWarning: Passing (type, 1) or '1type' as a synonym of type is deprecated; in a future version of numpy, it will be understood as (type, (1,)) / '(1,)type'.\n",
      "  _np_qint32 = np.dtype([(\"qint32\", np.int32, 1)])\n",
      "/Users/robholmstrom/miniconda3/lib/python3.7/site-packages/tensorflow/python/framework/dtypes.py:525: FutureWarning: Passing (type, 1) or '1type' as a synonym of type is deprecated; in a future version of numpy, it will be understood as (type, (1,)) / '(1,)type'.\n",
      "  np_resource = np.dtype([(\"resource\", np.ubyte, 1)])\n",
      "/Users/robholmstrom/miniconda3/lib/python3.7/site-packages/tensorboard/compat/tensorflow_stub/dtypes.py:541: FutureWarning: Passing (type, 1) or '1type' as a synonym of type is deprecated; in a future version of numpy, it will be understood as (type, (1,)) / '(1,)type'.\n",
      "  _np_qint8 = np.dtype([(\"qint8\", np.int8, 1)])\n",
      "/Users/robholmstrom/miniconda3/lib/python3.7/site-packages/tensorboard/compat/tensorflow_stub/dtypes.py:542: FutureWarning: Passing (type, 1) or '1type' as a synonym of type is deprecated; in a future version of numpy, it will be understood as (type, (1,)) / '(1,)type'.\n",
      "  _np_quint8 = np.dtype([(\"quint8\", np.uint8, 1)])\n",
      "/Users/robholmstrom/miniconda3/lib/python3.7/site-packages/tensorboard/compat/tensorflow_stub/dtypes.py:543: FutureWarning: Passing (type, 1) or '1type' as a synonym of type is deprecated; in a future version of numpy, it will be understood as (type, (1,)) / '(1,)type'.\n",
      "  _np_qint16 = np.dtype([(\"qint16\", np.int16, 1)])\n",
      "/Users/robholmstrom/miniconda3/lib/python3.7/site-packages/tensorboard/compat/tensorflow_stub/dtypes.py:544: FutureWarning: Passing (type, 1) or '1type' as a synonym of type is deprecated; in a future version of numpy, it will be understood as (type, (1,)) / '(1,)type'.\n",
      "  _np_quint16 = np.dtype([(\"quint16\", np.uint16, 1)])\n",
      "/Users/robholmstrom/miniconda3/lib/python3.7/site-packages/tensorboard/compat/tensorflow_stub/dtypes.py:545: FutureWarning: Passing (type, 1) or '1type' as a synonym of type is deprecated; in a future version of numpy, it will be understood as (type, (1,)) / '(1,)type'.\n",
      "  _np_qint32 = np.dtype([(\"qint32\", np.int32, 1)])\n",
      "/Users/robholmstrom/miniconda3/lib/python3.7/site-packages/tensorboard/compat/tensorflow_stub/dtypes.py:550: FutureWarning: Passing (type, 1) or '1type' as a synonym of type is deprecated; in a future version of numpy, it will be understood as (type, (1,)) / '(1,)type'.\n",
      "  np_resource = np.dtype([(\"resource\", np.ubyte, 1)])\n"
     ]
    }
   ],
   "source": [
    "import json\n",
    "from datetime import datetime\n",
    "import plotly.express as px\n",
    "from sklearn.model_selection import train_test_split\n",
    "import sqlite3\n",
    "import nltk\n",
    "import spacy\n",
    "import geopandas as gpd\n",
    "from shapely.geometry import Polygon\n",
    "import numpy as np\n",
    "import umap\n",
    "import pandas as pd\n",
    "import shapefile as shp\n",
    "import matplotlib.pyplot as plt\n",
    "import seaborn as sns\n",
    "from sklearn.cluster import KMeans\n",
    "from sklearn.mixture import GaussianMixture\n",
    "from sklearn.decomposition import PCA\n",
    "from sklearn.feature_extraction.text import CountVectorizer, TfidfVectorizer\n",
    "from sklearn.preprocessing import LabelEncoder, MinMaxScaler\n",
    "from sklearn.ensemble import RandomForestClassifier, GradientBoostingClassifier\n",
    "from sklearn.neighbors import KNeighborsClassifier\n",
    "from sklearn.linear_model import LogisticRegression\n",
    "from sklearn.svm import SVC\n",
    "from sklearn.preprocessing import MinMaxScaler\n",
    "from sklearn.feature_selection import SelectKBest, f_classif\n",
    "from imblearn.over_sampling import SMOTE\n",
    "from imblearn.under_sampling import RandomUnderSampler\n",
    "from sklearn.metrics import confusion_matrix\n",
    "from sklearn.metrics import roc_curve,log_loss, precision_score, recall_score, confusion_matrix, classification_report, accuracy_score, f1_score\n",
    "import itertools\n",
    "\n",
    "%matplotlib inline\n",
    "\n",
    "from tensorflow.keras.metrics import Recall\n",
    "from tensorflow.keras.models import Sequential\n",
    "from tensorflow.keras.layers import Dense\n",
    "from tensorflow.keras.optimizers import SGD\n",
    "from tensorflow.keras.losses import categorical_crossentropy, binary_crossentropy"
   ]
  },
  {
   "attachments": {},
   "cell_type": "markdown",
   "metadata": {},
   "source": [
    "The restaurant business in the US is huge. It comprises about 4% of the US GDP, where 99% of restaurants are family-owned. This industry currently employs~ 15 million people, or about 10% of the working population, and is projected to continue to grow by double digits over the next ten years. However, failure rate of restaurants is 60% within the first year and 80% failure rate with 5 years. The most common reason for failure is due to suboptimal location. My project will build a model that predicts restaurant success at the metroplex level based popularity of current restaurant categories (food type, and venue type, and ethnicity). This model will be of value to potential restauranteurs and banks to inform whether a planned business will be successful in a chosen location. \n",
    "\n",
    "Restaurant popularity index will generated from a yelp review dataset that includes restaurant reviews from 7 metroplexes. NLP techniques be used to 1) create food category features by vectorization and 2) generate popularity index label in order to train the model. I will evaluate multiple supervised models (logistic regression, random forest, gradient boost and support vector machines), as well as deep learning models with tensorflow keras packages. Unsupervised learning can be used on vectorized language data to uncover review subtypes in order to help construct popularity labels. \n",
    "\n",
    "The first challenges are to deal with data size. There are millions of reviews and decisions will need to be made to reduce the number of instances used. Other major hurdles will be in engineering the popularity label. Ideally it would be nice to have a clean success rate label, but that data would take a very long to time to achieve, as restaurant open and closure rates are not easy to find at this scale. The star rating is not always the best way to evaluate the success of a business as it may be biased, inaccurate or even ridiculous. Finally, the number of positive and negative reviews overall may be unbalanced. Therefore, upsampling or downsampling may be used to overcome these issues where necessary.\n"
   ]
  },
  {
   "cell_type": "markdown",
   "metadata": {},
   "source": [
    "<img src=\"images/yelp_overview.png\" width=\"800\" height=\"400\">"
   ]
  },
  {
   "attachments": {},
   "cell_type": "markdown",
   "metadata": {},
   "source": [
    "The data set for this analysis can be downloaded here. The zip file opens up into multiple sub-files. For this project, the \"review\" and \"business\" data were the only ones used. https://www.yelp.com/dataset\n"
   ]
  },
  {
   "cell_type": "markdown",
   "metadata": {},
   "source": [
    "<img src=\"images/US_map_image.png\" width=\"800\" height=\"400\">"
   ]
  },
  {
   "cell_type": "markdown",
   "metadata": {},
   "source": [
    "A map is shown for the locations for cities included in the analysis. It is important to note that the states are used as the labels but are really referring to a major metroplex in that state. Review numbers for each metroplex centers are shown as points and colored by surrounding cities in that metroplex."
   ]
  },
  {
   "cell_type": "markdown",
   "metadata": {},
   "source": [
    "# Data  cleaning and EDA"
   ]
  },
  {
   "cell_type": "code",
   "execution_count": 137,
   "metadata": {},
   "outputs": [],
   "source": [
    "# Load in raw business data \n",
    "df_business = pd.read_json(\"/Users/robholmstrom/OneDrive/Gitrepos/nonrepo_files/capstone4_files/yelp_academic_dataset_business.json\", lines = True)"
   ]
  },
  {
   "cell_type": "code",
   "execution_count": 314,
   "metadata": {},
   "outputs": [
    {
     "name": "stdout",
     "output_type": "stream",
     "text": [
      "<class 'pandas.core.frame.DataFrame'>\n",
      "RangeIndex: 209393 entries, 0 to 209392\n",
      "Data columns (total 14 columns):\n",
      " #   Column        Non-Null Count   Dtype  \n",
      "---  ------        --------------   -----  \n",
      " 0   business_id   209393 non-null  object \n",
      " 1   name          209393 non-null  object \n",
      " 2   address       209393 non-null  object \n",
      " 3   city          209393 non-null  object \n",
      " 4   state         209393 non-null  object \n",
      " 5   postal_code   209393 non-null  object \n",
      " 6   latitude      209393 non-null  float64\n",
      " 7   longitude     209393 non-null  float64\n",
      " 8   stars         209393 non-null  float64\n",
      " 9   review_count  209393 non-null  int64  \n",
      " 10  is_open       209393 non-null  int64  \n",
      " 11  attributes    180348 non-null  object \n",
      " 12  categories    208869 non-null  object \n",
      " 13  hours         164550 non-null  object \n",
      "dtypes: float64(3), int64(2), object(9)\n",
      "memory usage: 22.4+ MB\n"
     ]
    }
   ],
   "source": [
    "# The business dataset includes details about the business but not about reviews for that business\n",
    "df_business.info()"
   ]
  },
  {
   "cell_type": "code",
   "execution_count": 144,
   "metadata": {},
   "outputs": [],
   "source": [
    "# Select for businesses that have at least 10 reviews in order to 1) reduce the number or reviews\n",
    "# 2) increase statistical power of average review per business. Also limit to reviews from businesses that are open.\n",
    "df_bus_select =  df_business.loc[(df_business['review_count']>10) & (df_business['is_open']==1)]"
   ]
  },
  {
   "cell_type": "code",
   "execution_count": 313,
   "metadata": {},
   "outputs": [
    {
     "data": {
      "text/plain": [
       "AZ    25856\n",
       "NV    18278\n",
       "ON    11579\n",
       "NC     6131\n",
       "OH     5439\n",
       "PA     4307\n",
       "QC     3021\n",
       "AB     2032\n",
       "WI     1971\n",
       "IL      719\n",
       "SC      449\n",
       "NY        9\n",
       "CA        9\n",
       "TX        3\n",
       "CO        2\n",
       "MB        1\n",
       "VA        1\n",
       "GA        1\n",
       "MI        1\n",
       "WA        1\n",
       "NE        1\n",
       "HI        1\n",
       "FL        1\n",
       "Name: state, dtype: int64"
      ]
     },
     "execution_count": 313,
     "metadata": {},
     "output_type": "execute_result"
    }
   ],
   "source": [
    "df_bus_select['state'].value_counts()"
   ]
  },
  {
   "cell_type": "code",
   "execution_count": 145,
   "metadata": {},
   "outputs": [
    {
     "data": {
      "text/html": [
       "<div>\n",
       "<style scoped>\n",
       "    .dataframe tbody tr th:only-of-type {\n",
       "        vertical-align: middle;\n",
       "    }\n",
       "\n",
       "    .dataframe tbody tr th {\n",
       "        vertical-align: top;\n",
       "    }\n",
       "\n",
       "    .dataframe thead th {\n",
       "        text-align: right;\n",
       "    }\n",
       "</style>\n",
       "<table border=\"1\" class=\"dataframe\">\n",
       "  <thead>\n",
       "    <tr style=\"text-align: right;\">\n",
       "      <th></th>\n",
       "      <th>state</th>\n",
       "    </tr>\n",
       "  </thead>\n",
       "  <tbody>\n",
       "    <tr>\n",
       "      <th>AZ</th>\n",
       "      <td>25856</td>\n",
       "    </tr>\n",
       "    <tr>\n",
       "      <th>NV</th>\n",
       "      <td>18278</td>\n",
       "    </tr>\n",
       "    <tr>\n",
       "      <th>ON</th>\n",
       "      <td>11579</td>\n",
       "    </tr>\n",
       "    <tr>\n",
       "      <th>NC</th>\n",
       "      <td>6131</td>\n",
       "    </tr>\n",
       "    <tr>\n",
       "      <th>OH</th>\n",
       "      <td>5439</td>\n",
       "    </tr>\n",
       "    <tr>\n",
       "      <th>PA</th>\n",
       "      <td>4307</td>\n",
       "    </tr>\n",
       "    <tr>\n",
       "      <th>QC</th>\n",
       "      <td>3021</td>\n",
       "    </tr>\n",
       "  </tbody>\n",
       "</table>\n",
       "</div>"
      ],
      "text/plain": [
       "    state\n",
       "AZ  25856\n",
       "NV  18278\n",
       "ON  11579\n",
       "NC   6131\n",
       "OH   5439\n",
       "PA   4307\n",
       "QC   3021"
      ]
     },
     "execution_count": 145,
     "metadata": {},
     "output_type": "execute_result"
    }
   ],
   "source": [
    "# Set a threshold for how many cities will be analyzed by number of reviews given for the whole metroplex.\n",
    "# This will avoid class imbalance for city selection modeling by removing cities that are well underrepresented here\n",
    "threshold = 0.1\n",
    "review_by_state = pd.DataFrame(df_bus_select['state'].value_counts())\n",
    "states_select = review_by_state[review_by_state['state'] > threshold*review_by_state.max()['state']]\n",
    "states_select\n",
    "# Following states will be chosen for further analysis"
   ]
  },
  {
   "cell_type": "code",
   "execution_count": 140,
   "metadata": {},
   "outputs": [],
   "source": [
    "# Load in review data\n",
    "df_reviews = pd.read_json('/Users/robholmstrom/OneDrive/Gitrepos/nonrepo_files/capstone4_files/yelp_academic_dataset_review.json', lines = True)"
   ]
  },
  {
   "cell_type": "code",
   "execution_count": 160,
   "metadata": {},
   "outputs": [],
   "source": [
    "# Create a year column to investigate reviews by year\n",
    "df_reviews['year'] = df_reviews.date.dt.year"
   ]
  },
  {
   "cell_type": "code",
   "execution_count": 161,
   "metadata": {},
   "outputs": [
    {
     "name": "stdout",
     "output_type": "stream",
     "text": [
      "<class 'pandas.core.frame.DataFrame'>\n",
      "RangeIndex: 8021122 entries, 0 to 8021121\n",
      "Data columns (total 10 columns):\n",
      " #   Column       Dtype         \n",
      "---  ------       -----         \n",
      " 0   review_id    object        \n",
      " 1   user_id      object        \n",
      " 2   business_id  object        \n",
      " 3   stars        int64         \n",
      " 4   useful       int64         \n",
      " 5   funny        int64         \n",
      " 6   cool         int64         \n",
      " 7   text         object        \n",
      " 8   date         datetime64[ns]\n",
      " 9   year         int64         \n",
      "dtypes: datetime64[ns](1), int64(5), object(4)\n",
      "memory usage: 612.0+ MB\n"
     ]
    }
   ],
   "source": [
    "# Review data set includes the individual review info but not detailed information about the business\n",
    "df_reviews.info()"
   ]
  },
  {
   "cell_type": "code",
   "execution_count": 162,
   "metadata": {},
   "outputs": [],
   "source": [
    "review_by_year = df_reviews.date.dt.year.value_counts()"
   ]
  },
  {
   "cell_type": "code",
   "execution_count": 163,
   "metadata": {},
   "outputs": [
    {
     "data": {
      "text/plain": [
       "Text(0, 0.5, 'Yelp Reviews (millions)')"
      ]
     },
     "execution_count": 163,
     "metadata": {},
     "output_type": "execute_result"
    },
    {
     "data": {
      "image/png": "[encoded data removed]",
      "text/plain": [
       "<Figure size 720x360 with 1 Axes>"
      ]
     },
     "metadata": {
      "needs_background": "light"
     },
     "output_type": "display_data"
    }
   ],
   "source": [
    "# Plot number of reviews by year\n",
    "plt.figure(figsize=(10, 5))\n",
    "sns.barplot(review_by_year.index,review_by_year.values).set_title('Yelp reviews by year')\n",
    "plt.xlabel('Years')\n",
    "plt.ylabel('Yelp Reviews (millions)')"
   ]
  },
  {
   "cell_type": "markdown",
   "metadata": {},
   "source": [
    "The graph above shows the increasing number of reviews that are given for business since Yelp began. Since the reviews number per year seem to be plateaued at 2016, this will be chosen as the cut off to refine the number of reviews to be included further as well as exclude business that may have been more biased to get reviews earlier on. Therefore the last four years include a more comprehensive distribution of business that are reviewed"
   ]
  },
  {
   "cell_type": "code",
   "execution_count": 164,
   "metadata": {},
   "outputs": [],
   "source": [
    "# Limit review dataset to last four years\n",
    "df_reviews_4yrs = df_reviews[df_reviews['year'].isin([2016, 2017, 2018, 2019])]\n"
   ]
  },
  {
   "cell_type": "code",
   "execution_count": 165,
   "metadata": {},
   "outputs": [],
   "source": [
    "# Merge the business dataset with the review dataset\n",
    "df_rev_bus_raw = df_reviews_4yrs.merge(df_bus_select, on = 'business_id', how= 'inner')"
   ]
  },
  {
   "cell_type": "code",
   "execution_count": 168,
   "metadata": {},
   "outputs": [],
   "source": [
    "# Rename the individual review column as 'stars' to differentiate it from the average reviews for each business\n",
    "df_rev_bus_raw = df_rev_bus_raw.rename(columns = {'stars_x': 'stars'})"
   ]
  },
  {
   "cell_type": "code",
   "execution_count": 13,
   "metadata": {},
   "outputs": [],
   "source": [
    "# Narrow the dataset for just the states mentioned earlier with sufficient review instances\n",
    "df_rev_bus_select = df_rev_bus_raw.loc[df_rev_bus_raw['state'].isin(states_select.index)==True]"
   ]
  },
  {
   "cell_type": "code",
   "execution_count": 315,
   "metadata": {},
   "outputs": [],
   "source": [
    "# Select for restaurant businesses\n",
    "df_food_rev = df_rev_bus_select[df_rev_bus_select['categories'].str.contains('Restaurant')|\n",
    "                 df_rev_bus_select['categories'].str.contains('Coffee & Tea')]"
   ]
  },
  {
   "cell_type": "code",
   "execution_count": 401,
   "metadata": {},
   "outputs": [
    {
     "data": {
      "text/plain": [
       "review_id            0\n",
       "user_id              0\n",
       "business_id          0\n",
       "stars                0\n",
       "useful               0\n",
       "funny                0\n",
       "cool                 0\n",
       "text                 0\n",
       "date                 0\n",
       "year                 0\n",
       "name                 0\n",
       "address              0\n",
       "city                 0\n",
       "state                0\n",
       "postal_code          0\n",
       "latitude             0\n",
       "longitude            0\n",
       "stars_y              0\n",
       "review_count         0\n",
       "is_open              0\n",
       "attributes       76045\n",
       "categories         189\n",
       "hours           160641\n",
       "text length          0\n",
       "dtype: int64"
      ]
     },
     "execution_count": 401,
     "metadata": {},
     "output_type": "execute_result"
    }
   ],
   "source": [
    "df_rev_bus_raw.isnull().sum()"
   ]
  },
  {
   "cell_type": "code",
   "execution_count": 417,
   "metadata": {},
   "outputs": [
    {
     "data": {
      "text/plain": [
       "<seaborn.axisgrid.FacetGrid at 0x7f889b680b50>"
      ]
     },
     "execution_count": 417,
     "metadata": {},
     "output_type": "execute_result"
    },
    {
     "data": {
      "image/png": "[encoded data removed]",
      "text/plain": [
       "<Figure size 1512x216 with 7 Axes>"
      ]
     },
     "metadata": {
      "needs_background": "light"
     },
     "output_type": "display_data"
    }
   ],
   "source": [
    "# The overall star rating distribution for restaurants by city\n",
    "df_rev_bus_raw['text length'] = df_rev_bus_raw['text'].apply(len)\n",
    "g = sns.FacetGrid(data=df_rev_bus_select, col='state')\n",
    "g.map(plt.hist, 'stars', density=True, rwidth = 2)\n"
   ]
  },
  {
   "cell_type": "markdown",
   "metadata": {},
   "source": [
    "Star distribution across states are fairly similar"
   ]
  },
  {
   "cell_type": "code",
   "execution_count": 419,
   "metadata": {},
   "outputs": [
    {
     "data": {
      "text/plain": [
       "<seaborn.axisgrid.FacetGrid at 0x7f882077ba90>"
      ]
     },
     "execution_count": 419,
     "metadata": {},
     "output_type": "execute_result"
    },
    {
     "data": {
      "image/png": "[encoded data removed]",
      "text/plain": [
       "<Figure size 1080x216 with 5 Axes>"
      ]
     },
     "metadata": {
      "needs_background": "light"
     },
     "output_type": "display_data"
    }
   ],
   "source": [
    "# The overall star rating distribution by text length.\n",
    "df_rev_bus_raw['text length'] = df_rev_bus_raw['text'].apply(len)\n",
    "g = sns.FacetGrid(data=df_rev_bus_select, col='stars')\n",
    "g.map(plt.hist, 'text length', bins = 50, density=True, rwidth = 2)"
   ]
  },
  {
   "cell_type": "markdown",
   "metadata": {},
   "source": [
    "Text length is higher for positively scored restaurants. People write more about something when they REALLY like"
   ]
  },
  {
   "cell_type": "markdown",
   "metadata": {},
   "source": [
    "# Feature Engineering and EDA"
   ]
  },
  {
   "cell_type": "markdown",
   "metadata": {},
   "source": [
    "## Cherry picked 'food type' words from Yelp's general restaurant category associated list \n",
    "Acai Bowls, Bagels, Bakeries, BeerWine&Spirits, Bubble Tea, Chimney Cakes, Cupcakes, Custom Cakes, Desserts, Donuts, Empanadas, Gelato, Honey, Ice Cream & Frozen Yogurt, Imported Food, Juice Bars & Smoothies, Kombucha, Meaderies, Piadina, Poke, Pretzels, Shaved Ice, Shaved Snow, Fruits & Veggies, Herbs & Spices, Macarons, Olive Oil, Breakfast & Brunch, Pancakes, Buffets, Burgers, Cheesesteaks, Chicken Wings, Dim Sum,\n",
    "Comfort Food,\n",
    "Creperies,\n",
    "Fast Food,\n",
    "Fish & Chips,\n",
    "Fondue,\n",
    "Game Meat,\n",
    "Hot Dogs,\n",
    "Hot Pot,\n",
    "Conveyor Belt Sushi,\n",
    "Izakaya,\n",
    "Japanese Curry,\n",
    "Ramen,\n",
    "Teppanyaki,\n",
    "Kebab,\n",
    "Kosher,\n",
    "Live/Raw Food,\n",
    "Falafel,\n",
    "Tacos,\n",
    "Noodles,\n",
    "Pan Asia,\n",
    "Pizza,\n",
    "Polish,\n",
    "Polynesian,\n",
    "Poutineries,\n",
    "Salad,\n",
    "Sandwiches,\n",
    "Seafood,\n",
    "Soul Food,\n",
    "Soup,\n",
    "Southern,\n",
    "Tapas/Small Plates,\n",
    "Vegan,\n",
    "Vegetarian,\n",
    "Waffles,\n",
    "Wraps\n"
   ]
  },
  {
   "cell_type": "code",
   "execution_count": 324,
   "metadata": {},
   "outputs": [],
   "source": [
    "\n",
    "Food_types = 'Acai Bowls, Bagels, Bakeries, BeerWine&Spirits, Bubble Tea, Chimney Cakes, Cupcakes, Custom Cakes, Desserts, Donuts, Empanadas, Gelato, Honey, Ice Cream & Frozen Yogurt, Imported Food, Juice Bars & Smoothies, Kombucha, Meaderies, Piadina, Poke, Pretzels, Shaved Ice, Shaved Snow, Fruits & Veggies, Herbs & Spices, Macarons, Olive Oil, Breakfast & Brunch, Pancakes, Buffets, Burgers, Cheesesteaks, Chicken Wings, Dim Sum, Comfort Food, Creperies, Fast Food, Fish & Chips, Fondue, Game Meat, Hot Dogs, Hot Pot, Conveyor Belt Sushi, Izakaya, Japanese Curry, Ramen, Teppanyaki, Kebab, Kosher, Live/Raw Food, Falafel, Tacos, Noodles, Pan Asia, Pizza, Polish, Polynesian, Poutineries, Salad, Sandwiches, Seafood, Soul Food, Soup, Southern, Tapas/Small Plates, Vegan, Vegetarian, Waffles, Wraps'.split(',')"
   ]
  },
  {
   "cell_type": "markdown",
   "metadata": {},
   "source": [
    "## Cherry picked 'ethnicity' words from Yelp's general restaurant category associated list \n",
    "\n",
    "Afghan,\n",
    "African,\n",
    "Senegalese,\n",
    "South African,\n",
    "American (New),\n",
    "American (Traditional),\n",
    "Arabian,\n",
    "Argentine,\n",
    "Armenian,\n",
    "Asian Fusion,\n",
    "Australian,\n",
    "Austrian,\n",
    "Bangladeshi,\n",
    "Barbeque,\n",
    "Basque,\n",
    "Belgian,\n",
    "Brasseries,\n",
    "Brazilian,\n",
    "British,\n",
    "Bulgarian,\n",
    "Burmese,\n",
    "Cajun/Creole,\n",
    "Cambodian,\n",
    "Caribbean,\n",
    "Dominican,\n",
    "Haitian,\n",
    "Puerto Rican,\n",
    "Trinidadian,\n",
    "Catalan,\n",
    "Chinese,\n",
    "Cantonese,\n",
    "Hainan,\n",
    "Shanghainese,\n",
    "Szechuan,\n",
    "Cuban,\n",
    "Czech,\n",
    "Eritrean,\n",
    "Ethiopian,\n",
    "Filipino,\n",
    "French,\n",
    "Mauritius,\n",
    "Georgian,\n",
    "German,\n",
    "Greek,\n",
    "Guamanian,\n",
    "Hawaiian,\n",
    "Himalayan/Nepalese,\n",
    "Honduran,\n",
    "Hungarian,\n",
    "Iberian,\n",
    "Indian,\n",
    "Indonesian,\n",
    "Irish,\n",
    "Italian,\n",
    "Calabrian,\n",
    "Sardinian,\n",
    "Sicilian,\n",
    "Tuscan,\n",
    "Japanese,\n",
    "Korean,\n",
    "Laotian,\n",
    "Latin American,\n",
    "Colombian,\n",
    "Salvadoran,\n",
    "Venezuelan,\n",
    "Malaysian,\n",
    "Mediterranean,\n",
    "Mexican,\n",
    "Middle Eastern\n",
    "\n",
    "\n",
    "\n",
    "\n",
    "\n",
    "\n",
    "\n",
    "\n",
    "\n",
    "\n",
    "\n",
    "\n",
    "\n",
    "\n",
    "\n",
    "\n",
    "\n",
    "\n",
    "\n",
    "\n",
    "\n",
    "\n",
    "\n",
    "\n",
    "\n",
    "\n",
    "\n",
    "\n",
    "\n",
    "\n",
    "\n",
    "\n",
    "\n",
    "\n",
    "\n",
    "\n",
    "\n",
    "\n",
    "\n",
    "\n",
    "\n",
    "\n",
    "\n",
    "\n",
    "\n",
    "\n",
    "\n",
    "\n",
    "\n",
    "\n",
    "\n",
    "\n",
    "\n",
    "\n",
    "\n",
    "\n",
    "\n",
    "\n",
    "\n",
    "\n",
    "\n",
    "\n",
    "\n",
    "\n",
    "\n",
    "\n",
    "\n",
    "\n",
    "\n",
    "\n",
    "\n",
    "\n",
    "\n",
    "\n",
    "\n",
    "\n",
    "\n",
    "\n",
    "\n",
    "\n",
    "\n",
    "\n",
    "\n",
    "\n",
    "\n",
    "\n",
    "\n",
    "\n",
    "\n",
    "\n",
    "\n",
    "\n",
    "\n",
    "\n",
    "\n",
    "\n",
    "\n",
    "\n",
    "\n",
    "\n",
    "\n",
    "\n",
    "\n",
    "\n",
    "\n",
    "\n",
    "\n",
    "\n",
    "\n",
    "\n",
    "\n",
    "\n",
    "\n",
    "\n",
    "\n",
    "\n",
    "\n",
    "\n",
    "\n",
    "\n",
    "\n",
    "\n",
    "\n",
    "\n",
    "\n",
    "\n",
    "\n",
    "\n",
    "\n",
    "\n",
    "\n",
    "\n",
    "\n",
    "\n",
    "\n",
    "\n",
    "\n",
    "\n",
    "\n",
    "\n",
    "\n",
    "\n",
    "\n",
    "\n",
    "\n",
    "\n",
    "\n",
    "\n"
   ]
  },
  {
   "cell_type": "code",
   "execution_count": 330,
   "metadata": {},
   "outputs": [],
   "source": [
    "Ethnicity = 'Afghan, African, Senegalese, South African, American (New), American (Traditional), Arabian, Argentine, Armenian, Asian Fusion, Australian, Austrian, Bangladeshi, Barbeque, Basque, Belgian, Brasseries, Brazilian, British, Bulgarian, Burmese, Cajun/Creole, Cambodian, Caribbean, Dominican, Haitian, Puerto Rican, Trinidadian, Catalan, Chinese, Cantonese, Hainan, Shanghainese, Szechuan, Cuban, Czech, Eritrean, Ethiopian, Filipino, French, Mauritius, Georgian, German, Greek, Guamanian, Hawaiian, Himalayan/Nepalese, Honduran, Hungarian, Iberian, Indian, Indonesian, Irish, Italian, Calabrian, Sardinian, Sicilian, Tuscan, Japanese, Korean, Laotian, Latin American, Colombian, Salvadoran, Venezuelan, Malaysian, Mediterranean, Mexican, Middle Eastern'.split(',')"
   ]
  },
  {
   "attachments": {},
   "cell_type": "markdown",
   "metadata": {},
   "source": [
    "## Cherry picked venue words from Yelp's general restaurant category associated list \n",
    "\n",
    "Beverage Store,\n",
    "Breweries,\n",
    "Brewpubs,\n",
    "Butcher,\n",
    "CSA,\n",
    "Cideries,\n",
    "Coffee & Tea,\n",
    "Coffee Roasteries,\n",
    "Convenience Stores,\n",
    "Distilleries,\n",
    "Do-It-Yourself Food,\n",
    "Farmers Market,\n",
    "Food Delivery Services,\n",
    "Food Trucks,\n",
    "Grocery,\n",
    "International Grocery,\n",
    "Internet Cafes,\n",
    "Organic Stores,\n",
    "Patisserie/Cake Shop,\n",
    "Smokehouse,\n",
    "Specialty Food,\n",
    "Candy Stores,\n",
    "Cheese Shops,\n",
    "Chocolatiers & Shops,\n",
    "Health Markets,\n",
    "Meat Shops,\n",
    "Pasta Shops,\n",
    "Popcorn Shops,\n",
    "Seafood Markets,\n",
    "Street Vendors,\n",
    "Tea Rooms,\n",
    "Water Stores,\n",
    "Wineries,\n",
    "Wine Tasting Room,\n",
    "Cafes,\n",
    "Themed Cafes,\n",
    "Cafeteria,\n",
    "Chicken Shop,\n",
    "Delis,\n",
    "Diners,\n",
    "Dinner Theater,\n",
    "Food Court,\n",
    "Food Stands,\n",
    "Reunion,\n",
    "Gastropubs,\n",
    "Hong Kong Style Cafe,\n",
    "Pop-Up Restaurants,\n",
    "Steakhouses,\n",
    "Supper Clubs,\n",
    "Sushi Bars,\n",
    "Tapas Bars\n",
    "\n",
    "\n",
    "\n",
    "\n",
    "\n",
    "\n",
    "\n",
    "\n",
    "\n",
    "\n",
    "\n",
    "\n",
    "\n",
    "\n",
    "\n",
    "\n",
    "\n",
    "\n",
    "\n",
    "\n",
    "\n",
    "\n",
    "\n",
    "\n",
    "\n",
    "\n",
    "\n",
    "\n",
    "\n",
    "\n",
    "\n",
    "\n",
    "\n",
    "\n",
    "\n",
    "\n",
    "\n",
    "\n",
    "\n",
    "\n",
    "\n",
    "\n",
    "\n",
    "\n",
    "\n",
    "\n",
    "\n",
    "\n",
    "\n",
    "\n",
    "\n",
    "\n",
    "\n",
    "\n",
    "\n",
    "\n",
    "\n",
    "\n",
    "\n",
    "\n",
    "\n",
    "\n",
    "\n",
    "\n",
    "\n",
    "\n",
    "\n",
    "\n",
    "\n",
    "\n",
    "\n",
    "\n",
    "\n",
    "\n",
    "\n",
    "\n",
    "\n",
    "\n",
    "\n",
    "\n",
    "\n",
    "\n",
    "\n",
    "\n",
    "\n",
    "\n",
    "\n",
    "\n",
    "\n",
    "\n",
    "\n",
    "\n",
    "\n",
    "\n",
    "\n",
    "\n",
    "\n",
    "\n"
   ]
  },
  {
   "cell_type": "code",
   "execution_count": 335,
   "metadata": {},
   "outputs": [],
   "source": [
    "Venue_type = 'Beverage Store, Breweries, Brewpubs, Butcher, CSA, Cideries, Coffee & Tea, Coffee Roasteries, Convenience Stores, Distilleries, Do-It-Yourself Food, Farmers Market, Food Delivery Services, Food Trucks, Grocery, International Grocery, Internet Cafes, Organic Stores, Patisserie/Cake Shop, Smokehouse, Specialty Food, Candy Stores, Cheese Shops, Chocolatiers & Shops, Health Markets, Meat Shops, Pasta Shops, Popcorn Shops, Seafood Markets, Street Vendors, Tea Rooms, Water Stores, Wineries, Wine Tasting Room, Cafes, Themed Cafes, Cafeteria, Chicken Shop, Delis, Diners, Dinner Theater, Food Court, Food Stands, Reunion, Gastropubs, Hong Kong Style Cafe, Pop-Up Restaurants, Steakhouses, Supper Clubs, Sushi Bars, Tapas Bars'.split(',')"
   ]
  },
  {
   "cell_type": "code",
   "execution_count": 336,
   "metadata": {},
   "outputs": [],
   "source": [
    "# Create cleaned series for food category types to allow selection from the category words in the df_food dataframe\n",
    "food_types = pd.Series(Food_types).dropna().str.strip().str.replace(' ', '')\n",
    "ethnicities = pd.Series(Ethnicity).dropna().str.strip().str.replace(' ', '')\n",
    "venue_types = pd.Series(Venue_type).dropna().str.strip().str.replace(' ', '')"
   ]
  },
  {
   "cell_type": "code",
   "execution_count": 338,
   "metadata": {},
   "outputs": [
    {
     "data": {
      "text/html": [
       "<div>\n",
       "<style scoped>\n",
       "    .dataframe tbody tr th:only-of-type {\n",
       "        vertical-align: middle;\n",
       "    }\n",
       "\n",
       "    .dataframe tbody tr th {\n",
       "        vertical-align: top;\n",
       "    }\n",
       "\n",
       "    .dataframe thead th {\n",
       "        text-align: right;\n",
       "    }\n",
       "</style>\n",
       "<table border=\"1\" class=\"dataframe\">\n",
       "  <thead>\n",
       "    <tr style=\"text-align: right;\">\n",
       "      <th></th>\n",
       "      <th>Unnamed: 0_x</th>\n",
       "      <th>review_id</th>\n",
       "      <th>user_id</th>\n",
       "      <th>business_id</th>\n",
       "      <th>stars</th>\n",
       "      <th>useful</th>\n",
       "      <th>funny</th>\n",
       "      <th>cool</th>\n",
       "      <th>text</th>\n",
       "      <th>date</th>\n",
       "      <th>...</th>\n",
       "      <th>postal_code</th>\n",
       "      <th>latitude</th>\n",
       "      <th>longitude</th>\n",
       "      <th>stars_y</th>\n",
       "      <th>review_count</th>\n",
       "      <th>is_open</th>\n",
       "      <th>attributes</th>\n",
       "      <th>categories</th>\n",
       "      <th>hours</th>\n",
       "      <th>text length</th>\n",
       "    </tr>\n",
       "  </thead>\n",
       "  <tbody>\n",
       "    <tr>\n",
       "      <th>0</th>\n",
       "      <td>4</td>\n",
       "      <td>6TdNDKywdbjoTkizeMce8A</td>\n",
       "      <td>UgMW8bLE0QMJDCkQ1Ax5Mg</td>\n",
       "      <td>IS4cv902ykd8wj1TR0N3-A</td>\n",
       "      <td>4.0</td>\n",
       "      <td>0.0</td>\n",
       "      <td>0.0</td>\n",
       "      <td>0.0</td>\n",
       "      <td>Oh happy day, finally have a Canes near my cas...</td>\n",
       "      <td>2017-01-14 21:56:57</td>\n",
       "      <td>...</td>\n",
       "      <td>89074</td>\n",
       "      <td>36.035068</td>\n",
       "      <td>-115.046353</td>\n",
       "      <td>3.5</td>\n",
       "      <td>159</td>\n",
       "      <td>1</td>\n",
       "      <td>{'DriveThru': 'True', 'GoodForMeal': \"{'desser...</td>\n",
       "      <td>Fast Food, Restaurants, Sandwiches, Chicken Wings</td>\n",
       "      <td>{'Monday': '9:0-0:0', 'Tuesday': '9:0-0:0', 'W...</td>\n",
       "      <td>841</td>\n",
       "    </tr>\n",
       "    <tr>\n",
       "      <th>1</th>\n",
       "      <td>3103</td>\n",
       "      <td>gQuXBrYo8dqY7h_rfDzwLw</td>\n",
       "      <td>46TNf-5T5EcNFRJPYv_nrw</td>\n",
       "      <td>IS4cv902ykd8wj1TR0N3-A</td>\n",
       "      <td>4.0</td>\n",
       "      <td>0.0</td>\n",
       "      <td>0.0</td>\n",
       "      <td>0.0</td>\n",
       "      <td>Love the chicken. It's always hot and fresh ta...</td>\n",
       "      <td>2018-01-09 20:25:20</td>\n",
       "      <td>...</td>\n",
       "      <td>89074</td>\n",
       "      <td>36.035068</td>\n",
       "      <td>-115.046353</td>\n",
       "      <td>3.5</td>\n",
       "      <td>159</td>\n",
       "      <td>1</td>\n",
       "      <td>{'DriveThru': 'True', 'GoodForMeal': \"{'desser...</td>\n",
       "      <td>Fast Food, Restaurants, Sandwiches, Chicken Wings</td>\n",
       "      <td>{'Monday': '9:0-0:0', 'Tuesday': '9:0-0:0', 'W...</td>\n",
       "      <td>222</td>\n",
       "    </tr>\n",
       "    <tr>\n",
       "      <th>2</th>\n",
       "      <td>3173</td>\n",
       "      <td>xkq0ekkZ39uSbb29LihkfQ</td>\n",
       "      <td>OTGWjBCELxkZ6lpS2OEtxQ</td>\n",
       "      <td>IS4cv902ykd8wj1TR0N3-A</td>\n",
       "      <td>3.0</td>\n",
       "      <td>0.0</td>\n",
       "      <td>1.0</td>\n",
       "      <td>0.0</td>\n",
       "      <td>Great food right down the street, long line si...</td>\n",
       "      <td>2017-01-28 00:03:26</td>\n",
       "      <td>...</td>\n",
       "      <td>89074</td>\n",
       "      <td>36.035068</td>\n",
       "      <td>-115.046353</td>\n",
       "      <td>3.5</td>\n",
       "      <td>159</td>\n",
       "      <td>1</td>\n",
       "      <td>{'DriveThru': 'True', 'GoodForMeal': \"{'desser...</td>\n",
       "      <td>Fast Food, Restaurants, Sandwiches, Chicken Wings</td>\n",
       "      <td>{'Monday': '9:0-0:0', 'Tuesday': '9:0-0:0', 'W...</td>\n",
       "      <td>330</td>\n",
       "    </tr>\n",
       "    <tr>\n",
       "      <th>3</th>\n",
       "      <td>20520</td>\n",
       "      <td>m4AkgxXvb-GHuDK4b9i9sA</td>\n",
       "      <td>YvlcRfeulgtusMFBOQTWzw</td>\n",
       "      <td>IS4cv902ykd8wj1TR0N3-A</td>\n",
       "      <td>1.0</td>\n",
       "      <td>0.0</td>\n",
       "      <td>0.0</td>\n",
       "      <td>1.0</td>\n",
       "      <td>Terrible terrible service I waited 30 minutes ...</td>\n",
       "      <td>2017-01-15 05:55:07</td>\n",
       "      <td>...</td>\n",
       "      <td>89074</td>\n",
       "      <td>36.035068</td>\n",
       "      <td>-115.046353</td>\n",
       "      <td>3.5</td>\n",
       "      <td>159</td>\n",
       "      <td>1</td>\n",
       "      <td>{'DriveThru': 'True', 'GoodForMeal': \"{'desser...</td>\n",
       "      <td>Fast Food, Restaurants, Sandwiches, Chicken Wings</td>\n",
       "      <td>{'Monday': '9:0-0:0', 'Tuesday': '9:0-0:0', 'W...</td>\n",
       "      <td>370</td>\n",
       "    </tr>\n",
       "  </tbody>\n",
       "</table>\n",
       "<p>4 rows × 26 columns</p>\n",
       "</div>"
      ],
      "text/plain": [
       "  Unnamed: 0_x               review_id                 user_id  \\\n",
       "0            4  6TdNDKywdbjoTkizeMce8A  UgMW8bLE0QMJDCkQ1Ax5Mg   \n",
       "1         3103  gQuXBrYo8dqY7h_rfDzwLw  46TNf-5T5EcNFRJPYv_nrw   \n",
       "2         3173  xkq0ekkZ39uSbb29LihkfQ  OTGWjBCELxkZ6lpS2OEtxQ   \n",
       "3        20520  m4AkgxXvb-GHuDK4b9i9sA  YvlcRfeulgtusMFBOQTWzw   \n",
       "\n",
       "              business_id  stars  useful  funny  cool  \\\n",
       "0  IS4cv902ykd8wj1TR0N3-A    4.0     0.0    0.0   0.0   \n",
       "1  IS4cv902ykd8wj1TR0N3-A    4.0     0.0    0.0   0.0   \n",
       "2  IS4cv902ykd8wj1TR0N3-A    3.0     0.0    1.0   0.0   \n",
       "3  IS4cv902ykd8wj1TR0N3-A    1.0     0.0    0.0   1.0   \n",
       "\n",
       "                                                text                 date  \\\n",
       "0  Oh happy day, finally have a Canes near my cas...  2017-01-14 21:56:57   \n",
       "1  Love the chicken. It's always hot and fresh ta...  2018-01-09 20:25:20   \n",
       "2  Great food right down the street, long line si...  2017-01-28 00:03:26   \n",
       "3  Terrible terrible service I waited 30 minutes ...  2017-01-15 05:55:07   \n",
       "\n",
       "   ...  postal_code   latitude   longitude stars_y review_count is_open  \\\n",
       "0  ...        89074  36.035068 -115.046353     3.5          159       1   \n",
       "1  ...        89074  36.035068 -115.046353     3.5          159       1   \n",
       "2  ...        89074  36.035068 -115.046353     3.5          159       1   \n",
       "3  ...        89074  36.035068 -115.046353     3.5          159       1   \n",
       "\n",
       "                                          attributes  \\\n",
       "0  {'DriveThru': 'True', 'GoodForMeal': \"{'desser...   \n",
       "1  {'DriveThru': 'True', 'GoodForMeal': \"{'desser...   \n",
       "2  {'DriveThru': 'True', 'GoodForMeal': \"{'desser...   \n",
       "3  {'DriveThru': 'True', 'GoodForMeal': \"{'desser...   \n",
       "\n",
       "                                          categories  \\\n",
       "0  Fast Food, Restaurants, Sandwiches, Chicken Wings   \n",
       "1  Fast Food, Restaurants, Sandwiches, Chicken Wings   \n",
       "2  Fast Food, Restaurants, Sandwiches, Chicken Wings   \n",
       "3  Fast Food, Restaurants, Sandwiches, Chicken Wings   \n",
       "\n",
       "                                               hours  text length  \n",
       "0  {'Monday': '9:0-0:0', 'Tuesday': '9:0-0:0', 'W...          841  \n",
       "1  {'Monday': '9:0-0:0', 'Tuesday': '9:0-0:0', 'W...          222  \n",
       "2  {'Monday': '9:0-0:0', 'Tuesday': '9:0-0:0', 'W...          330  \n",
       "3  {'Monday': '9:0-0:0', 'Tuesday': '9:0-0:0', 'W...          370  \n",
       "\n",
       "[4 rows x 26 columns]"
      ]
     },
     "execution_count": 338,
     "metadata": {},
     "output_type": "execute_result"
    }
   ],
   "source": [
    "# Strip category list of any extra white spaces\n",
    "df_food = df_food_rev.copy()\n",
    "catlist_clean = df_food['categories'].str.replace(' ', '' ).str.replace(',', ', ')\n",
    "df_food.head(4)"
   ]
  },
  {
   "cell_type": "code",
   "execution_count": 339,
   "metadata": {},
   "outputs": [],
   "source": [
    "# Add in category column that has been cleaned of white spaces\n",
    "df_food['categories_filtered']= catlist_clean"
   ]
  },
  {
   "cell_type": "code",
   "execution_count": 340,
   "metadata": {},
   "outputs": [
    {
     "name": "stdout",
     "output_type": "stream",
     "text": [
      "2638450\n",
      "2638450\n"
     ]
    }
   ],
   "source": [
    "# Create food type list corresponding to each row as this will be included as a separate column\n",
    "type_list = []\n",
    "\n",
    "for x in df_food['categories_filtered']:\n",
    "    sublist = []\n",
    "    for i in food_types:\n",
    "        if i in x:\n",
    "            sublist.append(i)\n",
    "    \n",
    "    if len(sublist) == 0:\n",
    "        type_list.append(['Undefined'])\n",
    "    else:\n",
    "        type_list.append(sublist)  \n",
    "\n",
    "print(len(type_list))\n",
    "print(df_food.shape[0])\n"
   ]
  },
  {
   "cell_type": "code",
   "execution_count": 341,
   "metadata": {},
   "outputs": [
    {
     "name": "stdout",
     "output_type": "stream",
     "text": [
      "2638450\n",
      "2638450\n"
     ]
    }
   ],
   "source": [
    "# Create venue list corresponding to each row as this will be included as a separate column\n",
    "venue_list = []\n",
    "\n",
    "for x in  df_food['categories_filtered']:\n",
    "    sublist = []\n",
    "    for i in venue_types:\n",
    "        if i in x:\n",
    "            sublist.append(i)\n",
    "    \n",
    "    if len(sublist) == 0:\n",
    "        venue_list.append(['Restaurant'])\n",
    "    else:\n",
    "        venue_list.append(sublist)  \n",
    "\n",
    "print(len(venue_list))\n",
    "print(df_food.shape[0])\n"
   ]
  },
  {
   "cell_type": "code",
   "execution_count": 21,
   "metadata": {},
   "outputs": [
    {
     "name": "stdout",
     "output_type": "stream",
     "text": [
      "2638450\n",
      "2638450\n"
     ]
    }
   ],
   "source": [
    "# Create ethnicity list corresponding to each row as this will be included as a separate column\n",
    "ethnicity_list = []\n",
    "\n",
    "for x in  df_food['categories_filtered']:\n",
    "    sublist = []\n",
    "    for i in ethnicities:\n",
    "        if i in x:\n",
    "            sublist.append(i)\n",
    "    \n",
    "    if len(sublist) == 0:\n",
    "        ethnicity_list.append(['Undefined'])\n",
    "    else:\n",
    "        ethnicity_list.append(sublist)  \n",
    "print(len(ethnicity_list))\n",
    "print(df_food.shape[0])\n"
   ]
  },
  {
   "cell_type": "code",
   "execution_count": 343,
   "metadata": {},
   "outputs": [],
   "source": [
    "# Insert lists as columns\n",
    "df_food['food_type'] = type_list\n",
    "df_food['ethnicity'] = ethnicity_list\n",
    "df_food['venue'] = venue_list\n"
   ]
  },
  {
   "cell_type": "code",
   "execution_count": 344,
   "metadata": {},
   "outputs": [],
   "source": [
    "# Include extracted words for all three subcategories back into one column and exclude any rows for which there is \n",
    "# 'Undefined' when ethnicity or food types are not specified for the restaurant\n",
    "df_food['food_comb'] = (df_food['food_type']+df_food['ethnicity']+df_food['venue']).apply(lambda x: ', '.join(x))\n",
    "df_food['food_comb'] = df_food['food_comb'].str.replace('Undefined,', '')\n"
   ]
  },
  {
   "cell_type": "code",
   "execution_count": 345,
   "metadata": {},
   "outputs": [
    {
     "data": {
      "text/html": [
       "<div>\n",
       "<style scoped>\n",
       "    .dataframe tbody tr th:only-of-type {\n",
       "        vertical-align: middle;\n",
       "    }\n",
       "\n",
       "    .dataframe tbody tr th {\n",
       "        vertical-align: top;\n",
       "    }\n",
       "\n",
       "    .dataframe thead th {\n",
       "        text-align: right;\n",
       "    }\n",
       "</style>\n",
       "<table border=\"1\" class=\"dataframe\">\n",
       "  <thead>\n",
       "    <tr style=\"text-align: right;\">\n",
       "      <th></th>\n",
       "      <th>Unnamed: 0_x</th>\n",
       "      <th>review_id</th>\n",
       "      <th>user_id</th>\n",
       "      <th>business_id</th>\n",
       "      <th>stars</th>\n",
       "      <th>useful</th>\n",
       "      <th>funny</th>\n",
       "      <th>cool</th>\n",
       "      <th>text</th>\n",
       "      <th>date</th>\n",
       "      <th>...</th>\n",
       "      <th>is_open</th>\n",
       "      <th>attributes</th>\n",
       "      <th>categories</th>\n",
       "      <th>hours</th>\n",
       "      <th>text length</th>\n",
       "      <th>categories_filtered</th>\n",
       "      <th>food_type</th>\n",
       "      <th>ethnicity</th>\n",
       "      <th>venue</th>\n",
       "      <th>food_comb</th>\n",
       "    </tr>\n",
       "  </thead>\n",
       "  <tbody>\n",
       "    <tr>\n",
       "      <th>0</th>\n",
       "      <td>4</td>\n",
       "      <td>6TdNDKywdbjoTkizeMce8A</td>\n",
       "      <td>UgMW8bLE0QMJDCkQ1Ax5Mg</td>\n",
       "      <td>IS4cv902ykd8wj1TR0N3-A</td>\n",
       "      <td>4.0</td>\n",
       "      <td>0.0</td>\n",
       "      <td>0.0</td>\n",
       "      <td>0.0</td>\n",
       "      <td>Oh happy day, finally have a Canes near my cas...</td>\n",
       "      <td>2017-01-14 21:56:57</td>\n",
       "      <td>...</td>\n",
       "      <td>1</td>\n",
       "      <td>{'DriveThru': 'True', 'GoodForMeal': \"{'desser...</td>\n",
       "      <td>Fast Food, Restaurants, Sandwiches, Chicken Wings</td>\n",
       "      <td>{'Monday': '9:0-0:0', 'Tuesday': '9:0-0:0', 'W...</td>\n",
       "      <td>841</td>\n",
       "      <td>FastFood, Restaurants, Sandwiches, ChickenWings</td>\n",
       "      <td>[ChickenWings, FastFood, Sandwiches]</td>\n",
       "      <td>[Undefined]</td>\n",
       "      <td>[Restaurant]</td>\n",
       "      <td>ChickenWings, FastFood, Sandwiches,  Restaurant</td>\n",
       "    </tr>\n",
       "    <tr>\n",
       "      <th>1</th>\n",
       "      <td>3103</td>\n",
       "      <td>gQuXBrYo8dqY7h_rfDzwLw</td>\n",
       "      <td>46TNf-5T5EcNFRJPYv_nrw</td>\n",
       "      <td>IS4cv902ykd8wj1TR0N3-A</td>\n",
       "      <td>4.0</td>\n",
       "      <td>0.0</td>\n",
       "      <td>0.0</td>\n",
       "      <td>0.0</td>\n",
       "      <td>Love the chicken. It's always hot and fresh ta...</td>\n",
       "      <td>2018-01-09 20:25:20</td>\n",
       "      <td>...</td>\n",
       "      <td>1</td>\n",
       "      <td>{'DriveThru': 'True', 'GoodForMeal': \"{'desser...</td>\n",
       "      <td>Fast Food, Restaurants, Sandwiches, Chicken Wings</td>\n",
       "      <td>{'Monday': '9:0-0:0', 'Tuesday': '9:0-0:0', 'W...</td>\n",
       "      <td>222</td>\n",
       "      <td>FastFood, Restaurants, Sandwiches, ChickenWings</td>\n",
       "      <td>[ChickenWings, FastFood, Sandwiches]</td>\n",
       "      <td>[Undefined]</td>\n",
       "      <td>[Restaurant]</td>\n",
       "      <td>ChickenWings, FastFood, Sandwiches,  Restaurant</td>\n",
       "    </tr>\n",
       "    <tr>\n",
       "      <th>2</th>\n",
       "      <td>3173</td>\n",
       "      <td>xkq0ekkZ39uSbb29LihkfQ</td>\n",
       "      <td>OTGWjBCELxkZ6lpS2OEtxQ</td>\n",
       "      <td>IS4cv902ykd8wj1TR0N3-A</td>\n",
       "      <td>3.0</td>\n",
       "      <td>0.0</td>\n",
       "      <td>1.0</td>\n",
       "      <td>0.0</td>\n",
       "      <td>Great food right down the street, long line si...</td>\n",
       "      <td>2017-01-28 00:03:26</td>\n",
       "      <td>...</td>\n",
       "      <td>1</td>\n",
       "      <td>{'DriveThru': 'True', 'GoodForMeal': \"{'desser...</td>\n",
       "      <td>Fast Food, Restaurants, Sandwiches, Chicken Wings</td>\n",
       "      <td>{'Monday': '9:0-0:0', 'Tuesday': '9:0-0:0', 'W...</td>\n",
       "      <td>330</td>\n",
       "      <td>FastFood, Restaurants, Sandwiches, ChickenWings</td>\n",
       "      <td>[ChickenWings, FastFood, Sandwiches]</td>\n",
       "      <td>[Undefined]</td>\n",
       "      <td>[Restaurant]</td>\n",
       "      <td>ChickenWings, FastFood, Sandwiches,  Restaurant</td>\n",
       "    </tr>\n",
       "    <tr>\n",
       "      <th>3</th>\n",
       "      <td>20520</td>\n",
       "      <td>m4AkgxXvb-GHuDK4b9i9sA</td>\n",
       "      <td>YvlcRfeulgtusMFBOQTWzw</td>\n",
       "      <td>IS4cv902ykd8wj1TR0N3-A</td>\n",
       "      <td>1.0</td>\n",
       "      <td>0.0</td>\n",
       "      <td>0.0</td>\n",
       "      <td>1.0</td>\n",
       "      <td>Terrible terrible service I waited 30 minutes ...</td>\n",
       "      <td>2017-01-15 05:55:07</td>\n",
       "      <td>...</td>\n",
       "      <td>1</td>\n",
       "      <td>{'DriveThru': 'True', 'GoodForMeal': \"{'desser...</td>\n",
       "      <td>Fast Food, Restaurants, Sandwiches, Chicken Wings</td>\n",
       "      <td>{'Monday': '9:0-0:0', 'Tuesday': '9:0-0:0', 'W...</td>\n",
       "      <td>370</td>\n",
       "      <td>FastFood, Restaurants, Sandwiches, ChickenWings</td>\n",
       "      <td>[ChickenWings, FastFood, Sandwiches]</td>\n",
       "      <td>[Undefined]</td>\n",
       "      <td>[Restaurant]</td>\n",
       "      <td>ChickenWings, FastFood, Sandwiches,  Restaurant</td>\n",
       "    </tr>\n",
       "  </tbody>\n",
       "</table>\n",
       "<p>4 rows × 31 columns</p>\n",
       "</div>"
      ],
      "text/plain": [
       "  Unnamed: 0_x               review_id                 user_id  \\\n",
       "0            4  6TdNDKywdbjoTkizeMce8A  UgMW8bLE0QMJDCkQ1Ax5Mg   \n",
       "1         3103  gQuXBrYo8dqY7h_rfDzwLw  46TNf-5T5EcNFRJPYv_nrw   \n",
       "2         3173  xkq0ekkZ39uSbb29LihkfQ  OTGWjBCELxkZ6lpS2OEtxQ   \n",
       "3        20520  m4AkgxXvb-GHuDK4b9i9sA  YvlcRfeulgtusMFBOQTWzw   \n",
       "\n",
       "              business_id  stars  useful  funny  cool  \\\n",
       "0  IS4cv902ykd8wj1TR0N3-A    4.0     0.0    0.0   0.0   \n",
       "1  IS4cv902ykd8wj1TR0N3-A    4.0     0.0    0.0   0.0   \n",
       "2  IS4cv902ykd8wj1TR0N3-A    3.0     0.0    1.0   0.0   \n",
       "3  IS4cv902ykd8wj1TR0N3-A    1.0     0.0    0.0   1.0   \n",
       "\n",
       "                                                text                 date  \\\n",
       "0  Oh happy day, finally have a Canes near my cas...  2017-01-14 21:56:57   \n",
       "1  Love the chicken. It's always hot and fresh ta...  2018-01-09 20:25:20   \n",
       "2  Great food right down the street, long line si...  2017-01-28 00:03:26   \n",
       "3  Terrible terrible service I waited 30 minutes ...  2017-01-15 05:55:07   \n",
       "\n",
       "   ...  is_open                                         attributes  \\\n",
       "0  ...        1  {'DriveThru': 'True', 'GoodForMeal': \"{'desser...   \n",
       "1  ...        1  {'DriveThru': 'True', 'GoodForMeal': \"{'desser...   \n",
       "2  ...        1  {'DriveThru': 'True', 'GoodForMeal': \"{'desser...   \n",
       "3  ...        1  {'DriveThru': 'True', 'GoodForMeal': \"{'desser...   \n",
       "\n",
       "                                          categories  \\\n",
       "0  Fast Food, Restaurants, Sandwiches, Chicken Wings   \n",
       "1  Fast Food, Restaurants, Sandwiches, Chicken Wings   \n",
       "2  Fast Food, Restaurants, Sandwiches, Chicken Wings   \n",
       "3  Fast Food, Restaurants, Sandwiches, Chicken Wings   \n",
       "\n",
       "                                               hours text length  \\\n",
       "0  {'Monday': '9:0-0:0', 'Tuesday': '9:0-0:0', 'W...         841   \n",
       "1  {'Monday': '9:0-0:0', 'Tuesday': '9:0-0:0', 'W...         222   \n",
       "2  {'Monday': '9:0-0:0', 'Tuesday': '9:0-0:0', 'W...         330   \n",
       "3  {'Monday': '9:0-0:0', 'Tuesday': '9:0-0:0', 'W...         370   \n",
       "\n",
       "                               categories_filtered  \\\n",
       "0  FastFood, Restaurants, Sandwiches, ChickenWings   \n",
       "1  FastFood, Restaurants, Sandwiches, ChickenWings   \n",
       "2  FastFood, Restaurants, Sandwiches, ChickenWings   \n",
       "3  FastFood, Restaurants, Sandwiches, ChickenWings   \n",
       "\n",
       "                              food_type    ethnicity         venue  \\\n",
       "0  [ChickenWings, FastFood, Sandwiches]  [Undefined]  [Restaurant]   \n",
       "1  [ChickenWings, FastFood, Sandwiches]  [Undefined]  [Restaurant]   \n",
       "2  [ChickenWings, FastFood, Sandwiches]  [Undefined]  [Restaurant]   \n",
       "3  [ChickenWings, FastFood, Sandwiches]  [Undefined]  [Restaurant]   \n",
       "\n",
       "                                         food_comb  \n",
       "0  ChickenWings, FastFood, Sandwiches,  Restaurant  \n",
       "1  ChickenWings, FastFood, Sandwiches,  Restaurant  \n",
       "2  ChickenWings, FastFood, Sandwiches,  Restaurant  \n",
       "3  ChickenWings, FastFood, Sandwiches,  Restaurant  \n",
       "\n",
       "[4 rows x 31 columns]"
      ]
     },
     "execution_count": 345,
     "metadata": {},
     "output_type": "execute_result"
    }
   ],
   "source": [
    "df_food.head(4)"
   ]
  },
  {
   "cell_type": "code",
   "execution_count": 346,
   "metadata": {},
   "outputs": [],
   "source": [
    "#Flatten the lists\n",
    "df_food_clean = df_food.drop(columns = ['categories'])\n",
    "df_food_clean['food_type'] = df_food_clean['food_type'].apply(lambda x: ', '.join(x))\n",
    "df_food_clean['venue'] = df_food_clean['venue'].apply(lambda x: ', '.join(x))\n",
    "df_food_clean['ethnicity']= df_food_clean['ethnicity'].apply(lambda x: ', '.join(x))"
   ]
  },
  {
   "cell_type": "code",
   "execution_count": 348,
   "metadata": {},
   "outputs": [],
   "source": [
    "df_food_clean['postal_code'].replace('', np.nan, inplace = True)\n",
    "df_food_clean.dropna(inplace = True)"
   ]
  },
  {
   "cell_type": "code",
   "execution_count": 349,
   "metadata": {},
   "outputs": [],
   "source": [
    "df_food_clean.reset_index(drop=True, inplace= True)\n"
   ]
  },
  {
   "cell_type": "code",
   "execution_count": 407,
   "metadata": {},
   "outputs": [
    {
     "data": {
      "text/plain": [
       "review_id              0\n",
       "user_id                0\n",
       "business_id            0\n",
       "stars                  0\n",
       "useful                 0\n",
       "funny                  0\n",
       "cool                   0\n",
       "text                   0\n",
       "date                   0\n",
       "year                   0\n",
       "Unnamed: 0_y           0\n",
       "name                   0\n",
       "address                0\n",
       "city                   0\n",
       "state                  0\n",
       "postal_code            0\n",
       "latitude               0\n",
       "longitude              0\n",
       "stars_y                0\n",
       "review_count           0\n",
       "is_open                0\n",
       "attributes             0\n",
       "hours                  0\n",
       "text length            0\n",
       "categories_filtered    0\n",
       "food_type              0\n",
       "ethnicity              0\n",
       "venue                  0\n",
       "food_comb              0\n",
       "dtype: int64"
      ]
     },
     "execution_count": 407,
     "metadata": {},
     "output_type": "execute_result"
    }
   ],
   "source": [
    "df_food_clean.isnull().sum()"
   ]
  },
  {
   "cell_type": "code",
   "execution_count": 350,
   "metadata": {},
   "outputs": [
    {
     "data": {
      "text/html": [
       "<div>\n",
       "<style scoped>\n",
       "    .dataframe tbody tr th:only-of-type {\n",
       "        vertical-align: middle;\n",
       "    }\n",
       "\n",
       "    .dataframe tbody tr th {\n",
       "        vertical-align: top;\n",
       "    }\n",
       "\n",
       "    .dataframe thead th {\n",
       "        text-align: right;\n",
       "    }\n",
       "</style>\n",
       "<table border=\"1\" class=\"dataframe\">\n",
       "  <thead>\n",
       "    <tr style=\"text-align: right;\">\n",
       "      <th></th>\n",
       "      <th>Unnamed: 0_x</th>\n",
       "      <th>review_id</th>\n",
       "      <th>user_id</th>\n",
       "      <th>business_id</th>\n",
       "      <th>stars</th>\n",
       "      <th>useful</th>\n",
       "      <th>funny</th>\n",
       "      <th>cool</th>\n",
       "      <th>text</th>\n",
       "      <th>date</th>\n",
       "      <th>...</th>\n",
       "      <th>review_count</th>\n",
       "      <th>is_open</th>\n",
       "      <th>attributes</th>\n",
       "      <th>hours</th>\n",
       "      <th>text length</th>\n",
       "      <th>categories_filtered</th>\n",
       "      <th>food_type</th>\n",
       "      <th>ethnicity</th>\n",
       "      <th>venue</th>\n",
       "      <th>food_comb</th>\n",
       "    </tr>\n",
       "  </thead>\n",
       "  <tbody>\n",
       "    <tr>\n",
       "      <th>0</th>\n",
       "      <td>4</td>\n",
       "      <td>6TdNDKywdbjoTkizeMce8A</td>\n",
       "      <td>UgMW8bLE0QMJDCkQ1Ax5Mg</td>\n",
       "      <td>IS4cv902ykd8wj1TR0N3-A</td>\n",
       "      <td>4.0</td>\n",
       "      <td>0.0</td>\n",
       "      <td>0.0</td>\n",
       "      <td>0.0</td>\n",
       "      <td>Oh happy day, finally have a Canes near my cas...</td>\n",
       "      <td>2017-01-14 21:56:57</td>\n",
       "      <td>...</td>\n",
       "      <td>159</td>\n",
       "      <td>1</td>\n",
       "      <td>{'DriveThru': 'True', 'GoodForMeal': \"{'desser...</td>\n",
       "      <td>{'Monday': '9:0-0:0', 'Tuesday': '9:0-0:0', 'W...</td>\n",
       "      <td>841</td>\n",
       "      <td>FastFood, Restaurants, Sandwiches, ChickenWings</td>\n",
       "      <td>ChickenWings, FastFood, Sandwiches</td>\n",
       "      <td>Undefined</td>\n",
       "      <td>Restaurant</td>\n",
       "      <td>ChickenWings, FastFood, Sandwiches,  Restaurant</td>\n",
       "    </tr>\n",
       "    <tr>\n",
       "      <th>1</th>\n",
       "      <td>3103</td>\n",
       "      <td>gQuXBrYo8dqY7h_rfDzwLw</td>\n",
       "      <td>46TNf-5T5EcNFRJPYv_nrw</td>\n",
       "      <td>IS4cv902ykd8wj1TR0N3-A</td>\n",
       "      <td>4.0</td>\n",
       "      <td>0.0</td>\n",
       "      <td>0.0</td>\n",
       "      <td>0.0</td>\n",
       "      <td>Love the chicken. It's always hot and fresh ta...</td>\n",
       "      <td>2018-01-09 20:25:20</td>\n",
       "      <td>...</td>\n",
       "      <td>159</td>\n",
       "      <td>1</td>\n",
       "      <td>{'DriveThru': 'True', 'GoodForMeal': \"{'desser...</td>\n",
       "      <td>{'Monday': '9:0-0:0', 'Tuesday': '9:0-0:0', 'W...</td>\n",
       "      <td>222</td>\n",
       "      <td>FastFood, Restaurants, Sandwiches, ChickenWings</td>\n",
       "      <td>ChickenWings, FastFood, Sandwiches</td>\n",
       "      <td>Undefined</td>\n",
       "      <td>Restaurant</td>\n",
       "      <td>ChickenWings, FastFood, Sandwiches,  Restaurant</td>\n",
       "    </tr>\n",
       "    <tr>\n",
       "      <th>2</th>\n",
       "      <td>3173</td>\n",
       "      <td>xkq0ekkZ39uSbb29LihkfQ</td>\n",
       "      <td>OTGWjBCELxkZ6lpS2OEtxQ</td>\n",
       "      <td>IS4cv902ykd8wj1TR0N3-A</td>\n",
       "      <td>3.0</td>\n",
       "      <td>0.0</td>\n",
       "      <td>1.0</td>\n",
       "      <td>0.0</td>\n",
       "      <td>Great food right down the street, long line si...</td>\n",
       "      <td>2017-01-28 00:03:26</td>\n",
       "      <td>...</td>\n",
       "      <td>159</td>\n",
       "      <td>1</td>\n",
       "      <td>{'DriveThru': 'True', 'GoodForMeal': \"{'desser...</td>\n",
       "      <td>{'Monday': '9:0-0:0', 'Tuesday': '9:0-0:0', 'W...</td>\n",
       "      <td>330</td>\n",
       "      <td>FastFood, Restaurants, Sandwiches, ChickenWings</td>\n",
       "      <td>ChickenWings, FastFood, Sandwiches</td>\n",
       "      <td>Undefined</td>\n",
       "      <td>Restaurant</td>\n",
       "      <td>ChickenWings, FastFood, Sandwiches,  Restaurant</td>\n",
       "    </tr>\n",
       "    <tr>\n",
       "      <th>3</th>\n",
       "      <td>20520</td>\n",
       "      <td>m4AkgxXvb-GHuDK4b9i9sA</td>\n",
       "      <td>YvlcRfeulgtusMFBOQTWzw</td>\n",
       "      <td>IS4cv902ykd8wj1TR0N3-A</td>\n",
       "      <td>1.0</td>\n",
       "      <td>0.0</td>\n",
       "      <td>0.0</td>\n",
       "      <td>1.0</td>\n",
       "      <td>Terrible terrible service I waited 30 minutes ...</td>\n",
       "      <td>2017-01-15 05:55:07</td>\n",
       "      <td>...</td>\n",
       "      <td>159</td>\n",
       "      <td>1</td>\n",
       "      <td>{'DriveThru': 'True', 'GoodForMeal': \"{'desser...</td>\n",
       "      <td>{'Monday': '9:0-0:0', 'Tuesday': '9:0-0:0', 'W...</td>\n",
       "      <td>370</td>\n",
       "      <td>FastFood, Restaurants, Sandwiches, ChickenWings</td>\n",
       "      <td>ChickenWings, FastFood, Sandwiches</td>\n",
       "      <td>Undefined</td>\n",
       "      <td>Restaurant</td>\n",
       "      <td>ChickenWings, FastFood, Sandwiches,  Restaurant</td>\n",
       "    </tr>\n",
       "  </tbody>\n",
       "</table>\n",
       "<p>4 rows × 30 columns</p>\n",
       "</div>"
      ],
      "text/plain": [
       "  Unnamed: 0_x               review_id                 user_id  \\\n",
       "0            4  6TdNDKywdbjoTkizeMce8A  UgMW8bLE0QMJDCkQ1Ax5Mg   \n",
       "1         3103  gQuXBrYo8dqY7h_rfDzwLw  46TNf-5T5EcNFRJPYv_nrw   \n",
       "2         3173  xkq0ekkZ39uSbb29LihkfQ  OTGWjBCELxkZ6lpS2OEtxQ   \n",
       "3        20520  m4AkgxXvb-GHuDK4b9i9sA  YvlcRfeulgtusMFBOQTWzw   \n",
       "\n",
       "              business_id  stars  useful  funny  cool  \\\n",
       "0  IS4cv902ykd8wj1TR0N3-A    4.0     0.0    0.0   0.0   \n",
       "1  IS4cv902ykd8wj1TR0N3-A    4.0     0.0    0.0   0.0   \n",
       "2  IS4cv902ykd8wj1TR0N3-A    3.0     0.0    1.0   0.0   \n",
       "3  IS4cv902ykd8wj1TR0N3-A    1.0     0.0    0.0   1.0   \n",
       "\n",
       "                                                text                 date  \\\n",
       "0  Oh happy day, finally have a Canes near my cas...  2017-01-14 21:56:57   \n",
       "1  Love the chicken. It's always hot and fresh ta...  2018-01-09 20:25:20   \n",
       "2  Great food right down the street, long line si...  2017-01-28 00:03:26   \n",
       "3  Terrible terrible service I waited 30 minutes ...  2017-01-15 05:55:07   \n",
       "\n",
       "   ...  review_count  is_open  \\\n",
       "0  ...           159        1   \n",
       "1  ...           159        1   \n",
       "2  ...           159        1   \n",
       "3  ...           159        1   \n",
       "\n",
       "                                          attributes  \\\n",
       "0  {'DriveThru': 'True', 'GoodForMeal': \"{'desser...   \n",
       "1  {'DriveThru': 'True', 'GoodForMeal': \"{'desser...   \n",
       "2  {'DriveThru': 'True', 'GoodForMeal': \"{'desser...   \n",
       "3  {'DriveThru': 'True', 'GoodForMeal': \"{'desser...   \n",
       "\n",
       "                                               hours text length  \\\n",
       "0  {'Monday': '9:0-0:0', 'Tuesday': '9:0-0:0', 'W...         841   \n",
       "1  {'Monday': '9:0-0:0', 'Tuesday': '9:0-0:0', 'W...         222   \n",
       "2  {'Monday': '9:0-0:0', 'Tuesday': '9:0-0:0', 'W...         330   \n",
       "3  {'Monday': '9:0-0:0', 'Tuesday': '9:0-0:0', 'W...         370   \n",
       "\n",
       "                               categories_filtered  \\\n",
       "0  FastFood, Restaurants, Sandwiches, ChickenWings   \n",
       "1  FastFood, Restaurants, Sandwiches, ChickenWings   \n",
       "2  FastFood, Restaurants, Sandwiches, ChickenWings   \n",
       "3  FastFood, Restaurants, Sandwiches, ChickenWings   \n",
       "\n",
       "                            food_type  ethnicity       venue  \\\n",
       "0  ChickenWings, FastFood, Sandwiches  Undefined  Restaurant   \n",
       "1  ChickenWings, FastFood, Sandwiches  Undefined  Restaurant   \n",
       "2  ChickenWings, FastFood, Sandwiches  Undefined  Restaurant   \n",
       "3  ChickenWings, FastFood, Sandwiches  Undefined  Restaurant   \n",
       "\n",
       "                                         food_comb  \n",
       "0  ChickenWings, FastFood, Sandwiches,  Restaurant  \n",
       "1  ChickenWings, FastFood, Sandwiches,  Restaurant  \n",
       "2  ChickenWings, FastFood, Sandwiches,  Restaurant  \n",
       "3  ChickenWings, FastFood, Sandwiches,  Restaurant  \n",
       "\n",
       "[4 rows x 30 columns]"
      ]
     },
     "execution_count": 350,
     "metadata": {},
     "output_type": "execute_result"
    }
   ],
   "source": [
    "df_food_clean.head(4)"
   ]
  },
  {
   "cell_type": "code",
   "execution_count": 351,
   "metadata": {},
   "outputs": [],
   "source": [
    "df_food_clean = df_food_clean.rename(columns = {'stars_x':'stars'})"
   ]
  },
  {
   "cell_type": "code",
   "execution_count": 352,
   "metadata": {},
   "outputs": [],
   "source": [
    "df_food_clean.drop(['Unnamed: 0_x'], axis = True, inplace = True)"
   ]
  },
  {
   "cell_type": "code",
   "execution_count": 409,
   "metadata": {},
   "outputs": [],
   "source": [
    "# Binarize reviews as Good or Bad ('yes' or 'no') that includes 1 and 2 stars bad, and 4 and 5 stars as good.\n",
    "# Neutrals were left out since in a pilot study (not shown) did not help the model performance\n",
    "df_food_clean['stars'].replace(3,np.nan, inplace =True)\n",
    "df_food_clean.dropna(inplace=True)\n",
    "df_food_clean['star_binary'] = np.where(df_food_clean['stars'] <3, 'no', 'yes')\n"
   ]
  },
  {
   "cell_type": "code",
   "execution_count": 410,
   "metadata": {},
   "outputs": [
    {
     "data": {
      "text/plain": [
       "<matplotlib.axes._subplots.AxesSubplot at 0x7f98962e9f90>"
      ]
     },
     "execution_count": 410,
     "metadata": {},
     "output_type": "execute_result"
    },
    {
     "data": {
      "image/png": "[encoded data removed]",
      "text/plain": [
       "<Figure size 432x288 with 1 Axes>"
      ]
     },
     "metadata": {
      "needs_background": "light"
     },
     "output_type": "display_data"
    }
   ],
   "source": [
    "# Check for class imbalance in review categories\n",
    "df_food_clean['star_binary'].value_counts().plot.bar()"
   ]
  },
  {
   "cell_type": "code",
   "execution_count": 411,
   "metadata": {},
   "outputs": [],
   "source": [
    "# Create column with combined state and review status, in case it will by used later on\n",
    "df_food_clean['state_star'] = df_food_clean['state'] + df_food_clean['star_binary']\n"
   ]
  },
  {
   "cell_type": "code",
   "execution_count": 78,
   "metadata": {},
   "outputs": [],
   "source": [
    "df_food_v2 =df_food_clean.reset_index(drop=True)"
   ]
  },
  {
   "cell_type": "code",
   "execution_count": 79,
   "metadata": {},
   "outputs": [],
   "source": [
    "df_food_v3 = df_food_v2.copy()"
   ]
  },
  {
   "cell_type": "code",
   "execution_count": 412,
   "metadata": {},
   "outputs": [
    {
     "data": {
      "text/html": [
       "<div>\n",
       "<style scoped>\n",
       "    .dataframe tbody tr th:only-of-type {\n",
       "        vertical-align: middle;\n",
       "    }\n",
       "\n",
       "    .dataframe tbody tr th {\n",
       "        vertical-align: top;\n",
       "    }\n",
       "\n",
       "    .dataframe thead th {\n",
       "        text-align: right;\n",
       "    }\n",
       "</style>\n",
       "<table border=\"1\" class=\"dataframe\">\n",
       "  <thead>\n",
       "    <tr style=\"text-align: right;\">\n",
       "      <th></th>\n",
       "      <th>review_id</th>\n",
       "      <th>user_id</th>\n",
       "      <th>business_id</th>\n",
       "      <th>stars</th>\n",
       "      <th>useful</th>\n",
       "      <th>funny</th>\n",
       "      <th>cool</th>\n",
       "      <th>text</th>\n",
       "      <th>date</th>\n",
       "      <th>year</th>\n",
       "      <th>...</th>\n",
       "      <th>attributes</th>\n",
       "      <th>hours</th>\n",
       "      <th>text length</th>\n",
       "      <th>categories_filtered</th>\n",
       "      <th>food_type</th>\n",
       "      <th>ethnicity</th>\n",
       "      <th>venue</th>\n",
       "      <th>food_comb</th>\n",
       "      <th>star_binary</th>\n",
       "      <th>state_star</th>\n",
       "    </tr>\n",
       "  </thead>\n",
       "  <tbody>\n",
       "    <tr>\n",
       "      <th>0</th>\n",
       "      <td>6TdNDKywdbjoTkizeMce8A</td>\n",
       "      <td>UgMW8bLE0QMJDCkQ1Ax5Mg</td>\n",
       "      <td>IS4cv902ykd8wj1TR0N3-A</td>\n",
       "      <td>4.0</td>\n",
       "      <td>0.0</td>\n",
       "      <td>0.0</td>\n",
       "      <td>0.0</td>\n",
       "      <td>Oh happy day, finally have a Canes near my cas...</td>\n",
       "      <td>2017-01-14 21:56:57</td>\n",
       "      <td>2017.0</td>\n",
       "      <td>...</td>\n",
       "      <td>{'DriveThru': 'True', 'GoodForMeal': \"{'desser...</td>\n",
       "      <td>{'Monday': '9:0-0:0', 'Tuesday': '9:0-0:0', 'W...</td>\n",
       "      <td>841</td>\n",
       "      <td>FastFood, Restaurants, Sandwiches, ChickenWings</td>\n",
       "      <td>ChickenWings, FastFood, Sandwiches</td>\n",
       "      <td>Undefined</td>\n",
       "      <td>Restaurant</td>\n",
       "      <td>ChickenWings, FastFood, Sandwiches,  Restaurant</td>\n",
       "      <td>yes</td>\n",
       "      <td>NVyes</td>\n",
       "    </tr>\n",
       "    <tr>\n",
       "      <th>1</th>\n",
       "      <td>gQuXBrYo8dqY7h_rfDzwLw</td>\n",
       "      <td>46TNf-5T5EcNFRJPYv_nrw</td>\n",
       "      <td>IS4cv902ykd8wj1TR0N3-A</td>\n",
       "      <td>4.0</td>\n",
       "      <td>0.0</td>\n",
       "      <td>0.0</td>\n",
       "      <td>0.0</td>\n",
       "      <td>Love the chicken. It's always hot and fresh ta...</td>\n",
       "      <td>2018-01-09 20:25:20</td>\n",
       "      <td>2018.0</td>\n",
       "      <td>...</td>\n",
       "      <td>{'DriveThru': 'True', 'GoodForMeal': \"{'desser...</td>\n",
       "      <td>{'Monday': '9:0-0:0', 'Tuesday': '9:0-0:0', 'W...</td>\n",
       "      <td>222</td>\n",
       "      <td>FastFood, Restaurants, Sandwiches, ChickenWings</td>\n",
       "      <td>ChickenWings, FastFood, Sandwiches</td>\n",
       "      <td>Undefined</td>\n",
       "      <td>Restaurant</td>\n",
       "      <td>ChickenWings, FastFood, Sandwiches,  Restaurant</td>\n",
       "      <td>yes</td>\n",
       "      <td>NVyes</td>\n",
       "    </tr>\n",
       "    <tr>\n",
       "      <th>2</th>\n",
       "      <td>m4AkgxXvb-GHuDK4b9i9sA</td>\n",
       "      <td>YvlcRfeulgtusMFBOQTWzw</td>\n",
       "      <td>IS4cv902ykd8wj1TR0N3-A</td>\n",
       "      <td>1.0</td>\n",
       "      <td>0.0</td>\n",
       "      <td>0.0</td>\n",
       "      <td>1.0</td>\n",
       "      <td>Terrible terrible service I waited 30 minutes ...</td>\n",
       "      <td>2017-01-15 05:55:07</td>\n",
       "      <td>2017.0</td>\n",
       "      <td>...</td>\n",
       "      <td>{'DriveThru': 'True', 'GoodForMeal': \"{'desser...</td>\n",
       "      <td>{'Monday': '9:0-0:0', 'Tuesday': '9:0-0:0', 'W...</td>\n",
       "      <td>370</td>\n",
       "      <td>FastFood, Restaurants, Sandwiches, ChickenWings</td>\n",
       "      <td>ChickenWings, FastFood, Sandwiches</td>\n",
       "      <td>Undefined</td>\n",
       "      <td>Restaurant</td>\n",
       "      <td>ChickenWings, FastFood, Sandwiches,  Restaurant</td>\n",
       "      <td>no</td>\n",
       "      <td>NVno</td>\n",
       "    </tr>\n",
       "  </tbody>\n",
       "</table>\n",
       "<p>3 rows × 31 columns</p>\n",
       "</div>"
      ],
      "text/plain": [
       "                review_id                 user_id             business_id  \\\n",
       "0  6TdNDKywdbjoTkizeMce8A  UgMW8bLE0QMJDCkQ1Ax5Mg  IS4cv902ykd8wj1TR0N3-A   \n",
       "1  gQuXBrYo8dqY7h_rfDzwLw  46TNf-5T5EcNFRJPYv_nrw  IS4cv902ykd8wj1TR0N3-A   \n",
       "2  m4AkgxXvb-GHuDK4b9i9sA  YvlcRfeulgtusMFBOQTWzw  IS4cv902ykd8wj1TR0N3-A   \n",
       "\n",
       "   stars  useful  funny  cool  \\\n",
       "0    4.0     0.0    0.0   0.0   \n",
       "1    4.0     0.0    0.0   0.0   \n",
       "2    1.0     0.0    0.0   1.0   \n",
       "\n",
       "                                                text                 date  \\\n",
       "0  Oh happy day, finally have a Canes near my cas...  2017-01-14 21:56:57   \n",
       "1  Love the chicken. It's always hot and fresh ta...  2018-01-09 20:25:20   \n",
       "2  Terrible terrible service I waited 30 minutes ...  2017-01-15 05:55:07   \n",
       "\n",
       "     year  ...                                         attributes  \\\n",
       "0  2017.0  ...  {'DriveThru': 'True', 'GoodForMeal': \"{'desser...   \n",
       "1  2018.0  ...  {'DriveThru': 'True', 'GoodForMeal': \"{'desser...   \n",
       "2  2017.0  ...  {'DriveThru': 'True', 'GoodForMeal': \"{'desser...   \n",
       "\n",
       "                                               hours text length  \\\n",
       "0  {'Monday': '9:0-0:0', 'Tuesday': '9:0-0:0', 'W...         841   \n",
       "1  {'Monday': '9:0-0:0', 'Tuesday': '9:0-0:0', 'W...         222   \n",
       "2  {'Monday': '9:0-0:0', 'Tuesday': '9:0-0:0', 'W...         370   \n",
       "\n",
       "                               categories_filtered  \\\n",
       "0  FastFood, Restaurants, Sandwiches, ChickenWings   \n",
       "1  FastFood, Restaurants, Sandwiches, ChickenWings   \n",
       "2  FastFood, Restaurants, Sandwiches, ChickenWings   \n",
       "\n",
       "                            food_type  ethnicity       venue  \\\n",
       "0  ChickenWings, FastFood, Sandwiches  Undefined  Restaurant   \n",
       "1  ChickenWings, FastFood, Sandwiches  Undefined  Restaurant   \n",
       "2  ChickenWings, FastFood, Sandwiches  Undefined  Restaurant   \n",
       "\n",
       "                                         food_comb  star_binary  state_star  \n",
       "0  ChickenWings, FastFood, Sandwiches,  Restaurant          yes       NVyes  \n",
       "1  ChickenWings, FastFood, Sandwiches,  Restaurant          yes       NVyes  \n",
       "2  ChickenWings, FastFood, Sandwiches,  Restaurant           no        NVno  \n",
       "\n",
       "[3 rows x 31 columns]"
      ]
     },
     "execution_count": 412,
     "metadata": {},
     "output_type": "execute_result"
    }
   ],
   "source": [
    "df_food_v3.head(3)"
   ]
  },
  {
   "cell_type": "code",
   "execution_count": 81,
   "metadata": {},
   "outputs": [],
   "source": [
    "# Count vectorize words from the combined category list associated across all reviews to do some word count analysis\n",
    "vectorizer = CountVectorizer(analyzer='word', min_df=200, max_features=50)\n",
    "Xvec = vectorizer.fit_transform(df_food_v3['food_comb'])\n",
    "bow_df = pd.DataFrame(Xvec.toarray(), columns=vectorizer.get_feature_names())"
   ]
  },
  {
   "cell_type": "code",
   "execution_count": 82,
   "metadata": {},
   "outputs": [],
   "source": [
    "# Using the top 50 occuring words, with a minimum instance of 200, create table of word counts for the dataset\n",
    "word_count_table = pd.concat([bow_df, df_food_v3['state']], axis = 1).set_index('state')"
   ]
  },
  {
   "cell_type": "code",
   "execution_count": 83,
   "metadata": {},
   "outputs": [
    {
     "data": {
      "text/plain": [
       "Index(['american', 'asianfusion', 'bakeries', 'barbeque', 'breakfast',\n",
       "       'brunch', 'buffets', 'burgers', 'cafes', 'chickenwings', 'chinese',\n",
       "       'coffee', 'comfortfood', 'delis', 'desserts', 'diners', 'fastfood',\n",
       "       'french', 'frozenyogurt', 'gastropubs', 'icecream', 'indian', 'italian',\n",
       "       'japanese', 'juicebars', 'korean', 'mediterranean', 'mexican', 'new',\n",
       "       'noodles', 'pizza', 'restaurant', 'salad', 'sandwiches', 'seafood',\n",
       "       'smallplates', 'smoothies', 'soup', 'southern', 'specialtyfood',\n",
       "       'steakhouses', 'sushibars', 'tacos', 'tapas', 'tea', 'thai',\n",
       "       'traditional', 'vegan', 'vegetarian', 'vietnamese'],\n",
       "      dtype='object')"
      ]
     },
     "execution_count": 83,
     "metadata": {},
     "output_type": "execute_result"
    }
   ],
   "source": [
    "word_count_table.columns"
   ]
  },
  {
   "cell_type": "code",
   "execution_count": 84,
   "metadata": {},
   "outputs": [
    {
     "data": {
      "text/html": [
       "<div>\n",
       "<style scoped>\n",
       "    .dataframe tbody tr th:only-of-type {\n",
       "        vertical-align: middle;\n",
       "    }\n",
       "\n",
       "    .dataframe tbody tr th {\n",
       "        vertical-align: top;\n",
       "    }\n",
       "\n",
       "    .dataframe thead th {\n",
       "        text-align: right;\n",
       "    }\n",
       "</style>\n",
       "<table border=\"1\" class=\"dataframe\">\n",
       "  <thead>\n",
       "    <tr style=\"text-align: right;\">\n",
       "      <th></th>\n",
       "      <th>american</th>\n",
       "      <th>asianfusion</th>\n",
       "      <th>bakeries</th>\n",
       "      <th>barbeque</th>\n",
       "      <th>breakfast</th>\n",
       "      <th>brunch</th>\n",
       "      <th>buffets</th>\n",
       "      <th>burgers</th>\n",
       "      <th>cafes</th>\n",
       "      <th>chickenwings</th>\n",
       "      <th>...</th>\n",
       "      <th>steakhouses</th>\n",
       "      <th>sushibars</th>\n",
       "      <th>tacos</th>\n",
       "      <th>tapas</th>\n",
       "      <th>tea</th>\n",
       "      <th>thai</th>\n",
       "      <th>traditional</th>\n",
       "      <th>vegan</th>\n",
       "      <th>vegetarian</th>\n",
       "      <th>vietnamese</th>\n",
       "    </tr>\n",
       "    <tr>\n",
       "      <th>state</th>\n",
       "      <th></th>\n",
       "      <th></th>\n",
       "      <th></th>\n",
       "      <th></th>\n",
       "      <th></th>\n",
       "      <th></th>\n",
       "      <th></th>\n",
       "      <th></th>\n",
       "      <th></th>\n",
       "      <th></th>\n",
       "      <th></th>\n",
       "      <th></th>\n",
       "      <th></th>\n",
       "      <th></th>\n",
       "      <th></th>\n",
       "      <th></th>\n",
       "      <th></th>\n",
       "      <th></th>\n",
       "      <th></th>\n",
       "      <th></th>\n",
       "      <th></th>\n",
       "    </tr>\n",
       "  </thead>\n",
       "  <tbody>\n",
       "    <tr>\n",
       "      <th>AZ</th>\n",
       "      <td>0.389902</td>\n",
       "      <td>0.052072</td>\n",
       "      <td>0.036010</td>\n",
       "      <td>0.047468</td>\n",
       "      <td>0.197269</td>\n",
       "      <td>0.197269</td>\n",
       "      <td>0.016253</td>\n",
       "      <td>0.110699</td>\n",
       "      <td>0.061089</td>\n",
       "      <td>0.038577</td>\n",
       "      <td>...</td>\n",
       "      <td>0.046035</td>\n",
       "      <td>0.051468</td>\n",
       "      <td>0.031094</td>\n",
       "      <td>0.011694</td>\n",
       "      <td>0.112930</td>\n",
       "      <td>0.027932</td>\n",
       "      <td>0.198439</td>\n",
       "      <td>0.034279</td>\n",
       "      <td>0.044214</td>\n",
       "      <td>0.019884</td>\n",
       "    </tr>\n",
       "    <tr>\n",
       "      <th>NC</th>\n",
       "      <td>0.408258</td>\n",
       "      <td>0.062592</td>\n",
       "      <td>0.034514</td>\n",
       "      <td>0.060412</td>\n",
       "      <td>0.164774</td>\n",
       "      <td>0.164774</td>\n",
       "      <td>0.007417</td>\n",
       "      <td>0.098844</td>\n",
       "      <td>0.039963</td>\n",
       "      <td>0.062793</td>\n",
       "      <td>...</td>\n",
       "      <td>0.051384</td>\n",
       "      <td>0.061330</td>\n",
       "      <td>0.014828</td>\n",
       "      <td>0.032816</td>\n",
       "      <td>0.075521</td>\n",
       "      <td>0.022875</td>\n",
       "      <td>0.219995</td>\n",
       "      <td>0.019612</td>\n",
       "      <td>0.038994</td>\n",
       "      <td>0.024872</td>\n",
       "    </tr>\n",
       "    <tr>\n",
       "      <th>NV</th>\n",
       "      <td>0.366207</td>\n",
       "      <td>0.077740</td>\n",
       "      <td>0.034398</td>\n",
       "      <td>0.054786</td>\n",
       "      <td>0.203114</td>\n",
       "      <td>0.203114</td>\n",
       "      <td>0.049833</td>\n",
       "      <td>0.104097</td>\n",
       "      <td>0.051880</td>\n",
       "      <td>0.030407</td>\n",
       "      <td>...</td>\n",
       "      <td>0.078282</td>\n",
       "      <td>0.072522</td>\n",
       "      <td>0.018288</td>\n",
       "      <td>0.024876</td>\n",
       "      <td>0.078580</td>\n",
       "      <td>0.028885</td>\n",
       "      <td>0.185572</td>\n",
       "      <td>0.041900</td>\n",
       "      <td>0.028306</td>\n",
       "      <td>0.017324</td>\n",
       "    </tr>\n",
       "    <tr>\n",
       "      <th>OH</th>\n",
       "      <td>0.445273</td>\n",
       "      <td>0.032438</td>\n",
       "      <td>0.035113</td>\n",
       "      <td>0.041194</td>\n",
       "      <td>0.133366</td>\n",
       "      <td>0.133366</td>\n",
       "      <td>0.014623</td>\n",
       "      <td>0.098954</td>\n",
       "      <td>0.038743</td>\n",
       "      <td>0.033202</td>\n",
       "      <td>...</td>\n",
       "      <td>0.053318</td>\n",
       "      <td>0.040295</td>\n",
       "      <td>0.028331</td>\n",
       "      <td>0.015021</td>\n",
       "      <td>0.067774</td>\n",
       "      <td>0.025003</td>\n",
       "      <td>0.225562</td>\n",
       "      <td>0.026786</td>\n",
       "      <td>0.032948</td>\n",
       "      <td>0.011630</td>\n",
       "    </tr>\n",
       "    <tr>\n",
       "      <th>ON</th>\n",
       "      <td>0.100051</td>\n",
       "      <td>0.072564</td>\n",
       "      <td>0.036859</td>\n",
       "      <td>0.038343</td>\n",
       "      <td>0.105846</td>\n",
       "      <td>0.105846</td>\n",
       "      <td>0.014252</td>\n",
       "      <td>0.057912</td>\n",
       "      <td>0.068128</td>\n",
       "      <td>0.020198</td>\n",
       "      <td>...</td>\n",
       "      <td>0.029681</td>\n",
       "      <td>0.071624</td>\n",
       "      <td>0.000070</td>\n",
       "      <td>0.029149</td>\n",
       "      <td>0.097757</td>\n",
       "      <td>0.047264</td>\n",
       "      <td>0.067358</td>\n",
       "      <td>0.026855</td>\n",
       "      <td>0.030936</td>\n",
       "      <td>0.033389</td>\n",
       "    </tr>\n",
       "    <tr>\n",
       "      <th>PA</th>\n",
       "      <td>0.455616</td>\n",
       "      <td>0.027133</td>\n",
       "      <td>0.033079</td>\n",
       "      <td>0.028411</td>\n",
       "      <td>0.144621</td>\n",
       "      <td>0.144621</td>\n",
       "      <td>0.007122</td>\n",
       "      <td>0.085216</td>\n",
       "      <td>0.053742</td>\n",
       "      <td>0.037206</td>\n",
       "      <td>...</td>\n",
       "      <td>0.046079</td>\n",
       "      <td>0.045804</td>\n",
       "      <td>0.027304</td>\n",
       "      <td>0.008684</td>\n",
       "      <td>0.093110</td>\n",
       "      <td>0.040450</td>\n",
       "      <td>0.212882</td>\n",
       "      <td>0.026875</td>\n",
       "      <td>0.033791</td>\n",
       "      <td>0.008830</td>\n",
       "    </tr>\n",
       "    <tr>\n",
       "      <th>QC</th>\n",
       "      <td>0.085385</td>\n",
       "      <td>0.030652</td>\n",
       "      <td>0.050421</td>\n",
       "      <td>0.034192</td>\n",
       "      <td>0.179686</td>\n",
       "      <td>0.179686</td>\n",
       "      <td>0.004764</td>\n",
       "      <td>0.079208</td>\n",
       "      <td>0.120611</td>\n",
       "      <td>0.004880</td>\n",
       "      <td>...</td>\n",
       "      <td>0.040922</td>\n",
       "      <td>0.033026</td>\n",
       "      <td>0.000321</td>\n",
       "      <td>0.026310</td>\n",
       "      <td>0.101833</td>\n",
       "      <td>0.014860</td>\n",
       "      <td>0.042292</td>\n",
       "      <td>0.040791</td>\n",
       "      <td>0.037310</td>\n",
       "      <td>0.023368</td>\n",
       "    </tr>\n",
       "  </tbody>\n",
       "</table>\n",
       "<p>7 rows × 50 columns</p>\n",
       "</div>"
      ],
      "text/plain": [
       "       american  asianfusion  bakeries  barbeque  breakfast    brunch  \\\n",
       "state                                                                   \n",
       "AZ     0.389902     0.052072  0.036010  0.047468   0.197269  0.197269   \n",
       "NC     0.408258     0.062592  0.034514  0.060412   0.164774  0.164774   \n",
       "NV     0.366207     0.077740  0.034398  0.054786   0.203114  0.203114   \n",
       "OH     0.445273     0.032438  0.035113  0.041194   0.133366  0.133366   \n",
       "ON     0.100051     0.072564  0.036859  0.038343   0.105846  0.105846   \n",
       "PA     0.455616     0.027133  0.033079  0.028411   0.144621  0.144621   \n",
       "QC     0.085385     0.030652  0.050421  0.034192   0.179686  0.179686   \n",
       "\n",
       "        buffets   burgers     cafes  chickenwings  ...  steakhouses  \\\n",
       "state                                              ...                \n",
       "AZ     0.016253  0.110699  0.061089      0.038577  ...     0.046035   \n",
       "NC     0.007417  0.098844  0.039963      0.062793  ...     0.051384   \n",
       "NV     0.049833  0.104097  0.051880      0.030407  ...     0.078282   \n",
       "OH     0.014623  0.098954  0.038743      0.033202  ...     0.053318   \n",
       "ON     0.014252  0.057912  0.068128      0.020198  ...     0.029681   \n",
       "PA     0.007122  0.085216  0.053742      0.037206  ...     0.046079   \n",
       "QC     0.004764  0.079208  0.120611      0.004880  ...     0.040922   \n",
       "\n",
       "       sushibars     tacos     tapas       tea      thai  traditional  \\\n",
       "state                                                                   \n",
       "AZ      0.051468  0.031094  0.011694  0.112930  0.027932     0.198439   \n",
       "NC      0.061330  0.014828  0.032816  0.075521  0.022875     0.219995   \n",
       "NV      0.072522  0.018288  0.024876  0.078580  0.028885     0.185572   \n",
       "OH      0.040295  0.028331  0.015021  0.067774  0.025003     0.225562   \n",
       "ON      0.071624  0.000070  0.029149  0.097757  0.047264     0.067358   \n",
       "PA      0.045804  0.027304  0.008684  0.093110  0.040450     0.212882   \n",
       "QC      0.033026  0.000321  0.026310  0.101833  0.014860     0.042292   \n",
       "\n",
       "          vegan  vegetarian  vietnamese  \n",
       "state                                    \n",
       "AZ     0.034279    0.044214    0.019884  \n",
       "NC     0.019612    0.038994    0.024872  \n",
       "NV     0.041900    0.028306    0.017324  \n",
       "OH     0.026786    0.032948    0.011630  \n",
       "ON     0.026855    0.030936    0.033389  \n",
       "PA     0.026875    0.033791    0.008830  \n",
       "QC     0.040791    0.037310    0.023368  \n",
       "\n",
       "[7 rows x 50 columns]"
      ]
     },
     "execution_count": 84,
     "metadata": {},
     "output_type": "execute_result"
    }
   ],
   "source": [
    "word_count_table.groupby('state').mean()"
   ]
  },
  {
   "cell_type": "code",
   "execution_count": 169,
   "metadata": {},
   "outputs": [
    {
     "data": {
      "image/png": "[encoded data removed]",
      "text/plain": [
       "<Figure size 720x1080 with 1 Axes>"
      ]
     },
     "metadata": {
      "needs_background": "light"
     },
     "output_type": "display_data"
    }
   ],
   "source": [
    "# Visualize word counts for dataset that will be used as features for making model\n",
    "plt.figure(figsize = (10, 15))\n",
    "plt.barh(y = pd.DataFrame(word_count_table.groupby('state').sum().sum().sort_values(ascending = True)).index, width = pd.DataFrame(word_count_table.groupby('state').sum().sum().sort_values(ascending = True))[0])\n",
    "plt.xlabel('Number of times category word across all reviews')\n",
    "plt.title('Counts for Restaurant Categories Words')\n",
    "plt.show()"
   ]
  },
  {
   "cell_type": "code",
   "execution_count": 86,
   "metadata": {},
   "outputs": [
    {
     "data": {
      "text/plain": [
       "<matplotlib.axes._subplots.AxesSubplot at 0x7f9e58496c90>"
      ]
     },
     "execution_count": 86,
     "metadata": {},
     "output_type": "execute_result"
    },
    {
     "data": {
      "image/png": "[encoded data removed]",
      "text/plain": [
       "<Figure size 1080x360 with 2 Axes>"
      ]
     },
     "metadata": {
      "needs_background": "light"
     },
     "output_type": "display_data"
    }
   ],
   "source": [
    "# Word Count analysis by city\n",
    "plt.figure(figsize = (15,5))\n",
    "sns.heatmap(word_count_table.groupby('state').mean())"
   ]
  },
  {
   "cell_type": "markdown",
   "metadata": {},
   "source": [
    "From the heatmap above, it looks like some category words are associated differently between Canada and US, like 'French', which maps to Montreal and 'American', which is completely absent from Canadian categories. Also, Toronto seem to have enrichment in Chinese and Japanese restaurants."
   ]
  },
  {
   "cell_type": "markdown",
   "metadata": {},
   "source": [
    "<img src=\"images/model.png\" width=\"800\" height=\"400\">"
   ]
  },
  {
   "cell_type": "code",
   "execution_count": 212,
   "metadata": {},
   "outputs": [],
   "source": [
    "# TF-IDF vectorize words from the combined category list associated across all reviews \n",
    "vectorizertf = TfidfVectorizer(analyzer='word', min_df=50, max_features=50)\n",
    "Xvectf = vectorizertf.fit_transform(df_food_v3['food_comb'])\n",
    "tf_df = pd.DataFrame(Xvectf.toarray(), columns=vectorizertf.get_feature_names())"
   ]
  },
  {
   "cell_type": "code",
   "execution_count": 215,
   "metadata": {},
   "outputs": [],
   "source": [
    "df_vec = tf_df"
   ]
  },
  {
   "cell_type": "code",
   "execution_count": 216,
   "metadata": {},
   "outputs": [],
   "source": [
    "# Label X as features (the vectorized word columns) and y as the label (binary review rating--Good or Bad)\n",
    "X = df_vec\n",
    "y = df_food_v3['star_binary']"
   ]
  },
  {
   "cell_type": "code",
   "execution_count": 421,
   "metadata": {},
   "outputs": [],
   "source": [
    "# Check if vectorized words form interesting clusters by PCA\n",
    "pca = PCA()\n",
    "Xpca = pca.fit_transform(X)\n"
   ]
  },
  {
   "cell_type": "code",
   "execution_count": 420,
   "metadata": {},
   "outputs": [
    {
     "data": {
      "text/html": [
       "<div>\n",
       "<style scoped>\n",
       "    .dataframe tbody tr th:only-of-type {\n",
       "        vertical-align: middle;\n",
       "    }\n",
       "\n",
       "    .dataframe tbody tr th {\n",
       "        vertical-align: top;\n",
       "    }\n",
       "\n",
       "    .dataframe thead th {\n",
       "        text-align: right;\n",
       "    }\n",
       "</style>\n",
       "<table border=\"1\" class=\"dataframe\">\n",
       "  <thead>\n",
       "    <tr style=\"text-align: right;\">\n",
       "      <th></th>\n",
       "      <th>review_id</th>\n",
       "      <th>user_id</th>\n",
       "      <th>business_id</th>\n",
       "      <th>stars</th>\n",
       "      <th>useful</th>\n",
       "      <th>funny</th>\n",
       "      <th>cool</th>\n",
       "      <th>text</th>\n",
       "      <th>date</th>\n",
       "      <th>year</th>\n",
       "      <th>...</th>\n",
       "      <th>attributes</th>\n",
       "      <th>hours</th>\n",
       "      <th>text length</th>\n",
       "      <th>categories_filtered</th>\n",
       "      <th>food_type</th>\n",
       "      <th>ethnicity</th>\n",
       "      <th>venue</th>\n",
       "      <th>food_comb</th>\n",
       "      <th>star_binary</th>\n",
       "      <th>state_star</th>\n",
       "    </tr>\n",
       "  </thead>\n",
       "  <tbody>\n",
       "    <tr>\n",
       "      <th>0</th>\n",
       "      <td>6TdNDKywdbjoTkizeMce8A</td>\n",
       "      <td>UgMW8bLE0QMJDCkQ1Ax5Mg</td>\n",
       "      <td>IS4cv902ykd8wj1TR0N3-A</td>\n",
       "      <td>4.0</td>\n",
       "      <td>0.0</td>\n",
       "      <td>0.0</td>\n",
       "      <td>0.0</td>\n",
       "      <td>Oh happy day, finally have a Canes near my cas...</td>\n",
       "      <td>2017-01-14 21:56:57</td>\n",
       "      <td>2017.0</td>\n",
       "      <td>...</td>\n",
       "      <td>{'DriveThru': 'True', 'GoodForMeal': \"{'desser...</td>\n",
       "      <td>{'Monday': '9:0-0:0', 'Tuesday': '9:0-0:0', 'W...</td>\n",
       "      <td>841</td>\n",
       "      <td>FastFood, Restaurants, Sandwiches, ChickenWings</td>\n",
       "      <td>ChickenWings, FastFood, Sandwiches</td>\n",
       "      <td>Undefined</td>\n",
       "      <td>Restaurant</td>\n",
       "      <td>ChickenWings, FastFood, Sandwiches,  Restaurant</td>\n",
       "      <td>yes</td>\n",
       "      <td>NVyes</td>\n",
       "    </tr>\n",
       "    <tr>\n",
       "      <th>1</th>\n",
       "      <td>gQuXBrYo8dqY7h_rfDzwLw</td>\n",
       "      <td>46TNf-5T5EcNFRJPYv_nrw</td>\n",
       "      <td>IS4cv902ykd8wj1TR0N3-A</td>\n",
       "      <td>4.0</td>\n",
       "      <td>0.0</td>\n",
       "      <td>0.0</td>\n",
       "      <td>0.0</td>\n",
       "      <td>Love the chicken. It's always hot and fresh ta...</td>\n",
       "      <td>2018-01-09 20:25:20</td>\n",
       "      <td>2018.0</td>\n",
       "      <td>...</td>\n",
       "      <td>{'DriveThru': 'True', 'GoodForMeal': \"{'desser...</td>\n",
       "      <td>{'Monday': '9:0-0:0', 'Tuesday': '9:0-0:0', 'W...</td>\n",
       "      <td>222</td>\n",
       "      <td>FastFood, Restaurants, Sandwiches, ChickenWings</td>\n",
       "      <td>ChickenWings, FastFood, Sandwiches</td>\n",
       "      <td>Undefined</td>\n",
       "      <td>Restaurant</td>\n",
       "      <td>ChickenWings, FastFood, Sandwiches,  Restaurant</td>\n",
       "      <td>yes</td>\n",
       "      <td>NVyes</td>\n",
       "    </tr>\n",
       "    <tr>\n",
       "      <th>3</th>\n",
       "      <td>m4AkgxXvb-GHuDK4b9i9sA</td>\n",
       "      <td>YvlcRfeulgtusMFBOQTWzw</td>\n",
       "      <td>IS4cv902ykd8wj1TR0N3-A</td>\n",
       "      <td>1.0</td>\n",
       "      <td>0.0</td>\n",
       "      <td>0.0</td>\n",
       "      <td>1.0</td>\n",
       "      <td>Terrible terrible service I waited 30 minutes ...</td>\n",
       "      <td>2017-01-15 05:55:07</td>\n",
       "      <td>2017.0</td>\n",
       "      <td>...</td>\n",
       "      <td>{'DriveThru': 'True', 'GoodForMeal': \"{'desser...</td>\n",
       "      <td>{'Monday': '9:0-0:0', 'Tuesday': '9:0-0:0', 'W...</td>\n",
       "      <td>370</td>\n",
       "      <td>FastFood, Restaurants, Sandwiches, ChickenWings</td>\n",
       "      <td>ChickenWings, FastFood, Sandwiches</td>\n",
       "      <td>Undefined</td>\n",
       "      <td>Restaurant</td>\n",
       "      <td>ChickenWings, FastFood, Sandwiches,  Restaurant</td>\n",
       "      <td>no</td>\n",
       "      <td>NVno</td>\n",
       "    </tr>\n",
       "    <tr>\n",
       "      <th>5</th>\n",
       "      <td>tXIj_C8U4beIx78VFRYX7w</td>\n",
       "      <td>BDmxm7aeWFOLT35gSvkmig</td>\n",
       "      <td>IS4cv902ykd8wj1TR0N3-A</td>\n",
       "      <td>4.0</td>\n",
       "      <td>0.0</td>\n",
       "      <td>0.0</td>\n",
       "      <td>0.0</td>\n",
       "      <td>New location right down the road from home. Al...</td>\n",
       "      <td>2017-03-27 07:17:46</td>\n",
       "      <td>2017.0</td>\n",
       "      <td>...</td>\n",
       "      <td>{'DriveThru': 'True', 'GoodForMeal': \"{'desser...</td>\n",
       "      <td>{'Monday': '9:0-0:0', 'Tuesday': '9:0-0:0', 'W...</td>\n",
       "      <td>180</td>\n",
       "      <td>FastFood, Restaurants, Sandwiches, ChickenWings</td>\n",
       "      <td>ChickenWings, FastFood, Sandwiches</td>\n",
       "      <td>Undefined</td>\n",
       "      <td>Restaurant</td>\n",
       "      <td>ChickenWings, FastFood, Sandwiches,  Restaurant</td>\n",
       "      <td>yes</td>\n",
       "      <td>NVyes</td>\n",
       "    </tr>\n",
       "    <tr>\n",
       "      <th>6</th>\n",
       "      <td>BsMAYfPC0QmAo-cGUBAPBg</td>\n",
       "      <td>uP7zEIagg-ORBkbRQADsiQ</td>\n",
       "      <td>IS4cv902ykd8wj1TR0N3-A</td>\n",
       "      <td>4.0</td>\n",
       "      <td>0.0</td>\n",
       "      <td>0.0</td>\n",
       "      <td>1.0</td>\n",
       "      <td>Perfectly simple menu! The chicken was not oil...</td>\n",
       "      <td>2017-08-08 05:20:18</td>\n",
       "      <td>2017.0</td>\n",
       "      <td>...</td>\n",
       "      <td>{'DriveThru': 'True', 'GoodForMeal': \"{'desser...</td>\n",
       "      <td>{'Monday': '9:0-0:0', 'Tuesday': '9:0-0:0', 'W...</td>\n",
       "      <td>136</td>\n",
       "      <td>FastFood, Restaurants, Sandwiches, ChickenWings</td>\n",
       "      <td>ChickenWings, FastFood, Sandwiches</td>\n",
       "      <td>Undefined</td>\n",
       "      <td>Restaurant</td>\n",
       "      <td>ChickenWings, FastFood, Sandwiches,  Restaurant</td>\n",
       "      <td>yes</td>\n",
       "      <td>NVyes</td>\n",
       "    </tr>\n",
       "    <tr>\n",
       "      <th>...</th>\n",
       "      <td>...</td>\n",
       "      <td>...</td>\n",
       "      <td>...</td>\n",
       "      <td>...</td>\n",
       "      <td>...</td>\n",
       "      <td>...</td>\n",
       "      <td>...</td>\n",
       "      <td>...</td>\n",
       "      <td>...</td>\n",
       "      <td>...</td>\n",
       "      <td>...</td>\n",
       "      <td>...</td>\n",
       "      <td>...</td>\n",
       "      <td>...</td>\n",
       "      <td>...</td>\n",
       "      <td>...</td>\n",
       "      <td>...</td>\n",
       "      <td>...</td>\n",
       "      <td>...</td>\n",
       "      <td>...</td>\n",
       "      <td>...</td>\n",
       "    </tr>\n",
       "    <tr>\n",
       "      <th>2569382</th>\n",
       "      <td>zgdS5ggJ4D6Eers3VyXaQQ</td>\n",
       "      <td>8MYvRl2qr3Ys6URmLSLJDw</td>\n",
       "      <td>KzNG3-kfGCC01USMS2BZvA</td>\n",
       "      <td>4.0</td>\n",
       "      <td>0.0</td>\n",
       "      <td>1.0</td>\n",
       "      <td>0.0</td>\n",
       "      <td>Great wings! Food is good staff is friendly an...</td>\n",
       "      <td>2017-07-02 00:39:31</td>\n",
       "      <td>2017.0</td>\n",
       "      <td>...</td>\n",
       "      <td>{'BusinessAcceptsCreditCards': 'True', 'Caters...</td>\n",
       "      <td>{'Monday': '11:0-22:0', 'Tuesday': '11:0-22:0'...</td>\n",
       "      <td>73</td>\n",
       "      <td>Restaurants, Pizza</td>\n",
       "      <td>Pizza</td>\n",
       "      <td>Undefined</td>\n",
       "      <td>Restaurant</td>\n",
       "      <td>Pizza,  Restaurant</td>\n",
       "      <td>yes</td>\n",
       "      <td>PAyes</td>\n",
       "    </tr>\n",
       "    <tr>\n",
       "      <th>2569383</th>\n",
       "      <td>BoACFPqsa_wLvG61ZYJqTg</td>\n",
       "      <td>RuxZ18eNzPRU2rpVvzYGkA</td>\n",
       "      <td>KzNG3-kfGCC01USMS2BZvA</td>\n",
       "      <td>1.0</td>\n",
       "      <td>2.0</td>\n",
       "      <td>0.0</td>\n",
       "      <td>0.0</td>\n",
       "      <td>Wings were good, delivery drivers with Nazi ta...</td>\n",
       "      <td>2018-08-07 13:41:56</td>\n",
       "      <td>2018.0</td>\n",
       "      <td>...</td>\n",
       "      <td>{'BusinessAcceptsCreditCards': 'True', 'Caters...</td>\n",
       "      <td>{'Monday': '11:0-22:0', 'Tuesday': '11:0-22:0'...</td>\n",
       "      <td>136</td>\n",
       "      <td>Restaurants, Pizza</td>\n",
       "      <td>Pizza</td>\n",
       "      <td>Undefined</td>\n",
       "      <td>Restaurant</td>\n",
       "      <td>Pizza,  Restaurant</td>\n",
       "      <td>no</td>\n",
       "      <td>PAno</td>\n",
       "    </tr>\n",
       "    <tr>\n",
       "      <th>2569384</th>\n",
       "      <td>KWV3NOmZgnqmfns-bG1PVA</td>\n",
       "      <td>7K0kU03q2kWGD4I1ZsMznA</td>\n",
       "      <td>KzNG3-kfGCC01USMS2BZvA</td>\n",
       "      <td>5.0</td>\n",
       "      <td>1.0</td>\n",
       "      <td>0.0</td>\n",
       "      <td>0.0</td>\n",
       "      <td>Love the wings from the West Mifflin location....</td>\n",
       "      <td>2016-09-30 00:29:32</td>\n",
       "      <td>2016.0</td>\n",
       "      <td>...</td>\n",
       "      <td>{'BusinessAcceptsCreditCards': 'True', 'Caters...</td>\n",
       "      <td>{'Monday': '11:0-22:0', 'Tuesday': '11:0-22:0'...</td>\n",
       "      <td>166</td>\n",
       "      <td>Restaurants, Pizza</td>\n",
       "      <td>Pizza</td>\n",
       "      <td>Undefined</td>\n",
       "      <td>Restaurant</td>\n",
       "      <td>Pizza,  Restaurant</td>\n",
       "      <td>yes</td>\n",
       "      <td>PAyes</td>\n",
       "    </tr>\n",
       "    <tr>\n",
       "      <th>2569385</th>\n",
       "      <td>MKNsjnas-oh64zx0LhcopQ</td>\n",
       "      <td>HtuReE1QJa2Catuq4Z0z9g</td>\n",
       "      <td>KzNG3-kfGCC01USMS2BZvA</td>\n",
       "      <td>5.0</td>\n",
       "      <td>0.0</td>\n",
       "      <td>1.0</td>\n",
       "      <td>1.0</td>\n",
       "      <td>Best wing sauces in the city, great subs fresh...</td>\n",
       "      <td>2016-07-21 22:47:06</td>\n",
       "      <td>2016.0</td>\n",
       "      <td>...</td>\n",
       "      <td>{'BusinessAcceptsCreditCards': 'True', 'Caters...</td>\n",
       "      <td>{'Monday': '11:0-22:0', 'Tuesday': '11:0-22:0'...</td>\n",
       "      <td>168</td>\n",
       "      <td>Restaurants, Pizza</td>\n",
       "      <td>Pizza</td>\n",
       "      <td>Undefined</td>\n",
       "      <td>Restaurant</td>\n",
       "      <td>Pizza,  Restaurant</td>\n",
       "      <td>yes</td>\n",
       "      <td>PAyes</td>\n",
       "    </tr>\n",
       "    <tr>\n",
       "      <th>2569386</th>\n",
       "      <td>t-JScwv42iOJfQWefWcgSA</td>\n",
       "      <td>kf1R97OMSqcZLqvH1wr5Ew</td>\n",
       "      <td>tVTYtqpJRzfaFyWipLS8Tg</td>\n",
       "      <td>1.0</td>\n",
       "      <td>0.0</td>\n",
       "      <td>0.0</td>\n",
       "      <td>0.0</td>\n",
       "      <td>I asked the waitress if she could put a note t...</td>\n",
       "      <td>2019-08-12 04:33:17</td>\n",
       "      <td>2019.0</td>\n",
       "      <td>...</td>\n",
       "      <td>{'NoiseLevel': \"u'average'\", 'BikeParking': 'T...</td>\n",
       "      <td>{'Monday': '5:30-16:0', 'Tuesday': '5:30-16:0'...</td>\n",
       "      <td>517</td>\n",
       "      <td>Restaurants, Breakfast&amp;Brunch</td>\n",
       "      <td>Breakfast&amp;Brunch</td>\n",
       "      <td>Undefined</td>\n",
       "      <td>Restaurant</td>\n",
       "      <td>Breakfast&amp;Brunch,  Restaurant</td>\n",
       "      <td>no</td>\n",
       "      <td>QCno</td>\n",
       "    </tr>\n",
       "  </tbody>\n",
       "</table>\n",
       "<p>2297217 rows × 31 columns</p>\n",
       "</div>"
      ],
      "text/plain": [
       "                      review_id                 user_id  \\\n",
       "0        6TdNDKywdbjoTkizeMce8A  UgMW8bLE0QMJDCkQ1Ax5Mg   \n",
       "1        gQuXBrYo8dqY7h_rfDzwLw  46TNf-5T5EcNFRJPYv_nrw   \n",
       "3        m4AkgxXvb-GHuDK4b9i9sA  YvlcRfeulgtusMFBOQTWzw   \n",
       "5        tXIj_C8U4beIx78VFRYX7w  BDmxm7aeWFOLT35gSvkmig   \n",
       "6        BsMAYfPC0QmAo-cGUBAPBg  uP7zEIagg-ORBkbRQADsiQ   \n",
       "...                         ...                     ...   \n",
       "2569382  zgdS5ggJ4D6Eers3VyXaQQ  8MYvRl2qr3Ys6URmLSLJDw   \n",
       "2569383  BoACFPqsa_wLvG61ZYJqTg  RuxZ18eNzPRU2rpVvzYGkA   \n",
       "2569384  KWV3NOmZgnqmfns-bG1PVA  7K0kU03q2kWGD4I1ZsMznA   \n",
       "2569385  MKNsjnas-oh64zx0LhcopQ  HtuReE1QJa2Catuq4Z0z9g   \n",
       "2569386  t-JScwv42iOJfQWefWcgSA  kf1R97OMSqcZLqvH1wr5Ew   \n",
       "\n",
       "                    business_id  stars  useful  funny  cool  \\\n",
       "0        IS4cv902ykd8wj1TR0N3-A    4.0     0.0    0.0   0.0   \n",
       "1        IS4cv902ykd8wj1TR0N3-A    4.0     0.0    0.0   0.0   \n",
       "3        IS4cv902ykd8wj1TR0N3-A    1.0     0.0    0.0   1.0   \n",
       "5        IS4cv902ykd8wj1TR0N3-A    4.0     0.0    0.0   0.0   \n",
       "6        IS4cv902ykd8wj1TR0N3-A    4.0     0.0    0.0   1.0   \n",
       "...                         ...    ...     ...    ...   ...   \n",
       "2569382  KzNG3-kfGCC01USMS2BZvA    4.0     0.0    1.0   0.0   \n",
       "2569383  KzNG3-kfGCC01USMS2BZvA    1.0     2.0    0.0   0.0   \n",
       "2569384  KzNG3-kfGCC01USMS2BZvA    5.0     1.0    0.0   0.0   \n",
       "2569385  KzNG3-kfGCC01USMS2BZvA    5.0     0.0    1.0   1.0   \n",
       "2569386  tVTYtqpJRzfaFyWipLS8Tg    1.0     0.0    0.0   0.0   \n",
       "\n",
       "                                                      text  \\\n",
       "0        Oh happy day, finally have a Canes near my cas...   \n",
       "1        Love the chicken. It's always hot and fresh ta...   \n",
       "3        Terrible terrible service I waited 30 minutes ...   \n",
       "5        New location right down the road from home. Al...   \n",
       "6        Perfectly simple menu! The chicken was not oil...   \n",
       "...                                                    ...   \n",
       "2569382  Great wings! Food is good staff is friendly an...   \n",
       "2569383  Wings were good, delivery drivers with Nazi ta...   \n",
       "2569384  Love the wings from the West Mifflin location....   \n",
       "2569385  Best wing sauces in the city, great subs fresh...   \n",
       "2569386  I asked the waitress if she could put a note t...   \n",
       "\n",
       "                        date    year  ...  \\\n",
       "0        2017-01-14 21:56:57  2017.0  ...   \n",
       "1        2018-01-09 20:25:20  2018.0  ...   \n",
       "3        2017-01-15 05:55:07  2017.0  ...   \n",
       "5        2017-03-27 07:17:46  2017.0  ...   \n",
       "6        2017-08-08 05:20:18  2017.0  ...   \n",
       "...                      ...     ...  ...   \n",
       "2569382  2017-07-02 00:39:31  2017.0  ...   \n",
       "2569383  2018-08-07 13:41:56  2018.0  ...   \n",
       "2569384  2016-09-30 00:29:32  2016.0  ...   \n",
       "2569385  2016-07-21 22:47:06  2016.0  ...   \n",
       "2569386  2019-08-12 04:33:17  2019.0  ...   \n",
       "\n",
       "                                                attributes  \\\n",
       "0        {'DriveThru': 'True', 'GoodForMeal': \"{'desser...   \n",
       "1        {'DriveThru': 'True', 'GoodForMeal': \"{'desser...   \n",
       "3        {'DriveThru': 'True', 'GoodForMeal': \"{'desser...   \n",
       "5        {'DriveThru': 'True', 'GoodForMeal': \"{'desser...   \n",
       "6        {'DriveThru': 'True', 'GoodForMeal': \"{'desser...   \n",
       "...                                                    ...   \n",
       "2569382  {'BusinessAcceptsCreditCards': 'True', 'Caters...   \n",
       "2569383  {'BusinessAcceptsCreditCards': 'True', 'Caters...   \n",
       "2569384  {'BusinessAcceptsCreditCards': 'True', 'Caters...   \n",
       "2569385  {'BusinessAcceptsCreditCards': 'True', 'Caters...   \n",
       "2569386  {'NoiseLevel': \"u'average'\", 'BikeParking': 'T...   \n",
       "\n",
       "                                                     hours text length  \\\n",
       "0        {'Monday': '9:0-0:0', 'Tuesday': '9:0-0:0', 'W...         841   \n",
       "1        {'Monday': '9:0-0:0', 'Tuesday': '9:0-0:0', 'W...         222   \n",
       "3        {'Monday': '9:0-0:0', 'Tuesday': '9:0-0:0', 'W...         370   \n",
       "5        {'Monday': '9:0-0:0', 'Tuesday': '9:0-0:0', 'W...         180   \n",
       "6        {'Monday': '9:0-0:0', 'Tuesday': '9:0-0:0', 'W...         136   \n",
       "...                                                    ...         ...   \n",
       "2569382  {'Monday': '11:0-22:0', 'Tuesday': '11:0-22:0'...          73   \n",
       "2569383  {'Monday': '11:0-22:0', 'Tuesday': '11:0-22:0'...         136   \n",
       "2569384  {'Monday': '11:0-22:0', 'Tuesday': '11:0-22:0'...         166   \n",
       "2569385  {'Monday': '11:0-22:0', 'Tuesday': '11:0-22:0'...         168   \n",
       "2569386  {'Monday': '5:30-16:0', 'Tuesday': '5:30-16:0'...         517   \n",
       "\n",
       "                                     categories_filtered  \\\n",
       "0        FastFood, Restaurants, Sandwiches, ChickenWings   \n",
       "1        FastFood, Restaurants, Sandwiches, ChickenWings   \n",
       "3        FastFood, Restaurants, Sandwiches, ChickenWings   \n",
       "5        FastFood, Restaurants, Sandwiches, ChickenWings   \n",
       "6        FastFood, Restaurants, Sandwiches, ChickenWings   \n",
       "...                                                  ...   \n",
       "2569382                               Restaurants, Pizza   \n",
       "2569383                               Restaurants, Pizza   \n",
       "2569384                               Restaurants, Pizza   \n",
       "2569385                               Restaurants, Pizza   \n",
       "2569386                    Restaurants, Breakfast&Brunch   \n",
       "\n",
       "                                  food_type  ethnicity       venue  \\\n",
       "0        ChickenWings, FastFood, Sandwiches  Undefined  Restaurant   \n",
       "1        ChickenWings, FastFood, Sandwiches  Undefined  Restaurant   \n",
       "3        ChickenWings, FastFood, Sandwiches  Undefined  Restaurant   \n",
       "5        ChickenWings, FastFood, Sandwiches  Undefined  Restaurant   \n",
       "6        ChickenWings, FastFood, Sandwiches  Undefined  Restaurant   \n",
       "...                                     ...        ...         ...   \n",
       "2569382                               Pizza  Undefined  Restaurant   \n",
       "2569383                               Pizza  Undefined  Restaurant   \n",
       "2569384                               Pizza  Undefined  Restaurant   \n",
       "2569385                               Pizza  Undefined  Restaurant   \n",
       "2569386                    Breakfast&Brunch  Undefined  Restaurant   \n",
       "\n",
       "                                               food_comb  star_binary  \\\n",
       "0        ChickenWings, FastFood, Sandwiches,  Restaurant          yes   \n",
       "1        ChickenWings, FastFood, Sandwiches,  Restaurant          yes   \n",
       "3        ChickenWings, FastFood, Sandwiches,  Restaurant           no   \n",
       "5        ChickenWings, FastFood, Sandwiches,  Restaurant          yes   \n",
       "6        ChickenWings, FastFood, Sandwiches,  Restaurant          yes   \n",
       "...                                                  ...          ...   \n",
       "2569382                               Pizza,  Restaurant          yes   \n",
       "2569383                               Pizza,  Restaurant           no   \n",
       "2569384                               Pizza,  Restaurant          yes   \n",
       "2569385                               Pizza,  Restaurant          yes   \n",
       "2569386                    Breakfast&Brunch,  Restaurant           no   \n",
       "\n",
       "         state_star  \n",
       "0             NVyes  \n",
       "1             NVyes  \n",
       "3              NVno  \n",
       "5             NVyes  \n",
       "6             NVyes  \n",
       "...             ...  \n",
       "2569382       PAyes  \n",
       "2569383        PAno  \n",
       "2569384       PAyes  \n",
       "2569385       PAyes  \n",
       "2569386        QCno  \n",
       "\n",
       "[2297217 rows x 31 columns]"
      ]
     },
     "execution_count": 420,
     "metadata": {},
     "output_type": "execute_result"
    }
   ],
   "source": [
    "df_food_clean"
   ]
  },
  {
   "cell_type": "code",
   "execution_count": 426,
   "metadata": {},
   "outputs": [
    {
     "data": {
      "text/plain": [
       "Text(0.5, 1.0, 'PCA of word vector features across all reviews')"
      ]
     },
     "execution_count": 426,
     "metadata": {},
     "output_type": "execute_result"
    },
    {
     "data": {
      "image/png": "[encoded data removed]",
      "text/plain": [
       "<Figure size 432x288 with 1 Axes>"
      ]
     },
     "metadata": {
      "needs_background": "light"
     },
     "output_type": "display_data"
    }
   ],
   "source": [
    "sns.scatterplot(Xpca[:, 0], Xpca[:, 1], hue = df_food_clean['star_binary'], s= 10)\n",
    "plt.title('PCA of word vector features across all reviews')"
   ]
  },
  {
   "cell_type": "markdown",
   "metadata": {},
   "source": [
    "PCA above does show some mild clustering but does not seem to correspond with review ratings"
   ]
  },
  {
   "cell_type": "code",
   "execution_count": 218,
   "metadata": {},
   "outputs": [],
   "source": [
    "# Encode the review categories as numeric values for modeling\n",
    "le_train = LabelEncoder()\n",
    "y_le = le_train.fit_transform(y)"
   ]
  },
  {
   "cell_type": "code",
   "execution_count": 219,
   "metadata": {},
   "outputs": [],
   "source": [
    "# Make a dictionary that will revert the data eventually back to strings later on for plot labeling--will \n",
    "# become clearer when looking at plots. Also allows handling of multiclass cases where reversion from encoded\n",
    "# numbers back to original string labels is help for plot labeling.\n",
    "y_state_dict= pd.concat([pd.DataFrame(y_le), pd.DataFrame(y)], axis = 1).groupby('star_binary')[0].mean()"
   ]
  },
  {
   "cell_type": "code",
   "execution_count": 220,
   "metadata": {},
   "outputs": [],
   "source": [
    "y_state_dict_swap = {value:key for key, value in y_state_dict.items()}\n"
   ]
  },
  {
   "cell_type": "code",
   "execution_count": 221,
   "metadata": {},
   "outputs": [],
   "source": [
    "# Train data\n",
    "X_train, X_test, y_train, y_test = train_test_split(X, y_le, stratify = y_le, random_state = 42)"
   ]
  },
  {
   "cell_type": "code",
   "execution_count": 354,
   "metadata": {},
   "outputs": [
    {
     "data": {
      "text/plain": [
       "1    437834\n",
       "0    136471\n",
       "dtype: int64"
      ]
     },
     "execution_count": 354,
     "metadata": {},
     "output_type": "execute_result"
    }
   ],
   "source": [
    "pd.Series(y_test).value_counts()"
   ]
  },
  {
   "cell_type": "code",
   "execution_count": 222,
   "metadata": {},
   "outputs": [],
   "source": [
    "# Down sample the data so that 'yes' and 'no' class are balanced--have quite a few instances so shouldn't be a big\n",
    "# loss information. Upsampling was taking way too long\n",
    "rus = RandomUnderSampler()\n",
    "X_train_rus, y_train_rus = rus.fit_sample(X_train, y_train)\n",
    "X_test_rus, y_test_rus = rus.fit_sample(X_test, y_test)\n"
   ]
  },
  {
   "cell_type": "code",
   "execution_count": 224,
   "metadata": {},
   "outputs": [],
   "source": [
    "# Scale the train and test feature separately\n",
    "scaler = MinMaxScaler()\n",
    "X_train_scaled = scaler.fit_transform(X_train_rus)\n",
    "X_test_scaled = scaler.transform(X_test_rus)"
   ]
  },
  {
   "cell_type": "markdown",
   "metadata": {},
   "source": [
    "# Supervised Learning models using review score as label\n"
   ]
  },
  {
   "cell_type": "markdown",
   "metadata": {},
   "source": [
    "## Logistic Regression"
   ]
  },
  {
   "cell_type": "code",
   "execution_count": 225,
   "metadata": {},
   "outputs": [
    {
     "data": {
      "text/plain": [
       "LogisticRegression(max_iter=1000, multi_class='ovr')"
      ]
     },
     "execution_count": 225,
     "metadata": {},
     "output_type": "execute_result"
    }
   ],
   "source": [
    "# The parameters set here were established from a grid search in an earlier pilot study\n",
    "from sklearn.linear_model import LogisticRegression\n",
    "lr = LogisticRegression(multi_class= 'ovr', solver = 'lbfgs', penalty = 'l2', max_iter = 1000)\n",
    "lr.fit(X_train_scaled, y_train_rus)"
   ]
  },
  {
   "cell_type": "code",
   "execution_count": 226,
   "metadata": {},
   "outputs": [],
   "source": [
    "# create lr predictions\n",
    "y_test_pred = lr.predict(X_test_scaled)\n",
    "y_train_pred = lr.predict(X_train_scaled)"
   ]
  },
  {
   "cell_type": "code",
   "execution_count": 227,
   "metadata": {},
   "outputs": [],
   "source": [
    "# Function to plot confusion matrix\n",
    "def plot_confusion_matrix(cm,\n",
    "                          target_names,\n",
    "                          title='Confusion matrix',\n",
    "                          cmap=None,\n",
    "                          normalize=None):\n",
    "    \"\"\"\n",
    "    given a sklearn confusion matrix (cm), make a nice plot\n",
    "\n",
    "    Arguments\n",
    "    ---------\n",
    "    cm:           confusion matrix from sklearn.metrics.confusion_matrix\n",
    "\n",
    "    target_names: given classification classes such as [0, 1, 2]\n",
    "                  the class names, for example: ['high', 'medium', 'low']\n",
    "\n",
    "    title:        the text to display at the top of the matrix\n",
    "\n",
    "    cmap:         the gradient of the values displayed from matplotlib.pyplot.cm\n",
    "                  see http://matplotlib.org/examples/color/colormaps_reference.html\n",
    "                  plt.get_cmap('jet') or plt.cm.Blues\n",
    "\n",
    "    normalize:    If False, plot the raw numbers\n",
    "                  If True, plot the proportions\n",
    "\n",
    "    Usage\n",
    "    -----\n",
    "    plot_confusion_matrix(cm           = cm,                  # confusion matrix created by\n",
    "                                                              # sklearn.metrics.confusion_matrix\n",
    "                          normalize    = True,                # show proportions\n",
    "                          target_names = y_labels_vals,       # list of names of the classes\n",
    "                          title        = best_estimator_name) # title of graph\n",
    "\n",
    "    Citiation\n",
    "    ---------\n",
    "    http://scikit-learn.org/stable/auto_examples/model_selection/plot_confusion_matrix.html\n",
    "\n",
    "    \"\"\"\n",
    "    \n",
    "   \n",
    "\n",
    "    accuracy = np.trace(cm) / float(np.sum(cm))\n",
    "    misclass = 1 - accuracy\n",
    "\n",
    "    if cmap is None:\n",
    "        cmap = plt.get_cmap('Blues')\n",
    "        \n",
    "    plt.figure(figsize=(8, 6))\n",
    "    plt.imshow(cm, interpolation='nearest', cmap=cmap)\n",
    "    plt.title(title)\n",
    "    plt.colorbar()\n",
    "\n",
    "    if target_names is not None:\n",
    "        tick_marks = np.arange(len(target_names))\n",
    "        plt.xticks(tick_marks, target_names, rotation=45)\n",
    "        plt.yticks(tick_marks, target_names)\n",
    "\n",
    "    if normalize:\n",
    "        cm = cm.astype('float') / cm.sum(axis=1)[:, np.newaxis]\n",
    "\n",
    "\n",
    "    thresh = cm.max() / 1.5 if normalize else cm.max() / 2\n",
    "    for i, j in itertools.product(range(cm.shape[0]), range(cm.shape[1])):\n",
    "        if normalize:\n",
    "            plt.text(j, i, \"{:0.4f}\".format(cm[i, j]),\n",
    "                     horizontalalignment=\"center\",\n",
    "                     color=\"grey\" if cm[i, j] > thresh else \"black\", fontsize=20)\n",
    "        else:\n",
    "            plt.text(j, i, \"{:,}\".format(cm[i, j]),\n",
    "                     horizontalalignment=\"center\",\n",
    "                     color=\"grey\" if cm[i, j] > thresh else \"black\",fontsize=20)\n",
    "\n",
    "\n",
    "    plt.tight_layout()\n",
    "    plt.ylabel('True label')\n",
    "    plt.xlabel('Predicted label\\naccuracy={:0.4f}; misclass={:0.4f}'.format(accuracy, misclass))\n",
    "    plt.show()"
   ]
  },
  {
   "cell_type": "code",
   "execution_count": 228,
   "metadata": {},
   "outputs": [
    {
     "name": "stdout",
     "output_type": "stream",
     "text": [
      "LR1 confusion matrix\n"
     ]
    }
   ],
   "source": [
    "\n",
    "print('LR1 confusion matrix')\n",
    "#lr1train = confusion_matrix(y_train, y_pred_train, normalize= None)\n",
    "lr1test = confusion_matrix(y_test_rus, y_test_pred, normalize = None)\n",
    "test = pd.DataFrame(lr1test).rename(columns = y_state_dict_swap, index = y_state_dict_swap)"
   ]
  },
  {
   "cell_type": "code",
   "execution_count": 232,
   "metadata": {},
   "outputs": [
    {
     "data": {
      "image/png": "[encoded data removed]",
      "text/plain": [
       "<Figure size 576x432 with 2 Axes>"
      ]
     },
     "metadata": {
      "needs_background": "light"
     },
     "output_type": "display_data"
    }
   ],
   "source": [
    "labels = list(y_state_dict_swap.values())\n",
    "target_names = labels \n",
    "plot_confusion_matrix(lr1test,\n",
    "                          target_names,\n",
    "                          title='Logistic Regression For Star Classification',\n",
    "                          cmap=None,\n",
    "                          normalize=None)"
   ]
  },
  {
   "cell_type": "code",
   "execution_count": 229,
   "metadata": {},
   "outputs": [
    {
     "name": "stdout",
     "output_type": "stream",
     "text": [
      "Test macro average recall score is  0.5812736771914913\n",
      "Train macro average recall score is  0.5810526290078722\n"
     ]
    }
   ],
   "source": [
    "# Macro average score is prefered scoring method here to prioritize against misclassification over missing a class\n",
    "\n",
    "print('Test macro average recall score is ',recall_score(y_test_rus, y_test_pred, average = 'macro'))\n",
    "print('Train macro average recall score is ',recall_score(y_train_rus, y_train_pred, average = 'macro'))"
   ]
  },
  {
   "cell_type": "code",
   "execution_count": 368,
   "metadata": {},
   "outputs": [],
   "source": [
    "recall_score(y_test_rus, y_test_pred, average = 'macro')"
   ]
  },
  {
   "cell_type": "code",
   "execution_count": 233,
   "metadata": {},
   "outputs": [
    {
     "data": {
      "text/plain": [
       "1.1625473543829825"
      ]
     },
     "execution_count": 233,
     "metadata": {},
     "output_type": "execute_result"
    }
   ],
   "source": [
    "# Calculated how many fold better is prediction over random guess\n",
    "recall_score(y_test_rus, y_test_pred, average = 'macro')/(1/lr1test.shape[0])"
   ]
  },
  {
   "cell_type": "code",
   "execution_count": 389,
   "metadata": {},
   "outputs": [],
   "source": [
    "LRscore = 100*(recall_score(y_test_rus, y_test_pred, average = 'macro')/(1/lr1test.shape[0])-1)"
   ]
  },
  {
   "cell_type": "markdown",
   "metadata": {},
   "source": [
    "Logistic Regression does not perform that great. Only a little better than a coin toss:"
   ]
  },
  {
   "cell_type": "code",
   "execution_count": 230,
   "metadata": {},
   "outputs": [
    {
     "name": "stdout",
     "output_type": "stream",
     "text": [
      "Test accuracy score is  0.5812736771914913\n",
      "Train accuracy score is  0.5810526290078722\n"
     ]
    }
   ],
   "source": [
    "print('Test accuracy score is ',accuracy_score(y_test_rus, y_test_pred))\n",
    "print('Train accuracy score is ',accuracy_score(y_train_rus, y_train_pred))"
   ]
  },
  {
   "cell_type": "markdown",
   "metadata": {},
   "source": [
    "## Random Forest"
   ]
  },
  {
   "cell_type": "code",
   "execution_count": 234,
   "metadata": {},
   "outputs": [],
   "source": [
    "# Initial hypertuning was tested where reduction of depth gave more consistency, but with low bias.\n",
    "rf = RandomForestClassifier(max_depth = 8)\n",
    "rf.fit(X_train_scaled, y_train_rus)\n",
    "y_test_predrf = rf.predict(X_test_scaled)\n",
    "y_train_predrf = rf.predict(X_train_scaled)\n",
    "\n"
   ]
  },
  {
   "cell_type": "code",
   "execution_count": 236,
   "metadata": {},
   "outputs": [],
   "source": [
    "rftest = confusion_matrix(y_test_rus, y_test_predrf, normalize = None)\n",
    "dfrf = pd.DataFrame(rftest).rename(columns = y_state_dict_swap)"
   ]
  },
  {
   "cell_type": "code",
   "execution_count": 237,
   "metadata": {},
   "outputs": [
    {
     "data": {
      "image/png": "[encoded data removed]",
      "text/plain": [
       "<Figure size 576x432 with 2 Axes>"
      ]
     },
     "metadata": {
      "needs_background": "light"
     },
     "output_type": "display_data"
    }
   ],
   "source": [
    "matrix_labels  = list(y_state_dict_swap.values())\n",
    "target_names = matrix_labels \n",
    "plot_confusion_matrix(rftest,\n",
    "                          target_names,\n",
    "                          title='Random Forest For Star Classification',\n",
    "                          cmap=None,\n",
    "                          normalize=None)"
   ]
  },
  {
   "cell_type": "code",
   "execution_count": 235,
   "metadata": {},
   "outputs": [
    {
     "name": "stdout",
     "output_type": "stream",
     "text": [
      "Test macro average recall score is  0.5934410973759993\n",
      "Train macro average recall score is  0.593073497910423\n"
     ]
    }
   ],
   "source": [
    "print('Test macro average recall score is ',recall_score(y_test_rus, y_test_predrf,average = 'macro'))\n",
    "print('Train macro average recall score is ',recall_score(y_train_rus, y_train_predrf,average = 'macro'))"
   ]
  },
  {
   "cell_type": "code",
   "execution_count": 369,
   "metadata": {},
   "outputs": [],
   "source": [
    "recall_score(y_test_rus, y_test_predrf,average = 'macro')"
   ]
  },
  {
   "cell_type": "code",
   "execution_count": 238,
   "metadata": {},
   "outputs": [
    {
     "data": {
      "text/plain": [
       "1.1868821947519985"
      ]
     },
     "execution_count": 238,
     "metadata": {},
     "output_type": "execute_result"
    }
   ],
   "source": [
    "# Calculated how many fold better is prediction over random guess\n",
    "\n",
    "recall_score(y_test_rus, y_test_predrf, average = 'macro')/(1/rftest.shape[0])"
   ]
  },
  {
   "cell_type": "code",
   "execution_count": 380,
   "metadata": {},
   "outputs": [],
   "source": [
    "RFscore = 100*(recall_score(y_test_rus, y_test_predrf, average = 'macro')/(1/rftest.shape[0])-1)"
   ]
  },
  {
   "cell_type": "markdown",
   "metadata": {},
   "source": [
    "Random Forsest does not perform that great either. Still only a little better than a coin toss:"
   ]
  },
  {
   "cell_type": "code",
   "execution_count": 239,
   "metadata": {},
   "outputs": [
    {
     "data": {
      "image/png": "[encoded data removed]",
      "text/plain": [
       "<Figure size 1008x1008 with 1 Axes>"
      ]
     },
     "metadata": {
      "needs_background": "light"
     },
     "output_type": "display_data"
    }
   ],
   "source": [
    "feature_importance = rf.feature_importances_\n",
    "\n",
    "# Make importances relative to max importance.\n",
    "feature_importance = 100.0 * (feature_importance / feature_importance.max())\n",
    "sorted_idx = np.argsort(feature_importance)\n",
    "pos = np.arange(sorted_idx.shape[0]) + .5\n",
    "\n",
    "plt.figure(figsize = (14,14))\n",
    "plt.subplot(1, 2, 2)\n",
    "plt.barh(pos, feature_importance[sorted_idx], align='center')\n",
    "plt.yticks(pos, X.columns[sorted_idx])\n",
    "plt.xlabel('Relative Importance')\n",
    "plt.title('Random Forest\\nVariable Importance\\nFor Star Classification')\n",
    "plt.show()"
   ]
  },
  {
   "cell_type": "markdown",
   "metadata": {},
   "source": [
    "# Gradient Boosting"
   ]
  },
  {
   "cell_type": "code",
   "execution_count": 240,
   "metadata": {},
   "outputs": [],
   "source": [
    "\n",
    "params = {'n_estimators': 1000,\n",
    "          'max_depth': 2,\n",
    "          'loss': 'deviance', \n",
    "          'learning_rate':0.08, \n",
    "          'subsample':.62, \n",
    "          'min_samples_split':.02}\n",
    "\n",
    "# Initialize and fit the model.\n",
    "gbc = GradientBoostingClassifier(**params)\n",
    "gbc.fit(X_train_scaled, y_train_rus)\n",
    "\n",
    "y_test_predgb = gbc.predict(X_test_scaled)\n",
    "y_train_predgb = gbc.predict(X_train_scaled)"
   ]
  },
  {
   "cell_type": "code",
   "execution_count": 241,
   "metadata": {},
   "outputs": [
    {
     "data": {
      "image/png": "[encoded data removed]",
      "text/plain": [
       "<Figure size 576x432 with 2 Axes>"
      ]
     },
     "metadata": {
      "needs_background": "light"
     },
     "output_type": "display_data"
    }
   ],
   "source": [
    "gbtest = confusion_matrix(y_test_rus, y_test_predgb)\n",
    "plot_confusion_matrix(gbtest,target_names,'Gradient Boosting For Star Classification')"
   ]
  },
  {
   "cell_type": "code",
   "execution_count": 243,
   "metadata": {},
   "outputs": [
    {
     "name": "stdout",
     "output_type": "stream",
     "text": [
      "Test macro average recall score is  0.6033039986517281\n",
      "Train macro average recall score is  0.604583879847489\n"
     ]
    }
   ],
   "source": [
    "print('Test macro average recall score is ',recall_score(y_test_rus, y_test_predgb,average = 'macro'))\n",
    "print('Train macro average recall score is ',recall_score(y_train_rus, y_train_predgb,average = 'macro'))"
   ]
  },
  {
   "cell_type": "code",
   "execution_count": 370,
   "metadata": {},
   "outputs": [],
   "source": [
    "recall_score(y_test_rus, y_test_predgb,average = 'macro')"
   ]
  },
  {
   "cell_type": "code",
   "execution_count": 242,
   "metadata": {},
   "outputs": [
    {
     "data": {
      "text/plain": [
       "1.2066079973034562"
      ]
     },
     "execution_count": 242,
     "metadata": {},
     "output_type": "execute_result"
    }
   ],
   "source": [
    "# Calculated how many fold better is prediction over random guess. \n",
    "recall_score(y_test_rus, y_test_predgb, average = 'macro')/(1/gbtest.shape[0])"
   ]
  },
  {
   "cell_type": "code",
   "execution_count": 381,
   "metadata": {},
   "outputs": [],
   "source": [
    "GBscore = 100*(recall_score(y_test_rus, y_test_predgb, average = 'macro')/(1/gbtest.shape[0])-1)"
   ]
  },
  {
   "cell_type": "markdown",
   "metadata": {},
   "source": [
    "Gradient Boosting does not perform that great either. Still only a little better than a coin toss:"
   ]
  },
  {
   "cell_type": "code",
   "execution_count": 244,
   "metadata": {},
   "outputs": [
    {
     "data": {
      "image/png": "[encoded data removed]",
      "text/plain": [
       "<Figure size 1008x1008 with 1 Axes>"
      ]
     },
     "metadata": {
      "needs_background": "light"
     },
     "output_type": "display_data"
    }
   ],
   "source": [
    "feature_importance = gbc.feature_importances_\n",
    "\n",
    "# Make importances relative to max importance.\n",
    "feature_importance = 100.0 * (feature_importance / feature_importance.max())\n",
    "sorted_idx = np.argsort(feature_importance)\n",
    "pos = np.arange(sorted_idx.shape[0]) + .5\n",
    "\n",
    "plt.figure(figsize = (14,14))\n",
    "plt.subplot(1, 2, 2)\n",
    "plt.barh(pos, feature_importance[sorted_idx], align='center')\n",
    "plt.yticks(pos, X.columns[sorted_idx])\n",
    "plt.xlabel('Relative Importance')\n",
    "plt.title('Gradient Boost\\nVariable Importance\\nFor Star Classification')\n",
    "plt.show()"
   ]
  },
  {
   "cell_type": "markdown",
   "metadata": {},
   "source": [
    "## Neural Networks"
   ]
  },
  {
   "cell_type": "code",
   "execution_count": 246,
   "metadata": {},
   "outputs": [],
   "source": [
    "# Initialize model for binary classification\n",
    "model = Sequential()\n",
    "model.add(Dense(128, input_dim= X_train_scaled.shape[1], activation='relu'))\n",
    "model.add(Dense(64, activation='relu'))\n",
    "model.add(Dense(64, activation='relu'))\n",
    "model.add(Dense(1, activation='sigmoid'))"
   ]
  },
  {
   "cell_type": "code",
   "execution_count": 247,
   "metadata": {},
   "outputs": [
    {
     "name": "stdout",
     "output_type": "stream",
     "text": [
      "Train on 818826 samples, validate on 272942 samples\n",
      "Epoch 1/10\n",
      "818826/818826 [==============================] - 9s 11us/sample - loss: 0.6571 - recall_1: 0.6462 - val_loss: 0.6534 - val_recall_1: 0.6204\n",
      "Epoch 2/10\n",
      "818826/818826 [==============================] - 8s 9us/sample - loss: 0.6501 - recall_1: 0.6348 - val_loss: 0.6501 - val_recall_1: 0.5740\n",
      "Epoch 3/10\n",
      "818826/818826 [==============================] - 7s 9us/sample - loss: 0.6475 - recall_1: 0.6322 - val_loss: 0.6487 - val_recall_1: 0.5971\n",
      "Epoch 4/10\n",
      "818826/818826 [==============================] - 7s 9us/sample - loss: 0.6460 - recall_1: 0.6308 - val_loss: 0.6467 - val_recall_1: 0.6341\n",
      "Epoch 5/10\n",
      "818826/818826 [==============================] - 7s 9us/sample - loss: 0.6449 - recall_1: 0.6303 - val_loss: 0.6461 - val_recall_1: 0.6293\n",
      "Epoch 6/10\n",
      "818826/818826 [==============================] - 7s 9us/sample - loss: 0.6441 - recall_1: 0.6289 - val_loss: 0.6459 - val_recall_1: 0.6361\n",
      "Epoch 7/10\n",
      "818826/818826 [==============================] - 7s 9us/sample - loss: 0.6435 - recall_1: 0.6292 - val_loss: 0.6456 - val_recall_1: 0.6748\n",
      "Epoch 8/10\n",
      "818826/818826 [==============================] - 7s 9us/sample - loss: 0.6430 - recall_1: 0.6268 - val_loss: 0.6451 - val_recall_1: 0.6286\n",
      "Epoch 9/10\n",
      "818826/818826 [==============================] - 7s 9us/sample - loss: 0.6426 - recall_1: 0.6291 - val_loss: 0.6441 - val_recall_1: 0.6392\n",
      "Epoch 10/10\n",
      "818826/818826 [==============================] - 8s 9us/sample - loss: 0.6422 - recall_1: 0.6280 - val_loss: 0.6441 - val_recall_1: 0.6404\n"
     ]
    },
    {
     "data": {
      "text/plain": [
       "<tensorflow.python.keras.callbacks.History at 0x7f9b54c6fb90>"
      ]
     },
     "execution_count": 247,
     "metadata": {},
     "output_type": "execute_result"
    }
   ],
   "source": [
    "# 10 epochs were sufficient to max out score\n",
    "model.compile(optimizer= 'adam', loss = 'binary_crossentropy', metrics = [Recall()])\n",
    "model.fit(X_train_scaled, y_train_rus, batch_size=200, epochs=10, validation_data = (X_test_scaled, y_test_rus))"
   ]
  },
  {
   "cell_type": "code",
   "execution_count": 266,
   "metadata": {},
   "outputs": [
    {
     "name": "stdout",
     "output_type": "stream",
     "text": [
      "0.6172593444761159\n"
     ]
    }
   ],
   "source": [
    "y_predNN = model.predict_classes(X_test_scaled)\n"
   ]
  },
  {
   "cell_type": "code",
   "execution_count": 267,
   "metadata": {},
   "outputs": [],
   "source": [
    "NNtest = confusion_matrix(y_test_rus, y_predNN, normalize = None)\n",
    "\n"
   ]
  },
  {
   "cell_type": "code",
   "execution_count": 269,
   "metadata": {},
   "outputs": [],
   "source": [
    "matrix_labels = list(y_state_dict_swap.values())"
   ]
  },
  {
   "cell_type": "code",
   "execution_count": 270,
   "metadata": {},
   "outputs": [
    {
     "data": {
      "image/png": "[encoded data removed]",
      "text/plain": [
       "<Figure size 576x432 with 2 Axes>"
      ]
     },
     "metadata": {
      "needs_background": "light"
     },
     "output_type": "display_data"
    }
   ],
   "source": [
    "target_names = matrix_labels \n",
    "plot_confusion_matrix(NNtest,\n",
    "                          target_names,\n",
    "                          title='Neural Network For Star Classification',\n",
    "                          cmap=None,\n",
    "                          normalize=None)"
   ]
  },
  {
   "cell_type": "code",
   "execution_count": 366,
   "metadata": {},
   "outputs": [
    {
     "name": "stdout",
     "output_type": "stream",
     "text": [
      "0.6172593444761159\n"
     ]
    }
   ],
   "source": [
    "print(recall_score(y_test_rus, y_predNN , average=\"macro\"))"
   ]
  },
  {
   "cell_type": "code",
   "execution_count": 371,
   "metadata": {},
   "outputs": [],
   "source": [
    "recall_score(y_test_rus, y_predNN , average=\"macro\")"
   ]
  },
  {
   "cell_type": "code",
   "execution_count": 268,
   "metadata": {},
   "outputs": [
    {
     "data": {
      "text/plain": [
       "1.2345186889522317"
      ]
     },
     "execution_count": 268,
     "metadata": {},
     "output_type": "execute_result"
    }
   ],
   "source": [
    "# Fold improvment over chance (23% is better than LR 16% predictive improvement over guessing, but still not great)\n",
    "recall_score(y_test_rus, y_predNN, average = 'macro')/(1/NNtest.shape[0])"
   ]
  },
  {
   "cell_type": "code",
   "execution_count": 385,
   "metadata": {},
   "outputs": [],
   "source": [
    "NNscore = 100*(recall_score(y_test_rus, y_predNN, average = 'macro')/(1/NNtest.shape[0])-1)"
   ]
  },
  {
   "cell_type": "markdown",
   "metadata": {},
   "source": [
    "## Neural Network to model whether restaurant category words can predict most likely city associated with positive reviews"
   ]
  },
  {
   "cell_type": "code",
   "execution_count": 271,
   "metadata": {},
   "outputs": [],
   "source": [
    "# Rebuild the dataset to contain cities as labels for reviews that are positive\n",
    "df_food_states = df_food_v2.loc[df_food_v2['state_star'].str.contains('yes')].reset_index(drop=True)"
   ]
  },
  {
   "cell_type": "code",
   "execution_count": 272,
   "metadata": {},
   "outputs": [],
   "source": [
    "vectorizertf_st = TfidfVectorizer(analyzer='word', min_df=50, max_features=50)\n",
    "Xvectf_st = vectorizertf_st.fit_transform(df_food_states['food_comb'])\n",
    "tf_df_st = pd.DataFrame(Xvectf_st.toarray(), columns=vectorizertf_st.get_feature_names())"
   ]
  },
  {
   "cell_type": "code",
   "execution_count": 273,
   "metadata": {},
   "outputs": [],
   "source": [
    "df_vec_st = tf_df_st"
   ]
  },
  {
   "cell_type": "code",
   "execution_count": 274,
   "metadata": {},
   "outputs": [],
   "source": [
    "# Xst = word vectors as features, yst =  as city labels\n",
    "Xst = df_vec_st\n",
    "yst = df_food_states['state']"
   ]
  },
  {
   "cell_type": "code",
   "execution_count": 284,
   "metadata": {},
   "outputs": [],
   "source": [
    "le_train_st = LabelEncoder()\n",
    "y_le_st = le_train.fit_transform(yst)"
   ]
  },
  {
   "cell_type": "code",
   "execution_count": 275,
   "metadata": {},
   "outputs": [],
   "source": [
    "pca_st = PCA()\n",
    "Xpca_st = pca_st.fit_transform(Xst)\n"
   ]
  },
  {
   "cell_type": "code",
   "execution_count": 356,
   "metadata": {},
   "outputs": [
    {
     "data": {
      "text/plain": [
       "Text(0.5, 1.0, 'PCA of word vector features from positve reviews')"
      ]
     },
     "execution_count": 356,
     "metadata": {},
     "output_type": "execute_result"
    },
    {
     "name": "stderr",
     "output_type": "stream",
     "text": [
      "/Users/robholmstrom/miniconda3/lib/python3.7/site-packages/IPython/core/pylabtools.py:132: UserWarning: Creating legend with loc=\"best\" can be slow with large amounts of data.\n",
      "  fig.canvas.print_figure(bytes_io, **kw)\n"
     ]
    },
    {
     "data": {
      "image/png": "[encoded data removed]",
      "text/plain": [
       "<Figure size 432x288 with 1 Axes>"
      ]
     },
     "metadata": {
      "needs_background": "light"
     },
     "output_type": "display_data"
    }
   ],
   "source": [
    "sns.scatterplot(Xpca_st[:, 0], Xpca_st[:, 1], hue = df_food_states['state'], s= 10)\n",
    "plt.title('PCA of word vector features from positve reviews')"
   ]
  },
  {
   "cell_type": "markdown",
   "metadata": {},
   "source": [
    "## PCA here has a similar clustering pattern, but hardly associates with any cities overall"
   ]
  },
  {
   "cell_type": "code",
   "execution_count": 277,
   "metadata": {},
   "outputs": [],
   "source": [
    "# Checking for carefully if cities have difference in ratio of kmeans labels on the 2 PCA components\n",
    "km_st = KMeans(n_clusters = 2)\n",
    "km_st.fit_transform(Xpca_st)\n",
    "labels_st = km_st.fit_predict(Xpca_st)"
   ]
  },
  {
   "cell_type": "code",
   "execution_count": 357,
   "metadata": {},
   "outputs": [
    {
     "data": {
      "text/plain": [
       "Text(0.5, 1.0, 'PCA of word vector features by kmeans labels')"
      ]
     },
     "execution_count": 357,
     "metadata": {},
     "output_type": "execute_result"
    },
    {
     "data": {
      "image/png": "[encoded data removed]",
      "text/plain": [
       "<Figure size 432x288 with 1 Axes>"
      ]
     },
     "metadata": {
      "needs_background": "light"
     },
     "output_type": "display_data"
    }
   ],
   "source": [
    "sns.scatterplot(Xpca_st[:, 0], Xpca_st[:, 1], hue = labels_st, s= 10)\n",
    "plt.title('PCA of word vector features by kmeans labels')"
   ]
  },
  {
   "cell_type": "markdown",
   "metadata": {},
   "source": [
    "The PCA labeled by kmeans labels on the first and second pca components show cluster separation by two halves"
   ]
  },
  {
   "cell_type": "code",
   "execution_count": 279,
   "metadata": {},
   "outputs": [],
   "source": [
    "# Adding labels back to see if relationships exist with cities\n",
    "df_food_state_labels = df_food_states.copy()\n",
    "df_food_state_labels['labels'] = labels_st"
   ]
  },
  {
   "cell_type": "code",
   "execution_count": 280,
   "metadata": {},
   "outputs": [],
   "source": [
    "labelcrosstab_st = pd.crosstab(df_food_state_labels['state'],df_food_state_labels['labels']).reset_index()"
   ]
  },
  {
   "cell_type": "code",
   "execution_count": 281,
   "metadata": {},
   "outputs": [],
   "source": [
    "labelcrosstab_st['ratio'] = labelcrosstab_st[0]/(labelcrosstab_st[0]+labelcrosstab_st[1])"
   ]
  },
  {
   "cell_type": "code",
   "execution_count": 358,
   "metadata": {},
   "outputs": [
    {
     "data": {
      "text/html": [
       "<div>\n",
       "<style scoped>\n",
       "    .dataframe tbody tr th:only-of-type {\n",
       "        vertical-align: middle;\n",
       "    }\n",
       "\n",
       "    .dataframe tbody tr th {\n",
       "        vertical-align: top;\n",
       "    }\n",
       "\n",
       "    .dataframe thead th {\n",
       "        text-align: right;\n",
       "    }\n",
       "</style>\n",
       "<table border=\"1\" class=\"dataframe\">\n",
       "  <thead>\n",
       "    <tr style=\"text-align: right;\">\n",
       "      <th>labels</th>\n",
       "      <th>state</th>\n",
       "      <th>0</th>\n",
       "      <th>1</th>\n",
       "      <th>ratio</th>\n",
       "    </tr>\n",
       "  </thead>\n",
       "  <tbody>\n",
       "    <tr>\n",
       "      <th>0</th>\n",
       "      <td>AZ</td>\n",
       "      <td>328378</td>\n",
       "      <td>207238</td>\n",
       "      <td>0.613085</td>\n",
       "    </tr>\n",
       "    <tr>\n",
       "      <th>1</th>\n",
       "      <td>NC</td>\n",
       "      <td>77310</td>\n",
       "      <td>52869</td>\n",
       "      <td>0.593875</td>\n",
       "    </tr>\n",
       "    <tr>\n",
       "      <th>2</th>\n",
       "      <td>NV</td>\n",
       "      <td>405611</td>\n",
       "      <td>231560</td>\n",
       "      <td>0.636581</td>\n",
       "    </tr>\n",
       "    <tr>\n",
       "      <th>3</th>\n",
       "      <td>OH</td>\n",
       "      <td>55120</td>\n",
       "      <td>38883</td>\n",
       "      <td>0.586364</td>\n",
       "    </tr>\n",
       "    <tr>\n",
       "      <th>4</th>\n",
       "      <td>ON</td>\n",
       "      <td>178261</td>\n",
       "      <td>28053</td>\n",
       "      <td>0.864028</td>\n",
       "    </tr>\n",
       "    <tr>\n",
       "      <th>5</th>\n",
       "      <td>PA</td>\n",
       "      <td>52844</td>\n",
       "      <td>37283</td>\n",
       "      <td>0.586328</td>\n",
       "    </tr>\n",
       "    <tr>\n",
       "      <th>6</th>\n",
       "      <td>QC</td>\n",
       "      <td>45579</td>\n",
       "      <td>12344</td>\n",
       "      <td>0.786889</td>\n",
       "    </tr>\n",
       "  </tbody>\n",
       "</table>\n",
       "</div>"
      ],
      "text/plain": [
       "labels state       0       1     ratio\n",
       "0         AZ  328378  207238  0.613085\n",
       "1         NC   77310   52869  0.593875\n",
       "2         NV  405611  231560  0.636581\n",
       "3         OH   55120   38883  0.586364\n",
       "4         ON  178261   28053  0.864028\n",
       "5         PA   52844   37283  0.586328\n",
       "6         QC   45579   12344  0.786889"
      ]
     },
     "execution_count": 358,
     "metadata": {},
     "output_type": "execute_result"
    }
   ],
   "source": [
    "# Toronto (ON) and montreal seem to show some mild tendency to associate with cluster 1, but not by much\n",
    "labelcrosstab_st"
   ]
  },
  {
   "cell_type": "code",
   "execution_count": 359,
   "metadata": {},
   "outputs": [],
   "source": [
    "# For reverting encoded labels back to string labels\n",
    "y_state_dict_st= pd.concat([pd.DataFrame(y_le_st), pd.DataFrame(yst)], axis = 1).groupby('state')[0].mean()"
   ]
  },
  {
   "cell_type": "code",
   "execution_count": 360,
   "metadata": {},
   "outputs": [],
   "source": [
    "y_state_dict_swap_st = {value:key for key, value in y_state_dict_st.items()}"
   ]
  },
  {
   "cell_type": "code",
   "execution_count": 361,
   "metadata": {},
   "outputs": [],
   "source": [
    "X_train_st, X_test_st, y_train_st, y_test_st = train_test_split(Xst, y_le_st, stratify = y_le_st, random_state = 42)"
   ]
  },
  {
   "cell_type": "code",
   "execution_count": 362,
   "metadata": {},
   "outputs": [],
   "source": [
    "rus_st = RandomUnderSampler()\n",
    "X_train_rus_st, y_train_rus_st = rus_st.fit_sample(X_train_st, y_train_st)\n",
    "X_test_rus_st, y_test_rus_st = rus_st.fit_sample(X_test_st, y_test_st)\n"
   ]
  },
  {
   "cell_type": "code",
   "execution_count": 363,
   "metadata": {},
   "outputs": [],
   "source": [
    "scaler_st = MinMaxScaler()\n",
    "X_train_scaled_st = scaler_st.fit_transform(X_train_rus_st)\n",
    "X_test_scaled_st = scaler_st.transform(X_test_rus_st)"
   ]
  },
  {
   "cell_type": "code",
   "execution_count": 364,
   "metadata": {},
   "outputs": [],
   "source": [
    "y_train_dummies_st = pd.get_dummies(pd.Series(y_train_rus_st))\n",
    "y_test_dummies_st = pd.get_dummies(y_test_rus_st)"
   ]
  },
  {
   "cell_type": "code",
   "execution_count": 365,
   "metadata": {},
   "outputs": [],
   "source": [
    "model_st = Sequential()\n",
    "model_st.add(Dense(1024, input_dim= X_train_scaled_st.shape[1], activation='relu'))\n",
    "model_st.add(Dense(64, activation='relu'))\n",
    "model_st.add(Dense(64, activation='relu'))\n",
    "model_st.add(Dense(7, activation='softmax'))"
   ]
  },
  {
   "cell_type": "code",
   "execution_count": 294,
   "metadata": {},
   "outputs": [
    {
     "name": "stdout",
     "output_type": "stream",
     "text": [
      "Train on 304094 samples, validate on 101367 samples\n",
      "Epoch 1/50\n",
      "304094/304094 [==============================] - 4s 14us/sample - loss: 1.5741 - recall_2: 0.1403 - val_loss: 1.4522 - val_recall_2: 0.2228\n",
      "Epoch 2/50\n",
      "304094/304094 [==============================] - 4s 13us/sample - loss: 1.3824 - recall_2: 0.2603 - val_loss: 1.3536 - val_recall_2: 0.2781\n",
      "Epoch 3/50\n",
      "304094/304094 [==============================] - 4s 14us/sample - loss: 1.3175 - recall_2: 0.2938 - val_loss: 1.3046 - val_recall_2: 0.2970\n",
      "Epoch 4/50\n",
      "304094/304094 [==============================] - 4s 13us/sample - loss: 1.2859 - recall_2: 0.3068 - val_loss: 1.2870 - val_recall_2: 0.3168\n",
      "Epoch 5/50\n",
      "304094/304094 [==============================] - 4s 13us/sample - loss: 1.2670 - recall_2: 0.3144 - val_loss: 1.2746 - val_recall_2: 0.3180\n",
      "Epoch 6/50\n",
      "304094/304094 [==============================] - 4s 13us/sample - loss: 1.2531 - recall_2: 0.3190 - val_loss: 1.2558 - val_recall_2: 0.3170\n",
      "Epoch 7/50\n",
      "304094/304094 [==============================] - 4s 13us/sample - loss: 1.2446 - recall_2: 0.3212 - val_loss: 1.2560 - val_recall_2: 0.3208\n",
      "Epoch 8/50\n",
      "304094/304094 [==============================] - 4s 14us/sample - loss: 1.2364 - recall_2: 0.3237 - val_loss: 1.2412 - val_recall_2: 0.3243\n",
      "Epoch 9/50\n",
      "304094/304094 [==============================] - 4s 14us/sample - loss: 1.2305 - recall_2: 0.3250 - val_loss: 1.2380 - val_recall_2: 0.3264\n",
      "Epoch 10/50\n",
      "304094/304094 [==============================] - 4s 14us/sample - loss: 1.2257 - recall_2: 0.3253 - val_loss: 1.2307 - val_recall_2: 0.3197\n",
      "Epoch 11/50\n",
      "304094/304094 [==============================] - 4s 14us/sample - loss: 1.2218 - recall_2: 0.3263 - val_loss: 1.2305 - val_recall_2: 0.3196\n",
      "Epoch 12/50\n",
      "304094/304094 [==============================] - 4s 14us/sample - loss: 1.2178 - recall_2: 0.3267 - val_loss: 1.2310 - val_recall_2: 0.3165\n",
      "Epoch 13/50\n",
      "304094/304094 [==============================] - 4s 14us/sample - loss: 1.2141 - recall_2: 0.3276 - val_loss: 1.2196 - val_recall_2: 0.3205\n",
      "Epoch 14/50\n",
      "304094/304094 [==============================] - 4s 14us/sample - loss: 1.2120 - recall_2: 0.3277 - val_loss: 1.2253 - val_recall_2: 0.3171\n",
      "Epoch 15/50\n",
      "304094/304094 [==============================] - 4s 14us/sample - loss: 1.2095 - recall_2: 0.3277 - val_loss: 1.2225 - val_recall_2: 0.3219\n",
      "Epoch 16/50\n",
      "304094/304094 [==============================] - 4s 14us/sample - loss: 1.2076 - recall_2: 0.3272 - val_loss: 1.2182 - val_recall_2: 0.3205\n",
      "Epoch 17/50\n",
      "304094/304094 [==============================] - 4s 14us/sample - loss: 1.2053 - recall_2: 0.3286 - val_loss: 1.2149 - val_recall_2: 0.3244\n",
      "Epoch 18/50\n",
      "304094/304094 [==============================] - 4s 14us/sample - loss: 1.2035 - recall_2: 0.3291 - val_loss: 1.2131 - val_recall_2: 0.3249\n",
      "Epoch 19/50\n",
      "304094/304094 [==============================] - 4s 14us/sample - loss: 1.2020 - recall_2: 0.3297 - val_loss: 1.2146 - val_recall_2: 0.3296\n",
      "Epoch 20/50\n",
      "304094/304094 [==============================] - 4s 14us/sample - loss: 1.2005 - recall_2: 0.3296 - val_loss: 1.2109 - val_recall_2: 0.3268\n",
      "Epoch 21/50\n",
      "304094/304094 [==============================] - 4s 14us/sample - loss: 1.1994 - recall_2: 0.3292 - val_loss: 1.2097 - val_recall_2: 0.3291\n",
      "Epoch 22/50\n",
      "304094/304094 [==============================] - 4s 14us/sample - loss: 1.1976 - recall_2: 0.3296 - val_loss: 1.2145 - val_recall_2: 0.3190\n",
      "Epoch 23/50\n",
      "304094/304094 [==============================] - 4s 14us/sample - loss: 1.1969 - recall_2: 0.3302 - val_loss: 1.2113 - val_recall_2: 0.3269\n",
      "Epoch 24/50\n",
      "304094/304094 [==============================] - 4s 14us/sample - loss: 1.1961 - recall_2: 0.3295 - val_loss: 1.2088 - val_recall_2: 0.3271\n",
      "Epoch 25/50\n",
      "304094/304094 [==============================] - 4s 14us/sample - loss: 1.1952 - recall_2: 0.3301 - val_loss: 1.2084 - val_recall_2: 0.3266\n",
      "Epoch 26/50\n",
      "304094/304094 [==============================] - 4s 14us/sample - loss: 1.1942 - recall_2: 0.3305 - val_loss: 1.2057 - val_recall_2: 0.3231\n",
      "Epoch 27/50\n",
      "304094/304094 [==============================] - 4s 14us/sample - loss: 1.1936 - recall_2: 0.3309 - val_loss: 1.2054 - val_recall_2: 0.3239\n",
      "Epoch 28/50\n",
      "304094/304094 [==============================] - 4s 14us/sample - loss: 1.1928 - recall_2: 0.3310 - val_loss: 1.2073 - val_recall_2: 0.3222\n",
      "Epoch 29/50\n",
      "304094/304094 [==============================] - 4s 14us/sample - loss: 1.1920 - recall_2: 0.3303 - val_loss: 1.2027 - val_recall_2: 0.3235\n",
      "Epoch 30/50\n",
      "304094/304094 [==============================] - 4s 14us/sample - loss: 1.1912 - recall_2: 0.3309 - val_loss: 1.2070 - val_recall_2: 0.3223\n",
      "Epoch 31/50\n",
      "304094/304094 [==============================] - 4s 14us/sample - loss: 1.1906 - recall_2: 0.3313 - val_loss: 1.2050 - val_recall_2: 0.3277\n",
      "Epoch 32/50\n",
      "304094/304094 [==============================] - 4s 14us/sample - loss: 1.1901 - recall_2: 0.3303 - val_loss: 1.2031 - val_recall_2: 0.3219\n",
      "Epoch 33/50\n",
      "304094/304094 [==============================] - 4s 14us/sample - loss: 1.1900 - recall_2: 0.3312 - val_loss: 1.2044 - val_recall_2: 0.3248\n",
      "Epoch 34/50\n",
      "304094/304094 [==============================] - 4s 14us/sample - loss: 1.1888 - recall_2: 0.3307 - val_loss: 1.2031 - val_recall_2: 0.3276\n",
      "Epoch 35/50\n",
      "304094/304094 [==============================] - 4s 14us/sample - loss: 1.1887 - recall_2: 0.3313 - val_loss: 1.2028 - val_recall_2: 0.3305\n",
      "Epoch 36/50\n",
      "304094/304094 [==============================] - 4s 14us/sample - loss: 1.1882 - recall_2: 0.3308 - val_loss: 1.2024 - val_recall_2: 0.3281\n",
      "Epoch 37/50\n",
      "304094/304094 [==============================] - 4s 14us/sample - loss: 1.1880 - recall_2: 0.3310 - val_loss: 1.2045 - val_recall_2: 0.3274\n",
      "Epoch 38/50\n",
      "304094/304094 [==============================] - 4s 14us/sample - loss: 1.1874 - recall_2: 0.3317 - val_loss: 1.2029 - val_recall_2: 0.3276\n",
      "Epoch 39/50\n",
      "304094/304094 [==============================] - 4s 14us/sample - loss: 1.1867 - recall_2: 0.3319 - val_loss: 1.2034 - val_recall_2: 0.3261\n",
      "Epoch 40/50\n",
      "304094/304094 [==============================] - 4s 14us/sample - loss: 1.1868 - recall_2: 0.3315 - val_loss: 1.2011 - val_recall_2: 0.3303\n",
      "Epoch 41/50\n",
      "304094/304094 [==============================] - 4s 14us/sample - loss: 1.1861 - recall_2: 0.3324 - val_loss: 1.2028 - val_recall_2: 0.3245\n",
      "Epoch 42/50\n",
      "304094/304094 [==============================] - 4s 14us/sample - loss: 1.1858 - recall_2: 0.3315 - val_loss: 1.1998 - val_recall_2: 0.3261\n",
      "Epoch 43/50\n",
      "304094/304094 [==============================] - 4s 14us/sample - loss: 1.1858 - recall_2: 0.3314 - val_loss: 1.2022 - val_recall_2: 0.3375\n",
      "Epoch 44/50\n",
      "304094/304094 [==============================] - 4s 14us/sample - loss: 1.1854 - recall_2: 0.3321 - val_loss: 1.2043 - val_recall_2: 0.3262\n",
      "Epoch 45/50\n",
      "304094/304094 [==============================] - 4s 14us/sample - loss: 1.1851 - recall_2: 0.3331 - val_loss: 1.2023 - val_recall_2: 0.3275\n",
      "Epoch 46/50\n",
      "304094/304094 [==============================] - 4s 14us/sample - loss: 1.1852 - recall_2: 0.3324 - val_loss: 1.2008 - val_recall_2: 0.3235\n",
      "Epoch 47/50\n",
      "304094/304094 [==============================] - 4s 14us/sample - loss: 1.1842 - recall_2: 0.3320 - val_loss: 1.2015 - val_recall_2: 0.3307\n",
      "Epoch 48/50\n",
      "304094/304094 [==============================] - 4s 14us/sample - loss: 1.1844 - recall_2: 0.3333 - val_loss: 1.2020 - val_recall_2: 0.3277\n",
      "Epoch 49/50\n",
      "304094/304094 [==============================] - 4s 14us/sample - loss: 1.1842 - recall_2: 0.3321 - val_loss: 1.1994 - val_recall_2: 0.3271\n",
      "Epoch 50/50\n",
      "304094/304094 [==============================] - 4s 14us/sample - loss: 1.1838 - recall_2: 0.3329 - val_loss: 1.2025 - val_recall_2: 0.3231\n"
     ]
    },
    {
     "data": {
      "text/plain": [
       "<tensorflow.python.keras.callbacks.History at 0x7f9b55245610>"
      ]
     },
     "execution_count": 294,
     "metadata": {},
     "output_type": "execute_result"
    }
   ],
   "source": [
    "model_st.compile(optimizer= 'adam', loss = 'categorical_crossentropy', metrics = [Recall()])\n",
    "model_st.fit(X_train_scaled_st, y_train_dummies_st, batch_size=200, epochs=50, validation_data = (X_test_scaled_st, y_test_dummies_st))"
   ]
  },
  {
   "cell_type": "code",
   "execution_count": 300,
   "metadata": {},
   "outputs": [],
   "source": [
    "y_predNN_st = model_st.predict_classes(X_test_scaled_st)\n"
   ]
  },
  {
   "cell_type": "code",
   "execution_count": 309,
   "metadata": {},
   "outputs": [],
   "source": [
    "def plot_confusion_matrix_st(cm,\n",
    "                          target_names,\n",
    "                          title='Confusion matrix',\n",
    "                          cmap=None,\n",
    "                          normalize=None):\n",
    "    \"\"\"\n",
    "    given a sklearn confusion matrix (cm), make a nice plot\n",
    "\n",
    "    Arguments\n",
    "    ---------\n",
    "    cm:           confusion matrix from sklearn.metrics.confusion_matrix\n",
    "\n",
    "    target_names: given classification classes such as [0, 1, 2]\n",
    "                  the class names, for example: ['high', 'medium', 'low']\n",
    "\n",
    "    title:        the text to display at the top of the matrix\n",
    "\n",
    "    cmap:         the gradient of the values displayed from matplotlib.pyplot.cm\n",
    "                  see http://matplotlib.org/examples/color/colormaps_reference.html\n",
    "                  plt.get_cmap('jet') or plt.cm.Blues\n",
    "\n",
    "    normalize:    If False, plot the raw numbers\n",
    "                  If True, plot the proportions\n",
    "\n",
    "    Usage\n",
    "    -----\n",
    "    plot_confusion_matrix(cm           = cm,                  # confusion matrix created by\n",
    "                                                              # sklearn.metrics.confusion_matrix\n",
    "                          normalize    = True,                # show proportions\n",
    "                          target_names = y_labels_vals,       # list of names of the classes\n",
    "                          title        = best_estimator_name) # title of graph\n",
    "\n",
    "    Citiation\n",
    "    ---------\n",
    "    http://scikit-learn.org/stable/auto_examples/model_selection/plot_confusion_matrix.html\n",
    "\n",
    "    \"\"\"\n",
    "    \n",
    "   \n",
    "\n",
    "    accuracy = np.trace(cm) / float(np.sum(cm))\n",
    "    misclass = 1 - accuracy\n",
    "\n",
    "    if cmap is None:\n",
    "        cmap = plt.get_cmap('Blues')\n",
    "        \n",
    "    plt.figure(figsize=(8, 6))\n",
    "    plt.imshow(cm, interpolation='nearest', cmap=cmap)\n",
    "    plt.title(title)\n",
    "    plt.colorbar()\n",
    "\n",
    "    if target_names is not None:\n",
    "        tick_marks = np.arange(len(target_names))\n",
    "        plt.xticks(tick_marks, target_names, rotation=45)\n",
    "        plt.yticks(tick_marks, target_names)\n",
    "\n",
    "    if normalize:\n",
    "        cm = cm.astype('float') / cm.sum(axis=1)[:, np.newaxis]\n",
    "\n",
    "\n",
    "    thresh = cm.max() / 1.5 if normalize else cm.max() / 2\n",
    "    for i, j in itertools.product(range(cm.shape[0]), range(cm.shape[1])):\n",
    "        if normalize:\n",
    "            plt.text(j, i, \"{:0.4f}\".format(cm[i, j]),\n",
    "                     horizontalalignment=\"center\",\n",
    "                     color=\"white\" if cm[i, j] > thresh else \"black\", fontsize=10)\n",
    "        else:\n",
    "            plt.text(j, i, \"{:,}\".format(cm[i, j]),\n",
    "                     horizontalalignment=\"center\",\n",
    "                     color=\"white\" if cm[i, j] > thresh else \"black\",fontsize=10)\n",
    "\n",
    "\n",
    "    plt.tight_layout()\n",
    "    plt.ylabel('True label')\n",
    "    plt.xlabel('Predicted label\\naccuracy={:0.4f}; misclass={:0.4f}'.format(accuracy, misclass))\n",
    "    plt.show()"
   ]
  },
  {
   "cell_type": "code",
   "execution_count": 304,
   "metadata": {},
   "outputs": [],
   "source": [
    "NNtest_st = confusion_matrix(y_test_rus_st, y_predNN_st, normalize = None)\n"
   ]
  },
  {
   "cell_type": "code",
   "execution_count": 305,
   "metadata": {},
   "outputs": [],
   "source": [
    "matrix_labels_st = list(y_state_dict_swap_st.values())"
   ]
  },
  {
   "cell_type": "code",
   "execution_count": 311,
   "metadata": {},
   "outputs": [
    {
     "data": {
      "image/png": "[encoded data removed]",
      "text/plain": [
       "<Figure size 576x432 with 2 Axes>"
      ]
     },
     "metadata": {
      "needs_background": "light"
     },
     "output_type": "display_data"
    }
   ],
   "source": [
    "target_names_st = matrix_labels_st \n",
    "plot_confusion_matrix_st(NNtest_st,\n",
    "                          target_names_st,\n",
    "                          title='Confusion matrix',\n",
    "                          cmap=None,\n",
    "                          normalize=None)"
   ]
  },
  {
   "cell_type": "code",
   "execution_count": 367,
   "metadata": {},
   "outputs": [
    {
     "data": {
      "text/plain": [
       "0.5147237266566042"
      ]
     },
     "execution_count": 367,
     "metadata": {},
     "output_type": "execute_result"
    }
   ],
   "source": [
    "\n",
    "NNscore_st = recall_score(y_test_rus_st, y_predNN_st, average = 'macro')\n",
    "NNscore_st"
   ]
  },
  {
   "cell_type": "code",
   "execution_count": 303,
   "metadata": {},
   "outputs": [
    {
     "data": {
      "text/plain": [
       "3.6030660865962294"
      ]
     },
     "execution_count": 303,
     "metadata": {},
     "output_type": "execute_result"
    }
   ],
   "source": [
    "recall_score(y_test_rus_st, y_predNN_st, average = 'macro')/(1/NNtest_st.shape[0])"
   ]
  },
  {
   "cell_type": "markdown",
   "metadata": {},
   "source": [
    "This model gives about a 50% chance of predicting the correct state, which is about 3.6 times better than simply guessing."
   ]
  },
  {
   "cell_type": "code",
   "execution_count": 390,
   "metadata": {},
   "outputs": [],
   "source": [
    "model =  ['LR score', 'RF score', 'GB score', 'NN score']\n",
    "score =  [LRscore,  RFscore,  GBscore, NNscore]"
   ]
  },
  {
   "cell_type": "code",
   "execution_count": 391,
   "metadata": {},
   "outputs": [],
   "source": [
    "score_summary = pd.DataFrame()\n",
    "score_summary['Model'] =model\n",
    "score_summary['Score'] =score"
   ]
  },
  {
   "cell_type": "markdown",
   "metadata": {},
   "source": [
    "# Conclusions"
   ]
  },
  {
   "cell_type": "markdown",
   "metadata": {},
   "source": [
    "The overall goal of the project is to develop a tool to help potential restaurant owners to help predict the success of such a restaurant based on a list key words that would describe the restaurant food types, ethnicity, and planned venue type.\n",
    "\n",
    "This involved two steps:\n",
    "\n",
    "A. Build a  model that predicts restaurant popularity overall based on restaurant category words from ~100,000 \n",
    "   reviews from a Yelp database across 7 metroplexes\n",
    "B. Build a model that can predict which city a planned restaurant would be most popular in based on the assembly of category word associated with the restaurant\n",
    "\n",
    "The best modeling platform from model A was further used to build model B"
   ]
  },
  {
   "cell_type": "markdown",
   "metadata": {},
   "source": [
    "1. Restaurant category words showed some mild abilityt distiguish between US and Canadian restaurants, such as American. Although it is obvious that American restaurants are not popular in Canada, it shows that the feature importance does use that as a key feature, and likely arises from this difference\n",
    "\n",
    "2. The Best model out of two Ensemble models and logistic regression, the Neural Network worked best. \n",
    "\n"
   ]
  },
  {
   "cell_type": "code",
   "execution_count": 392,
   "metadata": {},
   "outputs": [
    {
     "data": {
      "text/plain": [
       "<BarContainer object of 4 artists>"
      ]
     },
     "execution_count": 392,
     "metadata": {},
     "output_type": "execute_result"
    },
    {
     "data": {
      "image/png": "[encoded data removed]",
      "text/plain": [
       "<Figure size 432x288 with 1 Axes>"
      ]
     },
     "metadata": {
      "needs_background": "light"
     },
     "output_type": "display_data"
    }
   ],
   "source": [
    "plt.bar(score_summary['Model'], score_summary['Score'])"
   ]
  },
  {
   "cell_type": "markdown",
   "metadata": {},
   "source": [
    "3. Predicted popular restaurants was not very good based on selected word features alone. Earlier models did include states (dummified) as well as average income bracket per zip code, but those features did not help. In fact income as feature eliminated any predictive capacity.\n",
    "\n",
    "\n",
    "4. Interestingly vecorized word features from positive reviews did have modest predictive power to classify which state they belonged to. This shows some promise in further optimizing this model by feature engineering and hypertuning."
   ]
  },
  {
   "cell_type": "markdown",
   "metadata": {},
   "source": [
    "# Future Directions"
   ]
  },
  {
   "cell_type": "markdown",
   "metadata": {},
   "source": [
    "Prediction of best zip code\n",
    "\n",
    "Improve category words for vectorization\n",
    "\n",
    "Add demographic features (ethnicity distribution of population, aver age group, marital status)\n",
    "\n",
    "Add restaurant density information by city or even by zipcode\n",
    "\n",
    "Overlay traffic pattern info from latch data from US bureau of transportation (street level decisions)\n",
    "\n",
    "Flip model to predict restaurant words best associated with positive review by region\n"
   ]
  },
  {
   "cell_type": "code",
   "execution_count": null,
   "metadata": {},
   "outputs": [],
   "source": []
  }
 ],
 "metadata": {
  "kernelspec": {
   "display_name": "Python 3",
   "language": "python",
   "name": "python3"
  },
  "language_info": {
   "codemirror_mode": {
    "name": "ipython",
    "version": 3
   },
   "file_extension": ".py",
   "mimetype": "text/x-python",
   "name": "python",
   "nbconvert_exporter": "python",
   "pygments_lexer": "ipython3",
   "version": "3.7.7"
  }
 },
 "nbformat": 4,
 "nbformat_minor": 4
}
