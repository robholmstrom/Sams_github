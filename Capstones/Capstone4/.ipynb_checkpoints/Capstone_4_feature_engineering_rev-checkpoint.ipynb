{
 "cells": [
  {
   "cell_type": "code",
   "execution_count": 55,
   "metadata": {},
   "outputs": [],
   "source": [
    "import json\n",
    "from datetime import datetime\n",
    "import plotly.express as px\n",
    "from sklearn.model_selection import train_test_split\n",
    "import sqlite3\n",
    "import nltk\n",
    "import spacy\n",
    "import geopandas as gpd\n",
    "from shapely.geometry import Polygon\n",
    "import numpy as np\n",
    "import umap\n",
    "import pandas as pd\n",
    "import shapefile as shp\n",
    "import matplotlib.pyplot as plt\n",
    "import seaborn as sns\n",
    "from sklearn.cluster import KMeans\n",
    "from sklearn.mixture import GaussianMixture\n",
    "from sklearn.decomposition import PCA\n",
    "from sklearn.feature_extraction.text import CountVectorizer, TfidfVectorizer\n",
    "from sklearn.preprocessing import LabelEncoder, MinMaxScaler\n",
    "from sklearn.ensemble import RandomForestClassifier, GradientBoostingClassifier\n",
    "from sklearn.neighbors import KNeighborsClassifier\n",
    "from sklearn.svm import SVC\n",
    "from sklearn.preprocessing import MinMaxScaler\n",
    "from sklearn.feature_selection import SelectKBest, f_classif\n",
    "from imblearn.over_sampling import SMOTE\n",
    "from imblearn.under_sampling import RandomUnderSampler\n",
    "import itertools\n",
    "%matplotlib inline"
   ]
  },
  {
   "cell_type": "code",
   "execution_count": 2,
   "metadata": {},
   "outputs": [],
   "source": [
    "df_food = pd.read_csv('/Users/robholmstrom/OneDrive/Gitrepos/nonrepo_files/capstone4_files/df_food_clean_rev.csv')"
   ]
  },
  {
   "cell_type": "code",
   "execution_count": 3,
   "metadata": {},
   "outputs": [],
   "source": [
    "df_food['stars'].replace(3,np.nan, inplace =True)\n",
    "df_food.dropna(inplace=True)\n",
    "df_food['star_binary'] = np.where(df_food['stars'] <3, 'no', 'yes')\n"
   ]
  },
  {
   "cell_type": "code",
   "execution_count": 4,
   "metadata": {},
   "outputs": [],
   "source": [
    "df_food['state_star'] = df_food['state'] + df_food['star_binary']\n"
   ]
  },
  {
   "cell_type": "code",
   "execution_count": null,
   "metadata": {},
   "outputs": [],
   "source": []
  },
  {
   "cell_type": "code",
   "execution_count": 5,
   "metadata": {},
   "outputs": [],
   "source": [
    "df_food_v2 = df_food.reset_index(drop=True).drop('Unnamed: 0', axis = 1)"
   ]
  },
  {
   "cell_type": "code",
   "execution_count": 6,
   "metadata": {},
   "outputs": [],
   "source": [
    "df_food_clean = df_food_v2.copy()"
   ]
  },
  {
   "cell_type": "code",
   "execution_count": 7,
   "metadata": {},
   "outputs": [],
   "source": [
    "#df_food_clean = df_food_v2.loc[df_food_v2['state_star'].str.contains('no')].reset_index(drop=True)\n"
   ]
  },
  {
   "cell_type": "code",
   "execution_count": 8,
   "metadata": {},
   "outputs": [],
   "source": [
    "vectorizer = CountVectorizer(analyzer='word', min_df=200, max_features=25)\n",
    "Xvec = vectorizer.fit_transform(df_food_clean['food_comb'])\n",
    "bow_df = pd.DataFrame(Xvec.toarray(), columns=vectorizer.get_feature_names())"
   ]
  },
  {
   "cell_type": "code",
   "execution_count": 9,
   "metadata": {},
   "outputs": [],
   "source": [
    "vectorizertf = TfidfVectorizer(analyzer='word', min_df=50, max_features=50)\n",
    "Xvectf = vectorizertf.fit_transform(df_food_clean['food_comb'])\n",
    "tf_df = pd.DataFrame(Xvectf.toarray(), columns=vectorizertf.get_feature_names())"
   ]
  },
  {
   "cell_type": "code",
   "execution_count": 10,
   "metadata": {},
   "outputs": [],
   "source": [
    "#df_vec = pd.concat([bow_df, df_food_clean['stars_avg']], axis=1)"
   ]
  },
  {
   "cell_type": "code",
   "execution_count": 11,
   "metadata": {},
   "outputs": [],
   "source": [
    "df_vec = bow_df"
   ]
  },
  {
   "cell_type": "code",
   "execution_count": 12,
   "metadata": {},
   "outputs": [],
   "source": [
    "df_vec = tf_df"
   ]
  },
  {
   "cell_type": "code",
   "execution_count": 13,
   "metadata": {},
   "outputs": [],
   "source": [
    "#df_vec = np.array(df_food_clean['stars_avg']).reshape(-1, 1)"
   ]
  },
  {
   "cell_type": "code",
   "execution_count": 14,
   "metadata": {},
   "outputs": [],
   "source": [
    "X = df_vec\n",
    "y = df_food_clean['state_star']"
   ]
  },
  {
   "cell_type": "code",
   "execution_count": 15,
   "metadata": {},
   "outputs": [
    {
     "data": {
      "text/plain": [
       "Index(['american', 'asianfusion', 'bakeries', 'barbeque', 'breakfast',\n",
       "       'brunch', 'buffets', 'burgers', 'cafes', 'chickenwings', 'chinese',\n",
       "       'coffee', 'comfortfood', 'delis', 'desserts', 'diners', 'fastfood',\n",
       "       'frozenyogurt', 'gastropubs', 'icecream', 'indian', 'italian',\n",
       "       'japanese', 'juicebars', 'korean', 'mediterranean', 'mexican',\n",
       "       'middleeastern', 'new', 'noodles', 'pizza', 'restaurant', 'salad',\n",
       "       'sandwiches', 'seafood', 'smallplates', 'smoothies', 'soup', 'southern',\n",
       "       'specialtyfood', 'steakhouses', 'sushibars', 'tacos', 'tapas', 'tea',\n",
       "       'thai', 'traditional', 'vegan', 'vegetarian', 'vietnamese'],\n",
       "      dtype='object')"
      ]
     },
     "execution_count": 15,
     "metadata": {},
     "output_type": "execute_result"
    }
   ],
   "source": [
    "X.columns"
   ]
  },
  {
   "cell_type": "code",
   "execution_count": 16,
   "metadata": {},
   "outputs": [],
   "source": [
    "k = 25\n",
    "if len(X.columns) >= k:\n",
    "    skb = SelectKBest(k = k, score_func = f_classif)\n",
    "    best_kfit = skb.fit(X, y)\n",
    "    X_best_feat = best_kfit.fit_transform(X,y)\n",
    "\n",
    "    X_best_feat = pd.DataFrame(X_best_feat, columns=X.columns[best_kfit.get_support()])\n",
    "\n",
    "    best_features = X_best_feat.columns.tolist()\n",
    "else:\n",
    "    print('To few columns to select')"
   ]
  },
  {
   "cell_type": "code",
   "execution_count": 17,
   "metadata": {},
   "outputs": [
    {
     "data": {
      "text/plain": [
       "['american',\n",
       " 'breakfast',\n",
       " 'brunch',\n",
       " 'buffets',\n",
       " 'burgers',\n",
       " 'chickenwings',\n",
       " 'chinese',\n",
       " 'fastfood',\n",
       " 'indian',\n",
       " 'japanese',\n",
       " 'korean',\n",
       " 'mexican',\n",
       " 'middleeastern',\n",
       " 'new',\n",
       " 'noodles',\n",
       " 'pizza',\n",
       " 'restaurant',\n",
       " 'salad',\n",
       " 'sandwiches',\n",
       " 'smallplates',\n",
       " 'southern',\n",
       " 'steakhouses',\n",
       " 'tacos',\n",
       " 'tapas',\n",
       " 'traditional']"
      ]
     },
     "execution_count": 17,
     "metadata": {},
     "output_type": "execute_result"
    }
   ],
   "source": [
    "best_features"
   ]
  },
  {
   "cell_type": "code",
   "execution_count": 18,
   "metadata": {},
   "outputs": [],
   "source": [
    "# X = df_vec[best_features]\n",
    "# y = df_food_clean['state']"
   ]
  },
  {
   "cell_type": "code",
   "execution_count": 19,
   "metadata": {},
   "outputs": [
    {
     "data": {
      "text/html": [
       "<div>\n",
       "<style scoped>\n",
       "    .dataframe tbody tr th:only-of-type {\n",
       "        vertical-align: middle;\n",
       "    }\n",
       "\n",
       "    .dataframe tbody tr th {\n",
       "        vertical-align: top;\n",
       "    }\n",
       "\n",
       "    .dataframe thead th {\n",
       "        text-align: right;\n",
       "    }\n",
       "</style>\n",
       "<table border=\"1\" class=\"dataframe\">\n",
       "  <thead>\n",
       "    <tr style=\"text-align: right;\">\n",
       "      <th></th>\n",
       "      <th>american</th>\n",
       "      <th>asianfusion</th>\n",
       "      <th>bakeries</th>\n",
       "      <th>barbeque</th>\n",
       "      <th>breakfast</th>\n",
       "      <th>brunch</th>\n",
       "      <th>buffets</th>\n",
       "      <th>burgers</th>\n",
       "      <th>cafes</th>\n",
       "      <th>chickenwings</th>\n",
       "      <th>...</th>\n",
       "      <th>steakhouses</th>\n",
       "      <th>sushibars</th>\n",
       "      <th>tacos</th>\n",
       "      <th>tapas</th>\n",
       "      <th>tea</th>\n",
       "      <th>thai</th>\n",
       "      <th>traditional</th>\n",
       "      <th>vegan</th>\n",
       "      <th>vegetarian</th>\n",
       "      <th>vietnamese</th>\n",
       "    </tr>\n",
       "  </thead>\n",
       "  <tbody>\n",
       "    <tr>\n",
       "      <th>0</th>\n",
       "      <td>0.0</td>\n",
       "      <td>0.0</td>\n",
       "      <td>0.0</td>\n",
       "      <td>0.0</td>\n",
       "      <td>0.0</td>\n",
       "      <td>0.0</td>\n",
       "      <td>0.0</td>\n",
       "      <td>0.0</td>\n",
       "      <td>0.0</td>\n",
       "      <td>0.650229</td>\n",
       "      <td>...</td>\n",
       "      <td>0.0</td>\n",
       "      <td>0.0</td>\n",
       "      <td>0.0</td>\n",
       "      <td>0.0</td>\n",
       "      <td>0.0</td>\n",
       "      <td>0.0</td>\n",
       "      <td>0.0</td>\n",
       "      <td>0.0</td>\n",
       "      <td>0.0</td>\n",
       "      <td>0.0</td>\n",
       "    </tr>\n",
       "    <tr>\n",
       "      <th>1</th>\n",
       "      <td>0.0</td>\n",
       "      <td>0.0</td>\n",
       "      <td>0.0</td>\n",
       "      <td>0.0</td>\n",
       "      <td>0.0</td>\n",
       "      <td>0.0</td>\n",
       "      <td>0.0</td>\n",
       "      <td>0.0</td>\n",
       "      <td>0.0</td>\n",
       "      <td>0.650229</td>\n",
       "      <td>...</td>\n",
       "      <td>0.0</td>\n",
       "      <td>0.0</td>\n",
       "      <td>0.0</td>\n",
       "      <td>0.0</td>\n",
       "      <td>0.0</td>\n",
       "      <td>0.0</td>\n",
       "      <td>0.0</td>\n",
       "      <td>0.0</td>\n",
       "      <td>0.0</td>\n",
       "      <td>0.0</td>\n",
       "    </tr>\n",
       "    <tr>\n",
       "      <th>2</th>\n",
       "      <td>0.0</td>\n",
       "      <td>0.0</td>\n",
       "      <td>0.0</td>\n",
       "      <td>0.0</td>\n",
       "      <td>0.0</td>\n",
       "      <td>0.0</td>\n",
       "      <td>0.0</td>\n",
       "      <td>0.0</td>\n",
       "      <td>0.0</td>\n",
       "      <td>0.650229</td>\n",
       "      <td>...</td>\n",
       "      <td>0.0</td>\n",
       "      <td>0.0</td>\n",
       "      <td>0.0</td>\n",
       "      <td>0.0</td>\n",
       "      <td>0.0</td>\n",
       "      <td>0.0</td>\n",
       "      <td>0.0</td>\n",
       "      <td>0.0</td>\n",
       "      <td>0.0</td>\n",
       "      <td>0.0</td>\n",
       "    </tr>\n",
       "    <tr>\n",
       "      <th>3</th>\n",
       "      <td>0.0</td>\n",
       "      <td>0.0</td>\n",
       "      <td>0.0</td>\n",
       "      <td>0.0</td>\n",
       "      <td>0.0</td>\n",
       "      <td>0.0</td>\n",
       "      <td>0.0</td>\n",
       "      <td>0.0</td>\n",
       "      <td>0.0</td>\n",
       "      <td>0.650229</td>\n",
       "      <td>...</td>\n",
       "      <td>0.0</td>\n",
       "      <td>0.0</td>\n",
       "      <td>0.0</td>\n",
       "      <td>0.0</td>\n",
       "      <td>0.0</td>\n",
       "      <td>0.0</td>\n",
       "      <td>0.0</td>\n",
       "      <td>0.0</td>\n",
       "      <td>0.0</td>\n",
       "      <td>0.0</td>\n",
       "    </tr>\n",
       "    <tr>\n",
       "      <th>4</th>\n",
       "      <td>0.0</td>\n",
       "      <td>0.0</td>\n",
       "      <td>0.0</td>\n",
       "      <td>0.0</td>\n",
       "      <td>0.0</td>\n",
       "      <td>0.0</td>\n",
       "      <td>0.0</td>\n",
       "      <td>0.0</td>\n",
       "      <td>0.0</td>\n",
       "      <td>0.650229</td>\n",
       "      <td>...</td>\n",
       "      <td>0.0</td>\n",
       "      <td>0.0</td>\n",
       "      <td>0.0</td>\n",
       "      <td>0.0</td>\n",
       "      <td>0.0</td>\n",
       "      <td>0.0</td>\n",
       "      <td>0.0</td>\n",
       "      <td>0.0</td>\n",
       "      <td>0.0</td>\n",
       "      <td>0.0</td>\n",
       "    </tr>\n",
       "    <tr>\n",
       "      <th>...</th>\n",
       "      <td>...</td>\n",
       "      <td>...</td>\n",
       "      <td>...</td>\n",
       "      <td>...</td>\n",
       "      <td>...</td>\n",
       "      <td>...</td>\n",
       "      <td>...</td>\n",
       "      <td>...</td>\n",
       "      <td>...</td>\n",
       "      <td>...</td>\n",
       "      <td>...</td>\n",
       "      <td>...</td>\n",
       "      <td>...</td>\n",
       "      <td>...</td>\n",
       "      <td>...</td>\n",
       "      <td>...</td>\n",
       "      <td>...</td>\n",
       "      <td>...</td>\n",
       "      <td>...</td>\n",
       "      <td>...</td>\n",
       "      <td>...</td>\n",
       "    </tr>\n",
       "    <tr>\n",
       "      <th>2112031</th>\n",
       "      <td>0.0</td>\n",
       "      <td>0.0</td>\n",
       "      <td>0.0</td>\n",
       "      <td>0.0</td>\n",
       "      <td>0.0</td>\n",
       "      <td>0.0</td>\n",
       "      <td>0.0</td>\n",
       "      <td>0.0</td>\n",
       "      <td>0.0</td>\n",
       "      <td>0.000000</td>\n",
       "      <td>...</td>\n",
       "      <td>0.0</td>\n",
       "      <td>0.0</td>\n",
       "      <td>0.0</td>\n",
       "      <td>0.0</td>\n",
       "      <td>0.0</td>\n",
       "      <td>0.0</td>\n",
       "      <td>0.0</td>\n",
       "      <td>0.0</td>\n",
       "      <td>0.0</td>\n",
       "      <td>0.0</td>\n",
       "    </tr>\n",
       "    <tr>\n",
       "      <th>2112032</th>\n",
       "      <td>0.0</td>\n",
       "      <td>0.0</td>\n",
       "      <td>0.0</td>\n",
       "      <td>0.0</td>\n",
       "      <td>0.0</td>\n",
       "      <td>0.0</td>\n",
       "      <td>0.0</td>\n",
       "      <td>0.0</td>\n",
       "      <td>0.0</td>\n",
       "      <td>0.000000</td>\n",
       "      <td>...</td>\n",
       "      <td>0.0</td>\n",
       "      <td>0.0</td>\n",
       "      <td>0.0</td>\n",
       "      <td>0.0</td>\n",
       "      <td>0.0</td>\n",
       "      <td>0.0</td>\n",
       "      <td>0.0</td>\n",
       "      <td>0.0</td>\n",
       "      <td>0.0</td>\n",
       "      <td>0.0</td>\n",
       "    </tr>\n",
       "    <tr>\n",
       "      <th>2112033</th>\n",
       "      <td>0.0</td>\n",
       "      <td>0.0</td>\n",
       "      <td>0.0</td>\n",
       "      <td>0.0</td>\n",
       "      <td>0.0</td>\n",
       "      <td>0.0</td>\n",
       "      <td>0.0</td>\n",
       "      <td>0.0</td>\n",
       "      <td>0.0</td>\n",
       "      <td>0.000000</td>\n",
       "      <td>...</td>\n",
       "      <td>0.0</td>\n",
       "      <td>0.0</td>\n",
       "      <td>0.0</td>\n",
       "      <td>0.0</td>\n",
       "      <td>0.0</td>\n",
       "      <td>0.0</td>\n",
       "      <td>0.0</td>\n",
       "      <td>0.0</td>\n",
       "      <td>0.0</td>\n",
       "      <td>0.0</td>\n",
       "    </tr>\n",
       "    <tr>\n",
       "      <th>2112034</th>\n",
       "      <td>0.0</td>\n",
       "      <td>0.0</td>\n",
       "      <td>0.0</td>\n",
       "      <td>0.0</td>\n",
       "      <td>0.0</td>\n",
       "      <td>0.0</td>\n",
       "      <td>0.0</td>\n",
       "      <td>0.0</td>\n",
       "      <td>0.0</td>\n",
       "      <td>0.000000</td>\n",
       "      <td>...</td>\n",
       "      <td>0.0</td>\n",
       "      <td>0.0</td>\n",
       "      <td>0.0</td>\n",
       "      <td>0.0</td>\n",
       "      <td>0.0</td>\n",
       "      <td>0.0</td>\n",
       "      <td>0.0</td>\n",
       "      <td>0.0</td>\n",
       "      <td>0.0</td>\n",
       "      <td>0.0</td>\n",
       "    </tr>\n",
       "    <tr>\n",
       "      <th>2112035</th>\n",
       "      <td>0.0</td>\n",
       "      <td>0.0</td>\n",
       "      <td>0.0</td>\n",
       "      <td>0.0</td>\n",
       "      <td>0.0</td>\n",
       "      <td>0.0</td>\n",
       "      <td>0.0</td>\n",
       "      <td>0.0</td>\n",
       "      <td>0.0</td>\n",
       "      <td>0.000000</td>\n",
       "      <td>...</td>\n",
       "      <td>0.0</td>\n",
       "      <td>0.0</td>\n",
       "      <td>0.0</td>\n",
       "      <td>0.0</td>\n",
       "      <td>0.0</td>\n",
       "      <td>0.0</td>\n",
       "      <td>0.0</td>\n",
       "      <td>0.0</td>\n",
       "      <td>0.0</td>\n",
       "      <td>0.0</td>\n",
       "    </tr>\n",
       "  </tbody>\n",
       "</table>\n",
       "<p>2112036 rows × 50 columns</p>\n",
       "</div>"
      ],
      "text/plain": [
       "         american  asianfusion  bakeries  barbeque  breakfast  brunch  \\\n",
       "0             0.0          0.0       0.0       0.0        0.0     0.0   \n",
       "1             0.0          0.0       0.0       0.0        0.0     0.0   \n",
       "2             0.0          0.0       0.0       0.0        0.0     0.0   \n",
       "3             0.0          0.0       0.0       0.0        0.0     0.0   \n",
       "4             0.0          0.0       0.0       0.0        0.0     0.0   \n",
       "...           ...          ...       ...       ...        ...     ...   \n",
       "2112031       0.0          0.0       0.0       0.0        0.0     0.0   \n",
       "2112032       0.0          0.0       0.0       0.0        0.0     0.0   \n",
       "2112033       0.0          0.0       0.0       0.0        0.0     0.0   \n",
       "2112034       0.0          0.0       0.0       0.0        0.0     0.0   \n",
       "2112035       0.0          0.0       0.0       0.0        0.0     0.0   \n",
       "\n",
       "         buffets  burgers  cafes  chickenwings  ...  steakhouses  sushibars  \\\n",
       "0            0.0      0.0    0.0      0.650229  ...          0.0        0.0   \n",
       "1            0.0      0.0    0.0      0.650229  ...          0.0        0.0   \n",
       "2            0.0      0.0    0.0      0.650229  ...          0.0        0.0   \n",
       "3            0.0      0.0    0.0      0.650229  ...          0.0        0.0   \n",
       "4            0.0      0.0    0.0      0.650229  ...          0.0        0.0   \n",
       "...          ...      ...    ...           ...  ...          ...        ...   \n",
       "2112031      0.0      0.0    0.0      0.000000  ...          0.0        0.0   \n",
       "2112032      0.0      0.0    0.0      0.000000  ...          0.0        0.0   \n",
       "2112033      0.0      0.0    0.0      0.000000  ...          0.0        0.0   \n",
       "2112034      0.0      0.0    0.0      0.000000  ...          0.0        0.0   \n",
       "2112035      0.0      0.0    0.0      0.000000  ...          0.0        0.0   \n",
       "\n",
       "         tacos  tapas  tea  thai  traditional  vegan  vegetarian  vietnamese  \n",
       "0          0.0    0.0  0.0   0.0          0.0    0.0         0.0         0.0  \n",
       "1          0.0    0.0  0.0   0.0          0.0    0.0         0.0         0.0  \n",
       "2          0.0    0.0  0.0   0.0          0.0    0.0         0.0         0.0  \n",
       "3          0.0    0.0  0.0   0.0          0.0    0.0         0.0         0.0  \n",
       "4          0.0    0.0  0.0   0.0          0.0    0.0         0.0         0.0  \n",
       "...        ...    ...  ...   ...          ...    ...         ...         ...  \n",
       "2112031    0.0    0.0  0.0   0.0          0.0    0.0         0.0         0.0  \n",
       "2112032    0.0    0.0  0.0   0.0          0.0    0.0         0.0         0.0  \n",
       "2112033    0.0    0.0  0.0   0.0          0.0    0.0         0.0         0.0  \n",
       "2112034    0.0    0.0  0.0   0.0          0.0    0.0         0.0         0.0  \n",
       "2112035    0.0    0.0  0.0   0.0          0.0    0.0         0.0         0.0  \n",
       "\n",
       "[2112036 rows x 50 columns]"
      ]
     },
     "execution_count": 19,
     "metadata": {},
     "output_type": "execute_result"
    }
   ],
   "source": [
    "X"
   ]
  },
  {
   "cell_type": "code",
   "execution_count": 20,
   "metadata": {},
   "outputs": [],
   "source": [
    "\n",
    "# df_umap = X[(X != 0).any(axis=1)]\n",
    "# df_umap = X.loc[:, (X != 0).any(axis=0)]\n",
    "# df_umap"
   ]
  },
  {
   "cell_type": "code",
   "execution_count": 21,
   "metadata": {},
   "outputs": [],
   "source": [
    "# up = umap.UMAP(n_neighbors = 20, min_dist = .8, metric = 'euclidean')\n",
    "# Xumap = up.fit_transform(X)\n",
    "# sns.scatterplot(Xumap[:, 0], Xumap[:, 1], hue = df_food_clean['star_binary'], s= 10)"
   ]
  },
  {
   "cell_type": "code",
   "execution_count": 22,
   "metadata": {},
   "outputs": [],
   "source": [
    "le_train = LabelEncoder()\n",
    "y_le = le_train.fit_transform(y)"
   ]
  },
  {
   "cell_type": "code",
   "execution_count": 23,
   "metadata": {},
   "outputs": [],
   "source": [
    "y_export = pd.Series(y_le)\n",
    "X.to_csv('/Users/robholmstrom/OneDrive/Gitrepos/nonrepo_files/capstone4_files/C4_rev_X.csv')\n",
    "y.to_csv('/Users/robholmstrom/OneDrive/Gitrepos/nonrepo_files/capstone4_files/C4_rev_y.csv')"
   ]
  },
  {
   "cell_type": "code",
   "execution_count": 24,
   "metadata": {},
   "outputs": [
    {
     "data": {
      "text/plain": [
       "array([0, 1, 2, 3, 4, 5, 6, 7, 8, 9])"
      ]
     },
     "execution_count": 24,
     "metadata": {},
     "output_type": "execute_result"
    }
   ],
   "source": [
    "np.unique(y_le)"
   ]
  },
  {
   "cell_type": "code",
   "execution_count": 25,
   "metadata": {},
   "outputs": [
    {
     "data": {
      "text/plain": [
       "NVyes    637171\n",
       "AZyes    535616\n",
       "ONyes    206314\n",
       "NVno     192217\n",
       "AZno     176801\n",
       "NCyes    130179\n",
       "OHyes     94003\n",
       "ONno      63957\n",
       "NCno      44157\n",
       "OHno      31621\n",
       "Name: state_star, dtype: int64"
      ]
     },
     "execution_count": 25,
     "metadata": {},
     "output_type": "execute_result"
    }
   ],
   "source": [
    "y.value_counts()"
   ]
  },
  {
   "cell_type": "code",
   "execution_count": 26,
   "metadata": {},
   "outputs": [],
   "source": [
    "y_state_dict= pd.concat([pd.DataFrame(y_le), pd.DataFrame(y)], axis = 1).groupby('state_star')[0].mean()"
   ]
  },
  {
   "cell_type": "code",
   "execution_count": 27,
   "metadata": {},
   "outputs": [
    {
     "data": {
      "text/plain": [
       "state_star\n",
       "AZno     0\n",
       "AZyes    1\n",
       "NCno     2\n",
       "NCyes    3\n",
       "NVno     4\n",
       "NVyes    5\n",
       "OHno     6\n",
       "OHyes    7\n",
       "ONno     8\n",
       "ONyes    9\n",
       "Name: 0, dtype: int64"
      ]
     },
     "execution_count": 27,
     "metadata": {},
     "output_type": "execute_result"
    }
   ],
   "source": [
    "y_state_dict"
   ]
  },
  {
   "cell_type": "code",
   "execution_count": 28,
   "metadata": {},
   "outputs": [
    {
     "data": {
      "text/plain": [
       "{'AZno': 0,\n",
       " 'AZyes': 1,\n",
       " 'NCno': 2,\n",
       " 'NCyes': 3,\n",
       " 'NVno': 4,\n",
       " 'NVyes': 5,\n",
       " 'OHno': 6,\n",
       " 'OHyes': 7,\n",
       " 'ONno': 8,\n",
       " 'ONyes': 9}"
      ]
     },
     "execution_count": 28,
     "metadata": {},
     "output_type": "execute_result"
    }
   ],
   "source": [
    "y_state_dict.to_dict()"
   ]
  },
  {
   "cell_type": "code",
   "execution_count": 29,
   "metadata": {},
   "outputs": [
    {
     "data": {
      "text/plain": [
       "{0: 'AZno',\n",
       " 1: 'AZyes',\n",
       " 2: 'NCno',\n",
       " 3: 'NCyes',\n",
       " 4: 'NVno',\n",
       " 5: 'NVyes',\n",
       " 6: 'OHno',\n",
       " 7: 'OHyes',\n",
       " 8: 'ONno',\n",
       " 9: 'ONyes'}"
      ]
     },
     "execution_count": 29,
     "metadata": {},
     "output_type": "execute_result"
    }
   ],
   "source": [
    "y_state_dict_swap = {value:key for key, value in y_state_dict.items()}\n",
    "y_state_dict_swap"
   ]
  },
  {
   "cell_type": "code",
   "execution_count": 30,
   "metadata": {},
   "outputs": [],
   "source": [
    "X_train, X_test, y_train, y_test = train_test_split(X, y_le, stratify = y_le, random_state = 42)"
   ]
  },
  {
   "cell_type": "code",
   "execution_count": 31,
   "metadata": {},
   "outputs": [
    {
     "data": {
      "text/plain": [
       "array([1, 1, 9, ..., 1, 1, 1])"
      ]
     },
     "execution_count": 31,
     "metadata": {},
     "output_type": "execute_result"
    }
   ],
   "source": [
    "y_train"
   ]
  },
  {
   "cell_type": "code",
   "execution_count": 32,
   "metadata": {},
   "outputs": [],
   "source": [
    "rus = RandomUnderSampler()\n",
    "X_train_rus, y_train_rus = rus.fit_sample(X_train, y_train)\n",
    "X_test_rus, y_test_rus = rus.fit_sample(X_test, y_test)\n"
   ]
  },
  {
   "cell_type": "code",
   "execution_count": 33,
   "metadata": {},
   "outputs": [
    {
     "data": {
      "text/plain": [
       "array([1, 1, 9, ..., 1, 1, 1])"
      ]
     },
     "execution_count": 33,
     "metadata": {},
     "output_type": "execute_result"
    }
   ],
   "source": [
    "y_train"
   ]
  },
  {
   "cell_type": "code",
   "execution_count": 34,
   "metadata": {},
   "outputs": [],
   "source": [
    "\n",
    "scaler = MinMaxScaler()\n",
    "X_train_scaled = scaler.fit_transform(X_train_rus)\n",
    "X_test_scaled = scaler.transform(X_test_rus)"
   ]
  },
  {
   "cell_type": "code",
   "execution_count": 35,
   "metadata": {},
   "outputs": [],
   "source": [
    "from sklearn.linear_model import LogisticRegression\n",
    "lr = LogisticRegression(multi_class= 'ovr', solver = 'lbfgs', penalty = 'l2', max_iter = 1000)"
   ]
  },
  {
   "cell_type": "code",
   "execution_count": 36,
   "metadata": {},
   "outputs": [
    {
     "data": {
      "text/plain": [
       "LogisticRegression(max_iter=1000, multi_class='ovr')"
      ]
     },
     "execution_count": 36,
     "metadata": {},
     "output_type": "execute_result"
    }
   ],
   "source": [
    "lr.fit(X_train_scaled, y_train_rus)"
   ]
  },
  {
   "cell_type": "code",
   "execution_count": 37,
   "metadata": {},
   "outputs": [],
   "source": [
    "y_test_pred = lr.predict(X_test_scaled)\n",
    "y_train_pred = lr.predict(X_train_scaled)"
   ]
  },
  {
   "cell_type": "code",
   "execution_count": 38,
   "metadata": {},
   "outputs": [
    {
     "data": {
      "text/plain": [
       "array([0, 9, 1, ..., 8, 9, 6])"
      ]
     },
     "execution_count": 38,
     "metadata": {},
     "output_type": "execute_result"
    }
   ],
   "source": [
    "y_train_pred"
   ]
  },
  {
   "cell_type": "code",
   "execution_count": 39,
   "metadata": {},
   "outputs": [],
   "source": [
    "def plot_confusion_matrix(cm,\n",
    "                          target_names,\n",
    "                          title='Confusion matrix',\n",
    "                          cmap=None,\n",
    "                          normalize=None):\n",
    "    \"\"\"\n",
    "    given a sklearn confusion matrix (cm), make a nice plot\n",
    "\n",
    "    Arguments\n",
    "    ---------\n",
    "    cm:           confusion matrix from sklearn.metrics.confusion_matrix\n",
    "\n",
    "    target_names: given classification classes such as [0, 1, 2]\n",
    "                  the class names, for example: ['high', 'medium', 'low']\n",
    "\n",
    "    title:        the text to display at the top of the matrix\n",
    "\n",
    "    cmap:         the gradient of the values displayed from matplotlib.pyplot.cm\n",
    "                  see http://matplotlib.org/examples/color/colormaps_reference.html\n",
    "                  plt.get_cmap('jet') or plt.cm.Blues\n",
    "\n",
    "    normalize:    If False, plot the raw numbers\n",
    "                  If True, plot the proportions\n",
    "\n",
    "    Usage\n",
    "    -----\n",
    "    plot_confusion_matrix(cm           = cm,                  # confusion matrix created by\n",
    "                                                              # sklearn.metrics.confusion_matrix\n",
    "                          normalize    = True,                # show proportions\n",
    "                          target_names = y_labels_vals,       # list of names of the classes\n",
    "                          title        = best_estimator_name) # title of graph\n",
    "\n",
    "    Citiation\n",
    "    ---------\n",
    "    http://scikit-learn.org/stable/auto_examples/model_selection/plot_confusion_matrix.html\n",
    "\n",
    "    \"\"\"\n",
    "    \n",
    "   \n",
    "\n",
    "    accuracy = np.trace(cm) / float(np.sum(cm))\n",
    "    misclass = 1 - accuracy\n",
    "\n",
    "    if cmap is None:\n",
    "        cmap = plt.get_cmap('Blues')\n",
    "        \n",
    "    plt.figure(figsize=(8, 6))\n",
    "    plt.imshow(cm, interpolation='nearest', cmap=cmap)\n",
    "    plt.title(title)\n",
    "    plt.colorbar()\n",
    "\n",
    "    if target_names is not None:\n",
    "        tick_marks = np.arange(len(target_names))\n",
    "        plt.xticks(tick_marks, target_names, rotation=45)\n",
    "        plt.yticks(tick_marks, target_names)\n",
    "\n",
    "    if normalize:\n",
    "        cm = cm.astype('float') / cm.sum(axis=1)[:, np.newaxis]\n",
    "\n",
    "\n",
    "    thresh = cm.max() / 1.5 if normalize else cm.max() / 2\n",
    "    for i, j in itertools.product(range(cm.shape[0]), range(cm.shape[1])):\n",
    "        if normalize:\n",
    "            plt.text(j, i, \"{:0.4f}\".format(cm[i, j]),\n",
    "                     horizontalalignment=\"center\",\n",
    "                     color=\"white\" if cm[i, j] > thresh else \"black\", fontsize=10)\n",
    "        else:\n",
    "            plt.text(j, i, \"{:,}\".format(cm[i, j]),\n",
    "                     horizontalalignment=\"center\",\n",
    "                     color=\"white\" if cm[i, j] > thresh else \"black\",fontsize=10)\n",
    "\n",
    "\n",
    "    plt.tight_layout()\n",
    "    plt.ylabel('True label')\n",
    "    plt.xlabel('Predicted label\\naccuracy={:0.4f}; misclass={:0.4f}'.format(accuracy, misclass))\n",
    "    plt.show()"
   ]
  },
  {
   "cell_type": "code",
   "execution_count": 40,
   "metadata": {},
   "outputs": [
    {
     "name": "stdout",
     "output_type": "stream",
     "text": [
      "LR1 confusion matrix\n"
     ]
    }
   ],
   "source": [
    "from sklearn.metrics import confusion_matrix\n",
    "from sklearn.metrics import roc_curve,log_loss, precision_score, recall_score, confusion_matrix, classification_report, accuracy_score, f1_score\n",
    "print('LR1 confusion matrix')\n",
    "#lr1train = confusion_matrix(y_train, y_pred_train, normalize= None)\n",
    "lr1test = confusion_matrix(y_test_rus, y_test_pred, normalize = None)\n",
    "test = pd.DataFrame(lr1test).rename(columns = y_state_dict_swap, index = y_state_dict_swap)"
   ]
  },
  {
   "cell_type": "code",
   "execution_count": 41,
   "metadata": {},
   "outputs": [
    {
     "name": "stdout",
     "output_type": "stream",
     "text": [
      "Test macro average recall score is  0.20369386464263126\n",
      "Train macro average recall score is  0.20396778546129193\n"
     ]
    }
   ],
   "source": [
    "print('Test macro average recall score is ',recall_score(y_test_rus, y_test_pred, average = 'macro'))\n",
    "print('Train macro average recall score is ',recall_score(y_train_rus, y_train_pred, average = 'macro'))"
   ]
  },
  {
   "cell_type": "code",
   "execution_count": 42,
   "metadata": {},
   "outputs": [
    {
     "name": "stdout",
     "output_type": "stream",
     "text": [
      "Test accuracy score is  0.20369386464263126\n",
      "Train accuracy score is  0.20396778546129196\n"
     ]
    }
   ],
   "source": [
    "print('Test accuracy score is ',accuracy_score(y_test_rus, y_test_pred))\n",
    "print('Train accuracy score is ',accuracy_score(y_train_rus, y_train_pred))"
   ]
  },
  {
   "cell_type": "code",
   "execution_count": 43,
   "metadata": {},
   "outputs": [
    {
     "data": {
      "text/plain": [
       "2.0369386464263126"
      ]
     },
     "execution_count": 43,
     "metadata": {},
     "output_type": "execute_result"
    }
   ],
   "source": [
    "recall_score(y_test_rus, y_test_pred, average = 'macro')/(1/lr1test.shape[0])"
   ]
  },
  {
   "cell_type": "code",
   "execution_count": 44,
   "metadata": {},
   "outputs": [
    {
     "data": {
      "image/png": "[encoded data removed]",
      "text/plain": [
       "<Figure size 576x432 with 2 Axes>"
      ]
     },
     "metadata": {
      "needs_background": "light"
     },
     "output_type": "display_data"
    }
   ],
   "source": [
    "labels = list(y_state_dict_swap.values())\n",
    "target_names = labels \n",
    "plot_confusion_matrix(lr1test,\n",
    "                          target_names,\n",
    "                          title='Confusion matrix',\n",
    "                          cmap=None,\n",
    "                          normalize=None)"
   ]
  },
  {
   "cell_type": "code",
   "execution_count": 45,
   "metadata": {},
   "outputs": [],
   "source": [
    "# knn1 = KNeighborsClassifier(n_neighbors=15, weights='uniform', leaf_size=20)\n",
    "# knn1.fit(X_train_scaled, y_train_rus)\n",
    "\n",
    "# y_test_predknn1 = knn1.predict(X_test_scaled)\n",
    "# y_train_predknn1 = knn1.predict(X_train_scaled)\n",
    "# print('Test macro average recall score is ',recall_score(y_test_rus, y_test_predknn1,average = 'macro'))\n",
    "# print('Train macro average recall score is ',recall_score(y_train_rus, y_train_predknn1,average = 'macro'))"
   ]
  },
  {
   "cell_type": "code",
   "execution_count": 46,
   "metadata": {},
   "outputs": [],
   "source": [
    "# print('Test accuracy score is ',accuracy_score(y_test_rus, y_test_predknn1))\n",
    "# print('Train accuracy score is ',accuracy_score(y_train_rus, y_train_predknn1))"
   ]
  },
  {
   "cell_type": "code",
   "execution_count": 47,
   "metadata": {},
   "outputs": [],
   "source": [
    "# knntest = confusion_matrix(y_test_rus, y_test_pred, normalize = None)\n",
    "# pd.DataFrame(knntest).rename(columns = y_state_dict_swap)"
   ]
  },
  {
   "cell_type": "code",
   "execution_count": 49,
   "metadata": {},
   "outputs": [],
   "source": [
    "# labels = list(y_state_dict_swap.values())\n",
    "# target_names = labels \n",
    "# plot_confusion_matrix(knntest,\n",
    "#                           target_names,\n",
    "#                           title='Confusion matrix',\n",
    "#                           cmap=None,\n",
    "#                           normalize=None)"
   ]
  },
  {
   "cell_type": "code",
   "execution_count": 50,
   "metadata": {},
   "outputs": [
    {
     "name": "stdout",
     "output_type": "stream",
     "text": [
      "Test macro average recall score is  0.2414674256799494\n",
      "Train macro average recall score is  0.24539551357733175\n"
     ]
    }
   ],
   "source": [
    "rf = RandomForestClassifier(max_depth = 8)\n",
    "rf.fit(X_train_scaled, y_train_rus)\n",
    "y_test_predrf = rf.predict(X_test_scaled)\n",
    "y_train_predrf = rf.predict(X_train_scaled)\n",
    "\n",
    "print('Test macro average recall score is ',recall_score(y_test_rus, y_test_predrf,average = 'macro'))\n",
    "print('Train macro average recall score is ',recall_score(y_train_rus, y_train_predrf,average = 'macro'))"
   ]
  },
  {
   "cell_type": "code",
   "execution_count": 51,
   "metadata": {},
   "outputs": [
    {
     "data": {
      "text/html": [
       "<div>\n",
       "<style scoped>\n",
       "    .dataframe tbody tr th:only-of-type {\n",
       "        vertical-align: middle;\n",
       "    }\n",
       "\n",
       "    .dataframe tbody tr th {\n",
       "        vertical-align: top;\n",
       "    }\n",
       "\n",
       "    .dataframe thead th {\n",
       "        text-align: right;\n",
       "    }\n",
       "</style>\n",
       "<table border=\"1\" class=\"dataframe\">\n",
       "  <thead>\n",
       "    <tr style=\"text-align: right;\">\n",
       "      <th></th>\n",
       "      <th>AZno</th>\n",
       "      <th>AZyes</th>\n",
       "      <th>NCno</th>\n",
       "      <th>NCyes</th>\n",
       "      <th>NVno</th>\n",
       "      <th>NVyes</th>\n",
       "      <th>OHno</th>\n",
       "      <th>OHyes</th>\n",
       "      <th>ONno</th>\n",
       "      <th>ONyes</th>\n",
       "    </tr>\n",
       "  </thead>\n",
       "  <tbody>\n",
       "    <tr>\n",
       "      <th>0</th>\n",
       "      <td>1148</td>\n",
       "      <td>1774</td>\n",
       "      <td>304</td>\n",
       "      <td>164</td>\n",
       "      <td>137</td>\n",
       "      <td>196</td>\n",
       "      <td>1100</td>\n",
       "      <td>447</td>\n",
       "      <td>303</td>\n",
       "      <td>2332</td>\n",
       "    </tr>\n",
       "    <tr>\n",
       "      <th>1</th>\n",
       "      <td>371</td>\n",
       "      <td>2389</td>\n",
       "      <td>138</td>\n",
       "      <td>246</td>\n",
       "      <td>62</td>\n",
       "      <td>197</td>\n",
       "      <td>839</td>\n",
       "      <td>511</td>\n",
       "      <td>259</td>\n",
       "      <td>2893</td>\n",
       "    </tr>\n",
       "    <tr>\n",
       "      <th>2</th>\n",
       "      <td>630</td>\n",
       "      <td>950</td>\n",
       "      <td>1241</td>\n",
       "      <td>823</td>\n",
       "      <td>81</td>\n",
       "      <td>90</td>\n",
       "      <td>1128</td>\n",
       "      <td>474</td>\n",
       "      <td>282</td>\n",
       "      <td>2206</td>\n",
       "    </tr>\n",
       "    <tr>\n",
       "      <th>3</th>\n",
       "      <td>187</td>\n",
       "      <td>985</td>\n",
       "      <td>576</td>\n",
       "      <td>1497</td>\n",
       "      <td>52</td>\n",
       "      <td>169</td>\n",
       "      <td>547</td>\n",
       "      <td>579</td>\n",
       "      <td>240</td>\n",
       "      <td>3073</td>\n",
       "    </tr>\n",
       "    <tr>\n",
       "      <th>4</th>\n",
       "      <td>668</td>\n",
       "      <td>854</td>\n",
       "      <td>251</td>\n",
       "      <td>147</td>\n",
       "      <td>811</td>\n",
       "      <td>504</td>\n",
       "      <td>969</td>\n",
       "      <td>288</td>\n",
       "      <td>327</td>\n",
       "      <td>3086</td>\n",
       "    </tr>\n",
       "    <tr>\n",
       "      <th>5</th>\n",
       "      <td>327</td>\n",
       "      <td>955</td>\n",
       "      <td>175</td>\n",
       "      <td>174</td>\n",
       "      <td>306</td>\n",
       "      <td>1147</td>\n",
       "      <td>730</td>\n",
       "      <td>330</td>\n",
       "      <td>270</td>\n",
       "      <td>3491</td>\n",
       "    </tr>\n",
       "    <tr>\n",
       "      <th>6</th>\n",
       "      <td>553</td>\n",
       "      <td>766</td>\n",
       "      <td>285</td>\n",
       "      <td>176</td>\n",
       "      <td>100</td>\n",
       "      <td>153</td>\n",
       "      <td>2289</td>\n",
       "      <td>1063</td>\n",
       "      <td>340</td>\n",
       "      <td>2180</td>\n",
       "    </tr>\n",
       "    <tr>\n",
       "      <th>7</th>\n",
       "      <td>268</td>\n",
       "      <td>909</td>\n",
       "      <td>124</td>\n",
       "      <td>188</td>\n",
       "      <td>45</td>\n",
       "      <td>170</td>\n",
       "      <td>1311</td>\n",
       "      <td>1643</td>\n",
       "      <td>280</td>\n",
       "      <td>2967</td>\n",
       "    </tr>\n",
       "    <tr>\n",
       "      <th>8</th>\n",
       "      <td>291</td>\n",
       "      <td>430</td>\n",
       "      <td>144</td>\n",
       "      <td>95</td>\n",
       "      <td>19</td>\n",
       "      <td>69</td>\n",
       "      <td>488</td>\n",
       "      <td>155</td>\n",
       "      <td>1328</td>\n",
       "      <td>4886</td>\n",
       "    </tr>\n",
       "    <tr>\n",
       "      <th>9</th>\n",
       "      <td>217</td>\n",
       "      <td>388</td>\n",
       "      <td>96</td>\n",
       "      <td>110</td>\n",
       "      <td>5</td>\n",
       "      <td>76</td>\n",
       "      <td>297</td>\n",
       "      <td>159</td>\n",
       "      <td>962</td>\n",
       "      <td>5595</td>\n",
       "    </tr>\n",
       "  </tbody>\n",
       "</table>\n",
       "</div>"
      ],
      "text/plain": [
       "   AZno  AZyes  NCno  NCyes  NVno  NVyes  OHno  OHyes  ONno  ONyes\n",
       "0  1148   1774   304    164   137    196  1100    447   303   2332\n",
       "1   371   2389   138    246    62    197   839    511   259   2893\n",
       "2   630    950  1241    823    81     90  1128    474   282   2206\n",
       "3   187    985   576   1497    52    169   547    579   240   3073\n",
       "4   668    854   251    147   811    504   969    288   327   3086\n",
       "5   327    955   175    174   306   1147   730    330   270   3491\n",
       "6   553    766   285    176   100    153  2289   1063   340   2180\n",
       "7   268    909   124    188    45    170  1311   1643   280   2967\n",
       "8   291    430   144     95    19     69   488    155  1328   4886\n",
       "9   217    388    96    110     5     76   297    159   962   5595"
      ]
     },
     "execution_count": 51,
     "metadata": {},
     "output_type": "execute_result"
    }
   ],
   "source": [
    "rftest = confusion_matrix(y_test_rus, y_test_predrf, normalize = None)\n",
    "pd.DataFrame(rftest).rename(columns = y_state_dict_swap)"
   ]
  },
  {
   "cell_type": "code",
   "execution_count": 52,
   "metadata": {},
   "outputs": [
    {
     "data": {
      "image/png": "[encoded data removed]",
      "text/plain": [
       "<Figure size 576x432 with 2 Axes>"
      ]
     },
     "metadata": {
      "needs_background": "light"
     },
     "output_type": "display_data"
    }
   ],
   "source": [
    "labels = list(y_state_dict_swap.values())\n",
    "target_names = labels \n",
    "plot_confusion_matrix(rftest,\n",
    "                          target_names,\n",
    "                          title='Confusion matrix',\n",
    "                          cmap=None,\n",
    "                          normalize=None)"
   ]
  },
  {
   "cell_type": "code",
   "execution_count": 53,
   "metadata": {},
   "outputs": [],
   "source": [
    "\n",
    "params = {'n_estimators': 1000,\n",
    "          'max_depth': 2,\n",
    "          'loss': 'deviance', \n",
    "          'learning_rate':0.08, \n",
    "          'subsample':.62, \n",
    "          'min_samples_split':.02}\n",
    "\n",
    "# Initialize and fit the model.\n",
    "gbc = GradientBoostingClassifier(**params)\n",
    "gbc.fit(X_train_scaled, y_train_rus)\n",
    "\n",
    "y_test_predgb = gbc.predict(X_test_scaled)\n",
    "y_train_predgb = gbc.predict(X_train_scaled)"
   ]
  },
  {
   "cell_type": "code",
   "execution_count": 54,
   "metadata": {},
   "outputs": [
    {
     "data": {
      "image/png": "[encoded data removed]",
      "text/plain": [
       "<Figure size 576x432 with 2 Axes>"
      ]
     },
     "metadata": {
      "needs_background": "light"
     },
     "output_type": "display_data"
    }
   ],
   "source": [
    "cm = confusion_matrix(y_test_rus, y_test_predgb)\n",
    "plot_confusion_matrix(cm,[0,1],False)"
   ]
  },
  {
   "cell_type": "code",
   "execution_count": 56,
   "metadata": {},
   "outputs": [
    {
     "data": {
      "image/png": "[encoded data removed]",
      "text/plain": [
       "<Figure size 432x288 with 1 Axes>"
      ]
     },
     "metadata": {
      "needs_background": "light"
     },
     "output_type": "display_data"
    }
   ],
   "source": [
    "feature_importance = gbc.feature_importances_\n",
    "\n",
    "# Make importances relative to max importance.\n",
    "feature_importance = 100.0 * (feature_importance / feature_importance.max())\n",
    "sorted_idx = np.argsort(feature_importance)\n",
    "pos = np.arange(sorted_idx.shape[0]) + .5\n",
    "plt.subplot(1, 2, 2)\n",
    "plt.barh(pos, feature_importance[sorted_idx], align='center')\n",
    "plt.yticks(pos, X.columns[sorted_idx])\n",
    "plt.xlabel('Relative Importance')\n",
    "plt.title('Variable Importance')\n",
    "plt.show()"
   ]
  },
  {
   "cell_type": "code",
   "execution_count": null,
   "metadata": {},
   "outputs": [],
   "source": []
  }
 ],
 "metadata": {
  "kernelspec": {
   "display_name": "Python 3",
   "language": "python",
   "name": "python3"
  },
  "language_info": {
   "codemirror_mode": {
    "name": "ipython",
    "version": 3
   },
   "file_extension": ".py",
   "mimetype": "text/x-python",
   "name": "python",
   "nbconvert_exporter": "python",
   "pygments_lexer": "ipython3",
   "version": "3.7.7"
  }
 },
 "nbformat": 4,
 "nbformat_minor": 4
}
