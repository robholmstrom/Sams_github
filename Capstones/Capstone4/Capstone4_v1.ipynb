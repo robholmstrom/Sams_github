{
 "cells": [
  {
   "cell_type": "code",
   "execution_count": 179,
   "metadata": {},
   "outputs": [],
   "source": [
    "import json\n",
    "from datetime import datetime\n",
    "import plotly.express as px\n",
    "from sklearn.model_selection import train_test_split\n",
    "import sqlite3\n",
    "import nltk\n",
    "import spacy\n",
    "import geopandas as gpd\n",
    "from shapely.geometry import Polygon\n",
    "import numpy as np\n",
    "import umap\n",
    "import pandas as pd\n",
    "import shapefile as shp\n",
    "import matplotlib.pyplot as plt\n",
    "import seaborn as sns\n",
    "from sklearn.cluster import KMeans\n",
    "from sklearn.mixture import GaussianMixture\n",
    "from sklearn.decomposition import PCA\n",
    "from sklearn.feature_extraction.text import CountVectorizer\n",
    "from sklearn.preprocessing import LabelEncoder, MinMaxScaler\n",
    "from sklearn.ensemble import RandomForestClassifier\n",
    "from sklearn.neighbors import KNeighborsClassifier\n",
    "from sklearn.svm import SVC\n",
    "%matplotlib inline"
   ]
  },
  {
   "cell_type": "code",
   "execution_count": 4,
   "metadata": {},
   "outputs": [],
   "source": [
    "df2 = pd.read_json('/Users/robholmstrom/Downloads/yelp_dataset/yelp_academic_dataset_review.json', lines = True)"
   ]
  },
  {
   "cell_type": "code",
   "execution_count": 5,
   "metadata": {},
   "outputs": [],
   "source": [
    "df3 = pd.read_json('/Users/robholmstrom/Downloads/yelp_dataset/yelp_academic_dataset_business.json', lines = True)"
   ]
  },
  {
   "cell_type": "code",
   "execution_count": 6,
   "metadata": {},
   "outputs": [],
   "source": [
    "df4 = pd.read_json('/Users/robholmstrom/Downloads/yelp_dataset/yelp_academic_dataset_checkin.json', lines = True)"
   ]
  },
  {
   "cell_type": "code",
   "execution_count": 7,
   "metadata": {},
   "outputs": [],
   "source": [
    "df5 = pd.read_json('/Users/robholmstrom/Downloads/yelp_dataset/yelp_academic_dataset_tip.json', lines = True)"
   ]
  },
  {
   "cell_type": "code",
   "execution_count": 8,
   "metadata": {},
   "outputs": [],
   "source": [
    "df6 = pd.read_json('/Users/robholmstrom/Downloads/yelp_dataset/yelp_academic_dataset_user.json', lines = True)"
   ]
  },
  {
   "cell_type": "code",
   "execution_count": 9,
   "metadata": {},
   "outputs": [
    {
     "name": "stdout",
     "output_type": "stream",
     "text": [
      "<class 'pandas.core.frame.DataFrame'>\n",
      "RangeIndex: 8021122 entries, 0 to 8021121\n",
      "Data columns (total 9 columns):\n",
      " #   Column       Dtype         \n",
      "---  ------       -----         \n",
      " 0   review_id    object        \n",
      " 1   user_id      object        \n",
      " 2   business_id  object        \n",
      " 3   stars        int64         \n",
      " 4   useful       int64         \n",
      " 5   funny        int64         \n",
      " 6   cool         int64         \n",
      " 7   text         object        \n",
      " 8   date         datetime64[ns]\n",
      "dtypes: datetime64[ns](1), int64(4), object(4)\n",
      "memory usage: 550.8+ MB\n"
     ]
    }
   ],
   "source": [
    "df2.info()"
   ]
  },
  {
   "cell_type": "code",
   "execution_count": null,
   "metadata": {},
   "outputs": [],
   "source": []
  },
  {
   "cell_type": "code",
   "execution_count": 10,
   "metadata": {},
   "outputs": [],
   "source": [
    "review_by_year = df2.date.dt.year.value_counts()"
   ]
  },
  {
   "cell_type": "code",
   "execution_count": 11,
   "metadata": {},
   "outputs": [
    {
     "data": {
      "text/plain": [
       "<matplotlib.axes._subplots.AxesSubplot at 0x7fdbba7f5410>"
      ]
     },
     "execution_count": 11,
     "metadata": {},
     "output_type": "execute_result"
    },
    {
     "data": {
      "image/png": "[encoded data removed]",
      "text/plain": [
       "<Figure size 432x288 with 1 Axes>"
      ]
     },
     "metadata": {
      "needs_background": "light"
     },
     "output_type": "display_data"
    }
   ],
   "source": [
    "sns.lineplot(review_by_year.index,review_by_year.values )"
   ]
  },
  {
   "cell_type": "code",
   "execution_count": 12,
   "metadata": {},
   "outputs": [],
   "source": [
    "df2['year'] = df2.date.dt.year\n",
    "df2['month'] = df2.date.dt.month_name\n",
    "df2['weekday'] = df2.date.dt.day_name\n",
    "df2['hour'] = df2.date.dt.hour"
   ]
  },
  {
   "cell_type": "code",
   "execution_count": 13,
   "metadata": {},
   "outputs": [
    {
     "data": {
      "text/plain": [
       "2018    1318054\n",
       "2017    1217292\n",
       "2019    1215836\n",
       "Name: year, dtype: int64"
      ]
     },
     "execution_count": 13,
     "metadata": {},
     "output_type": "execute_result"
    }
   ],
   "source": [
    "df2_3yrs = df2[df2['year'].isin([2017, 2018, 2019])]\n",
    "df2_3yrs['year'].value_counts()"
   ]
  },
  {
   "cell_type": "code",
   "execution_count": 14,
   "metadata": {},
   "outputs": [
    {
     "data": {
      "text/html": [
       "<div>\n",
       "<style scoped>\n",
       "    .dataframe tbody tr th:only-of-type {\n",
       "        vertical-align: middle;\n",
       "    }\n",
       "\n",
       "    .dataframe tbody tr th {\n",
       "        vertical-align: top;\n",
       "    }\n",
       "\n",
       "    .dataframe thead th {\n",
       "        text-align: right;\n",
       "    }\n",
       "</style>\n",
       "<table border=\"1\" class=\"dataframe\">\n",
       "  <thead>\n",
       "    <tr style=\"text-align: right;\">\n",
       "      <th></th>\n",
       "      <th>review_id</th>\n",
       "      <th>user_id</th>\n",
       "      <th>business_id</th>\n",
       "      <th>stars</th>\n",
       "      <th>useful</th>\n",
       "      <th>funny</th>\n",
       "      <th>cool</th>\n",
       "      <th>text</th>\n",
       "      <th>date</th>\n",
       "      <th>year</th>\n",
       "      <th>month</th>\n",
       "      <th>weekday</th>\n",
       "      <th>hour</th>\n",
       "    </tr>\n",
       "  </thead>\n",
       "  <tbody>\n",
       "    <tr>\n",
       "      <th>4</th>\n",
       "      <td>6TdNDKywdbjoTkizeMce8A</td>\n",
       "      <td>UgMW8bLE0QMJDCkQ1Ax5Mg</td>\n",
       "      <td>IS4cv902ykd8wj1TR0N3-A</td>\n",
       "      <td>4</td>\n",
       "      <td>0</td>\n",
       "      <td>0</td>\n",
       "      <td>0</td>\n",
       "      <td>Oh happy day, finally have a Canes near my cas...</td>\n",
       "      <td>2017-01-14 21:56:57</td>\n",
       "      <td>2017</td>\n",
       "      <td>&lt;bound method PandasDelegate._add_delegate_acc...</td>\n",
       "      <td>&lt;bound method PandasDelegate._add_delegate_acc...</td>\n",
       "      <td>21</td>\n",
       "    </tr>\n",
       "    <tr>\n",
       "      <th>7</th>\n",
       "      <td>lpFIJYpsvDxyph-kPzZ6aA</td>\n",
       "      <td>dsd-KNYKMpx6ma_sRWCSkQ</td>\n",
       "      <td>FNCJpSn0tL9iqoY3JC73qw</td>\n",
       "      <td>5</td>\n",
       "      <td>0</td>\n",
       "      <td>0</td>\n",
       "      <td>0</td>\n",
       "      <td>Awesome office and staff, very professional an...</td>\n",
       "      <td>2017-07-18 18:31:54</td>\n",
       "      <td>2017</td>\n",
       "      <td>&lt;bound method PandasDelegate._add_delegate_acc...</td>\n",
       "      <td>&lt;bound method PandasDelegate._add_delegate_acc...</td>\n",
       "      <td>18</td>\n",
       "    </tr>\n",
       "    <tr>\n",
       "      <th>15</th>\n",
       "      <td>mjbs5CL4eMu4o6_VtYhN3Q</td>\n",
       "      <td>TF4C-F5iqavACQgKTrbjRA</td>\n",
       "      <td>7Ka9Pd8X9SRHs1D5EcleLg</td>\n",
       "      <td>1</td>\n",
       "      <td>0</td>\n",
       "      <td>0</td>\n",
       "      <td>0</td>\n",
       "      <td>If I could give less than one star, that would...</td>\n",
       "      <td>2017-08-07 21:36:36</td>\n",
       "      <td>2017</td>\n",
       "      <td>&lt;bound method PandasDelegate._add_delegate_acc...</td>\n",
       "      <td>&lt;bound method PandasDelegate._add_delegate_acc...</td>\n",
       "      <td>21</td>\n",
       "    </tr>\n",
       "    <tr>\n",
       "      <th>17</th>\n",
       "      <td>Ne_2CSfcKIqXHmv_KC0uqg</td>\n",
       "      <td>6sJN_HlM_uwpfLJ1puf1Fg</td>\n",
       "      <td>oVuZtlCFg_zF090Nhtp0Ow</td>\n",
       "      <td>4</td>\n",
       "      <td>3</td>\n",
       "      <td>0</td>\n",
       "      <td>1</td>\n",
       "      <td>A close friend was in town and so instead of t...</td>\n",
       "      <td>2018-02-01 19:15:00</td>\n",
       "      <td>2018</td>\n",
       "      <td>&lt;bound method PandasDelegate._add_delegate_acc...</td>\n",
       "      <td>&lt;bound method PandasDelegate._add_delegate_acc...</td>\n",
       "      <td>19</td>\n",
       "    </tr>\n",
       "    <tr>\n",
       "      <th>18</th>\n",
       "      <td>Hy-gUXQh3RVhE8FLH9Dt4Q</td>\n",
       "      <td>kMkWON2lmw0s-M-fwiuByg</td>\n",
       "      <td>_iGvLfEsqDwPUxRUAe6tUw</td>\n",
       "      <td>1</td>\n",
       "      <td>0</td>\n",
       "      <td>0</td>\n",
       "      <td>0</td>\n",
       "      <td>Tried to have my car repaired.  Even made an a...</td>\n",
       "      <td>2017-06-28 00:39:18</td>\n",
       "      <td>2017</td>\n",
       "      <td>&lt;bound method PandasDelegate._add_delegate_acc...</td>\n",
       "      <td>&lt;bound method PandasDelegate._add_delegate_acc...</td>\n",
       "      <td>0</td>\n",
       "    </tr>\n",
       "  </tbody>\n",
       "</table>\n",
       "</div>"
      ],
      "text/plain": [
       "                 review_id                 user_id             business_id  \\\n",
       "4   6TdNDKywdbjoTkizeMce8A  UgMW8bLE0QMJDCkQ1Ax5Mg  IS4cv902ykd8wj1TR0N3-A   \n",
       "7   lpFIJYpsvDxyph-kPzZ6aA  dsd-KNYKMpx6ma_sRWCSkQ  FNCJpSn0tL9iqoY3JC73qw   \n",
       "15  mjbs5CL4eMu4o6_VtYhN3Q  TF4C-F5iqavACQgKTrbjRA  7Ka9Pd8X9SRHs1D5EcleLg   \n",
       "17  Ne_2CSfcKIqXHmv_KC0uqg  6sJN_HlM_uwpfLJ1puf1Fg  oVuZtlCFg_zF090Nhtp0Ow   \n",
       "18  Hy-gUXQh3RVhE8FLH9Dt4Q  kMkWON2lmw0s-M-fwiuByg  _iGvLfEsqDwPUxRUAe6tUw   \n",
       "\n",
       "    stars  useful  funny  cool  \\\n",
       "4       4       0      0     0   \n",
       "7       5       0      0     0   \n",
       "15      1       0      0     0   \n",
       "17      4       3      0     1   \n",
       "18      1       0      0     0   \n",
       "\n",
       "                                                 text                date  \\\n",
       "4   Oh happy day, finally have a Canes near my cas... 2017-01-14 21:56:57   \n",
       "7   Awesome office and staff, very professional an... 2017-07-18 18:31:54   \n",
       "15  If I could give less than one star, that would... 2017-08-07 21:36:36   \n",
       "17  A close friend was in town and so instead of t... 2018-02-01 19:15:00   \n",
       "18  Tried to have my car repaired.  Even made an a... 2017-06-28 00:39:18   \n",
       "\n",
       "    year                                              month  \\\n",
       "4   2017  <bound method PandasDelegate._add_delegate_acc...   \n",
       "7   2017  <bound method PandasDelegate._add_delegate_acc...   \n",
       "15  2017  <bound method PandasDelegate._add_delegate_acc...   \n",
       "17  2018  <bound method PandasDelegate._add_delegate_acc...   \n",
       "18  2017  <bound method PandasDelegate._add_delegate_acc...   \n",
       "\n",
       "                                              weekday  hour  \n",
       "4   <bound method PandasDelegate._add_delegate_acc...    21  \n",
       "7   <bound method PandasDelegate._add_delegate_acc...    18  \n",
       "15  <bound method PandasDelegate._add_delegate_acc...    21  \n",
       "17  <bound method PandasDelegate._add_delegate_acc...    19  \n",
       "18  <bound method PandasDelegate._add_delegate_acc...     0  "
      ]
     },
     "execution_count": 14,
     "metadata": {},
     "output_type": "execute_result"
    }
   ],
   "source": [
    "df2_3yrs.head()"
   ]
  },
  {
   "cell_type": "code",
   "execution_count": 15,
   "metadata": {},
   "outputs": [
    {
     "name": "stdout",
     "output_type": "stream",
     "text": [
      "<class 'pandas.core.frame.DataFrame'>\n",
      "RangeIndex: 209393 entries, 0 to 209392\n",
      "Data columns (total 14 columns):\n",
      " #   Column        Non-Null Count   Dtype  \n",
      "---  ------        --------------   -----  \n",
      " 0   business_id   209393 non-null  object \n",
      " 1   name          209393 non-null  object \n",
      " 2   address       209393 non-null  object \n",
      " 3   city          209393 non-null  object \n",
      " 4   state         209393 non-null  object \n",
      " 5   postal_code   209393 non-null  object \n",
      " 6   latitude      209393 non-null  float64\n",
      " 7   longitude     209393 non-null  float64\n",
      " 8   stars         209393 non-null  float64\n",
      " 9   review_count  209393 non-null  int64  \n",
      " 10  is_open       209393 non-null  int64  \n",
      " 11  attributes    180348 non-null  object \n",
      " 12  categories    208869 non-null  object \n",
      " 13  hours         164550 non-null  object \n",
      "dtypes: float64(3), int64(2), object(9)\n",
      "memory usage: 22.4+ MB\n"
     ]
    }
   ],
   "source": [
    "df3.info()"
   ]
  },
  {
   "cell_type": "code",
   "execution_count": 16,
   "metadata": {},
   "outputs": [],
   "source": [
    "df3_AZOH = df3[df3['state'].isin(['AZ','OH'])]"
   ]
  },
  {
   "cell_type": "code",
   "execution_count": 18,
   "metadata": {},
   "outputs": [
    {
     "data": {
      "image/png": "[encoded data removed]",
      "text/plain": [
       "<Figure size 1440x360 with 1 Axes>"
      ]
     },
     "metadata": {
      "needs_background": "light"
     },
     "output_type": "display_data"
    }
   ],
   "source": [
    "plt.figure(figsize = (20,5))\n",
    "fig = plt.plot(df3_AZOH.city.value_counts()[df3_AZOH.city.value_counts()>2000])\n",
    "\n",
    "plt.show()"
   ]
  },
  {
   "cell_type": "code",
   "execution_count": 19,
   "metadata": {},
   "outputs": [
    {
     "data": {
      "text/plain": [
       "array(['IS4cv902ykd8wj1TR0N3-A', 'FNCJpSn0tL9iqoY3JC73qw',\n",
       "       '7Ka9Pd8X9SRHs1D5EcleLg', ..., 'FzFaVBhnLcJX9YmYEK4E4A',\n",
       "       'toeybd1t5BMvp9nAyIEqng', 'xzpWh6VxRE6Iov2hlHr4ZA'], dtype=object)"
      ]
     },
     "execution_count": 19,
     "metadata": {},
     "output_type": "execute_result"
    }
   ],
   "source": [
    "df2_3yrs['business_id'].unique()"
   ]
  },
  {
   "cell_type": "code",
   "execution_count": 23,
   "metadata": {},
   "outputs": [],
   "source": [
    "df3_v1 = df3_AZOH[df3_AZOH['business_id'].isin(df2_3yrs['business_id'].unique())]"
   ]
  },
  {
   "cell_type": "code",
   "execution_count": 24,
   "metadata": {},
   "outputs": [],
   "source": [
    "# df3_v1['stars'] =  \n",
    "df2_select_mean = pd.DataFrame(df2_3yrs.groupby('business_id')['stars'].mean())"
   ]
  },
  {
   "cell_type": "code",
   "execution_count": 25,
   "metadata": {},
   "outputs": [
    {
     "name": "stdout",
     "output_type": "stream",
     "text": [
      "<class 'pandas.core.frame.DataFrame'>\n",
      "Index: 173938 entries, --1UhMGODdWsrMastO9DZw to zzwicjPC9g246MK2M1ZFBA\n",
      "Data columns (total 1 columns):\n",
      " #   Column  Non-Null Count   Dtype  \n",
      "---  ------  --------------   -----  \n",
      " 0   stars   173938 non-null  float64\n",
      "dtypes: float64(1)\n",
      "memory usage: 2.7+ MB\n"
     ]
    }
   ],
   "source": [
    "df2_select_mean.info()"
   ]
  },
  {
   "cell_type": "code",
   "execution_count": 26,
   "metadata": {},
   "outputs": [],
   "source": [
    "# planned_final.loc[planned_final[\"WorkShift\"] == '1', \"Crew\"] = \"A\"\n",
    "\n",
    "# df_1.loc[df_1[\"WorkShift\"] == '1', \"Crew\"] = \"A\""
   ]
  },
  {
   "cell_type": "code",
   "execution_count": 240,
   "metadata": {},
   "outputs": [
    {
     "ename": "KeyError",
     "evalue": "\"['stars_x'] not found in axis\"",
     "output_type": "error",
     "traceback": [
      "\u001b[0;31m---------------------------------------------------------------------------\u001b[0m",
      "\u001b[0;31mKeyError\u001b[0m                                  Traceback (most recent call last)",
      "\u001b[0;32m<ipython-input-240-7b577fc023ce>\u001b[0m in \u001b[0;36m<module>\u001b[0;34m\u001b[0m\n\u001b[0;32m----> 1\u001b[0;31m \u001b[0mdf3_v1\u001b[0m \u001b[0;34m=\u001b[0m \u001b[0mdf3_v1\u001b[0m\u001b[0;34m.\u001b[0m\u001b[0mmerge\u001b[0m\u001b[0;34m(\u001b[0m\u001b[0mdf2_select_mean\u001b[0m\u001b[0;34m,\u001b[0m \u001b[0mon\u001b[0m\u001b[0;34m=\u001b[0m\u001b[0;34m'business_id'\u001b[0m\u001b[0;34m)\u001b[0m\u001b[0;34m.\u001b[0m\u001b[0mdrop\u001b[0m\u001b[0;34m(\u001b[0m\u001b[0;34m'stars_x'\u001b[0m\u001b[0;34m,\u001b[0m \u001b[0maxis\u001b[0m\u001b[0;34m=\u001b[0m\u001b[0;36m1\u001b[0m\u001b[0;34m)\u001b[0m\u001b[0;34m\u001b[0m\u001b[0;34m\u001b[0m\u001b[0m\n\u001b[0m\u001b[1;32m      2\u001b[0m \u001b[0mdf3_v1\u001b[0m\u001b[0;34m[\u001b[0m\u001b[0;34m'stars_avg'\u001b[0m\u001b[0;34m]\u001b[0m \u001b[0;34m=\u001b[0m \u001b[0mdf3_v1\u001b[0m\u001b[0;34m[\u001b[0m\u001b[0;34m'stars_y'\u001b[0m\u001b[0;34m]\u001b[0m\u001b[0;34m.\u001b[0m\u001b[0mround\u001b[0m\u001b[0;34m(\u001b[0m\u001b[0;36m0\u001b[0m\u001b[0;34m)\u001b[0m\u001b[0;34m.\u001b[0m\u001b[0mastype\u001b[0m\u001b[0;34m(\u001b[0m\u001b[0mint\u001b[0m\u001b[0;34m)\u001b[0m\u001b[0;34m\u001b[0m\u001b[0;34m\u001b[0m\u001b[0m\n",
      "\u001b[0;32m~/miniconda3/lib/python3.7/site-packages/pandas/core/frame.py\u001b[0m in \u001b[0;36mdrop\u001b[0;34m(self, labels, axis, index, columns, level, inplace, errors)\u001b[0m\n\u001b[1;32m   3995\u001b[0m             \u001b[0mlevel\u001b[0m\u001b[0;34m=\u001b[0m\u001b[0mlevel\u001b[0m\u001b[0;34m,\u001b[0m\u001b[0;34m\u001b[0m\u001b[0;34m\u001b[0m\u001b[0m\n\u001b[1;32m   3996\u001b[0m             \u001b[0minplace\u001b[0m\u001b[0;34m=\u001b[0m\u001b[0minplace\u001b[0m\u001b[0;34m,\u001b[0m\u001b[0;34m\u001b[0m\u001b[0;34m\u001b[0m\u001b[0m\n\u001b[0;32m-> 3997\u001b[0;31m             \u001b[0merrors\u001b[0m\u001b[0;34m=\u001b[0m\u001b[0merrors\u001b[0m\u001b[0;34m,\u001b[0m\u001b[0;34m\u001b[0m\u001b[0;34m\u001b[0m\u001b[0m\n\u001b[0m\u001b[1;32m   3998\u001b[0m         )\n\u001b[1;32m   3999\u001b[0m \u001b[0;34m\u001b[0m\u001b[0m\n",
      "\u001b[0;32m~/miniconda3/lib/python3.7/site-packages/pandas/core/generic.py\u001b[0m in \u001b[0;36mdrop\u001b[0;34m(self, labels, axis, index, columns, level, inplace, errors)\u001b[0m\n\u001b[1;32m   3934\u001b[0m         \u001b[0;32mfor\u001b[0m \u001b[0maxis\u001b[0m\u001b[0;34m,\u001b[0m \u001b[0mlabels\u001b[0m \u001b[0;32min\u001b[0m \u001b[0maxes\u001b[0m\u001b[0;34m.\u001b[0m\u001b[0mitems\u001b[0m\u001b[0;34m(\u001b[0m\u001b[0;34m)\u001b[0m\u001b[0;34m:\u001b[0m\u001b[0;34m\u001b[0m\u001b[0;34m\u001b[0m\u001b[0m\n\u001b[1;32m   3935\u001b[0m             \u001b[0;32mif\u001b[0m \u001b[0mlabels\u001b[0m \u001b[0;32mis\u001b[0m \u001b[0;32mnot\u001b[0m \u001b[0;32mNone\u001b[0m\u001b[0;34m:\u001b[0m\u001b[0;34m\u001b[0m\u001b[0;34m\u001b[0m\u001b[0m\n\u001b[0;32m-> 3936\u001b[0;31m                 \u001b[0mobj\u001b[0m \u001b[0;34m=\u001b[0m \u001b[0mobj\u001b[0m\u001b[0;34m.\u001b[0m\u001b[0m_drop_axis\u001b[0m\u001b[0;34m(\u001b[0m\u001b[0mlabels\u001b[0m\u001b[0;34m,\u001b[0m \u001b[0maxis\u001b[0m\u001b[0;34m,\u001b[0m \u001b[0mlevel\u001b[0m\u001b[0;34m=\u001b[0m\u001b[0mlevel\u001b[0m\u001b[0;34m,\u001b[0m \u001b[0merrors\u001b[0m\u001b[0;34m=\u001b[0m\u001b[0merrors\u001b[0m\u001b[0;34m)\u001b[0m\u001b[0;34m\u001b[0m\u001b[0;34m\u001b[0m\u001b[0m\n\u001b[0m\u001b[1;32m   3937\u001b[0m \u001b[0;34m\u001b[0m\u001b[0m\n\u001b[1;32m   3938\u001b[0m         \u001b[0;32mif\u001b[0m \u001b[0minplace\u001b[0m\u001b[0;34m:\u001b[0m\u001b[0;34m\u001b[0m\u001b[0;34m\u001b[0m\u001b[0m\n",
      "\u001b[0;32m~/miniconda3/lib/python3.7/site-packages/pandas/core/generic.py\u001b[0m in \u001b[0;36m_drop_axis\u001b[0;34m(self, labels, axis, level, errors)\u001b[0m\n\u001b[1;32m   3968\u001b[0m                 \u001b[0mnew_axis\u001b[0m \u001b[0;34m=\u001b[0m \u001b[0maxis\u001b[0m\u001b[0;34m.\u001b[0m\u001b[0mdrop\u001b[0m\u001b[0;34m(\u001b[0m\u001b[0mlabels\u001b[0m\u001b[0;34m,\u001b[0m \u001b[0mlevel\u001b[0m\u001b[0;34m=\u001b[0m\u001b[0mlevel\u001b[0m\u001b[0;34m,\u001b[0m \u001b[0merrors\u001b[0m\u001b[0;34m=\u001b[0m\u001b[0merrors\u001b[0m\u001b[0;34m)\u001b[0m\u001b[0;34m\u001b[0m\u001b[0;34m\u001b[0m\u001b[0m\n\u001b[1;32m   3969\u001b[0m             \u001b[0;32melse\u001b[0m\u001b[0;34m:\u001b[0m\u001b[0;34m\u001b[0m\u001b[0;34m\u001b[0m\u001b[0m\n\u001b[0;32m-> 3970\u001b[0;31m                 \u001b[0mnew_axis\u001b[0m \u001b[0;34m=\u001b[0m \u001b[0maxis\u001b[0m\u001b[0;34m.\u001b[0m\u001b[0mdrop\u001b[0m\u001b[0;34m(\u001b[0m\u001b[0mlabels\u001b[0m\u001b[0;34m,\u001b[0m \u001b[0merrors\u001b[0m\u001b[0;34m=\u001b[0m\u001b[0merrors\u001b[0m\u001b[0;34m)\u001b[0m\u001b[0;34m\u001b[0m\u001b[0;34m\u001b[0m\u001b[0m\n\u001b[0m\u001b[1;32m   3971\u001b[0m             \u001b[0mresult\u001b[0m \u001b[0;34m=\u001b[0m \u001b[0mself\u001b[0m\u001b[0;34m.\u001b[0m\u001b[0mreindex\u001b[0m\u001b[0;34m(\u001b[0m\u001b[0;34m**\u001b[0m\u001b[0;34m{\u001b[0m\u001b[0maxis_name\u001b[0m\u001b[0;34m:\u001b[0m \u001b[0mnew_axis\u001b[0m\u001b[0;34m}\u001b[0m\u001b[0;34m)\u001b[0m\u001b[0;34m\u001b[0m\u001b[0;34m\u001b[0m\u001b[0m\n\u001b[1;32m   3972\u001b[0m \u001b[0;34m\u001b[0m\u001b[0m\n",
      "\u001b[0;32m~/miniconda3/lib/python3.7/site-packages/pandas/core/indexes/base.py\u001b[0m in \u001b[0;36mdrop\u001b[0;34m(self, labels, errors)\u001b[0m\n\u001b[1;32m   5016\u001b[0m         \u001b[0;32mif\u001b[0m \u001b[0mmask\u001b[0m\u001b[0;34m.\u001b[0m\u001b[0many\u001b[0m\u001b[0;34m(\u001b[0m\u001b[0;34m)\u001b[0m\u001b[0;34m:\u001b[0m\u001b[0;34m\u001b[0m\u001b[0;34m\u001b[0m\u001b[0m\n\u001b[1;32m   5017\u001b[0m             \u001b[0;32mif\u001b[0m \u001b[0merrors\u001b[0m \u001b[0;34m!=\u001b[0m \u001b[0;34m\"ignore\"\u001b[0m\u001b[0;34m:\u001b[0m\u001b[0;34m\u001b[0m\u001b[0;34m\u001b[0m\u001b[0m\n\u001b[0;32m-> 5018\u001b[0;31m                 \u001b[0;32mraise\u001b[0m \u001b[0mKeyError\u001b[0m\u001b[0;34m(\u001b[0m\u001b[0;34mf\"{labels[mask]} not found in axis\"\u001b[0m\u001b[0;34m)\u001b[0m\u001b[0;34m\u001b[0m\u001b[0;34m\u001b[0m\u001b[0m\n\u001b[0m\u001b[1;32m   5019\u001b[0m             \u001b[0mindexer\u001b[0m \u001b[0;34m=\u001b[0m \u001b[0mindexer\u001b[0m\u001b[0;34m[\u001b[0m\u001b[0;34m~\u001b[0m\u001b[0mmask\u001b[0m\u001b[0;34m]\u001b[0m\u001b[0;34m\u001b[0m\u001b[0;34m\u001b[0m\u001b[0m\n\u001b[1;32m   5020\u001b[0m         \u001b[0;32mreturn\u001b[0m \u001b[0mself\u001b[0m\u001b[0;34m.\u001b[0m\u001b[0mdelete\u001b[0m\u001b[0;34m(\u001b[0m\u001b[0mindexer\u001b[0m\u001b[0;34m)\u001b[0m\u001b[0;34m\u001b[0m\u001b[0;34m\u001b[0m\u001b[0m\n",
      "\u001b[0;31mKeyError\u001b[0m: \"['stars_x'] not found in axis\""
     ]
    }
   ],
   "source": [
    "df3_v1 = df3_v1.merge(df2_select_mean, on='business_id').drop('stars_x', axis=1)\n",
    "df3_v1['stars_avg'] = df3_v1['stars_y'].round(0)"
   ]
  },
  {
   "cell_type": "code",
   "execution_count": 28,
   "metadata": {},
   "outputs": [
    {
     "data": {
      "text/plain": [
       "4.0    20038\n",
       "5.0    18595\n",
       "3.0    13158\n",
       "2.0     8684\n",
       "1.0     5131\n",
       "Name: stars_avg, dtype: int64"
      ]
     },
     "execution_count": 28,
     "metadata": {},
     "output_type": "execute_result"
    }
   ],
   "source": [
    "df3_v1['stars_avg'].value_counts()"
   ]
  },
  {
   "cell_type": "code",
   "execution_count": 241,
   "metadata": {},
   "outputs": [
    {
     "data": {
      "text/plain": [
       "(65606, 15)"
      ]
     },
     "execution_count": 241,
     "metadata": {},
     "output_type": "execute_result"
    }
   ],
   "source": [
    "df3_v1.shape"
   ]
  },
  {
   "cell_type": "code",
   "execution_count": 29,
   "metadata": {},
   "outputs": [
    {
     "name": "stdout",
     "output_type": "stream",
     "text": [
      "<class 'pandas.core.frame.DataFrame'>\n",
      "Int64Index: 65606 entries, 0 to 65605\n",
      "Data columns (total 15 columns):\n",
      " #   Column        Non-Null Count  Dtype  \n",
      "---  ------        --------------  -----  \n",
      " 0   business_id   65606 non-null  object \n",
      " 1   name          65606 non-null  object \n",
      " 2   address       65606 non-null  object \n",
      " 3   city          65606 non-null  object \n",
      " 4   state         65606 non-null  object \n",
      " 5   postal_code   65606 non-null  object \n",
      " 6   latitude      65606 non-null  float64\n",
      " 7   longitude     65606 non-null  float64\n",
      " 8   review_count  65606 non-null  int64  \n",
      " 9   is_open       65606 non-null  int64  \n",
      " 10  attributes    56625 non-null  object \n",
      " 11  categories    65415 non-null  object \n",
      " 12  hours         55728 non-null  object \n",
      " 13  stars_y       65606 non-null  float64\n",
      " 14  stars_avg     65606 non-null  float64\n",
      "dtypes: float64(4), int64(2), object(9)\n",
      "memory usage: 8.0+ MB\n"
     ]
    }
   ],
   "source": [
    "df3_v1.info()"
   ]
  },
  {
   "cell_type": "code",
   "execution_count": 30,
   "metadata": {},
   "outputs": [],
   "source": [
    "df3_v2 = df3_v1.copy().drop(['attributes', 'hours', 'stars_y'], axis=1)"
   ]
  },
  {
   "cell_type": "code",
   "execution_count": 31,
   "metadata": {},
   "outputs": [],
   "source": [
    "df3_v2 = df3_v2[df3_v2['is_open']==1]"
   ]
  },
  {
   "cell_type": "code",
   "execution_count": 32,
   "metadata": {},
   "outputs": [],
   "source": [
    "df3_v2['categories'].fillna(value=np.nan, inplace = True)"
   ]
  },
  {
   "cell_type": "code",
   "execution_count": 33,
   "metadata": {},
   "outputs": [],
   "source": [
    "df3_v2.dropna(inplace= True)"
   ]
  },
  {
   "cell_type": "code",
   "execution_count": 34,
   "metadata": {},
   "outputs": [],
   "source": [
    "df3lite = df3_v2[df3_v2['categories'].str.contains('Restaurant')|\n",
    "                 df3_v2['categories'].str.contains('Coffee & Tea')]"
   ]
  },
  {
   "cell_type": "code",
   "execution_count": 35,
   "metadata": {},
   "outputs": [],
   "source": [
    "con = sqlite3.connect('/Users/robholmstrom/OneDrive/Gitrepos/nonrepo_files/sqlite/test.db')\n",
    "\n",
    "\n",
    "# Write the new DataFrame to a new SQLite table\n",
    "df3lite.to_sql(\"df3lite\", con, if_exists=\"replace\")\n",
    "# df4.to_sql(\"df4\", con, if_exists=\"replace\")\n",
    "# df5.to_sql(\"df5\", con, if_exists=\"replace\")\n",
    "# df6.to_sql(\"df6\", con, if_exists=\"replace\")\n",
    "con.close()"
   ]
  },
  {
   "cell_type": "code",
   "execution_count": 36,
   "metadata": {},
   "outputs": [
    {
     "data": {
      "text/plain": [
       "['latitude', 'longitude', 'stars']"
      ]
     },
     "execution_count": 36,
     "metadata": {},
     "output_type": "execute_result"
    }
   ],
   "source": [
    "[x for x in df3.columns if df3[x].dtype=='float64']"
   ]
  },
  {
   "cell_type": "code",
   "execution_count": 37,
   "metadata": {},
   "outputs": [],
   "source": [
    "df_rest_raw = df3lite.copy()"
   ]
  },
  {
   "cell_type": "code",
   "execution_count": 38,
   "metadata": {},
   "outputs": [
    {
     "name": "stdout",
     "output_type": "stream",
     "text": [
      "<class 'pandas.core.frame.DataFrame'>\n",
      "Int64Index: 12927 entries, 9 to 65605\n",
      "Data columns (total 12 columns):\n",
      " #   Column        Non-Null Count  Dtype  \n",
      "---  ------        --------------  -----  \n",
      " 0   business_id   12927 non-null  object \n",
      " 1   name          12927 non-null  object \n",
      " 2   address       12927 non-null  object \n",
      " 3   city          12927 non-null  object \n",
      " 4   state         12927 non-null  object \n",
      " 5   postal_code   12927 non-null  object \n",
      " 6   latitude      12927 non-null  float64\n",
      " 7   longitude     12927 non-null  float64\n",
      " 8   review_count  12927 non-null  int64  \n",
      " 9   is_open       12927 non-null  int64  \n",
      " 10  categories    12927 non-null  object \n",
      " 11  stars_avg     12927 non-null  float64\n",
      "dtypes: float64(3), int64(2), object(7)\n",
      "memory usage: 1.3+ MB\n"
     ]
    }
   ],
   "source": [
    "df_rest_raw.info()"
   ]
  },
  {
   "cell_type": "code",
   "execution_count": 39,
   "metadata": {},
   "outputs": [
    {
     "name": "stdout",
     "output_type": "stream",
     "text": [
      "<class 'pandas.core.frame.DataFrame'>\n",
      "RangeIndex: 218 entries, 0 to 217\n",
      "Data columns (total 4 columns):\n",
      " #   Column       Non-Null Count  Dtype  \n",
      "---  ------       --------------  -----  \n",
      " 0   Categories   0 non-null      float64\n",
      " 1   Food_types   69 non-null     object \n",
      " 2   Ethnicities  96 non-null     object \n",
      " 3   Venue_type   51 non-null     object \n",
      "dtypes: float64(1), object(3)\n",
      "memory usage: 6.9+ KB\n"
     ]
    }
   ],
   "source": [
    "food_cats = pd.read_csv('/Users/robholmstrom/OneDrive/Gitrepos/nonrepo_files/Yelp_food_categories.csv')\n",
    "food_cats.info()"
   ]
  },
  {
   "cell_type": "code",
   "execution_count": 40,
   "metadata": {},
   "outputs": [],
   "source": [
    "food_types = food_cats['Food_types'].dropna().str.strip().str.replace(' ', '')\n",
    "ethnicities = food_cats['Ethnicities'].dropna().str.strip().str.replace(' ', '')\n",
    "venue_types = food_cats['Venue_type'].dropna().str.strip().str.replace(' ', '')"
   ]
  },
  {
   "cell_type": "code",
   "execution_count": 41,
   "metadata": {},
   "outputs": [],
   "source": [
    "cat_list = df_rest_raw['categories'].str.replace(' ', '' ).str.replace(',', ', ')"
   ]
  },
  {
   "cell_type": "code",
   "execution_count": 42,
   "metadata": {},
   "outputs": [
    {
     "data": {
      "text/plain": [
       "9          Food, Pretzels, Bakeries, FastFood, Restaurants\n",
       "12                           Restaurants, Vietnamese, Soup\n",
       "13                          Restaurants, FastFood, Burgers\n",
       "15       ShoppingCenters, Food, Coffee&Tea, Cafes, Muse...\n",
       "18       Restaurants, Egyptian, FoodTrucks, Food, Middl...\n",
       "                               ...                        \n",
       "65588    Restaurants, Barbeque, ComfortFood, Salad, Eve...\n",
       "65596    IceCream&FrozenYogurt, Burgers, Restaurants, F...\n",
       "65600                                 Chinese, Restaurants\n",
       "65602    Nightlife, American(Traditional), ChickenWings...\n",
       "65605    American(New), Food, Burgers, Restaurants, Fas...\n",
       "Name: categories, Length: 12927, dtype: object"
      ]
     },
     "execution_count": 42,
     "metadata": {},
     "output_type": "execute_result"
    }
   ],
   "source": [
    "cat_list"
   ]
  },
  {
   "cell_type": "code",
   "execution_count": 43,
   "metadata": {},
   "outputs": [
    {
     "data": {
      "text/plain": [
       "array(['o'], dtype=object)"
      ]
     },
     "execution_count": 43,
     "metadata": {},
     "output_type": "execute_result"
    }
   ],
   "source": [
    "cat_list[0:1].str[1:2].values"
   ]
  },
  {
   "cell_type": "code",
   "execution_count": 44,
   "metadata": {},
   "outputs": [],
   "source": [
    "df_rest_raw['categories_fixed']=cat_list"
   ]
  },
  {
   "cell_type": "code",
   "execution_count": 45,
   "metadata": {},
   "outputs": [
    {
     "data": {
      "text/html": [
       "<div>\n",
       "<style scoped>\n",
       "    .dataframe tbody tr th:only-of-type {\n",
       "        vertical-align: middle;\n",
       "    }\n",
       "\n",
       "    .dataframe tbody tr th {\n",
       "        vertical-align: top;\n",
       "    }\n",
       "\n",
       "    .dataframe thead th {\n",
       "        text-align: right;\n",
       "    }\n",
       "</style>\n",
       "<table border=\"1\" class=\"dataframe\">\n",
       "  <thead>\n",
       "    <tr style=\"text-align: right;\">\n",
       "      <th></th>\n",
       "      <th>business_id</th>\n",
       "      <th>name</th>\n",
       "      <th>address</th>\n",
       "      <th>city</th>\n",
       "      <th>state</th>\n",
       "      <th>postal_code</th>\n",
       "      <th>latitude</th>\n",
       "      <th>longitude</th>\n",
       "      <th>review_count</th>\n",
       "      <th>is_open</th>\n",
       "      <th>categories</th>\n",
       "      <th>stars_avg</th>\n",
       "      <th>categories_fixed</th>\n",
       "    </tr>\n",
       "  </thead>\n",
       "  <tbody>\n",
       "    <tr>\n",
       "      <th>9</th>\n",
       "      <td>vjTVxnsQEZ34XjYNS-XUpA</td>\n",
       "      <td>Wetzel's Pretzels</td>\n",
       "      <td>4550 East Cactus Rd, #KSFC-4</td>\n",
       "      <td>Phoenix</td>\n",
       "      <td>AZ</td>\n",
       "      <td>85032</td>\n",
       "      <td>33.602822</td>\n",
       "      <td>-111.983533</td>\n",
       "      <td>10</td>\n",
       "      <td>1</td>\n",
       "      <td>Food, Pretzels, Bakeries, Fast Food, Restaurants</td>\n",
       "      <td>3.0</td>\n",
       "      <td>Food, Pretzels, Bakeries, FastFood, Restaurants</td>\n",
       "    </tr>\n",
       "    <tr>\n",
       "      <th>12</th>\n",
       "      <td>98hyK2QEUeI8v2y0AghfZA</td>\n",
       "      <td>Pho Lee's Vietnamese Restaurant</td>\n",
       "      <td>1541 E 38th St, Ste 101</td>\n",
       "      <td>Cleveland</td>\n",
       "      <td>OH</td>\n",
       "      <td>44114</td>\n",
       "      <td>41.512155</td>\n",
       "      <td>-81.663332</td>\n",
       "      <td>23</td>\n",
       "      <td>1</td>\n",
       "      <td>Restaurants, Vietnamese, Soup</td>\n",
       "      <td>4.0</td>\n",
       "      <td>Restaurants, Vietnamese, Soup</td>\n",
       "    </tr>\n",
       "    <tr>\n",
       "      <th>13</th>\n",
       "      <td>tLpkSwdtqqoXwU0JAGnApw</td>\n",
       "      <td>Wendy's</td>\n",
       "      <td>4602 Northfield Road</td>\n",
       "      <td>Cleveland</td>\n",
       "      <td>OH</td>\n",
       "      <td>44128</td>\n",
       "      <td>41.434614</td>\n",
       "      <td>-81.527026</td>\n",
       "      <td>7</td>\n",
       "      <td>1</td>\n",
       "      <td>Restaurants, Fast Food, Burgers</td>\n",
       "      <td>3.0</td>\n",
       "      <td>Restaurants, FastFood, Burgers</td>\n",
       "    </tr>\n",
       "  </tbody>\n",
       "</table>\n",
       "</div>"
      ],
      "text/plain": [
       "               business_id                             name  \\\n",
       "9   vjTVxnsQEZ34XjYNS-XUpA                Wetzel's Pretzels   \n",
       "12  98hyK2QEUeI8v2y0AghfZA  Pho Lee's Vietnamese Restaurant   \n",
       "13  tLpkSwdtqqoXwU0JAGnApw                          Wendy's   \n",
       "\n",
       "                         address       city state postal_code   latitude  \\\n",
       "9   4550 East Cactus Rd, #KSFC-4    Phoenix    AZ       85032  33.602822   \n",
       "12       1541 E 38th St, Ste 101  Cleveland    OH       44114  41.512155   \n",
       "13          4602 Northfield Road  Cleveland    OH       44128  41.434614   \n",
       "\n",
       "     longitude  review_count  is_open  \\\n",
       "9  -111.983533            10        1   \n",
       "12  -81.663332            23        1   \n",
       "13  -81.527026             7        1   \n",
       "\n",
       "                                          categories  stars_avg  \\\n",
       "9   Food, Pretzels, Bakeries, Fast Food, Restaurants        3.0   \n",
       "12                     Restaurants, Vietnamese, Soup        4.0   \n",
       "13                   Restaurants, Fast Food, Burgers        3.0   \n",
       "\n",
       "                                   categories_fixed  \n",
       "9   Food, Pretzels, Bakeries, FastFood, Restaurants  \n",
       "12                    Restaurants, Vietnamese, Soup  \n",
       "13                   Restaurants, FastFood, Burgers  "
      ]
     },
     "execution_count": 45,
     "metadata": {},
     "output_type": "execute_result"
    }
   ],
   "source": [
    "df_rest_raw.head(3)"
   ]
  },
  {
   "cell_type": "code",
   "execution_count": 46,
   "metadata": {},
   "outputs": [
    {
     "data": {
      "text/plain": [
       "9    Food, Pretzels, Bakeries, FastFood, Restaurants\n",
       "Name: categories_fixed, dtype: object"
      ]
     },
     "execution_count": 46,
     "metadata": {},
     "output_type": "execute_result"
    }
   ],
   "source": [
    "df_rest_raw['categories_fixed'][0:1]"
   ]
  },
  {
   "cell_type": "code",
   "execution_count": 47,
   "metadata": {},
   "outputs": [
    {
     "name": "stdout",
     "output_type": "stream",
     "text": [
      "12927\n",
      "12927\n"
     ]
    }
   ],
   "source": [
    "type_list = []\n",
    "\n",
    "for x in df_rest_raw['categories_fixed']:\n",
    "    sublist = []\n",
    "    for i in food_types:\n",
    "        if i in x:\n",
    "            sublist.append(i)\n",
    "    \n",
    "    if len(sublist) == 0:\n",
    "        type_list.append(['Undefined'])\n",
    "    else:\n",
    "        type_list.append(sublist)  \n",
    "\n",
    "print(len(type_list))\n",
    "print(df_rest_raw.shape[0])\n"
   ]
  },
  {
   "cell_type": "code",
   "execution_count": 48,
   "metadata": {},
   "outputs": [
    {
     "name": "stdout",
     "output_type": "stream",
     "text": [
      "12927\n",
      "12927\n"
     ]
    }
   ],
   "source": [
    "venue_list = []\n",
    "\n",
    "for x in df_rest_raw['categories_fixed']:\n",
    "    sublist = []\n",
    "    for i in venue_types:\n",
    "        if i in x:\n",
    "            sublist.append(i)\n",
    "    \n",
    "    if len(sublist) == 0:\n",
    "        venue_list.append(['Restaurant'])\n",
    "    else:\n",
    "        venue_list.append(sublist)  \n",
    "\n",
    "print(len(venue_list))\n",
    "print(df_rest_raw.shape[0])\n"
   ]
  },
  {
   "cell_type": "code",
   "execution_count": 49,
   "metadata": {},
   "outputs": [
    {
     "name": "stdout",
     "output_type": "stream",
     "text": [
      "12927\n",
      "12927\n"
     ]
    }
   ],
   "source": [
    "ethnicity_list = []\n",
    "\n",
    "for x in df_rest_raw['categories_fixed']:\n",
    "    sublist = []\n",
    "    for i in ethnicities:\n",
    "        if i in x:\n",
    "            sublist.append(i)\n",
    "    \n",
    "    if len(sublist) == 0:\n",
    "        ethnicity_list.append(['Undefined'])\n",
    "    else:\n",
    "        ethnicity_list.append(sublist)  \n",
    "print(len(ethnicity_list))\n",
    "print(df_rest_raw.shape[0])\n"
   ]
  },
  {
   "cell_type": "code",
   "execution_count": 50,
   "metadata": {},
   "outputs": [],
   "source": [
    "df_rest_raw['food_type'] = type_list\n",
    "df_rest_raw['ethnicity'] = ethnicity_list\n",
    "df_rest_raw['venue'] = venue_list\n"
   ]
  },
  {
   "cell_type": "code",
   "execution_count": 51,
   "metadata": {},
   "outputs": [
    {
     "name": "stdout",
     "output_type": "stream",
     "text": [
      "<class 'pandas.core.frame.DataFrame'>\n",
      "Int64Index: 12927 entries, 9 to 65605\n",
      "Data columns (total 16 columns):\n",
      " #   Column            Non-Null Count  Dtype  \n",
      "---  ------            --------------  -----  \n",
      " 0   business_id       12927 non-null  object \n",
      " 1   name              12927 non-null  object \n",
      " 2   address           12927 non-null  object \n",
      " 3   city              12927 non-null  object \n",
      " 4   state             12927 non-null  object \n",
      " 5   postal_code       12927 non-null  object \n",
      " 6   latitude          12927 non-null  float64\n",
      " 7   longitude         12927 non-null  float64\n",
      " 8   review_count      12927 non-null  int64  \n",
      " 9   is_open           12927 non-null  int64  \n",
      " 10  categories        12927 non-null  object \n",
      " 11  stars_avg         12927 non-null  float64\n",
      " 12  categories_fixed  12927 non-null  object \n",
      " 13  food_type         12927 non-null  object \n",
      " 14  ethnicity         12927 non-null  object \n",
      " 15  venue             12927 non-null  object \n",
      "dtypes: float64(3), int64(2), object(11)\n",
      "memory usage: 1.7+ MB\n"
     ]
    }
   ],
   "source": [
    "df_rest_raw.info()"
   ]
  },
  {
   "cell_type": "code",
   "execution_count": 52,
   "metadata": {},
   "outputs": [
    {
     "data": {
      "text/html": [
       "<div>\n",
       "<style scoped>\n",
       "    .dataframe tbody tr th:only-of-type {\n",
       "        vertical-align: middle;\n",
       "    }\n",
       "\n",
       "    .dataframe tbody tr th {\n",
       "        vertical-align: top;\n",
       "    }\n",
       "\n",
       "    .dataframe thead th {\n",
       "        text-align: right;\n",
       "    }\n",
       "</style>\n",
       "<table border=\"1\" class=\"dataframe\">\n",
       "  <thead>\n",
       "    <tr style=\"text-align: right;\">\n",
       "      <th></th>\n",
       "      <th>business_id</th>\n",
       "      <th>name</th>\n",
       "      <th>address</th>\n",
       "      <th>city</th>\n",
       "      <th>state</th>\n",
       "      <th>postal_code</th>\n",
       "      <th>latitude</th>\n",
       "      <th>longitude</th>\n",
       "      <th>review_count</th>\n",
       "      <th>is_open</th>\n",
       "      <th>categories</th>\n",
       "      <th>stars_avg</th>\n",
       "      <th>categories_fixed</th>\n",
       "      <th>food_type</th>\n",
       "      <th>ethnicity</th>\n",
       "      <th>venue</th>\n",
       "    </tr>\n",
       "  </thead>\n",
       "  <tbody>\n",
       "    <tr>\n",
       "      <th>9</th>\n",
       "      <td>vjTVxnsQEZ34XjYNS-XUpA</td>\n",
       "      <td>Wetzel's Pretzels</td>\n",
       "      <td>4550 East Cactus Rd, #KSFC-4</td>\n",
       "      <td>Phoenix</td>\n",
       "      <td>AZ</td>\n",
       "      <td>85032</td>\n",
       "      <td>33.602822</td>\n",
       "      <td>-111.983533</td>\n",
       "      <td>10</td>\n",
       "      <td>1</td>\n",
       "      <td>Food, Pretzels, Bakeries, Fast Food, Restaurants</td>\n",
       "      <td>3.0</td>\n",
       "      <td>Food, Pretzels, Bakeries, FastFood, Restaurants</td>\n",
       "      <td>[Bakeries, Pretzels, FastFood]</td>\n",
       "      <td>[Undefined]</td>\n",
       "      <td>[Restaurant]</td>\n",
       "    </tr>\n",
       "    <tr>\n",
       "      <th>12</th>\n",
       "      <td>98hyK2QEUeI8v2y0AghfZA</td>\n",
       "      <td>Pho Lee's Vietnamese Restaurant</td>\n",
       "      <td>1541 E 38th St, Ste 101</td>\n",
       "      <td>Cleveland</td>\n",
       "      <td>OH</td>\n",
       "      <td>44114</td>\n",
       "      <td>41.512155</td>\n",
       "      <td>-81.663332</td>\n",
       "      <td>23</td>\n",
       "      <td>1</td>\n",
       "      <td>Restaurants, Vietnamese, Soup</td>\n",
       "      <td>4.0</td>\n",
       "      <td>Restaurants, Vietnamese, Soup</td>\n",
       "      <td>[Soup]</td>\n",
       "      <td>[Vietnamese]</td>\n",
       "      <td>[Restaurant]</td>\n",
       "    </tr>\n",
       "    <tr>\n",
       "      <th>13</th>\n",
       "      <td>tLpkSwdtqqoXwU0JAGnApw</td>\n",
       "      <td>Wendy's</td>\n",
       "      <td>4602 Northfield Road</td>\n",
       "      <td>Cleveland</td>\n",
       "      <td>OH</td>\n",
       "      <td>44128</td>\n",
       "      <td>41.434614</td>\n",
       "      <td>-81.527026</td>\n",
       "      <td>7</td>\n",
       "      <td>1</td>\n",
       "      <td>Restaurants, Fast Food, Burgers</td>\n",
       "      <td>3.0</td>\n",
       "      <td>Restaurants, FastFood, Burgers</td>\n",
       "      <td>[Burgers, FastFood]</td>\n",
       "      <td>[Undefined]</td>\n",
       "      <td>[Restaurant]</td>\n",
       "    </tr>\n",
       "    <tr>\n",
       "      <th>15</th>\n",
       "      <td>lK-wuiq8b1TuU7bfbQZgsg</td>\n",
       "      <td>Hingetown</td>\n",
       "      <td></td>\n",
       "      <td>Cleveland</td>\n",
       "      <td>OH</td>\n",
       "      <td>44113</td>\n",
       "      <td>41.489343</td>\n",
       "      <td>-81.711029</td>\n",
       "      <td>4</td>\n",
       "      <td>1</td>\n",
       "      <td>Shopping Centers, Food, Coffee &amp; Tea, Cafes, M...</td>\n",
       "      <td>5.0</td>\n",
       "      <td>ShoppingCenters, Food, Coffee&amp;Tea, Cafes, Muse...</td>\n",
       "      <td>[Undefined]</td>\n",
       "      <td>[Undefined]</td>\n",
       "      <td>[Coffee&amp;Tea, Cafes]</td>\n",
       "    </tr>\n",
       "    <tr>\n",
       "      <th>18</th>\n",
       "      <td>LAoSegVNU4wx4GTA8reB6A</td>\n",
       "      <td>Tzikii Food Truck</td>\n",
       "      <td>7510 S Priest Dr</td>\n",
       "      <td>Tempe</td>\n",
       "      <td>AZ</td>\n",
       "      <td>85283</td>\n",
       "      <td>33.350104</td>\n",
       "      <td>-111.963660</td>\n",
       "      <td>4</td>\n",
       "      <td>1</td>\n",
       "      <td>Restaurants, Egyptian, Food Trucks, Food, Midd...</td>\n",
       "      <td>3.0</td>\n",
       "      <td>Restaurants, Egyptian, FoodTrucks, Food, Middl...</td>\n",
       "      <td>[Undefined]</td>\n",
       "      <td>[MiddleEastern, Egyptian]</td>\n",
       "      <td>[FoodTrucks]</td>\n",
       "    </tr>\n",
       "    <tr>\n",
       "      <th>...</th>\n",
       "      <td>...</td>\n",
       "      <td>...</td>\n",
       "      <td>...</td>\n",
       "      <td>...</td>\n",
       "      <td>...</td>\n",
       "      <td>...</td>\n",
       "      <td>...</td>\n",
       "      <td>...</td>\n",
       "      <td>...</td>\n",
       "      <td>...</td>\n",
       "      <td>...</td>\n",
       "      <td>...</td>\n",
       "      <td>...</td>\n",
       "      <td>...</td>\n",
       "      <td>...</td>\n",
       "      <td>...</td>\n",
       "    </tr>\n",
       "    <tr>\n",
       "      <th>65588</th>\n",
       "      <td>8dK-8e006F_it5bNxTVlaQ</td>\n",
       "      <td>Famous Dave's Bar-B-Que</td>\n",
       "      <td>26410 Great Northern Shopping Ctr</td>\n",
       "      <td>North Olmsted</td>\n",
       "      <td>OH</td>\n",
       "      <td>44070</td>\n",
       "      <td>41.418407</td>\n",
       "      <td>-81.915597</td>\n",
       "      <td>120</td>\n",
       "      <td>1</td>\n",
       "      <td>Restaurants, Barbeque, Comfort Food, Salad, Ev...</td>\n",
       "      <td>4.0</td>\n",
       "      <td>Restaurants, Barbeque, ComfortFood, Salad, Eve...</td>\n",
       "      <td>[Burgers, ComfortFood, Salad, Sandwiches]</td>\n",
       "      <td>[American(Traditional), Barbeque]</td>\n",
       "      <td>[Restaurant]</td>\n",
       "    </tr>\n",
       "    <tr>\n",
       "      <th>65596</th>\n",
       "      <td>_bvc2j6E8mk_ZiMoh2iMuQ</td>\n",
       "      <td>Sonic Drive-In</td>\n",
       "      <td>6501 W Glendale Ave</td>\n",
       "      <td>Glendale</td>\n",
       "      <td>AZ</td>\n",
       "      <td>85301</td>\n",
       "      <td>33.537861</td>\n",
       "      <td>-112.199338</td>\n",
       "      <td>13</td>\n",
       "      <td>1</td>\n",
       "      <td>Ice Cream &amp; Frozen Yogurt, Burgers, Restaurant...</td>\n",
       "      <td>2.0</td>\n",
       "      <td>IceCream&amp;FrozenYogurt, Burgers, Restaurants, F...</td>\n",
       "      <td>[IceCream&amp;FrozenYogurt, Burgers, FastFood]</td>\n",
       "      <td>[American(Traditional)]</td>\n",
       "      <td>[Restaurant]</td>\n",
       "    </tr>\n",
       "    <tr>\n",
       "      <th>65600</th>\n",
       "      <td>cmsAFAymfVoBitSF8R6GKw</td>\n",
       "      <td>Yao Fine Chinese Cuisine</td>\n",
       "      <td>2487 S Gilbert Rd, Ste 102</td>\n",
       "      <td>Gilbert</td>\n",
       "      <td>AZ</td>\n",
       "      <td>85295</td>\n",
       "      <td>33.304935</td>\n",
       "      <td>-111.788861</td>\n",
       "      <td>230</td>\n",
       "      <td>1</td>\n",
       "      <td>Chinese, Restaurants</td>\n",
       "      <td>4.0</td>\n",
       "      <td>Chinese, Restaurants</td>\n",
       "      <td>[Undefined]</td>\n",
       "      <td>[Chinese]</td>\n",
       "      <td>[Restaurant]</td>\n",
       "    </tr>\n",
       "    <tr>\n",
       "      <th>65602</th>\n",
       "      <td>YZeUH6zYS0dq5QHLYZhUnQ</td>\n",
       "      <td>Hooters</td>\n",
       "      <td>2820 N 75th Ave</td>\n",
       "      <td>Phoenix</td>\n",
       "      <td>AZ</td>\n",
       "      <td>85035</td>\n",
       "      <td>33.479139</td>\n",
       "      <td>-112.221142</td>\n",
       "      <td>106</td>\n",
       "      <td>1</td>\n",
       "      <td>Nightlife, American (Traditional), Chicken Win...</td>\n",
       "      <td>2.0</td>\n",
       "      <td>Nightlife, American(Traditional), ChickenWings...</td>\n",
       "      <td>[ChickenWings]</td>\n",
       "      <td>[American(Traditional)]</td>\n",
       "      <td>[Restaurant]</td>\n",
       "    </tr>\n",
       "    <tr>\n",
       "      <th>65605</th>\n",
       "      <td>SYa2j1boLF8DcGVOYfHPcA</td>\n",
       "      <td>Five Guys</td>\n",
       "      <td>7014-590 E Camelback Rd</td>\n",
       "      <td>Scottsdale</td>\n",
       "      <td>AZ</td>\n",
       "      <td>85251</td>\n",
       "      <td>33.504062</td>\n",
       "      <td>-111.929431</td>\n",
       "      <td>97</td>\n",
       "      <td>1</td>\n",
       "      <td>American (New), Food, Burgers, Restaurants, Fa...</td>\n",
       "      <td>4.0</td>\n",
       "      <td>American(New), Food, Burgers, Restaurants, Fas...</td>\n",
       "      <td>[Burgers, FastFood]</td>\n",
       "      <td>[American(New)]</td>\n",
       "      <td>[Restaurant]</td>\n",
       "    </tr>\n",
       "  </tbody>\n",
       "</table>\n",
       "<p>12927 rows × 16 columns</p>\n",
       "</div>"
      ],
      "text/plain": [
       "                  business_id                             name  \\\n",
       "9      vjTVxnsQEZ34XjYNS-XUpA                Wetzel's Pretzels   \n",
       "12     98hyK2QEUeI8v2y0AghfZA  Pho Lee's Vietnamese Restaurant   \n",
       "13     tLpkSwdtqqoXwU0JAGnApw                          Wendy's   \n",
       "15     lK-wuiq8b1TuU7bfbQZgsg                        Hingetown   \n",
       "18     LAoSegVNU4wx4GTA8reB6A                Tzikii Food Truck   \n",
       "...                       ...                              ...   \n",
       "65588  8dK-8e006F_it5bNxTVlaQ          Famous Dave's Bar-B-Que   \n",
       "65596  _bvc2j6E8mk_ZiMoh2iMuQ                   Sonic Drive-In   \n",
       "65600  cmsAFAymfVoBitSF8R6GKw         Yao Fine Chinese Cuisine   \n",
       "65602  YZeUH6zYS0dq5QHLYZhUnQ                          Hooters   \n",
       "65605  SYa2j1boLF8DcGVOYfHPcA                        Five Guys   \n",
       "\n",
       "                                 address           city state postal_code  \\\n",
       "9           4550 East Cactus Rd, #KSFC-4        Phoenix    AZ       85032   \n",
       "12               1541 E 38th St, Ste 101      Cleveland    OH       44114   \n",
       "13                  4602 Northfield Road      Cleveland    OH       44128   \n",
       "15                                            Cleveland    OH       44113   \n",
       "18                      7510 S Priest Dr          Tempe    AZ       85283   \n",
       "...                                  ...            ...   ...         ...   \n",
       "65588  26410 Great Northern Shopping Ctr  North Olmsted    OH       44070   \n",
       "65596                6501 W Glendale Ave       Glendale    AZ       85301   \n",
       "65600         2487 S Gilbert Rd, Ste 102        Gilbert    AZ       85295   \n",
       "65602                    2820 N 75th Ave        Phoenix    AZ       85035   \n",
       "65605            7014-590 E Camelback Rd     Scottsdale    AZ       85251   \n",
       "\n",
       "        latitude   longitude  review_count  is_open  \\\n",
       "9      33.602822 -111.983533            10        1   \n",
       "12     41.512155  -81.663332            23        1   \n",
       "13     41.434614  -81.527026             7        1   \n",
       "15     41.489343  -81.711029             4        1   \n",
       "18     33.350104 -111.963660             4        1   \n",
       "...          ...         ...           ...      ...   \n",
       "65588  41.418407  -81.915597           120        1   \n",
       "65596  33.537861 -112.199338            13        1   \n",
       "65600  33.304935 -111.788861           230        1   \n",
       "65602  33.479139 -112.221142           106        1   \n",
       "65605  33.504062 -111.929431            97        1   \n",
       "\n",
       "                                              categories  stars_avg  \\\n",
       "9       Food, Pretzels, Bakeries, Fast Food, Restaurants        3.0   \n",
       "12                         Restaurants, Vietnamese, Soup        4.0   \n",
       "13                       Restaurants, Fast Food, Burgers        3.0   \n",
       "15     Shopping Centers, Food, Coffee & Tea, Cafes, M...        5.0   \n",
       "18     Restaurants, Egyptian, Food Trucks, Food, Midd...        3.0   \n",
       "...                                                  ...        ...   \n",
       "65588  Restaurants, Barbeque, Comfort Food, Salad, Ev...        4.0   \n",
       "65596  Ice Cream & Frozen Yogurt, Burgers, Restaurant...        2.0   \n",
       "65600                               Chinese, Restaurants        4.0   \n",
       "65602  Nightlife, American (Traditional), Chicken Win...        2.0   \n",
       "65605  American (New), Food, Burgers, Restaurants, Fa...        4.0   \n",
       "\n",
       "                                        categories_fixed  \\\n",
       "9        Food, Pretzels, Bakeries, FastFood, Restaurants   \n",
       "12                         Restaurants, Vietnamese, Soup   \n",
       "13                        Restaurants, FastFood, Burgers   \n",
       "15     ShoppingCenters, Food, Coffee&Tea, Cafes, Muse...   \n",
       "18     Restaurants, Egyptian, FoodTrucks, Food, Middl...   \n",
       "...                                                  ...   \n",
       "65588  Restaurants, Barbeque, ComfortFood, Salad, Eve...   \n",
       "65596  IceCream&FrozenYogurt, Burgers, Restaurants, F...   \n",
       "65600                               Chinese, Restaurants   \n",
       "65602  Nightlife, American(Traditional), ChickenWings...   \n",
       "65605  American(New), Food, Burgers, Restaurants, Fas...   \n",
       "\n",
       "                                        food_type  \\\n",
       "9                  [Bakeries, Pretzels, FastFood]   \n",
       "12                                         [Soup]   \n",
       "13                            [Burgers, FastFood]   \n",
       "15                                    [Undefined]   \n",
       "18                                    [Undefined]   \n",
       "...                                           ...   \n",
       "65588   [Burgers, ComfortFood, Salad, Sandwiches]   \n",
       "65596  [IceCream&FrozenYogurt, Burgers, FastFood]   \n",
       "65600                                 [Undefined]   \n",
       "65602                              [ChickenWings]   \n",
       "65605                         [Burgers, FastFood]   \n",
       "\n",
       "                               ethnicity                venue  \n",
       "9                            [Undefined]         [Restaurant]  \n",
       "12                          [Vietnamese]         [Restaurant]  \n",
       "13                           [Undefined]         [Restaurant]  \n",
       "15                           [Undefined]  [Coffee&Tea, Cafes]  \n",
       "18             [MiddleEastern, Egyptian]         [FoodTrucks]  \n",
       "...                                  ...                  ...  \n",
       "65588  [American(Traditional), Barbeque]         [Restaurant]  \n",
       "65596            [American(Traditional)]         [Restaurant]  \n",
       "65600                          [Chinese]         [Restaurant]  \n",
       "65602            [American(Traditional)]         [Restaurant]  \n",
       "65605                    [American(New)]         [Restaurant]  \n",
       "\n",
       "[12927 rows x 16 columns]"
      ]
     },
     "execution_count": 52,
     "metadata": {},
     "output_type": "execute_result"
    }
   ],
   "source": [
    "df_rest_raw"
   ]
  },
  {
   "cell_type": "code",
   "execution_count": 53,
   "metadata": {},
   "outputs": [],
   "source": [
    "df_rest_raw['food_comb'] = (df_rest_raw['food_type']+df_rest_raw['ethnicity']+df_rest_raw['venue']).apply(lambda x: ', '.join(x))\n",
    "df_rest_raw['food_comb'] = df_rest_raw['food_comb'].str.replace('Undefined,', '')\n"
   ]
  },
  {
   "cell_type": "code",
   "execution_count": 54,
   "metadata": {},
   "outputs": [
    {
     "data": {
      "text/plain": [
       "9                Bakeries, Pretzels, FastFood,  Restaurant\n",
       "12                            Soup, Vietnamese, Restaurant\n",
       "13                          Burgers, FastFood,  Restaurant\n",
       "15                                       Coffee&Tea, Cafes\n",
       "18                     MiddleEastern, Egyptian, FoodTrucks\n",
       "                               ...                        \n",
       "65588    Burgers, ComfortFood, Salad, Sandwiches, Ameri...\n",
       "65596    IceCream&FrozenYogurt, Burgers, FastFood, Amer...\n",
       "65600                                  Chinese, Restaurant\n",
       "65602      ChickenWings, American(Traditional), Restaurant\n",
       "65605         Burgers, FastFood, American(New), Restaurant\n",
       "Name: food_comb, Length: 12927, dtype: object"
      ]
     },
     "execution_count": 54,
     "metadata": {},
     "output_type": "execute_result"
    }
   ],
   "source": [
    "df_rest_raw['food_comb']"
   ]
  },
  {
   "cell_type": "code",
   "execution_count": 55,
   "metadata": {},
   "outputs": [],
   "source": [
    "df_rest = df_rest_raw.drop(columns = ['categories'])\n",
    "df_rest['food_type'] = df_rest['food_type'].apply(lambda x: ', '.join(x))\n",
    "df_rest['venue'] = df_rest['venue'].apply(lambda x: ', '.join(x))\n",
    "df_rest['ethnicity']= df_rest['ethnicity'].apply(lambda x: ', '.join(x))"
   ]
  },
  {
   "cell_type": "code",
   "execution_count": 56,
   "metadata": {},
   "outputs": [
    {
     "data": {
      "text/html": [
       "<div>\n",
       "<style scoped>\n",
       "    .dataframe tbody tr th:only-of-type {\n",
       "        vertical-align: middle;\n",
       "    }\n",
       "\n",
       "    .dataframe tbody tr th {\n",
       "        vertical-align: top;\n",
       "    }\n",
       "\n",
       "    .dataframe thead th {\n",
       "        text-align: right;\n",
       "    }\n",
       "</style>\n",
       "<table border=\"1\" class=\"dataframe\">\n",
       "  <thead>\n",
       "    <tr style=\"text-align: right;\">\n",
       "      <th></th>\n",
       "      <th>business_id</th>\n",
       "      <th>name</th>\n",
       "      <th>address</th>\n",
       "      <th>city</th>\n",
       "      <th>state</th>\n",
       "      <th>postal_code</th>\n",
       "      <th>latitude</th>\n",
       "      <th>longitude</th>\n",
       "      <th>review_count</th>\n",
       "      <th>is_open</th>\n",
       "      <th>stars_avg</th>\n",
       "      <th>categories_fixed</th>\n",
       "      <th>food_type</th>\n",
       "      <th>ethnicity</th>\n",
       "      <th>venue</th>\n",
       "      <th>food_comb</th>\n",
       "    </tr>\n",
       "  </thead>\n",
       "  <tbody>\n",
       "    <tr>\n",
       "      <th>9</th>\n",
       "      <td>vjTVxnsQEZ34XjYNS-XUpA</td>\n",
       "      <td>Wetzel's Pretzels</td>\n",
       "      <td>4550 East Cactus Rd, #KSFC-4</td>\n",
       "      <td>Phoenix</td>\n",
       "      <td>AZ</td>\n",
       "      <td>85032</td>\n",
       "      <td>33.602822</td>\n",
       "      <td>-111.983533</td>\n",
       "      <td>10</td>\n",
       "      <td>1</td>\n",
       "      <td>3.0</td>\n",
       "      <td>Food, Pretzels, Bakeries, FastFood, Restaurants</td>\n",
       "      <td>Bakeries, Pretzels, FastFood</td>\n",
       "      <td>Undefined</td>\n",
       "      <td>Restaurant</td>\n",
       "      <td>Bakeries, Pretzels, FastFood,  Restaurant</td>\n",
       "    </tr>\n",
       "    <tr>\n",
       "      <th>12</th>\n",
       "      <td>98hyK2QEUeI8v2y0AghfZA</td>\n",
       "      <td>Pho Lee's Vietnamese Restaurant</td>\n",
       "      <td>1541 E 38th St, Ste 101</td>\n",
       "      <td>Cleveland</td>\n",
       "      <td>OH</td>\n",
       "      <td>44114</td>\n",
       "      <td>41.512155</td>\n",
       "      <td>-81.663332</td>\n",
       "      <td>23</td>\n",
       "      <td>1</td>\n",
       "      <td>4.0</td>\n",
       "      <td>Restaurants, Vietnamese, Soup</td>\n",
       "      <td>Soup</td>\n",
       "      <td>Vietnamese</td>\n",
       "      <td>Restaurant</td>\n",
       "      <td>Soup, Vietnamese, Restaurant</td>\n",
       "    </tr>\n",
       "    <tr>\n",
       "      <th>13</th>\n",
       "      <td>tLpkSwdtqqoXwU0JAGnApw</td>\n",
       "      <td>Wendy's</td>\n",
       "      <td>4602 Northfield Road</td>\n",
       "      <td>Cleveland</td>\n",
       "      <td>OH</td>\n",
       "      <td>44128</td>\n",
       "      <td>41.434614</td>\n",
       "      <td>-81.527026</td>\n",
       "      <td>7</td>\n",
       "      <td>1</td>\n",
       "      <td>3.0</td>\n",
       "      <td>Restaurants, FastFood, Burgers</td>\n",
       "      <td>Burgers, FastFood</td>\n",
       "      <td>Undefined</td>\n",
       "      <td>Restaurant</td>\n",
       "      <td>Burgers, FastFood,  Restaurant</td>\n",
       "    </tr>\n",
       "  </tbody>\n",
       "</table>\n",
       "</div>"
      ],
      "text/plain": [
       "               business_id                             name  \\\n",
       "9   vjTVxnsQEZ34XjYNS-XUpA                Wetzel's Pretzels   \n",
       "12  98hyK2QEUeI8v2y0AghfZA  Pho Lee's Vietnamese Restaurant   \n",
       "13  tLpkSwdtqqoXwU0JAGnApw                          Wendy's   \n",
       "\n",
       "                         address       city state postal_code   latitude  \\\n",
       "9   4550 East Cactus Rd, #KSFC-4    Phoenix    AZ       85032  33.602822   \n",
       "12       1541 E 38th St, Ste 101  Cleveland    OH       44114  41.512155   \n",
       "13          4602 Northfield Road  Cleveland    OH       44128  41.434614   \n",
       "\n",
       "     longitude  review_count  is_open  stars_avg  \\\n",
       "9  -111.983533            10        1        3.0   \n",
       "12  -81.663332            23        1        4.0   \n",
       "13  -81.527026             7        1        3.0   \n",
       "\n",
       "                                   categories_fixed  \\\n",
       "9   Food, Pretzels, Bakeries, FastFood, Restaurants   \n",
       "12                    Restaurants, Vietnamese, Soup   \n",
       "13                   Restaurants, FastFood, Burgers   \n",
       "\n",
       "                       food_type   ethnicity       venue  \\\n",
       "9   Bakeries, Pretzels, FastFood   Undefined  Restaurant   \n",
       "12                          Soup  Vietnamese  Restaurant   \n",
       "13             Burgers, FastFood   Undefined  Restaurant   \n",
       "\n",
       "                                    food_comb  \n",
       "9   Bakeries, Pretzels, FastFood,  Restaurant  \n",
       "12               Soup, Vietnamese, Restaurant  \n",
       "13             Burgers, FastFood,  Restaurant  "
      ]
     },
     "execution_count": 56,
     "metadata": {},
     "output_type": "execute_result"
    }
   ],
   "source": [
    "df_rest.head(3)"
   ]
  },
  {
   "cell_type": "code",
   "execution_count": 57,
   "metadata": {},
   "outputs": [
    {
     "data": {
      "text/plain": [
       "Undefined            4003\n",
       "Pizza                 790\n",
       "Burgers, FastFood     623\n",
       "Name: food_type, dtype: int64"
      ]
     },
     "execution_count": 57,
     "metadata": {},
     "output_type": "execute_result"
    }
   ],
   "source": [
    "df_rest['food_type'].value_counts().head(3)"
   ]
  },
  {
   "cell_type": "code",
   "execution_count": 58,
   "metadata": {},
   "outputs": [
    {
     "data": {
      "text/plain": [
       "Undefined                5414\n",
       "American(Traditional)    1310\n",
       "Mexican                  1295\n",
       "Name: ethnicity, dtype: int64"
      ]
     },
     "execution_count": 58,
     "metadata": {},
     "output_type": "execute_result"
    }
   ],
   "source": [
    "df_rest['ethnicity'].value_counts().head(3)"
   ]
  },
  {
   "cell_type": "code",
   "execution_count": 59,
   "metadata": {},
   "outputs": [
    {
     "data": {
      "text/plain": [
       "Restaurant    8397\n",
       "Coffee&Tea    1221\n",
       "Delis          334\n",
       "Name: venue, dtype: int64"
      ]
     },
     "execution_count": 59,
     "metadata": {},
     "output_type": "execute_result"
    }
   ],
   "source": [
    "df_rest['venue'].value_counts().head(3)"
   ]
  },
  {
   "cell_type": "code",
   "execution_count": 60,
   "metadata": {},
   "outputs": [
    {
     "data": {
      "text/plain": [
       "Undefined                                              1069\n",
       "Mexican                                                 644\n",
       "American(Traditional)                                   382\n",
       "Chinese                                                 291\n",
       "American(New)                                           282\n",
       "                                                       ... \n",
       "American(New), American(Traditional), Mediterranean       1\n",
       "AsianFusion, Mexican, NewMexicanCuisine                   1\n",
       "Burmese, Thai                                             1\n",
       "MiddleEastern, Egyptian                                   1\n",
       "Arabian, Greek, Mediterranean                             1\n",
       "Name: ethnicity, Length: 238, dtype: int64"
      ]
     },
     "execution_count": 60,
     "metadata": {},
     "output_type": "execute_result"
    }
   ],
   "source": [
    "df_rest[(df_rest['food_type']=='Undefined')]['ethnicity'].value_counts()"
   ]
  },
  {
   "cell_type": "code",
   "execution_count": 61,
   "metadata": {},
   "outputs": [
    {
     "data": {
      "text/plain": [
       "True    12927\n",
       "Name: food_type, dtype: int64"
      ]
     },
     "execution_count": 61,
     "metadata": {},
     "output_type": "execute_result"
    }
   ],
   "source": [
    "df_rest['food_type'].str.contains('').value_counts()"
   ]
  },
  {
   "cell_type": "code",
   "execution_count": 62,
   "metadata": {},
   "outputs": [
    {
     "data": {
      "text/plain": [
       "4579"
      ]
     },
     "execution_count": 62,
     "metadata": {},
     "output_type": "execute_result"
    }
   ],
   "source": [
    "df_rest[(df_rest['food_type'] !='Undefined') & (df_rest['ethnicity'] !='Undefined')]['venue'].value_counts().sum()\n"
   ]
  },
  {
   "cell_type": "code",
   "execution_count": 63,
   "metadata": {},
   "outputs": [
    {
     "data": {
      "text/plain": [
       "1069"
      ]
     },
     "execution_count": 63,
     "metadata": {},
     "output_type": "execute_result"
    }
   ],
   "source": [
    "df_rest[(df_rest['food_type']=='Undefined') & (df_rest['ethnicity']=='Undefined')]['venue'].value_counts().sum()"
   ]
  },
  {
   "cell_type": "code",
   "execution_count": 64,
   "metadata": {},
   "outputs": [
    {
     "data": {
      "text/plain": [
       "['Coffee&Tea',\n",
       " 'Restaurant',\n",
       " 'Cafes',\n",
       " 'Coffee&Tea, Cafes',\n",
       " 'SushiBars',\n",
       " 'Steakhouses',\n",
       " 'Coffee&Tea, ConvenienceStores, Grocery',\n",
       " 'Coffee&Tea, ConvenienceStores',\n",
       " 'Diners',\n",
       " 'Delis',\n",
       " 'Gastropubs',\n",
       " 'Coffee&Tea, CoffeeRoasteries',\n",
       " 'Coffee&Tea, TeaRooms',\n",
       " 'TapasBars',\n",
       " 'Coffee&Tea, InternetCafes, Cafes',\n",
       " 'FoodCourt',\n",
       " 'Grocery, Delis',\n",
       " 'Coffee&Tea, CoffeeRoasteries, Cafes',\n",
       " 'FoodStands',\n",
       " 'ChickenShop']"
      ]
     },
     "execution_count": 64,
     "metadata": {},
     "output_type": "execute_result"
    }
   ],
   "source": [
    "['Coffee&Tea', 'Restaurant', 'Cafes', 'Coffee&Tea, Cafes', 'SushiBars',\n",
    "       'Steakhouses', 'Coffee&Tea, ConvenienceStores, Grocery',\n",
    "       'Coffee&Tea, ConvenienceStores', 'Diners', 'Delis', 'Gastropubs',\n",
    "       'Coffee&Tea, CoffeeRoasteries', 'Coffee&Tea, TeaRooms', 'TapasBars',\n",
    "       'Coffee&Tea, InternetCafes, Cafes', 'FoodCourt', 'Grocery, Delis',\n",
    "       'Coffee&Tea, CoffeeRoasteries, Cafes', 'FoodStands', 'ChickenShop']"
   ]
  },
  {
   "cell_type": "code",
   "execution_count": 65,
   "metadata": {},
   "outputs": [
    {
     "data": {
      "text/plain": [
       "Pizza                                       477\n",
       "FastFood, Sandwiches                        345\n",
       "Burgers, FastFood                           286\n",
       "Undefined                                   141\n",
       "ChickenWings, Pizza, Sandwiches              91\n",
       "IceCream&FrozenYogurt, Burgers, FastFood     84\n",
       "Sandwiches                                   83\n",
       "Burgers                                      61\n",
       "FastFood, Pizza                              54\n",
       "ChickenWings                                 45\n",
       "FastFood                                     39\n",
       "Bakeries                                     37\n",
       "Burgers, FastFood, HotDogs                   33\n",
       "Breakfast&Brunch                             33\n",
       "Salad, Sandwiches, Soup                      33\n",
       "Pizza, Salad                                 27\n",
       "Seafood                                      25\n",
       "Buffets, ChickenWings, Pizza                 23\n",
       "Burgers, FastFood, Sandwiches                20\n",
       "Pizza, Sandwiches                            20\n",
       "Name: food_type, dtype: int64"
      ]
     },
     "execution_count": 65,
     "metadata": {},
     "output_type": "execute_result"
    }
   ],
   "source": [
    "df_rest[(df_rest['venue']=='Restaurant')& (df_rest['ethnicity']=='Undefined')]['food_type'].value_counts().head(20)"
   ]
  },
  {
   "cell_type": "code",
   "execution_count": 66,
   "metadata": {},
   "outputs": [
    {
     "data": {
      "text/plain": [
       "2689"
      ]
     },
     "execution_count": 66,
     "metadata": {},
     "output_type": "execute_result"
    }
   ],
   "source": [
    "df_rest[(df_rest['venue']=='Restaurant')& (df_rest['ethnicity']=='Undefined')]['food_type'].value_counts().sum()"
   ]
  },
  {
   "cell_type": "code",
   "execution_count": 67,
   "metadata": {},
   "outputs": [
    {
     "data": {
      "text/plain": [
       "Mexican                                 582\n",
       "American(Traditional)                   312\n",
       "Chinese                                 279\n",
       "American(New)                           212\n",
       "Undefined                               141\n",
       "Italian                                 109\n",
       "Thai                                     79\n",
       "American(New), American(Traditional)     67\n",
       "Barbeque                                 54\n",
       "Japanese                                 44\n",
       "Vietnamese                               35\n",
       "AsianFusion, Chinese                     30\n",
       "Irish                                    27\n",
       "Indian                                   27\n",
       "Mexican, Tex-Mex                         23\n",
       "Greek, Mediterranean                     18\n",
       "American(Traditional), Tex-Mex           15\n",
       "Mediterranean, MiddleEastern             13\n",
       "American(Traditional), Barbeque          12\n",
       "Greek                                    12\n",
       "Name: ethnicity, dtype: int64"
      ]
     },
     "execution_count": 67,
     "metadata": {},
     "output_type": "execute_result"
    }
   ],
   "source": [
    "df_rest[(df_rest['venue']=='Restaurant')& (df_rest['food_type']=='Undefined')]['ethnicity'].value_counts().head(20)"
   ]
  },
  {
   "cell_type": "code",
   "execution_count": 68,
   "metadata": {},
   "outputs": [
    {
     "data": {
      "text/plain": [
       "2497"
      ]
     },
     "execution_count": 68,
     "metadata": {},
     "output_type": "execute_result"
    }
   ],
   "source": [
    "df_rest[(df_rest['venue']=='Restaurant')& (df_rest['food_type']=='Undefined')]['ethnicity'].value_counts().sum()"
   ]
  },
  {
   "cell_type": "code",
   "execution_count": 69,
   "metadata": {},
   "outputs": [
    {
     "data": {
      "text/plain": [
       "Coffee&Tea                                                        424\n",
       "Restaurant                                                        141\n",
       "Coffee&Tea, ConvenienceStores, Grocery                            101\n",
       "Coffee&Tea, ConvenienceStores                                      62\n",
       "Steakhouses                                                        37\n",
       "                                                                 ... \n",
       "BeverageStore, Coffee&Tea, CoffeeRoasteries, FoodTrucks, Cafes      1\n",
       "SpecialtyFood, MeatShops                                            1\n",
       "Grocery, InternationalGrocery, SpecialtyFood, MeatShops             1\n",
       "TeaRooms, FoodCourt                                                 1\n",
       "FoodTrucks, FoodCourt                                               1\n",
       "Name: venue, Length: 81, dtype: int64"
      ]
     },
     "execution_count": 69,
     "metadata": {},
     "output_type": "execute_result"
    }
   ],
   "source": [
    "df_rest[(df_rest['food_type']=='Undefined') & (df_rest['ethnicity']=='Undefined')]['venue'].value_counts()"
   ]
  },
  {
   "cell_type": "code",
   "execution_count": 70,
   "metadata": {},
   "outputs": [
    {
     "data": {
      "text/plain": [
       "Coffee&Tea                                                        424\n",
       "Restaurant                                                        141\n",
       "Coffee&Tea, ConvenienceStores, Grocery                            101\n",
       "Coffee&Tea, ConvenienceStores                                      62\n",
       "Steakhouses                                                        37\n",
       "                                                                 ... \n",
       "BeverageStore, Coffee&Tea, CoffeeRoasteries, FoodTrucks, Cafes      1\n",
       "SpecialtyFood, MeatShops                                            1\n",
       "Grocery, InternationalGrocery, SpecialtyFood, MeatShops             1\n",
       "TeaRooms, FoodCourt                                                 1\n",
       "FoodTrucks, FoodCourt                                               1\n",
       "Name: venue, Length: 81, dtype: int64"
      ]
     },
     "execution_count": 70,
     "metadata": {},
     "output_type": "execute_result"
    }
   ],
   "source": [
    "df_rest[(df_rest['food_type']=='Undefined') & (df_rest['ethnicity']=='Undefined')]['venue'].value_counts()"
   ]
  },
  {
   "cell_type": "code",
   "execution_count": 71,
   "metadata": {},
   "outputs": [],
   "source": [
    "# df3mini_minusgeo = df3mini.drop(columns = 'geometry')\n",
    "# con = sqlite3.connect('/Users/robholmstrom/OneDrive/Gitrepos/nonrepo_files/sqlite/test.db')\n",
    "\n",
    "\n",
    "# # Write the new DataFrame to a new SQLite table\n",
    "# df3mini_minusgeo.to_sql(\"df3mini_minusgeo\", con, if_exists=\"replace\")\n",
    "# # df4.to_sql(\"df4\", con, if_exists=\"replace\")\n",
    "# # df5.to_sql(\"df5\", con, if_exists=\"replace\")\n",
    "# # df6.to_sql(\"df6\", con, if_exists=\"replace\")\n",
    "# con.close()"
   ]
  },
  {
   "cell_type": "code",
   "execution_count": 72,
   "metadata": {
    "scrolled": true
   },
   "outputs": [],
   "source": [
    "# fig = px.scatter_geo(df_mini, 'latitude', 'longitude', scope ='north america', color = 'city')\n",
    "# fig.update_traces(marker=dict(size=1))"
   ]
  },
  {
   "cell_type": "code",
   "execution_count": null,
   "metadata": {},
   "outputs": [],
   "source": []
  },
  {
   "cell_type": "code",
   "execution_count": 73,
   "metadata": {},
   "outputs": [],
   "source": [
    "yelp = gpd.GeoDataFrame(df_rest, \n",
    "                        geometry= gpd.points_from_xy(df_rest['longitude'], df_rest['latitude']))"
   ]
  },
  {
   "cell_type": "code",
   "execution_count": 74,
   "metadata": {},
   "outputs": [
    {
     "name": "stdout",
     "output_type": "stream",
     "text": [
      "<class 'geopandas.geodataframe.GeoDataFrame'>\n",
      "Int64Index: 12927 entries, 9 to 65605\n",
      "Data columns (total 17 columns):\n",
      " #   Column            Non-Null Count  Dtype   \n",
      "---  ------            --------------  -----   \n",
      " 0   business_id       12927 non-null  object  \n",
      " 1   name              12927 non-null  object  \n",
      " 2   address           12927 non-null  object  \n",
      " 3   city              12927 non-null  object  \n",
      " 4   state             12927 non-null  object  \n",
      " 5   postal_code       12927 non-null  object  \n",
      " 6   latitude          12927 non-null  float64 \n",
      " 7   longitude         12927 non-null  float64 \n",
      " 8   review_count      12927 non-null  int64   \n",
      " 9   is_open           12927 non-null  int64   \n",
      " 10  stars_avg         12927 non-null  float64 \n",
      " 11  categories_fixed  12927 non-null  object  \n",
      " 12  food_type         12927 non-null  object  \n",
      " 13  ethnicity         12927 non-null  object  \n",
      " 14  venue             12927 non-null  object  \n",
      " 15  food_comb         12927 non-null  object  \n",
      " 16  geometry          12927 non-null  geometry\n",
      "dtypes: float64(3), geometry(1), int64(2), object(11)\n",
      "memory usage: 1.8+ MB\n"
     ]
    }
   ],
   "source": [
    "yelp.info()"
   ]
  },
  {
   "cell_type": "code",
   "execution_count": 77,
   "metadata": {},
   "outputs": [],
   "source": [
    "df = gpd.read_file('/Users/robholmstrom/Downloads/cb_2018_us_state_5m/cb_2018_us_state_5m.shp')"
   ]
  },
  {
   "cell_type": "code",
   "execution_count": 78,
   "metadata": {},
   "outputs": [
    {
     "data": {
      "image/png": "[encoded data removed]",
      "text/plain": [
       "<Figure size 1080x1080 with 1 Axes>"
      ]
     },
     "metadata": {
      "needs_background": "light"
     },
     "output_type": "display_data"
    }
   ],
   "source": [
    "y_lim = (23, 50) # lat \n",
    "x_lim = (-128, -65) # long\n",
    "fig, axs = plt.subplots(figsize= (15,15))\n",
    "\n",
    "df.plot(ax = axs, color='white', edgecolor='black')\n",
    "plt.xlim(x_lim)\n",
    "plt.ylim(y_lim)\n",
    "yelp.plot(ax = axs,marker='o',  markersize=5, column = 'city')\n",
    "plt.xlim(x_lim)\n",
    "plt.ylim(y_lim)\n",
    "\n",
    "plt.show()"
   ]
  },
  {
   "cell_type": "code",
   "execution_count": 79,
   "metadata": {},
   "outputs": [],
   "source": [
    "yelp['postal_code'] = yelp['postal_code'].replace('', np.nan)"
   ]
  },
  {
   "cell_type": "code",
   "execution_count": 80,
   "metadata": {},
   "outputs": [],
   "source": [
    "from sklearn.feature_extraction.text import CountVectorizer\n",
    "cv = CountVectorizer"
   ]
  },
  {
   "cell_type": "code",
   "execution_count": 81,
   "metadata": {},
   "outputs": [],
   "source": [
    "df_comp = yelp.copy()"
   ]
  },
  {
   "cell_type": "code",
   "execution_count": 82,
   "metadata": {},
   "outputs": [
    {
     "name": "stdout",
     "output_type": "stream",
     "text": [
      "<class 'geopandas.geodataframe.GeoDataFrame'>\n",
      "Int64Index: 12927 entries, 9 to 65605\n",
      "Data columns (total 17 columns):\n",
      " #   Column            Non-Null Count  Dtype   \n",
      "---  ------            --------------  -----   \n",
      " 0   business_id       12927 non-null  object  \n",
      " 1   name              12927 non-null  object  \n",
      " 2   address           12927 non-null  object  \n",
      " 3   city              12927 non-null  object  \n",
      " 4   state             12927 non-null  object  \n",
      " 5   postal_code       12916 non-null  object  \n",
      " 6   latitude          12927 non-null  float64 \n",
      " 7   longitude         12927 non-null  float64 \n",
      " 8   review_count      12927 non-null  int64   \n",
      " 9   is_open           12927 non-null  int64   \n",
      " 10  stars_avg         12927 non-null  float64 \n",
      " 11  categories_fixed  12927 non-null  object  \n",
      " 12  food_type         12927 non-null  object  \n",
      " 13  ethnicity         12927 non-null  object  \n",
      " 14  venue             12927 non-null  object  \n",
      " 15  food_comb         12927 non-null  object  \n",
      " 16  geometry          12927 non-null  geometry\n",
      "dtypes: float64(3), geometry(1), int64(2), object(11)\n",
      "memory usage: 1.8+ MB\n"
     ]
    }
   ],
   "source": [
    "df_comp.info()"
   ]
  },
  {
   "cell_type": "code",
   "execution_count": 83,
   "metadata": {},
   "outputs": [],
   "source": [
    "# df_comp['text length'] = df_comp['text'].apply(len)\n",
    "# g = sns.FacetGrid(data=df_comp, col='stars_avg')\n",
    "# g.map(plt.hist, 'text length', bins=50)"
   ]
  },
  {
   "cell_type": "code",
   "execution_count": 84,
   "metadata": {},
   "outputs": [
    {
     "data": {
      "text/plain": [
       "business_id          0\n",
       "name                 0\n",
       "address              0\n",
       "city                 0\n",
       "state                0\n",
       "postal_code         11\n",
       "latitude             0\n",
       "longitude            0\n",
       "review_count         0\n",
       "is_open              0\n",
       "stars_avg            0\n",
       "categories_fixed     0\n",
       "food_type            0\n",
       "ethnicity            0\n",
       "venue                0\n",
       "food_comb            0\n",
       "geometry             0\n",
       "dtype: int64"
      ]
     },
     "execution_count": 84,
     "metadata": {},
     "output_type": "execute_result"
    }
   ],
   "source": [
    "df_comp.isnull().sum()"
   ]
  },
  {
   "cell_type": "code",
   "execution_count": 85,
   "metadata": {},
   "outputs": [
    {
     "name": "stdout",
     "output_type": "stream",
     "text": [
      "<class 'geopandas.geodataframe.GeoDataFrame'>\n",
      "Int64Index: 12927 entries, 9 to 65605\n",
      "Data columns (total 17 columns):\n",
      " #   Column            Non-Null Count  Dtype   \n",
      "---  ------            --------------  -----   \n",
      " 0   business_id       12927 non-null  object  \n",
      " 1   name              12927 non-null  object  \n",
      " 2   address           12927 non-null  object  \n",
      " 3   city              12927 non-null  object  \n",
      " 4   state             12927 non-null  object  \n",
      " 5   postal_code       12916 non-null  object  \n",
      " 6   latitude          12927 non-null  float64 \n",
      " 7   longitude         12927 non-null  float64 \n",
      " 8   review_count      12927 non-null  int64   \n",
      " 9   is_open           12927 non-null  int64   \n",
      " 10  stars_avg         12927 non-null  float64 \n",
      " 11  categories_fixed  12927 non-null  object  \n",
      " 12  food_type         12927 non-null  object  \n",
      " 13  ethnicity         12927 non-null  object  \n",
      " 14  venue             12927 non-null  object  \n",
      " 15  food_comb         12927 non-null  object  \n",
      " 16  geometry          12927 non-null  geometry\n",
      "dtypes: float64(3), geometry(1), int64(2), object(11)\n",
      "memory usage: 1.8+ MB\n"
     ]
    }
   ],
   "source": [
    "df_comp.info()"
   ]
  },
  {
   "cell_type": "code",
   "execution_count": 86,
   "metadata": {},
   "outputs": [
    {
     "data": {
      "text/plain": [
       "array(['AZ', 'OH'], dtype=object)"
      ]
     },
     "execution_count": 86,
     "metadata": {},
     "output_type": "execute_result"
    }
   ],
   "source": [
    "df_comp.state.unique()"
   ]
  },
  {
   "cell_type": "code",
   "execution_count": 87,
   "metadata": {},
   "outputs": [
    {
     "data": {
      "text/html": [
       "<div>\n",
       "<style scoped>\n",
       "    .dataframe tbody tr th:only-of-type {\n",
       "        vertical-align: middle;\n",
       "    }\n",
       "\n",
       "    .dataframe tbody tr th {\n",
       "        vertical-align: top;\n",
       "    }\n",
       "\n",
       "    .dataframe thead th {\n",
       "        text-align: right;\n",
       "    }\n",
       "</style>\n",
       "<table border=\"1\" class=\"dataframe\">\n",
       "  <thead>\n",
       "    <tr style=\"text-align: right;\">\n",
       "      <th></th>\n",
       "      <th>business_id</th>\n",
       "      <th>name</th>\n",
       "      <th>address</th>\n",
       "      <th>city</th>\n",
       "      <th>state</th>\n",
       "      <th>postal_code</th>\n",
       "      <th>latitude</th>\n",
       "      <th>longitude</th>\n",
       "      <th>review_count</th>\n",
       "      <th>is_open</th>\n",
       "      <th>stars_avg</th>\n",
       "      <th>categories_fixed</th>\n",
       "      <th>food_type</th>\n",
       "      <th>ethnicity</th>\n",
       "      <th>venue</th>\n",
       "      <th>food_comb</th>\n",
       "      <th>geometry</th>\n",
       "    </tr>\n",
       "  </thead>\n",
       "  <tbody>\n",
       "    <tr>\n",
       "      <th>9</th>\n",
       "      <td>vjTVxnsQEZ34XjYNS-XUpA</td>\n",
       "      <td>Wetzel's Pretzels</td>\n",
       "      <td>4550 East Cactus Rd, #KSFC-4</td>\n",
       "      <td>Phoenix</td>\n",
       "      <td>AZ</td>\n",
       "      <td>85032</td>\n",
       "      <td>33.602822</td>\n",
       "      <td>-111.983533</td>\n",
       "      <td>10</td>\n",
       "      <td>1</td>\n",
       "      <td>3.0</td>\n",
       "      <td>Food, Pretzels, Bakeries, FastFood, Restaurants</td>\n",
       "      <td>Bakeries, Pretzels, FastFood</td>\n",
       "      <td>Undefined</td>\n",
       "      <td>Restaurant</td>\n",
       "      <td>Bakeries, Pretzels, FastFood,  Restaurant</td>\n",
       "      <td>POINT (-111.98353 33.60282)</td>\n",
       "    </tr>\n",
       "    <tr>\n",
       "      <th>12</th>\n",
       "      <td>98hyK2QEUeI8v2y0AghfZA</td>\n",
       "      <td>Pho Lee's Vietnamese Restaurant</td>\n",
       "      <td>1541 E 38th St, Ste 101</td>\n",
       "      <td>Cleveland</td>\n",
       "      <td>OH</td>\n",
       "      <td>44114</td>\n",
       "      <td>41.512155</td>\n",
       "      <td>-81.663332</td>\n",
       "      <td>23</td>\n",
       "      <td>1</td>\n",
       "      <td>4.0</td>\n",
       "      <td>Restaurants, Vietnamese, Soup</td>\n",
       "      <td>Soup</td>\n",
       "      <td>Vietnamese</td>\n",
       "      <td>Restaurant</td>\n",
       "      <td>Soup, Vietnamese, Restaurant</td>\n",
       "      <td>POINT (-81.66333 41.51216)</td>\n",
       "    </tr>\n",
       "    <tr>\n",
       "      <th>13</th>\n",
       "      <td>tLpkSwdtqqoXwU0JAGnApw</td>\n",
       "      <td>Wendy's</td>\n",
       "      <td>4602 Northfield Road</td>\n",
       "      <td>Cleveland</td>\n",
       "      <td>OH</td>\n",
       "      <td>44128</td>\n",
       "      <td>41.434614</td>\n",
       "      <td>-81.527026</td>\n",
       "      <td>7</td>\n",
       "      <td>1</td>\n",
       "      <td>3.0</td>\n",
       "      <td>Restaurants, FastFood, Burgers</td>\n",
       "      <td>Burgers, FastFood</td>\n",
       "      <td>Undefined</td>\n",
       "      <td>Restaurant</td>\n",
       "      <td>Burgers, FastFood,  Restaurant</td>\n",
       "      <td>POINT (-81.52703 41.43461)</td>\n",
       "    </tr>\n",
       "    <tr>\n",
       "      <th>15</th>\n",
       "      <td>lK-wuiq8b1TuU7bfbQZgsg</td>\n",
       "      <td>Hingetown</td>\n",
       "      <td></td>\n",
       "      <td>Cleveland</td>\n",
       "      <td>OH</td>\n",
       "      <td>44113</td>\n",
       "      <td>41.489343</td>\n",
       "      <td>-81.711029</td>\n",
       "      <td>4</td>\n",
       "      <td>1</td>\n",
       "      <td>5.0</td>\n",
       "      <td>ShoppingCenters, Food, Coffee&amp;Tea, Cafes, Muse...</td>\n",
       "      <td>Undefined</td>\n",
       "      <td>Undefined</td>\n",
       "      <td>Coffee&amp;Tea, Cafes</td>\n",
       "      <td>Coffee&amp;Tea, Cafes</td>\n",
       "      <td>POINT (-81.71103 41.48934)</td>\n",
       "    </tr>\n",
       "    <tr>\n",
       "      <th>18</th>\n",
       "      <td>LAoSegVNU4wx4GTA8reB6A</td>\n",
       "      <td>Tzikii Food Truck</td>\n",
       "      <td>7510 S Priest Dr</td>\n",
       "      <td>Tempe</td>\n",
       "      <td>AZ</td>\n",
       "      <td>85283</td>\n",
       "      <td>33.350104</td>\n",
       "      <td>-111.963660</td>\n",
       "      <td>4</td>\n",
       "      <td>1</td>\n",
       "      <td>3.0</td>\n",
       "      <td>Restaurants, Egyptian, FoodTrucks, Food, Middl...</td>\n",
       "      <td>Undefined</td>\n",
       "      <td>MiddleEastern, Egyptian</td>\n",
       "      <td>FoodTrucks</td>\n",
       "      <td>MiddleEastern, Egyptian, FoodTrucks</td>\n",
       "      <td>POINT (-111.96366 33.35010)</td>\n",
       "    </tr>\n",
       "    <tr>\n",
       "      <th>...</th>\n",
       "      <td>...</td>\n",
       "      <td>...</td>\n",
       "      <td>...</td>\n",
       "      <td>...</td>\n",
       "      <td>...</td>\n",
       "      <td>...</td>\n",
       "      <td>...</td>\n",
       "      <td>...</td>\n",
       "      <td>...</td>\n",
       "      <td>...</td>\n",
       "      <td>...</td>\n",
       "      <td>...</td>\n",
       "      <td>...</td>\n",
       "      <td>...</td>\n",
       "      <td>...</td>\n",
       "      <td>...</td>\n",
       "      <td>...</td>\n",
       "    </tr>\n",
       "    <tr>\n",
       "      <th>65588</th>\n",
       "      <td>8dK-8e006F_it5bNxTVlaQ</td>\n",
       "      <td>Famous Dave's Bar-B-Que</td>\n",
       "      <td>26410 Great Northern Shopping Ctr</td>\n",
       "      <td>North Olmsted</td>\n",
       "      <td>OH</td>\n",
       "      <td>44070</td>\n",
       "      <td>41.418407</td>\n",
       "      <td>-81.915597</td>\n",
       "      <td>120</td>\n",
       "      <td>1</td>\n",
       "      <td>4.0</td>\n",
       "      <td>Restaurants, Barbeque, ComfortFood, Salad, Eve...</td>\n",
       "      <td>Burgers, ComfortFood, Salad, Sandwiches</td>\n",
       "      <td>American(Traditional), Barbeque</td>\n",
       "      <td>Restaurant</td>\n",
       "      <td>Burgers, ComfortFood, Salad, Sandwiches, Ameri...</td>\n",
       "      <td>POINT (-81.91560 41.41841)</td>\n",
       "    </tr>\n",
       "    <tr>\n",
       "      <th>65596</th>\n",
       "      <td>_bvc2j6E8mk_ZiMoh2iMuQ</td>\n",
       "      <td>Sonic Drive-In</td>\n",
       "      <td>6501 W Glendale Ave</td>\n",
       "      <td>Glendale</td>\n",
       "      <td>AZ</td>\n",
       "      <td>85301</td>\n",
       "      <td>33.537861</td>\n",
       "      <td>-112.199338</td>\n",
       "      <td>13</td>\n",
       "      <td>1</td>\n",
       "      <td>2.0</td>\n",
       "      <td>IceCream&amp;FrozenYogurt, Burgers, Restaurants, F...</td>\n",
       "      <td>IceCream&amp;FrozenYogurt, Burgers, FastFood</td>\n",
       "      <td>American(Traditional)</td>\n",
       "      <td>Restaurant</td>\n",
       "      <td>IceCream&amp;FrozenYogurt, Burgers, FastFood, Amer...</td>\n",
       "      <td>POINT (-112.19934 33.53786)</td>\n",
       "    </tr>\n",
       "    <tr>\n",
       "      <th>65600</th>\n",
       "      <td>cmsAFAymfVoBitSF8R6GKw</td>\n",
       "      <td>Yao Fine Chinese Cuisine</td>\n",
       "      <td>2487 S Gilbert Rd, Ste 102</td>\n",
       "      <td>Gilbert</td>\n",
       "      <td>AZ</td>\n",
       "      <td>85295</td>\n",
       "      <td>33.304935</td>\n",
       "      <td>-111.788861</td>\n",
       "      <td>230</td>\n",
       "      <td>1</td>\n",
       "      <td>4.0</td>\n",
       "      <td>Chinese, Restaurants</td>\n",
       "      <td>Undefined</td>\n",
       "      <td>Chinese</td>\n",
       "      <td>Restaurant</td>\n",
       "      <td>Chinese, Restaurant</td>\n",
       "      <td>POINT (-111.78886 33.30494)</td>\n",
       "    </tr>\n",
       "    <tr>\n",
       "      <th>65602</th>\n",
       "      <td>YZeUH6zYS0dq5QHLYZhUnQ</td>\n",
       "      <td>Hooters</td>\n",
       "      <td>2820 N 75th Ave</td>\n",
       "      <td>Phoenix</td>\n",
       "      <td>AZ</td>\n",
       "      <td>85035</td>\n",
       "      <td>33.479139</td>\n",
       "      <td>-112.221142</td>\n",
       "      <td>106</td>\n",
       "      <td>1</td>\n",
       "      <td>2.0</td>\n",
       "      <td>Nightlife, American(Traditional), ChickenWings...</td>\n",
       "      <td>ChickenWings</td>\n",
       "      <td>American(Traditional)</td>\n",
       "      <td>Restaurant</td>\n",
       "      <td>ChickenWings, American(Traditional), Restaurant</td>\n",
       "      <td>POINT (-112.22114 33.47914)</td>\n",
       "    </tr>\n",
       "    <tr>\n",
       "      <th>65605</th>\n",
       "      <td>SYa2j1boLF8DcGVOYfHPcA</td>\n",
       "      <td>Five Guys</td>\n",
       "      <td>7014-590 E Camelback Rd</td>\n",
       "      <td>Scottsdale</td>\n",
       "      <td>AZ</td>\n",
       "      <td>85251</td>\n",
       "      <td>33.504062</td>\n",
       "      <td>-111.929431</td>\n",
       "      <td>97</td>\n",
       "      <td>1</td>\n",
       "      <td>4.0</td>\n",
       "      <td>American(New), Food, Burgers, Restaurants, Fas...</td>\n",
       "      <td>Burgers, FastFood</td>\n",
       "      <td>American(New)</td>\n",
       "      <td>Restaurant</td>\n",
       "      <td>Burgers, FastFood, American(New), Restaurant</td>\n",
       "      <td>POINT (-111.92943 33.50406)</td>\n",
       "    </tr>\n",
       "  </tbody>\n",
       "</table>\n",
       "<p>12927 rows × 17 columns</p>\n",
       "</div>"
      ],
      "text/plain": [
       "                  business_id                             name  \\\n",
       "9      vjTVxnsQEZ34XjYNS-XUpA                Wetzel's Pretzels   \n",
       "12     98hyK2QEUeI8v2y0AghfZA  Pho Lee's Vietnamese Restaurant   \n",
       "13     tLpkSwdtqqoXwU0JAGnApw                          Wendy's   \n",
       "15     lK-wuiq8b1TuU7bfbQZgsg                        Hingetown   \n",
       "18     LAoSegVNU4wx4GTA8reB6A                Tzikii Food Truck   \n",
       "...                       ...                              ...   \n",
       "65588  8dK-8e006F_it5bNxTVlaQ          Famous Dave's Bar-B-Que   \n",
       "65596  _bvc2j6E8mk_ZiMoh2iMuQ                   Sonic Drive-In   \n",
       "65600  cmsAFAymfVoBitSF8R6GKw         Yao Fine Chinese Cuisine   \n",
       "65602  YZeUH6zYS0dq5QHLYZhUnQ                          Hooters   \n",
       "65605  SYa2j1boLF8DcGVOYfHPcA                        Five Guys   \n",
       "\n",
       "                                 address           city state postal_code  \\\n",
       "9           4550 East Cactus Rd, #KSFC-4        Phoenix    AZ       85032   \n",
       "12               1541 E 38th St, Ste 101      Cleveland    OH       44114   \n",
       "13                  4602 Northfield Road      Cleveland    OH       44128   \n",
       "15                                            Cleveland    OH       44113   \n",
       "18                      7510 S Priest Dr          Tempe    AZ       85283   \n",
       "...                                  ...            ...   ...         ...   \n",
       "65588  26410 Great Northern Shopping Ctr  North Olmsted    OH       44070   \n",
       "65596                6501 W Glendale Ave       Glendale    AZ       85301   \n",
       "65600         2487 S Gilbert Rd, Ste 102        Gilbert    AZ       85295   \n",
       "65602                    2820 N 75th Ave        Phoenix    AZ       85035   \n",
       "65605            7014-590 E Camelback Rd     Scottsdale    AZ       85251   \n",
       "\n",
       "        latitude   longitude  review_count  is_open  stars_avg  \\\n",
       "9      33.602822 -111.983533            10        1        3.0   \n",
       "12     41.512155  -81.663332            23        1        4.0   \n",
       "13     41.434614  -81.527026             7        1        3.0   \n",
       "15     41.489343  -81.711029             4        1        5.0   \n",
       "18     33.350104 -111.963660             4        1        3.0   \n",
       "...          ...         ...           ...      ...        ...   \n",
       "65588  41.418407  -81.915597           120        1        4.0   \n",
       "65596  33.537861 -112.199338            13        1        2.0   \n",
       "65600  33.304935 -111.788861           230        1        4.0   \n",
       "65602  33.479139 -112.221142           106        1        2.0   \n",
       "65605  33.504062 -111.929431            97        1        4.0   \n",
       "\n",
       "                                        categories_fixed  \\\n",
       "9        Food, Pretzels, Bakeries, FastFood, Restaurants   \n",
       "12                         Restaurants, Vietnamese, Soup   \n",
       "13                        Restaurants, FastFood, Burgers   \n",
       "15     ShoppingCenters, Food, Coffee&Tea, Cafes, Muse...   \n",
       "18     Restaurants, Egyptian, FoodTrucks, Food, Middl...   \n",
       "...                                                  ...   \n",
       "65588  Restaurants, Barbeque, ComfortFood, Salad, Eve...   \n",
       "65596  IceCream&FrozenYogurt, Burgers, Restaurants, F...   \n",
       "65600                               Chinese, Restaurants   \n",
       "65602  Nightlife, American(Traditional), ChickenWings...   \n",
       "65605  American(New), Food, Burgers, Restaurants, Fas...   \n",
       "\n",
       "                                      food_type  \\\n",
       "9                  Bakeries, Pretzels, FastFood   \n",
       "12                                         Soup   \n",
       "13                            Burgers, FastFood   \n",
       "15                                    Undefined   \n",
       "18                                    Undefined   \n",
       "...                                         ...   \n",
       "65588   Burgers, ComfortFood, Salad, Sandwiches   \n",
       "65596  IceCream&FrozenYogurt, Burgers, FastFood   \n",
       "65600                                 Undefined   \n",
       "65602                              ChickenWings   \n",
       "65605                         Burgers, FastFood   \n",
       "\n",
       "                             ethnicity              venue  \\\n",
       "9                            Undefined         Restaurant   \n",
       "12                          Vietnamese         Restaurant   \n",
       "13                           Undefined         Restaurant   \n",
       "15                           Undefined  Coffee&Tea, Cafes   \n",
       "18             MiddleEastern, Egyptian         FoodTrucks   \n",
       "...                                ...                ...   \n",
       "65588  American(Traditional), Barbeque         Restaurant   \n",
       "65596            American(Traditional)         Restaurant   \n",
       "65600                          Chinese         Restaurant   \n",
       "65602            American(Traditional)         Restaurant   \n",
       "65605                    American(New)         Restaurant   \n",
       "\n",
       "                                               food_comb  \\\n",
       "9              Bakeries, Pretzels, FastFood,  Restaurant   \n",
       "12                          Soup, Vietnamese, Restaurant   \n",
       "13                        Burgers, FastFood,  Restaurant   \n",
       "15                                     Coffee&Tea, Cafes   \n",
       "18                   MiddleEastern, Egyptian, FoodTrucks   \n",
       "...                                                  ...   \n",
       "65588  Burgers, ComfortFood, Salad, Sandwiches, Ameri...   \n",
       "65596  IceCream&FrozenYogurt, Burgers, FastFood, Amer...   \n",
       "65600                                Chinese, Restaurant   \n",
       "65602    ChickenWings, American(Traditional), Restaurant   \n",
       "65605       Burgers, FastFood, American(New), Restaurant   \n",
       "\n",
       "                          geometry  \n",
       "9      POINT (-111.98353 33.60282)  \n",
       "12      POINT (-81.66333 41.51216)  \n",
       "13      POINT (-81.52703 41.43461)  \n",
       "15      POINT (-81.71103 41.48934)  \n",
       "18     POINT (-111.96366 33.35010)  \n",
       "...                            ...  \n",
       "65588   POINT (-81.91560 41.41841)  \n",
       "65596  POINT (-112.19934 33.53786)  \n",
       "65600  POINT (-111.78886 33.30494)  \n",
       "65602  POINT (-112.22114 33.47914)  \n",
       "65605  POINT (-111.92943 33.50406)  \n",
       "\n",
       "[12927 rows x 17 columns]"
      ]
     },
     "execution_count": 87,
     "metadata": {},
     "output_type": "execute_result"
    }
   ],
   "source": [
    "df_comp[df_comp['state'].isin(['OH', 'PA', 'NV', 'AZ', 'NC', 'WI', 'IL'])==True]"
   ]
  },
  {
   "cell_type": "code",
   "execution_count": 88,
   "metadata": {},
   "outputs": [],
   "source": [
    "#df_comp_3yrs = df_comp[(df_comp['year'].isin([2019, 2018, 2017])) & (df_comp['state'].isin(['ON','AB', 'QC', 'MB'])==False)]\n"
   ]
  },
  {
   "cell_type": "code",
   "execution_count": 89,
   "metadata": {},
   "outputs": [],
   "source": [
    "census = pd.read_csv('/Users/robholmstrom/Downloads/zipcode2017/17zpallagi.csv')\n",
    "census = census.loc[census['zipcode']>0]\n",
    "census.rename(columns={'zipcode':'postal_code'}, inplace = True)\n",
    "census.postal_code= census.postal_code.astype('str').str.strip()\n"
   ]
  },
  {
   "cell_type": "code",
   "execution_count": 90,
   "metadata": {},
   "outputs": [
    {
     "data": {
      "text/html": [
       "<div>\n",
       "<style scoped>\n",
       "    .dataframe tbody tr th:only-of-type {\n",
       "        vertical-align: middle;\n",
       "    }\n",
       "\n",
       "    .dataframe tbody tr th {\n",
       "        vertical-align: top;\n",
       "    }\n",
       "\n",
       "    .dataframe thead th {\n",
       "        text-align: right;\n",
       "    }\n",
       "</style>\n",
       "<table border=\"1\" class=\"dataframe\">\n",
       "  <thead>\n",
       "    <tr style=\"text-align: right;\">\n",
       "      <th></th>\n",
       "      <th>STATEFIPS</th>\n",
       "      <th>STATE</th>\n",
       "      <th>postal_code</th>\n",
       "      <th>agi_stub</th>\n",
       "      <th>N1</th>\n",
       "      <th>mars1</th>\n",
       "      <th>MARS2</th>\n",
       "      <th>MARS4</th>\n",
       "      <th>ELF</th>\n",
       "      <th>CPREP</th>\n",
       "      <th>...</th>\n",
       "      <th>N85300</th>\n",
       "      <th>A85300</th>\n",
       "      <th>N11901</th>\n",
       "      <th>A11901</th>\n",
       "      <th>N11900</th>\n",
       "      <th>A11900</th>\n",
       "      <th>N11902</th>\n",
       "      <th>A11902</th>\n",
       "      <th>N12000</th>\n",
       "      <th>A12000</th>\n",
       "    </tr>\n",
       "  </thead>\n",
       "  <tbody>\n",
       "    <tr>\n",
       "      <th>6</th>\n",
       "      <td>1</td>\n",
       "      <td>AL</td>\n",
       "      <td>35004</td>\n",
       "      <td>1</td>\n",
       "      <td>1500.0</td>\n",
       "      <td>970.0</td>\n",
       "      <td>220.0</td>\n",
       "      <td>290.0</td>\n",
       "      <td>1340.0</td>\n",
       "      <td>80.0</td>\n",
       "      <td>...</td>\n",
       "      <td>0.0</td>\n",
       "      <td>0.0</td>\n",
       "      <td>120.0</td>\n",
       "      <td>126.0</td>\n",
       "      <td>1300.0</td>\n",
       "      <td>2800.0</td>\n",
       "      <td>1290.0</td>\n",
       "      <td>2768.0</td>\n",
       "      <td>0.0</td>\n",
       "      <td>0.0</td>\n",
       "    </tr>\n",
       "    <tr>\n",
       "      <th>7</th>\n",
       "      <td>1</td>\n",
       "      <td>AL</td>\n",
       "      <td>35004</td>\n",
       "      <td>2</td>\n",
       "      <td>1340.0</td>\n",
       "      <td>670.0</td>\n",
       "      <td>350.0</td>\n",
       "      <td>280.0</td>\n",
       "      <td>1210.0</td>\n",
       "      <td>80.0</td>\n",
       "      <td>...</td>\n",
       "      <td>0.0</td>\n",
       "      <td>0.0</td>\n",
       "      <td>210.0</td>\n",
       "      <td>266.0</td>\n",
       "      <td>1130.0</td>\n",
       "      <td>2892.0</td>\n",
       "      <td>1120.0</td>\n",
       "      <td>2880.0</td>\n",
       "      <td>0.0</td>\n",
       "      <td>0.0</td>\n",
       "    </tr>\n",
       "    <tr>\n",
       "      <th>8</th>\n",
       "      <td>1</td>\n",
       "      <td>AL</td>\n",
       "      <td>35004</td>\n",
       "      <td>3</td>\n",
       "      <td>920.0</td>\n",
       "      <td>330.0</td>\n",
       "      <td>430.0</td>\n",
       "      <td>140.0</td>\n",
       "      <td>850.0</td>\n",
       "      <td>40.0</td>\n",
       "      <td>...</td>\n",
       "      <td>0.0</td>\n",
       "      <td>0.0</td>\n",
       "      <td>190.0</td>\n",
       "      <td>377.0</td>\n",
       "      <td>730.0</td>\n",
       "      <td>2012.0</td>\n",
       "      <td>720.0</td>\n",
       "      <td>1985.0</td>\n",
       "      <td>40.0</td>\n",
       "      <td>46.0</td>\n",
       "    </tr>\n",
       "    <tr>\n",
       "      <th>9</th>\n",
       "      <td>1</td>\n",
       "      <td>AL</td>\n",
       "      <td>35004</td>\n",
       "      <td>4</td>\n",
       "      <td>650.0</td>\n",
       "      <td>110.0</td>\n",
       "      <td>480.0</td>\n",
       "      <td>50.0</td>\n",
       "      <td>600.0</td>\n",
       "      <td>30.0</td>\n",
       "      <td>...</td>\n",
       "      <td>0.0</td>\n",
       "      <td>0.0</td>\n",
       "      <td>160.0</td>\n",
       "      <td>402.0</td>\n",
       "      <td>490.0</td>\n",
       "      <td>1480.0</td>\n",
       "      <td>480.0</td>\n",
       "      <td>1471.0</td>\n",
       "      <td>0.0</td>\n",
       "      <td>0.0</td>\n",
       "    </tr>\n",
       "    <tr>\n",
       "      <th>10</th>\n",
       "      <td>1</td>\n",
       "      <td>AL</td>\n",
       "      <td>35004</td>\n",
       "      <td>5</td>\n",
       "      <td>650.0</td>\n",
       "      <td>60.0</td>\n",
       "      <td>570.0</td>\n",
       "      <td>20.0</td>\n",
       "      <td>600.0</td>\n",
       "      <td>40.0</td>\n",
       "      <td>...</td>\n",
       "      <td>0.0</td>\n",
       "      <td>0.0</td>\n",
       "      <td>250.0</td>\n",
       "      <td>950.0</td>\n",
       "      <td>410.0</td>\n",
       "      <td>1514.0</td>\n",
       "      <td>410.0</td>\n",
       "      <td>1602.0</td>\n",
       "      <td>30.0</td>\n",
       "      <td>262.0</td>\n",
       "    </tr>\n",
       "    <tr>\n",
       "      <th>...</th>\n",
       "      <td>...</td>\n",
       "      <td>...</td>\n",
       "      <td>...</td>\n",
       "      <td>...</td>\n",
       "      <td>...</td>\n",
       "      <td>...</td>\n",
       "      <td>...</td>\n",
       "      <td>...</td>\n",
       "      <td>...</td>\n",
       "      <td>...</td>\n",
       "      <td>...</td>\n",
       "      <td>...</td>\n",
       "      <td>...</td>\n",
       "      <td>...</td>\n",
       "      <td>...</td>\n",
       "      <td>...</td>\n",
       "      <td>...</td>\n",
       "      <td>...</td>\n",
       "      <td>...</td>\n",
       "      <td>...</td>\n",
       "      <td>...</td>\n",
       "    </tr>\n",
       "    <tr>\n",
       "      <th>166532</th>\n",
       "      <td>56</td>\n",
       "      <td>WY</td>\n",
       "      <td>99999</td>\n",
       "      <td>2</td>\n",
       "      <td>3630.0</td>\n",
       "      <td>2040.0</td>\n",
       "      <td>1030.0</td>\n",
       "      <td>440.0</td>\n",
       "      <td>3240.0</td>\n",
       "      <td>160.0</td>\n",
       "      <td>...</td>\n",
       "      <td>0.0</td>\n",
       "      <td>0.0</td>\n",
       "      <td>550.0</td>\n",
       "      <td>889.0</td>\n",
       "      <td>2960.0</td>\n",
       "      <td>7332.0</td>\n",
       "      <td>2890.0</td>\n",
       "      <td>7127.0</td>\n",
       "      <td>60.0</td>\n",
       "      <td>70.0</td>\n",
       "    </tr>\n",
       "    <tr>\n",
       "      <th>166533</th>\n",
       "      <td>56</td>\n",
       "      <td>WY</td>\n",
       "      <td>99999</td>\n",
       "      <td>3</td>\n",
       "      <td>2470.0</td>\n",
       "      <td>1020.0</td>\n",
       "      <td>1220.0</td>\n",
       "      <td>200.0</td>\n",
       "      <td>2230.0</td>\n",
       "      <td>120.0</td>\n",
       "      <td>...</td>\n",
       "      <td>0.0</td>\n",
       "      <td>0.0</td>\n",
       "      <td>570.0</td>\n",
       "      <td>1258.0</td>\n",
       "      <td>1810.0</td>\n",
       "      <td>5299.0</td>\n",
       "      <td>1740.0</td>\n",
       "      <td>5020.0</td>\n",
       "      <td>70.0</td>\n",
       "      <td>164.0</td>\n",
       "    </tr>\n",
       "    <tr>\n",
       "      <th>166534</th>\n",
       "      <td>56</td>\n",
       "      <td>WY</td>\n",
       "      <td>99999</td>\n",
       "      <td>4</td>\n",
       "      <td>1820.0</td>\n",
       "      <td>520.0</td>\n",
       "      <td>1200.0</td>\n",
       "      <td>100.0</td>\n",
       "      <td>1680.0</td>\n",
       "      <td>80.0</td>\n",
       "      <td>...</td>\n",
       "      <td>0.0</td>\n",
       "      <td>0.0</td>\n",
       "      <td>440.0</td>\n",
       "      <td>1644.0</td>\n",
       "      <td>1300.0</td>\n",
       "      <td>4643.0</td>\n",
       "      <td>1250.0</td>\n",
       "      <td>4069.0</td>\n",
       "      <td>50.0</td>\n",
       "      <td>197.0</td>\n",
       "    </tr>\n",
       "    <tr>\n",
       "      <th>166535</th>\n",
       "      <td>56</td>\n",
       "      <td>WY</td>\n",
       "      <td>99999</td>\n",
       "      <td>5</td>\n",
       "      <td>2480.0</td>\n",
       "      <td>390.0</td>\n",
       "      <td>2020.0</td>\n",
       "      <td>80.0</td>\n",
       "      <td>2290.0</td>\n",
       "      <td>130.0</td>\n",
       "      <td>...</td>\n",
       "      <td>0.0</td>\n",
       "      <td>0.0</td>\n",
       "      <td>820.0</td>\n",
       "      <td>4527.0</td>\n",
       "      <td>1570.0</td>\n",
       "      <td>7633.0</td>\n",
       "      <td>1410.0</td>\n",
       "      <td>6069.0</td>\n",
       "      <td>170.0</td>\n",
       "      <td>1189.0</td>\n",
       "    </tr>\n",
       "    <tr>\n",
       "      <th>166536</th>\n",
       "      <td>56</td>\n",
       "      <td>WY</td>\n",
       "      <td>99999</td>\n",
       "      <td>6</td>\n",
       "      <td>700.0</td>\n",
       "      <td>130.0</td>\n",
       "      <td>600.0</td>\n",
       "      <td>0.0</td>\n",
       "      <td>680.0</td>\n",
       "      <td>60.0</td>\n",
       "      <td>...</td>\n",
       "      <td>450.0</td>\n",
       "      <td>4298.0</td>\n",
       "      <td>330.0</td>\n",
       "      <td>13882.0</td>\n",
       "      <td>320.0</td>\n",
       "      <td>23131.0</td>\n",
       "      <td>140.0</td>\n",
       "      <td>1672.0</td>\n",
       "      <td>190.0</td>\n",
       "      <td>19241.0</td>\n",
       "    </tr>\n",
       "  </tbody>\n",
       "</table>\n",
       "<p>166231 rows × 153 columns</p>\n",
       "</div>"
      ],
      "text/plain": [
       "        STATEFIPS STATE postal_code  agi_stub      N1   mars1   MARS2  MARS4  \\\n",
       "6               1    AL       35004         1  1500.0   970.0   220.0  290.0   \n",
       "7               1    AL       35004         2  1340.0   670.0   350.0  280.0   \n",
       "8               1    AL       35004         3   920.0   330.0   430.0  140.0   \n",
       "9               1    AL       35004         4   650.0   110.0   480.0   50.0   \n",
       "10              1    AL       35004         5   650.0    60.0   570.0   20.0   \n",
       "...           ...   ...         ...       ...     ...     ...     ...    ...   \n",
       "166532         56    WY       99999         2  3630.0  2040.0  1030.0  440.0   \n",
       "166533         56    WY       99999         3  2470.0  1020.0  1220.0  200.0   \n",
       "166534         56    WY       99999         4  1820.0   520.0  1200.0  100.0   \n",
       "166535         56    WY       99999         5  2480.0   390.0  2020.0   80.0   \n",
       "166536         56    WY       99999         6   700.0   130.0   600.0    0.0   \n",
       "\n",
       "           ELF  CPREP  ...  N85300  A85300  N11901   A11901  N11900   A11900  \\\n",
       "6       1340.0   80.0  ...     0.0     0.0   120.0    126.0  1300.0   2800.0   \n",
       "7       1210.0   80.0  ...     0.0     0.0   210.0    266.0  1130.0   2892.0   \n",
       "8        850.0   40.0  ...     0.0     0.0   190.0    377.0   730.0   2012.0   \n",
       "9        600.0   30.0  ...     0.0     0.0   160.0    402.0   490.0   1480.0   \n",
       "10       600.0   40.0  ...     0.0     0.0   250.0    950.0   410.0   1514.0   \n",
       "...        ...    ...  ...     ...     ...     ...      ...     ...      ...   \n",
       "166532  3240.0  160.0  ...     0.0     0.0   550.0    889.0  2960.0   7332.0   \n",
       "166533  2230.0  120.0  ...     0.0     0.0   570.0   1258.0  1810.0   5299.0   \n",
       "166534  1680.0   80.0  ...     0.0     0.0   440.0   1644.0  1300.0   4643.0   \n",
       "166535  2290.0  130.0  ...     0.0     0.0   820.0   4527.0  1570.0   7633.0   \n",
       "166536   680.0   60.0  ...   450.0  4298.0   330.0  13882.0   320.0  23131.0   \n",
       "\n",
       "        N11902  A11902  N12000   A12000  \n",
       "6       1290.0  2768.0     0.0      0.0  \n",
       "7       1120.0  2880.0     0.0      0.0  \n",
       "8        720.0  1985.0    40.0     46.0  \n",
       "9        480.0  1471.0     0.0      0.0  \n",
       "10       410.0  1602.0    30.0    262.0  \n",
       "...        ...     ...     ...      ...  \n",
       "166532  2890.0  7127.0    60.0     70.0  \n",
       "166533  1740.0  5020.0    70.0    164.0  \n",
       "166534  1250.0  4069.0    50.0    197.0  \n",
       "166535  1410.0  6069.0   170.0   1189.0  \n",
       "166536   140.0  1672.0   190.0  19241.0  \n",
       "\n",
       "[166231 rows x 153 columns]"
      ]
     },
     "execution_count": 90,
     "metadata": {},
     "output_type": "execute_result"
    }
   ],
   "source": [
    "census"
   ]
  },
  {
   "cell_type": "code",
   "execution_count": 91,
   "metadata": {},
   "outputs": [],
   "source": [
    "census['weighted_stub'] = census['agi_stub']*census['N1']\n",
    "test_num = census['N1'].head(6)\n",
    "test_stub = census['weighted_stub'].head(6)"
   ]
  },
  {
   "cell_type": "code",
   "execution_count": 92,
   "metadata": {},
   "outputs": [
    {
     "data": {
      "text/html": [
       "<div>\n",
       "<style scoped>\n",
       "    .dataframe tbody tr th:only-of-type {\n",
       "        vertical-align: middle;\n",
       "    }\n",
       "\n",
       "    .dataframe tbody tr th {\n",
       "        vertical-align: top;\n",
       "    }\n",
       "\n",
       "    .dataframe thead th {\n",
       "        text-align: right;\n",
       "    }\n",
       "</style>\n",
       "<table border=\"1\" class=\"dataframe\">\n",
       "  <thead>\n",
       "    <tr style=\"text-align: right;\">\n",
       "      <th></th>\n",
       "      <th>STATEFIPS</th>\n",
       "      <th>STATE</th>\n",
       "      <th>postal_code</th>\n",
       "      <th>agi_stub</th>\n",
       "      <th>N1</th>\n",
       "      <th>mars1</th>\n",
       "      <th>MARS2</th>\n",
       "      <th>MARS4</th>\n",
       "      <th>ELF</th>\n",
       "      <th>CPREP</th>\n",
       "      <th>...</th>\n",
       "      <th>A85300</th>\n",
       "      <th>N11901</th>\n",
       "      <th>A11901</th>\n",
       "      <th>N11900</th>\n",
       "      <th>A11900</th>\n",
       "      <th>N11902</th>\n",
       "      <th>A11902</th>\n",
       "      <th>N12000</th>\n",
       "      <th>A12000</th>\n",
       "      <th>weighted_stub</th>\n",
       "    </tr>\n",
       "  </thead>\n",
       "  <tbody>\n",
       "    <tr>\n",
       "      <th>6</th>\n",
       "      <td>1</td>\n",
       "      <td>AL</td>\n",
       "      <td>35004</td>\n",
       "      <td>1</td>\n",
       "      <td>1500.0</td>\n",
       "      <td>970.0</td>\n",
       "      <td>220.0</td>\n",
       "      <td>290.0</td>\n",
       "      <td>1340.0</td>\n",
       "      <td>80.0</td>\n",
       "      <td>...</td>\n",
       "      <td>0.0</td>\n",
       "      <td>120.0</td>\n",
       "      <td>126.0</td>\n",
       "      <td>1300.0</td>\n",
       "      <td>2800.0</td>\n",
       "      <td>1290.0</td>\n",
       "      <td>2768.0</td>\n",
       "      <td>0.0</td>\n",
       "      <td>0.0</td>\n",
       "      <td>1500.0</td>\n",
       "    </tr>\n",
       "    <tr>\n",
       "      <th>7</th>\n",
       "      <td>1</td>\n",
       "      <td>AL</td>\n",
       "      <td>35004</td>\n",
       "      <td>2</td>\n",
       "      <td>1340.0</td>\n",
       "      <td>670.0</td>\n",
       "      <td>350.0</td>\n",
       "      <td>280.0</td>\n",
       "      <td>1210.0</td>\n",
       "      <td>80.0</td>\n",
       "      <td>...</td>\n",
       "      <td>0.0</td>\n",
       "      <td>210.0</td>\n",
       "      <td>266.0</td>\n",
       "      <td>1130.0</td>\n",
       "      <td>2892.0</td>\n",
       "      <td>1120.0</td>\n",
       "      <td>2880.0</td>\n",
       "      <td>0.0</td>\n",
       "      <td>0.0</td>\n",
       "      <td>2680.0</td>\n",
       "    </tr>\n",
       "    <tr>\n",
       "      <th>8</th>\n",
       "      <td>1</td>\n",
       "      <td>AL</td>\n",
       "      <td>35004</td>\n",
       "      <td>3</td>\n",
       "      <td>920.0</td>\n",
       "      <td>330.0</td>\n",
       "      <td>430.0</td>\n",
       "      <td>140.0</td>\n",
       "      <td>850.0</td>\n",
       "      <td>40.0</td>\n",
       "      <td>...</td>\n",
       "      <td>0.0</td>\n",
       "      <td>190.0</td>\n",
       "      <td>377.0</td>\n",
       "      <td>730.0</td>\n",
       "      <td>2012.0</td>\n",
       "      <td>720.0</td>\n",
       "      <td>1985.0</td>\n",
       "      <td>40.0</td>\n",
       "      <td>46.0</td>\n",
       "      <td>2760.0</td>\n",
       "    </tr>\n",
       "    <tr>\n",
       "      <th>9</th>\n",
       "      <td>1</td>\n",
       "      <td>AL</td>\n",
       "      <td>35004</td>\n",
       "      <td>4</td>\n",
       "      <td>650.0</td>\n",
       "      <td>110.0</td>\n",
       "      <td>480.0</td>\n",
       "      <td>50.0</td>\n",
       "      <td>600.0</td>\n",
       "      <td>30.0</td>\n",
       "      <td>...</td>\n",
       "      <td>0.0</td>\n",
       "      <td>160.0</td>\n",
       "      <td>402.0</td>\n",
       "      <td>490.0</td>\n",
       "      <td>1480.0</td>\n",
       "      <td>480.0</td>\n",
       "      <td>1471.0</td>\n",
       "      <td>0.0</td>\n",
       "      <td>0.0</td>\n",
       "      <td>2600.0</td>\n",
       "    </tr>\n",
       "    <tr>\n",
       "      <th>10</th>\n",
       "      <td>1</td>\n",
       "      <td>AL</td>\n",
       "      <td>35004</td>\n",
       "      <td>5</td>\n",
       "      <td>650.0</td>\n",
       "      <td>60.0</td>\n",
       "      <td>570.0</td>\n",
       "      <td>20.0</td>\n",
       "      <td>600.0</td>\n",
       "      <td>40.0</td>\n",
       "      <td>...</td>\n",
       "      <td>0.0</td>\n",
       "      <td>250.0</td>\n",
       "      <td>950.0</td>\n",
       "      <td>410.0</td>\n",
       "      <td>1514.0</td>\n",
       "      <td>410.0</td>\n",
       "      <td>1602.0</td>\n",
       "      <td>30.0</td>\n",
       "      <td>262.0</td>\n",
       "      <td>3250.0</td>\n",
       "    </tr>\n",
       "    <tr>\n",
       "      <th>11</th>\n",
       "      <td>1</td>\n",
       "      <td>AL</td>\n",
       "      <td>35004</td>\n",
       "      <td>6</td>\n",
       "      <td>70.0</td>\n",
       "      <td>0.0</td>\n",
       "      <td>70.0</td>\n",
       "      <td>0.0</td>\n",
       "      <td>60.0</td>\n",
       "      <td>0.0</td>\n",
       "      <td>...</td>\n",
       "      <td>32.0</td>\n",
       "      <td>40.0</td>\n",
       "      <td>572.0</td>\n",
       "      <td>30.0</td>\n",
       "      <td>350.0</td>\n",
       "      <td>0.0</td>\n",
       "      <td>0.0</td>\n",
       "      <td>0.0</td>\n",
       "      <td>0.0</td>\n",
       "      <td>420.0</td>\n",
       "    </tr>\n",
       "  </tbody>\n",
       "</table>\n",
       "<p>6 rows × 154 columns</p>\n",
       "</div>"
      ],
      "text/plain": [
       "    STATEFIPS STATE postal_code  agi_stub      N1  mars1  MARS2  MARS4  \\\n",
       "6           1    AL       35004         1  1500.0  970.0  220.0  290.0   \n",
       "7           1    AL       35004         2  1340.0  670.0  350.0  280.0   \n",
       "8           1    AL       35004         3   920.0  330.0  430.0  140.0   \n",
       "9           1    AL       35004         4   650.0  110.0  480.0   50.0   \n",
       "10          1    AL       35004         5   650.0   60.0  570.0   20.0   \n",
       "11          1    AL       35004         6    70.0    0.0   70.0    0.0   \n",
       "\n",
       "       ELF  CPREP  ...  A85300  N11901  A11901  N11900  A11900  N11902  \\\n",
       "6   1340.0   80.0  ...     0.0   120.0   126.0  1300.0  2800.0  1290.0   \n",
       "7   1210.0   80.0  ...     0.0   210.0   266.0  1130.0  2892.0  1120.0   \n",
       "8    850.0   40.0  ...     0.0   190.0   377.0   730.0  2012.0   720.0   \n",
       "9    600.0   30.0  ...     0.0   160.0   402.0   490.0  1480.0   480.0   \n",
       "10   600.0   40.0  ...     0.0   250.0   950.0   410.0  1514.0   410.0   \n",
       "11    60.0    0.0  ...    32.0    40.0   572.0    30.0   350.0     0.0   \n",
       "\n",
       "    A11902  N12000  A12000  weighted_stub  \n",
       "6   2768.0     0.0     0.0         1500.0  \n",
       "7   2880.0     0.0     0.0         2680.0  \n",
       "8   1985.0    40.0    46.0         2760.0  \n",
       "9   1471.0     0.0     0.0         2600.0  \n",
       "10  1602.0    30.0   262.0         3250.0  \n",
       "11     0.0     0.0     0.0          420.0  \n",
       "\n",
       "[6 rows x 154 columns]"
      ]
     },
     "execution_count": 92,
     "metadata": {},
     "output_type": "execute_result"
    }
   ],
   "source": [
    "census[census['postal_code'] == '35004']"
   ]
  },
  {
   "cell_type": "code",
   "execution_count": 93,
   "metadata": {},
   "outputs": [
    {
     "data": {
      "text/html": [
       "<div>\n",
       "<style scoped>\n",
       "    .dataframe tbody tr th:only-of-type {\n",
       "        vertical-align: middle;\n",
       "    }\n",
       "\n",
       "    .dataframe tbody tr th {\n",
       "        vertical-align: top;\n",
       "    }\n",
       "\n",
       "    .dataframe thead th {\n",
       "        text-align: right;\n",
       "    }\n",
       "</style>\n",
       "<table border=\"1\" class=\"dataframe\">\n",
       "  <thead>\n",
       "    <tr style=\"text-align: right;\">\n",
       "      <th></th>\n",
       "      <th>postal_code</th>\n",
       "      <th>weighted_stub</th>\n",
       "      <th>N1</th>\n",
       "      <th>agi_mean</th>\n",
       "    </tr>\n",
       "  </thead>\n",
       "  <tbody>\n",
       "    <tr>\n",
       "      <th>8001</th>\n",
       "      <td>35004</td>\n",
       "      <td>13210.0</td>\n",
       "      <td>5130.0</td>\n",
       "      <td>2.575049</td>\n",
       "    </tr>\n",
       "  </tbody>\n",
       "</table>\n",
       "</div>"
      ],
      "text/plain": [
       "     postal_code  weighted_stub      N1  agi_mean\n",
       "8001       35004        13210.0  5130.0  2.575049"
      ]
     },
     "execution_count": 93,
     "metadata": {},
     "output_type": "execute_result"
    }
   ],
   "source": [
    "census_mean = census.groupby('postal_code')[['weighted_stub', 'N1']].sum().reset_index()\n",
    "census_mean['agi_mean'] = census_mean['weighted_stub']/census_mean['N1']\n",
    "census_mean[census_mean['postal_code'] == '35004']"
   ]
  },
  {
   "cell_type": "code",
   "execution_count": 94,
   "metadata": {},
   "outputs": [
    {
     "data": {
      "text/plain": [
       "2.5750487329434697"
      ]
     },
     "execution_count": 94,
     "metadata": {},
     "output_type": "execute_result"
    }
   ],
   "source": [
    "test_stub.sum()/test_num.sum()"
   ]
  },
  {
   "cell_type": "code",
   "execution_count": 95,
   "metadata": {},
   "outputs": [
    {
     "data": {
      "text/html": [
       "<div>\n",
       "<style scoped>\n",
       "    .dataframe tbody tr th:only-of-type {\n",
       "        vertical-align: middle;\n",
       "    }\n",
       "\n",
       "    .dataframe tbody tr th {\n",
       "        vertical-align: top;\n",
       "    }\n",
       "\n",
       "    .dataframe thead th {\n",
       "        text-align: right;\n",
       "    }\n",
       "</style>\n",
       "<table border=\"1\" class=\"dataframe\">\n",
       "  <thead>\n",
       "    <tr style=\"text-align: right;\">\n",
       "      <th></th>\n",
       "      <th>business_id</th>\n",
       "      <th>name</th>\n",
       "      <th>address</th>\n",
       "      <th>city</th>\n",
       "      <th>state</th>\n",
       "      <th>postal_code</th>\n",
       "      <th>latitude</th>\n",
       "      <th>longitude</th>\n",
       "      <th>review_count</th>\n",
       "      <th>is_open</th>\n",
       "      <th>stars_avg</th>\n",
       "      <th>categories_fixed</th>\n",
       "      <th>food_type</th>\n",
       "      <th>ethnicity</th>\n",
       "      <th>venue</th>\n",
       "      <th>food_comb</th>\n",
       "      <th>geometry</th>\n",
       "      <th>agi_mean</th>\n",
       "    </tr>\n",
       "  </thead>\n",
       "  <tbody>\n",
       "    <tr>\n",
       "      <th>0</th>\n",
       "      <td>vjTVxnsQEZ34XjYNS-XUpA</td>\n",
       "      <td>Wetzel's Pretzels</td>\n",
       "      <td>4550 East Cactus Rd, #KSFC-4</td>\n",
       "      <td>Phoenix</td>\n",
       "      <td>AZ</td>\n",
       "      <td>85032</td>\n",
       "      <td>33.602822</td>\n",
       "      <td>-111.983533</td>\n",
       "      <td>10</td>\n",
       "      <td>1</td>\n",
       "      <td>3.0</td>\n",
       "      <td>Food, Pretzels, Bakeries, FastFood, Restaurants</td>\n",
       "      <td>Bakeries, Pretzels, FastFood</td>\n",
       "      <td>Undefined</td>\n",
       "      <td>Restaurant</td>\n",
       "      <td>Bakeries, Pretzels, FastFood,  Restaurant</td>\n",
       "      <td>POINT (-111.98353 33.60282)</td>\n",
       "      <td>2.418515</td>\n",
       "    </tr>\n",
       "    <tr>\n",
       "      <th>1</th>\n",
       "      <td>98hyK2QEUeI8v2y0AghfZA</td>\n",
       "      <td>Pho Lee's Vietnamese Restaurant</td>\n",
       "      <td>1541 E 38th St, Ste 101</td>\n",
       "      <td>Cleveland</td>\n",
       "      <td>OH</td>\n",
       "      <td>44114</td>\n",
       "      <td>41.512155</td>\n",
       "      <td>-81.663332</td>\n",
       "      <td>23</td>\n",
       "      <td>1</td>\n",
       "      <td>4.0</td>\n",
       "      <td>Restaurants, Vietnamese, Soup</td>\n",
       "      <td>Soup</td>\n",
       "      <td>Vietnamese</td>\n",
       "      <td>Restaurant</td>\n",
       "      <td>Soup, Vietnamese, Restaurant</td>\n",
       "      <td>POINT (-81.66333 41.51216)</td>\n",
       "      <td>2.432432</td>\n",
       "    </tr>\n",
       "    <tr>\n",
       "      <th>2</th>\n",
       "      <td>tLpkSwdtqqoXwU0JAGnApw</td>\n",
       "      <td>Wendy's</td>\n",
       "      <td>4602 Northfield Road</td>\n",
       "      <td>Cleveland</td>\n",
       "      <td>OH</td>\n",
       "      <td>44128</td>\n",
       "      <td>41.434614</td>\n",
       "      <td>-81.527026</td>\n",
       "      <td>7</td>\n",
       "      <td>1</td>\n",
       "      <td>3.0</td>\n",
       "      <td>Restaurants, FastFood, Burgers</td>\n",
       "      <td>Burgers, FastFood</td>\n",
       "      <td>Undefined</td>\n",
       "      <td>Restaurant</td>\n",
       "      <td>Burgers, FastFood,  Restaurant</td>\n",
       "      <td>POINT (-81.52703 41.43461)</td>\n",
       "      <td>1.746345</td>\n",
       "    </tr>\n",
       "    <tr>\n",
       "      <th>3</th>\n",
       "      <td>lK-wuiq8b1TuU7bfbQZgsg</td>\n",
       "      <td>Hingetown</td>\n",
       "      <td></td>\n",
       "      <td>Cleveland</td>\n",
       "      <td>OH</td>\n",
       "      <td>44113</td>\n",
       "      <td>41.489343</td>\n",
       "      <td>-81.711029</td>\n",
       "      <td>4</td>\n",
       "      <td>1</td>\n",
       "      <td>5.0</td>\n",
       "      <td>ShoppingCenters, Food, Coffee&amp;Tea, Cafes, Muse...</td>\n",
       "      <td>Undefined</td>\n",
       "      <td>Undefined</td>\n",
       "      <td>Coffee&amp;Tea, Cafes</td>\n",
       "      <td>Coffee&amp;Tea, Cafes</td>\n",
       "      <td>POINT (-81.71103 41.48934)</td>\n",
       "      <td>2.575374</td>\n",
       "    </tr>\n",
       "    <tr>\n",
       "      <th>4</th>\n",
       "      <td>LAoSegVNU4wx4GTA8reB6A</td>\n",
       "      <td>Tzikii Food Truck</td>\n",
       "      <td>7510 S Priest Dr</td>\n",
       "      <td>Tempe</td>\n",
       "      <td>AZ</td>\n",
       "      <td>85283</td>\n",
       "      <td>33.350104</td>\n",
       "      <td>-111.963660</td>\n",
       "      <td>4</td>\n",
       "      <td>1</td>\n",
       "      <td>3.0</td>\n",
       "      <td>Restaurants, Egyptian, FoodTrucks, Food, Middl...</td>\n",
       "      <td>Undefined</td>\n",
       "      <td>MiddleEastern, Egyptian</td>\n",
       "      <td>FoodTrucks</td>\n",
       "      <td>MiddleEastern, Egyptian, FoodTrucks</td>\n",
       "      <td>POINT (-111.96366 33.35010)</td>\n",
       "      <td>2.447043</td>\n",
       "    </tr>\n",
       "    <tr>\n",
       "      <th>...</th>\n",
       "      <td>...</td>\n",
       "      <td>...</td>\n",
       "      <td>...</td>\n",
       "      <td>...</td>\n",
       "      <td>...</td>\n",
       "      <td>...</td>\n",
       "      <td>...</td>\n",
       "      <td>...</td>\n",
       "      <td>...</td>\n",
       "      <td>...</td>\n",
       "      <td>...</td>\n",
       "      <td>...</td>\n",
       "      <td>...</td>\n",
       "      <td>...</td>\n",
       "      <td>...</td>\n",
       "      <td>...</td>\n",
       "      <td>...</td>\n",
       "      <td>...</td>\n",
       "    </tr>\n",
       "    <tr>\n",
       "      <th>12922</th>\n",
       "      <td>8dK-8e006F_it5bNxTVlaQ</td>\n",
       "      <td>Famous Dave's Bar-B-Que</td>\n",
       "      <td>26410 Great Northern Shopping Ctr</td>\n",
       "      <td>North Olmsted</td>\n",
       "      <td>OH</td>\n",
       "      <td>44070</td>\n",
       "      <td>41.418407</td>\n",
       "      <td>-81.915597</td>\n",
       "      <td>120</td>\n",
       "      <td>1</td>\n",
       "      <td>4.0</td>\n",
       "      <td>Restaurants, Barbeque, ComfortFood, Salad, Eve...</td>\n",
       "      <td>Burgers, ComfortFood, Salad, Sandwiches</td>\n",
       "      <td>American(Traditional), Barbeque</td>\n",
       "      <td>Restaurant</td>\n",
       "      <td>Burgers, ComfortFood, Salad, Sandwiches, Ameri...</td>\n",
       "      <td>POINT (-81.91560 41.41841)</td>\n",
       "      <td>2.529547</td>\n",
       "    </tr>\n",
       "    <tr>\n",
       "      <th>12923</th>\n",
       "      <td>_bvc2j6E8mk_ZiMoh2iMuQ</td>\n",
       "      <td>Sonic Drive-In</td>\n",
       "      <td>6501 W Glendale Ave</td>\n",
       "      <td>Glendale</td>\n",
       "      <td>AZ</td>\n",
       "      <td>85301</td>\n",
       "      <td>33.537861</td>\n",
       "      <td>-112.199338</td>\n",
       "      <td>13</td>\n",
       "      <td>1</td>\n",
       "      <td>2.0</td>\n",
       "      <td>IceCream&amp;FrozenYogurt, Burgers, Restaurants, F...</td>\n",
       "      <td>IceCream&amp;FrozenYogurt, Burgers, FastFood</td>\n",
       "      <td>American(Traditional)</td>\n",
       "      <td>Restaurant</td>\n",
       "      <td>IceCream&amp;FrozenYogurt, Burgers, FastFood, Amer...</td>\n",
       "      <td>POINT (-112.19934 33.53786)</td>\n",
       "      <td>1.654197</td>\n",
       "    </tr>\n",
       "    <tr>\n",
       "      <th>12924</th>\n",
       "      <td>cmsAFAymfVoBitSF8R6GKw</td>\n",
       "      <td>Yao Fine Chinese Cuisine</td>\n",
       "      <td>2487 S Gilbert Rd, Ste 102</td>\n",
       "      <td>Gilbert</td>\n",
       "      <td>AZ</td>\n",
       "      <td>85295</td>\n",
       "      <td>33.304935</td>\n",
       "      <td>-111.788861</td>\n",
       "      <td>230</td>\n",
       "      <td>1</td>\n",
       "      <td>4.0</td>\n",
       "      <td>Chinese, Restaurants</td>\n",
       "      <td>Undefined</td>\n",
       "      <td>Chinese</td>\n",
       "      <td>Restaurant</td>\n",
       "      <td>Chinese, Restaurant</td>\n",
       "      <td>POINT (-111.78886 33.30494)</td>\n",
       "      <td>3.039604</td>\n",
       "    </tr>\n",
       "    <tr>\n",
       "      <th>12925</th>\n",
       "      <td>YZeUH6zYS0dq5QHLYZhUnQ</td>\n",
       "      <td>Hooters</td>\n",
       "      <td>2820 N 75th Ave</td>\n",
       "      <td>Phoenix</td>\n",
       "      <td>AZ</td>\n",
       "      <td>85035</td>\n",
       "      <td>33.479139</td>\n",
       "      <td>-112.221142</td>\n",
       "      <td>106</td>\n",
       "      <td>1</td>\n",
       "      <td>2.0</td>\n",
       "      <td>Nightlife, American(Traditional), ChickenWings...</td>\n",
       "      <td>ChickenWings</td>\n",
       "      <td>American(Traditional)</td>\n",
       "      <td>Restaurant</td>\n",
       "      <td>ChickenWings, American(Traditional), Restaurant</td>\n",
       "      <td>POINT (-112.22114 33.47914)</td>\n",
       "      <td>1.673186</td>\n",
       "    </tr>\n",
       "    <tr>\n",
       "      <th>12926</th>\n",
       "      <td>SYa2j1boLF8DcGVOYfHPcA</td>\n",
       "      <td>Five Guys</td>\n",
       "      <td>7014-590 E Camelback Rd</td>\n",
       "      <td>Scottsdale</td>\n",
       "      <td>AZ</td>\n",
       "      <td>85251</td>\n",
       "      <td>33.504062</td>\n",
       "      <td>-111.929431</td>\n",
       "      <td>97</td>\n",
       "      <td>1</td>\n",
       "      <td>4.0</td>\n",
       "      <td>American(New), Food, Burgers, Restaurants, Fas...</td>\n",
       "      <td>Burgers, FastFood</td>\n",
       "      <td>American(New)</td>\n",
       "      <td>Restaurant</td>\n",
       "      <td>Burgers, FastFood, American(New), Restaurant</td>\n",
       "      <td>POINT (-111.92943 33.50406)</td>\n",
       "      <td>2.728045</td>\n",
       "    </tr>\n",
       "  </tbody>\n",
       "</table>\n",
       "<p>12838 rows × 18 columns</p>\n",
       "</div>"
      ],
      "text/plain": [
       "                  business_id                             name  \\\n",
       "0      vjTVxnsQEZ34XjYNS-XUpA                Wetzel's Pretzels   \n",
       "1      98hyK2QEUeI8v2y0AghfZA  Pho Lee's Vietnamese Restaurant   \n",
       "2      tLpkSwdtqqoXwU0JAGnApw                          Wendy's   \n",
       "3      lK-wuiq8b1TuU7bfbQZgsg                        Hingetown   \n",
       "4      LAoSegVNU4wx4GTA8reB6A                Tzikii Food Truck   \n",
       "...                       ...                              ...   \n",
       "12922  8dK-8e006F_it5bNxTVlaQ          Famous Dave's Bar-B-Que   \n",
       "12923  _bvc2j6E8mk_ZiMoh2iMuQ                   Sonic Drive-In   \n",
       "12924  cmsAFAymfVoBitSF8R6GKw         Yao Fine Chinese Cuisine   \n",
       "12925  YZeUH6zYS0dq5QHLYZhUnQ                          Hooters   \n",
       "12926  SYa2j1boLF8DcGVOYfHPcA                        Five Guys   \n",
       "\n",
       "                                 address           city state postal_code  \\\n",
       "0           4550 East Cactus Rd, #KSFC-4        Phoenix    AZ       85032   \n",
       "1                1541 E 38th St, Ste 101      Cleveland    OH       44114   \n",
       "2                   4602 Northfield Road      Cleveland    OH       44128   \n",
       "3                                             Cleveland    OH       44113   \n",
       "4                       7510 S Priest Dr          Tempe    AZ       85283   \n",
       "...                                  ...            ...   ...         ...   \n",
       "12922  26410 Great Northern Shopping Ctr  North Olmsted    OH       44070   \n",
       "12923                6501 W Glendale Ave       Glendale    AZ       85301   \n",
       "12924         2487 S Gilbert Rd, Ste 102        Gilbert    AZ       85295   \n",
       "12925                    2820 N 75th Ave        Phoenix    AZ       85035   \n",
       "12926            7014-590 E Camelback Rd     Scottsdale    AZ       85251   \n",
       "\n",
       "        latitude   longitude  review_count  is_open  stars_avg  \\\n",
       "0      33.602822 -111.983533            10        1        3.0   \n",
       "1      41.512155  -81.663332            23        1        4.0   \n",
       "2      41.434614  -81.527026             7        1        3.0   \n",
       "3      41.489343  -81.711029             4        1        5.0   \n",
       "4      33.350104 -111.963660             4        1        3.0   \n",
       "...          ...         ...           ...      ...        ...   \n",
       "12922  41.418407  -81.915597           120        1        4.0   \n",
       "12923  33.537861 -112.199338            13        1        2.0   \n",
       "12924  33.304935 -111.788861           230        1        4.0   \n",
       "12925  33.479139 -112.221142           106        1        2.0   \n",
       "12926  33.504062 -111.929431            97        1        4.0   \n",
       "\n",
       "                                        categories_fixed  \\\n",
       "0        Food, Pretzels, Bakeries, FastFood, Restaurants   \n",
       "1                          Restaurants, Vietnamese, Soup   \n",
       "2                         Restaurants, FastFood, Burgers   \n",
       "3      ShoppingCenters, Food, Coffee&Tea, Cafes, Muse...   \n",
       "4      Restaurants, Egyptian, FoodTrucks, Food, Middl...   \n",
       "...                                                  ...   \n",
       "12922  Restaurants, Barbeque, ComfortFood, Salad, Eve...   \n",
       "12923  IceCream&FrozenYogurt, Burgers, Restaurants, F...   \n",
       "12924                               Chinese, Restaurants   \n",
       "12925  Nightlife, American(Traditional), ChickenWings...   \n",
       "12926  American(New), Food, Burgers, Restaurants, Fas...   \n",
       "\n",
       "                                      food_type  \\\n",
       "0                  Bakeries, Pretzels, FastFood   \n",
       "1                                          Soup   \n",
       "2                             Burgers, FastFood   \n",
       "3                                     Undefined   \n",
       "4                                     Undefined   \n",
       "...                                         ...   \n",
       "12922   Burgers, ComfortFood, Salad, Sandwiches   \n",
       "12923  IceCream&FrozenYogurt, Burgers, FastFood   \n",
       "12924                                 Undefined   \n",
       "12925                              ChickenWings   \n",
       "12926                         Burgers, FastFood   \n",
       "\n",
       "                             ethnicity              venue  \\\n",
       "0                            Undefined         Restaurant   \n",
       "1                           Vietnamese         Restaurant   \n",
       "2                            Undefined         Restaurant   \n",
       "3                            Undefined  Coffee&Tea, Cafes   \n",
       "4              MiddleEastern, Egyptian         FoodTrucks   \n",
       "...                                ...                ...   \n",
       "12922  American(Traditional), Barbeque         Restaurant   \n",
       "12923            American(Traditional)         Restaurant   \n",
       "12924                          Chinese         Restaurant   \n",
       "12925            American(Traditional)         Restaurant   \n",
       "12926                    American(New)         Restaurant   \n",
       "\n",
       "                                               food_comb  \\\n",
       "0              Bakeries, Pretzels, FastFood,  Restaurant   \n",
       "1                           Soup, Vietnamese, Restaurant   \n",
       "2                         Burgers, FastFood,  Restaurant   \n",
       "3                                      Coffee&Tea, Cafes   \n",
       "4                    MiddleEastern, Egyptian, FoodTrucks   \n",
       "...                                                  ...   \n",
       "12922  Burgers, ComfortFood, Salad, Sandwiches, Ameri...   \n",
       "12923  IceCream&FrozenYogurt, Burgers, FastFood, Amer...   \n",
       "12924                                Chinese, Restaurant   \n",
       "12925    ChickenWings, American(Traditional), Restaurant   \n",
       "12926       Burgers, FastFood, American(New), Restaurant   \n",
       "\n",
       "                          geometry  agi_mean  \n",
       "0      POINT (-111.98353 33.60282)  2.418515  \n",
       "1       POINT (-81.66333 41.51216)  2.432432  \n",
       "2       POINT (-81.52703 41.43461)  1.746345  \n",
       "3       POINT (-81.71103 41.48934)  2.575374  \n",
       "4      POINT (-111.96366 33.35010)  2.447043  \n",
       "...                            ...       ...  \n",
       "12922   POINT (-81.91560 41.41841)  2.529547  \n",
       "12923  POINT (-112.19934 33.53786)  1.654197  \n",
       "12924  POINT (-111.78886 33.30494)  3.039604  \n",
       "12925  POINT (-112.22114 33.47914)  1.673186  \n",
       "12926  POINT (-111.92943 33.50406)  2.728045  \n",
       "\n",
       "[12838 rows x 18 columns]"
      ]
     },
     "execution_count": 95,
     "metadata": {},
     "output_type": "execute_result"
    }
   ],
   "source": [
    "df_census = df_comp.merge(census_mean[['postal_code','agi_mean']], how = 'left', on = 'postal_code').dropna()\n",
    "df_census"
   ]
  },
  {
   "cell_type": "code",
   "execution_count": 96,
   "metadata": {},
   "outputs": [
    {
     "name": "stdout",
     "output_type": "stream",
     "text": [
      "<class 'geopandas.geodataframe.GeoDataFrame'>\n",
      "Int64Index: 12838 entries, 0 to 12926\n",
      "Data columns (total 18 columns):\n",
      " #   Column            Non-Null Count  Dtype   \n",
      "---  ------            --------------  -----   \n",
      " 0   business_id       12838 non-null  object  \n",
      " 1   name              12838 non-null  object  \n",
      " 2   address           12838 non-null  object  \n",
      " 3   city              12838 non-null  object  \n",
      " 4   state             12838 non-null  object  \n",
      " 5   postal_code       12838 non-null  object  \n",
      " 6   latitude          12838 non-null  float64 \n",
      " 7   longitude         12838 non-null  float64 \n",
      " 8   review_count      12838 non-null  int64   \n",
      " 9   is_open           12838 non-null  int64   \n",
      " 10  stars_avg         12838 non-null  float64 \n",
      " 11  categories_fixed  12838 non-null  object  \n",
      " 12  food_type         12838 non-null  object  \n",
      " 13  ethnicity         12838 non-null  object  \n",
      " 14  venue             12838 non-null  object  \n",
      " 15  food_comb         12838 non-null  object  \n",
      " 16  geometry          12838 non-null  geometry\n",
      " 17  agi_mean          12838 non-null  float64 \n",
      "dtypes: float64(4), geometry(1), int64(2), object(11)\n",
      "memory usage: 1.9+ MB\n"
     ]
    }
   ],
   "source": [
    "df_census.info()"
   ]
  },
  {
   "cell_type": "code",
   "execution_count": 97,
   "metadata": {},
   "outputs": [
    {
     "data": {
      "text/plain": [
       "1        2.432432\n",
       "2        1.746345\n",
       "3        2.575374\n",
       "5        2.858832\n",
       "9        2.279412\n",
       "           ...   \n",
       "12903    2.912805\n",
       "12909    1.935484\n",
       "12910    2.032440\n",
       "12913    2.031456\n",
       "12922    2.529547\n",
       "Name: agi_mean, Length: 4444, dtype: float64"
      ]
     },
     "execution_count": 97,
     "metadata": {},
     "output_type": "execute_result"
    }
   ],
   "source": [
    "df_census[df_census['state']=='OH']['agi_mean']"
   ]
  },
  {
   "cell_type": "code",
   "execution_count": 98,
   "metadata": {},
   "outputs": [],
   "source": [
    "df_census = df_census.dropna()\n"
   ]
  },
  {
   "cell_type": "code",
   "execution_count": 99,
   "metadata": {},
   "outputs": [
    {
     "data": {
      "text/html": [
       "<div>\n",
       "<style scoped>\n",
       "    .dataframe tbody tr th:only-of-type {\n",
       "        vertical-align: middle;\n",
       "    }\n",
       "\n",
       "    .dataframe tbody tr th {\n",
       "        vertical-align: top;\n",
       "    }\n",
       "\n",
       "    .dataframe thead th {\n",
       "        text-align: right;\n",
       "    }\n",
       "</style>\n",
       "<table border=\"1\" class=\"dataframe\">\n",
       "  <thead>\n",
       "    <tr style=\"text-align: right;\">\n",
       "      <th></th>\n",
       "      <th>business_id</th>\n",
       "      <th>name</th>\n",
       "      <th>address</th>\n",
       "      <th>city</th>\n",
       "      <th>state</th>\n",
       "      <th>postal_code</th>\n",
       "      <th>latitude</th>\n",
       "      <th>longitude</th>\n",
       "      <th>review_count</th>\n",
       "      <th>is_open</th>\n",
       "      <th>stars_avg</th>\n",
       "      <th>categories_fixed</th>\n",
       "      <th>food_type</th>\n",
       "      <th>ethnicity</th>\n",
       "      <th>venue</th>\n",
       "      <th>food_comb</th>\n",
       "      <th>geometry</th>\n",
       "      <th>agi_mean</th>\n",
       "    </tr>\n",
       "  </thead>\n",
       "  <tbody>\n",
       "    <tr>\n",
       "      <th>0</th>\n",
       "      <td>vjTVxnsQEZ34XjYNS-XUpA</td>\n",
       "      <td>Wetzel's Pretzels</td>\n",
       "      <td>4550 East Cactus Rd, #KSFC-4</td>\n",
       "      <td>Phoenix</td>\n",
       "      <td>AZ</td>\n",
       "      <td>85032</td>\n",
       "      <td>33.602822</td>\n",
       "      <td>-111.983533</td>\n",
       "      <td>10</td>\n",
       "      <td>1</td>\n",
       "      <td>3.0</td>\n",
       "      <td>Food, Pretzels, Bakeries, FastFood, Restaurants</td>\n",
       "      <td>Bakeries, Pretzels, FastFood</td>\n",
       "      <td>Undefined</td>\n",
       "      <td>Restaurant</td>\n",
       "      <td>Bakeries, Pretzels, FastFood,  Restaurant</td>\n",
       "      <td>POINT (-111.98353 33.60282)</td>\n",
       "      <td>2.418515</td>\n",
       "    </tr>\n",
       "    <tr>\n",
       "      <th>1</th>\n",
       "      <td>98hyK2QEUeI8v2y0AghfZA</td>\n",
       "      <td>Pho Lee's Vietnamese Restaurant</td>\n",
       "      <td>1541 E 38th St, Ste 101</td>\n",
       "      <td>Cleveland</td>\n",
       "      <td>OH</td>\n",
       "      <td>44114</td>\n",
       "      <td>41.512155</td>\n",
       "      <td>-81.663332</td>\n",
       "      <td>23</td>\n",
       "      <td>1</td>\n",
       "      <td>4.0</td>\n",
       "      <td>Restaurants, Vietnamese, Soup</td>\n",
       "      <td>Soup</td>\n",
       "      <td>Vietnamese</td>\n",
       "      <td>Restaurant</td>\n",
       "      <td>Soup, Vietnamese, Restaurant</td>\n",
       "      <td>POINT (-81.66333 41.51216)</td>\n",
       "      <td>2.432432</td>\n",
       "    </tr>\n",
       "    <tr>\n",
       "      <th>2</th>\n",
       "      <td>tLpkSwdtqqoXwU0JAGnApw</td>\n",
       "      <td>Wendy's</td>\n",
       "      <td>4602 Northfield Road</td>\n",
       "      <td>Cleveland</td>\n",
       "      <td>OH</td>\n",
       "      <td>44128</td>\n",
       "      <td>41.434614</td>\n",
       "      <td>-81.527026</td>\n",
       "      <td>7</td>\n",
       "      <td>1</td>\n",
       "      <td>3.0</td>\n",
       "      <td>Restaurants, FastFood, Burgers</td>\n",
       "      <td>Burgers, FastFood</td>\n",
       "      <td>Undefined</td>\n",
       "      <td>Restaurant</td>\n",
       "      <td>Burgers, FastFood,  Restaurant</td>\n",
       "      <td>POINT (-81.52703 41.43461)</td>\n",
       "      <td>1.746345</td>\n",
       "    </tr>\n",
       "    <tr>\n",
       "      <th>3</th>\n",
       "      <td>lK-wuiq8b1TuU7bfbQZgsg</td>\n",
       "      <td>Hingetown</td>\n",
       "      <td></td>\n",
       "      <td>Cleveland</td>\n",
       "      <td>OH</td>\n",
       "      <td>44113</td>\n",
       "      <td>41.489343</td>\n",
       "      <td>-81.711029</td>\n",
       "      <td>4</td>\n",
       "      <td>1</td>\n",
       "      <td>5.0</td>\n",
       "      <td>ShoppingCenters, Food, Coffee&amp;Tea, Cafes, Muse...</td>\n",
       "      <td>Undefined</td>\n",
       "      <td>Undefined</td>\n",
       "      <td>Coffee&amp;Tea, Cafes</td>\n",
       "      <td>Coffee&amp;Tea, Cafes</td>\n",
       "      <td>POINT (-81.71103 41.48934)</td>\n",
       "      <td>2.575374</td>\n",
       "    </tr>\n",
       "    <tr>\n",
       "      <th>4</th>\n",
       "      <td>LAoSegVNU4wx4GTA8reB6A</td>\n",
       "      <td>Tzikii Food Truck</td>\n",
       "      <td>7510 S Priest Dr</td>\n",
       "      <td>Tempe</td>\n",
       "      <td>AZ</td>\n",
       "      <td>85283</td>\n",
       "      <td>33.350104</td>\n",
       "      <td>-111.963660</td>\n",
       "      <td>4</td>\n",
       "      <td>1</td>\n",
       "      <td>3.0</td>\n",
       "      <td>Restaurants, Egyptian, FoodTrucks, Food, Middl...</td>\n",
       "      <td>Undefined</td>\n",
       "      <td>MiddleEastern, Egyptian</td>\n",
       "      <td>FoodTrucks</td>\n",
       "      <td>MiddleEastern, Egyptian, FoodTrucks</td>\n",
       "      <td>POINT (-111.96366 33.35010)</td>\n",
       "      <td>2.447043</td>\n",
       "    </tr>\n",
       "  </tbody>\n",
       "</table>\n",
       "</div>"
      ],
      "text/plain": [
       "              business_id                             name  \\\n",
       "0  vjTVxnsQEZ34XjYNS-XUpA                Wetzel's Pretzels   \n",
       "1  98hyK2QEUeI8v2y0AghfZA  Pho Lee's Vietnamese Restaurant   \n",
       "2  tLpkSwdtqqoXwU0JAGnApw                          Wendy's   \n",
       "3  lK-wuiq8b1TuU7bfbQZgsg                        Hingetown   \n",
       "4  LAoSegVNU4wx4GTA8reB6A                Tzikii Food Truck   \n",
       "\n",
       "                        address       city state postal_code   latitude  \\\n",
       "0  4550 East Cactus Rd, #KSFC-4    Phoenix    AZ       85032  33.602822   \n",
       "1       1541 E 38th St, Ste 101  Cleveland    OH       44114  41.512155   \n",
       "2          4602 Northfield Road  Cleveland    OH       44128  41.434614   \n",
       "3                                Cleveland    OH       44113  41.489343   \n",
       "4              7510 S Priest Dr      Tempe    AZ       85283  33.350104   \n",
       "\n",
       "    longitude  review_count  is_open  stars_avg  \\\n",
       "0 -111.983533            10        1        3.0   \n",
       "1  -81.663332            23        1        4.0   \n",
       "2  -81.527026             7        1        3.0   \n",
       "3  -81.711029             4        1        5.0   \n",
       "4 -111.963660             4        1        3.0   \n",
       "\n",
       "                                    categories_fixed  \\\n",
       "0    Food, Pretzels, Bakeries, FastFood, Restaurants   \n",
       "1                      Restaurants, Vietnamese, Soup   \n",
       "2                     Restaurants, FastFood, Burgers   \n",
       "3  ShoppingCenters, Food, Coffee&Tea, Cafes, Muse...   \n",
       "4  Restaurants, Egyptian, FoodTrucks, Food, Middl...   \n",
       "\n",
       "                      food_type                ethnicity              venue  \\\n",
       "0  Bakeries, Pretzels, FastFood                Undefined         Restaurant   \n",
       "1                          Soup               Vietnamese         Restaurant   \n",
       "2             Burgers, FastFood                Undefined         Restaurant   \n",
       "3                     Undefined                Undefined  Coffee&Tea, Cafes   \n",
       "4                     Undefined  MiddleEastern, Egyptian         FoodTrucks   \n",
       "\n",
       "                                   food_comb                     geometry  \\\n",
       "0  Bakeries, Pretzels, FastFood,  Restaurant  POINT (-111.98353 33.60282)   \n",
       "1               Soup, Vietnamese, Restaurant   POINT (-81.66333 41.51216)   \n",
       "2             Burgers, FastFood,  Restaurant   POINT (-81.52703 41.43461)   \n",
       "3                          Coffee&Tea, Cafes   POINT (-81.71103 41.48934)   \n",
       "4        MiddleEastern, Egyptian, FoodTrucks  POINT (-111.96366 33.35010)   \n",
       "\n",
       "   agi_mean  \n",
       "0  2.418515  \n",
       "1  2.432432  \n",
       "2  1.746345  \n",
       "3  2.575374  \n",
       "4  2.447043  "
      ]
     },
     "execution_count": 99,
     "metadata": {},
     "output_type": "execute_result"
    }
   ],
   "source": [
    "df_census.head()"
   ]
  },
  {
   "cell_type": "code",
   "execution_count": 100,
   "metadata": {},
   "outputs": [],
   "source": [
    "#df_census.to_csv(r'/Users/robholmstrom/OneDrive/Gitrepos/nonrepo_files/capstone4_files/df_census.csv', index = False)"
   ]
  },
  {
   "cell_type": "code",
   "execution_count": 102,
   "metadata": {},
   "outputs": [
    {
     "data": {
      "text/plain": [
       "2.777341697152309"
      ]
     },
     "execution_count": 102,
     "metadata": {},
     "output_type": "execute_result"
    }
   ],
   "source": [
    "df_census[df_census['ethnicity'].str.contains('Thai')]['agi_mean'].mean()"
   ]
  },
  {
   "cell_type": "code",
   "execution_count": 239,
   "metadata": {},
   "outputs": [
    {
     "data": {
      "text/plain": [
       "2.4436418752235443"
      ]
     },
     "execution_count": 239,
     "metadata": {},
     "output_type": "execute_result"
    }
   ],
   "source": [
    "df_census[df_census['ethnicity'].str.contains('Mexican')]['agi_mean'].mean()"
   ]
  },
  {
   "cell_type": "code",
   "execution_count": 104,
   "metadata": {},
   "outputs": [
    {
     "data": {
      "text/plain": [
       "(array([  13.,  495., 1554., 1734., 2660., 3262., 1612., 1093.,  222.,\n",
       "         193.]),\n",
       " array([1.09756098, 1.40074194, 1.70392291, 2.00710387, 2.31028484,\n",
       "        2.6134658 , 2.91664677, 3.21982773, 3.5230087 , 3.82618966,\n",
       "        4.12937063]),\n",
       " <a list of 10 Patch objects>)"
      ]
     },
     "execution_count": 104,
     "metadata": {},
     "output_type": "execute_result"
    },
    {
     "data": {
      "image/png": "[encoded data removed]",
      "text/plain": [
       "<Figure size 432x288 with 1 Axes>"
      ]
     },
     "metadata": {
      "needs_background": "light"
     },
     "output_type": "display_data"
    }
   ],
   "source": [
    "plt.hist(df_census['agi_mean'])"
   ]
  },
  {
   "cell_type": "code",
   "execution_count": 105,
   "metadata": {},
   "outputs": [
    {
     "data": {
      "text/plain": [
       "Restaurant                                              268\n",
       "Coffee&Tea                                               44\n",
       "Steakhouses                                              17\n",
       "SushiBars                                                12\n",
       "Cafes                                                    12\n",
       "Delis                                                    10\n",
       "Diners                                                   10\n",
       "FoodDeliveryServices                                      5\n",
       "Coffee&Tea, CoffeeRoasteries                              4\n",
       "Gastropubs                                                4\n",
       "Coffee&Tea, Cafes                                         4\n",
       "FoodTrucks                                                3\n",
       "FoodDeliveryServices, Delis                               3\n",
       "Grocery                                                   3\n",
       "TapasBars                                                 3\n",
       "Coffee&Tea, ConvenienceStores, Grocery                    2\n",
       "Coffee&Tea, ConvenienceStores                             2\n",
       "Smokehouse                                                2\n",
       "Grocery, Delis                                            2\n",
       "Steakhouses, SushiBars                                    2\n",
       "FoodTrucks, StreetVendors                                 2\n",
       "Wineries                                                  1\n",
       "FoodDeliveryServices, SpecialtyFood, HealthMarkets        1\n",
       "Coffee&Tea, SpecialtyFood                                 1\n",
       "Coffee&Tea, Cafeteria                                     1\n",
       "SpecialtyFood                                             1\n",
       "SpecialtyFood, PastaShops                                 1\n",
       "InternetCafes, Cafes                                      1\n",
       "Coffee&Tea, InternetCafes, TeaRooms, Cafes                1\n",
       "SpecialtyFood, Cafes                                      1\n",
       "ChickenShop                                               1\n",
       "SpecialtyFood, HealthMarkets                              1\n",
       "ConvenienceStores, Grocery, Delis                         1\n",
       "SpecialtyFood, Wineries                                   1\n",
       "ConvenienceStores, Wineries, Cafes                        1\n",
       "Wineries, WineTastingRoom                                 1\n",
       "Coffee&Tea, SpecialtyFood, CandyStores, PopcornShops      1\n",
       "Coffee&Tea, FoodTrucks                                    1\n",
       "Breweries                                                 1\n",
       "Name: venue, dtype: int64"
      ]
     },
     "execution_count": 105,
     "metadata": {},
     "output_type": "execute_result"
    }
   ],
   "source": [
    "df_census.loc[df_census['agi_mean']>3.5]['venue'].value_counts()"
   ]
  },
  {
   "cell_type": "code",
   "execution_count": 106,
   "metadata": {},
   "outputs": [
    {
     "data": {
      "text/html": [
       "<div>\n",
       "<style scoped>\n",
       "    .dataframe tbody tr th:only-of-type {\n",
       "        vertical-align: middle;\n",
       "    }\n",
       "\n",
       "    .dataframe tbody tr th {\n",
       "        vertical-align: top;\n",
       "    }\n",
       "\n",
       "    .dataframe thead th {\n",
       "        text-align: right;\n",
       "    }\n",
       "</style>\n",
       "<table border=\"1\" class=\"dataframe\">\n",
       "  <thead>\n",
       "    <tr style=\"text-align: right;\">\n",
       "      <th></th>\n",
       "      <th>postal_code</th>\n",
       "      <th>agi_mean</th>\n",
       "    </tr>\n",
       "  </thead>\n",
       "  <tbody>\n",
       "    <tr>\n",
       "      <th>7939</th>\n",
       "      <td>85309</td>\n",
       "      <td>1.097561</td>\n",
       "    </tr>\n",
       "    <tr>\n",
       "      <th>7034</th>\n",
       "      <td>44104</td>\n",
       "      <td>1.373547</td>\n",
       "    </tr>\n",
       "    <tr>\n",
       "      <th>5267</th>\n",
       "      <td>44104</td>\n",
       "      <td>1.373547</td>\n",
       "    </tr>\n",
       "    <tr>\n",
       "      <th>5786</th>\n",
       "      <td>44104</td>\n",
       "      <td>1.373547</td>\n",
       "    </tr>\n",
       "    <tr>\n",
       "      <th>6534</th>\n",
       "      <td>44104</td>\n",
       "      <td>1.373547</td>\n",
       "    </tr>\n",
       "    <tr>\n",
       "      <th>...</th>\n",
       "      <td>...</td>\n",
       "      <td>...</td>\n",
       "    </tr>\n",
       "    <tr>\n",
       "      <th>3197</th>\n",
       "      <td>85303</td>\n",
       "      <td>1.994113</td>\n",
       "    </tr>\n",
       "    <tr>\n",
       "      <th>850</th>\n",
       "      <td>85303</td>\n",
       "      <td>1.994113</td>\n",
       "    </tr>\n",
       "    <tr>\n",
       "      <th>7912</th>\n",
       "      <td>85303</td>\n",
       "      <td>1.994113</td>\n",
       "    </tr>\n",
       "    <tr>\n",
       "      <th>11766</th>\n",
       "      <td>85303</td>\n",
       "      <td>1.994113</td>\n",
       "    </tr>\n",
       "    <tr>\n",
       "      <th>10747</th>\n",
       "      <td>85303</td>\n",
       "      <td>1.994113</td>\n",
       "    </tr>\n",
       "  </tbody>\n",
       "</table>\n",
       "<p>2036 rows × 2 columns</p>\n",
       "</div>"
      ],
      "text/plain": [
       "      postal_code  agi_mean\n",
       "7939        85309  1.097561\n",
       "7034        44104  1.373547\n",
       "5267        44104  1.373547\n",
       "5786        44104  1.373547\n",
       "6534        44104  1.373547\n",
       "...           ...       ...\n",
       "3197        85303  1.994113\n",
       "850         85303  1.994113\n",
       "7912        85303  1.994113\n",
       "11766       85303  1.994113\n",
       "10747       85303  1.994113\n",
       "\n",
       "[2036 rows x 2 columns]"
      ]
     },
     "execution_count": 106,
     "metadata": {},
     "output_type": "execute_result"
    }
   ],
   "source": [
    "df_census.loc[df_census['agi_mean']<2][['postal_code', 'agi_mean']].sort_values(['agi_mean'])"
   ]
  },
  {
   "cell_type": "code",
   "execution_count": 108,
   "metadata": {},
   "outputs": [],
   "source": [
    "df_census = df_census.reset_index(drop= True)"
   ]
  },
  {
   "cell_type": "code",
   "execution_count": 109,
   "metadata": {},
   "outputs": [
    {
     "data": {
      "text/plain": [
       "['business_id',\n",
       " 'name',\n",
       " 'address',\n",
       " 'city',\n",
       " 'state',\n",
       " 'postal_code',\n",
       " 'latitude',\n",
       " 'longitude',\n",
       " 'review_count',\n",
       " 'is_open',\n",
       " 'stars_avg',\n",
       " 'categories_fixed',\n",
       " 'food_type',\n",
       " 'ethnicity',\n",
       " 'venue',\n",
       " 'food_comb',\n",
       " 'geometry',\n",
       " 'agi_mean']"
      ]
     },
     "execution_count": 109,
     "metadata": {},
     "output_type": "execute_result"
    }
   ],
   "source": [
    "df_census.columns.tolist()"
   ]
  },
  {
   "cell_type": "code",
   "execution_count": 125,
   "metadata": {},
   "outputs": [],
   "source": [
    "vectorizer = CountVectorizer(analyzer='word', min_df=100, max_features=50)\n",
    "Xvec = vectorizer.fit_transform(df_census['food_comb'])\n",
    "bow_df = pd.DataFrame(Xvec.toarray(), columns=vectorizer.get_feature_names())\n"
   ]
  },
  {
   "cell_type": "code",
   "execution_count": 223,
   "metadata": {},
   "outputs": [],
   "source": [
    "\n",
    "# bow_df = pd.DataFrame()\n",
    "# vectorizer = CountVectorizer(analyzer='word')\n",
    "# X = vectorizer.fit_transform(df_census['categories_fixed'])\n",
    "# bow_df = pd.DataFrame(X.toarray(), columns=vectorizer.get_feature_names())\n",
    "# df_vec = pd.concat([bow_df, df_census], axis=1, ignore_index= True)\n",
    "df_vec = pd.concat([bow_df, df_census[['stars_avg']]], axis=1)\n"
   ]
  },
  {
   "cell_type": "code",
   "execution_count": 224,
   "metadata": {},
   "outputs": [],
   "source": [
    "df_vec = df_vec[(df_vec != 0).any(axis=1)]\n",
    "df_vec = df_vec.loc[:, (df_vec != 0).any(axis=0)]"
   ]
  },
  {
   "cell_type": "code",
   "execution_count": 225,
   "metadata": {},
   "outputs": [],
   "source": [
    "X = df_vec\n",
    "y = df_census['state']\n"
   ]
  },
  {
   "cell_type": "code",
   "execution_count": 226,
   "metadata": {},
   "outputs": [
    {
     "data": {
      "text/plain": [
       "AZ    8394\n",
       "OH    4444\n",
       "Name: state, dtype: int64"
      ]
     },
     "execution_count": 226,
     "metadata": {},
     "output_type": "execute_result"
    }
   ],
   "source": [
    "y.value_counts()"
   ]
  },
  {
   "cell_type": "code",
   "execution_count": 227,
   "metadata": {},
   "outputs": [
    {
     "name": "stdout",
     "output_type": "stream",
     "text": [
      "[0 1 1 ... 0 0 0]\n"
     ]
    }
   ],
   "source": [
    "\n",
    "le_train = LabelEncoder()\n",
    "y_le = le_train.fit_transform(y)\n",
    "\n",
    "\n",
    "\n",
    "print(y_le)"
   ]
  },
  {
   "cell_type": "code",
   "execution_count": 228,
   "metadata": {},
   "outputs": [],
   "source": [
    "X_train, X_test, y_train, y_test = train_test_split(X, y_le, stratify = y_le, random_state = 42)"
   ]
  },
  {
   "cell_type": "code",
   "execution_count": 229,
   "metadata": {},
   "outputs": [],
   "source": [
    "from imblearn.over_sampling import SMOTE\n",
    "oversample = SMOTE()\n",
    "X_train, y_train = oversample.fit_resample(X_train, y_train)\n"
   ]
  },
  {
   "cell_type": "code",
   "execution_count": 230,
   "metadata": {},
   "outputs": [],
   "source": [
    "# numerics = ['int16', 'int32', 'int64', 'float16', 'float32', 'float64']\n",
    "# df_vec = df_vec.select_dtypes(include = numerics).dropna()"
   ]
  },
  {
   "cell_type": "code",
   "execution_count": 231,
   "metadata": {},
   "outputs": [],
   "source": [
    "from sklearn.preprocessing import MinMaxScaler\n",
    "scaler = MinMaxScaler()\n",
    "X_train_scaled = scaler.fit_transform(X_train)\n",
    "X_test_scaled = scaler.transform(X_test)"
   ]
  },
  {
   "cell_type": "code",
   "execution_count": 232,
   "metadata": {},
   "outputs": [],
   "source": [
    "from sklearn.linear_model import LogisticRegression\n",
    "lr = LogisticRegression()"
   ]
  },
  {
   "cell_type": "code",
   "execution_count": 233,
   "metadata": {},
   "outputs": [
    {
     "data": {
      "text/plain": [
       "LogisticRegression()"
      ]
     },
     "execution_count": 233,
     "metadata": {},
     "output_type": "execute_result"
    }
   ],
   "source": [
    "lr.fit(X_train_scaled, y_train)"
   ]
  },
  {
   "cell_type": "code",
   "execution_count": 234,
   "metadata": {},
   "outputs": [],
   "source": [
    "y_pred_test = lr.predict(X_test_scaled)"
   ]
  },
  {
   "cell_type": "code",
   "execution_count": 235,
   "metadata": {},
   "outputs": [
    {
     "name": "stdout",
     "output_type": "stream",
     "text": [
      "LR1 confusion matrix\n"
     ]
    },
    {
     "data": {
      "text/plain": [
       "array([[1043, 1056],\n",
       "       [ 369,  742]])"
      ]
     },
     "execution_count": 235,
     "metadata": {},
     "output_type": "execute_result"
    }
   ],
   "source": [
    "from sklearn.metrics import confusion_matrix\n",
    "from sklearn.metrics import roc_curve,log_loss, precision_score, recall_score, confusion_matrix, classification_report, accuracy_score, f1_score\n",
    "print('LR1 confusion matrix')\n",
    "#lr1train = confusion_matrix(y_train, y_pred_train, normalize= None)\n",
    "lr1test = confusion_matrix(y_test, y_pred_test, normalize = None)\n",
    "lr1test"
   ]
  },
  {
   "cell_type": "code",
   "execution_count": 236,
   "metadata": {},
   "outputs": [
    {
     "name": "stdout",
     "output_type": "stream",
     "text": [
      "Test macro average recall score is  0.5823850369791624\n"
     ]
    }
   ],
   "source": [
    "print('Test macro average recall score is ',recall_score(y_test, y_pred_test, average = 'macro'))"
   ]
  },
  {
   "cell_type": "code",
   "execution_count": 237,
   "metadata": {},
   "outputs": [
    {
     "name": "stdout",
     "output_type": "stream",
     "text": [
      "Test macro average recall score is  0.606212550745308\n",
      "Train macro average recall score is  0.6625099285146943\n"
     ]
    }
   ],
   "source": [
    "knn1 = KNeighborsClassifier(n_neighbors=15, weights='uniform', leaf_size=20)\n",
    "knn1.fit(X_train_scaled, y_train)\n",
    "\n",
    "y_test_predknn1 = knn1.predict(X_test_scaled)\n",
    "y_train_predknn1 = knn1.predict(X_train_scaled)\n",
    "print('Test macro average recall score is ',recall_score(y_test, y_test_predknn1,average = 'macro'))\n",
    "print('Train macro average recall score is ',recall_score(y_train, y_train_predknn1,average = 'macro'))\n"
   ]
  },
  {
   "cell_type": "code",
   "execution_count": 238,
   "metadata": {},
   "outputs": [
    {
     "name": "stdout",
     "output_type": "stream",
     "text": [
      "Test accuracy score is  0.6448598130841121\n",
      "Train accuracy score is  0.6625099285146941\n"
     ]
    }
   ],
   "source": [
    "print('Test accuracy score is ',accuracy_score(y_test, y_test_predknn1))\n",
    "print('Train accuracy score is ',accuracy_score(y_train, y_train_predknn1))\n"
   ]
  },
  {
   "cell_type": "code",
   "execution_count": 203,
   "metadata": {},
   "outputs": [],
   "source": [
    "\n",
    "pca = PCA(n_components = 10)\n",
    "pcafit = pca.fit_transform(X_train_scaled)"
   ]
  },
  {
   "cell_type": "code",
   "execution_count": null,
   "metadata": {},
   "outputs": [],
   "source": []
  },
  {
   "cell_type": "code",
   "execution_count": 204,
   "metadata": {},
   "outputs": [
    {
     "data": {
      "text/plain": [
       "array([[ 0.43575422, -0.10234707, -0.29685216, ...,  0.07778293,\n",
       "        -0.15778868,  0.0655847 ],\n",
       "       [-0.55860352,  0.19842185, -0.47694867, ...,  0.72004353,\n",
       "         0.57231547,  0.13789146],\n",
       "       [-0.39673753,  1.24265406,  0.29219063, ..., -0.28597422,\n",
       "        -0.29579771,  0.54782082],\n",
       "       ...,\n",
       "       [ 0.34263006, -0.17042298, -0.5066707 , ...,  0.14142686,\n",
       "        -0.10265191,  0.19542517],\n",
       "       [-0.44013757, -0.22448087, -0.12158792, ..., -0.08859305,\n",
       "         0.3604144 ,  0.48417662],\n",
       "       [ 0.40444871,  2.0169735 ,  0.07690496, ...,  0.37453427,\n",
       "         0.22234005, -0.29144741]])"
      ]
     },
     "execution_count": 204,
     "metadata": {},
     "output_type": "execute_result"
    }
   ],
   "source": [
    "pcafit"
   ]
  },
  {
   "cell_type": "code",
   "execution_count": 205,
   "metadata": {},
   "outputs": [],
   "source": [
    "dfpca = pd.DataFrame(pcafit)"
   ]
  },
  {
   "cell_type": "code",
   "execution_count": 206,
   "metadata": {},
   "outputs": [
    {
     "data": {
      "text/html": [
       "<div>\n",
       "<style scoped>\n",
       "    .dataframe tbody tr th:only-of-type {\n",
       "        vertical-align: middle;\n",
       "    }\n",
       "\n",
       "    .dataframe tbody tr th {\n",
       "        vertical-align: top;\n",
       "    }\n",
       "\n",
       "    .dataframe thead th {\n",
       "        text-align: right;\n",
       "    }\n",
       "</style>\n",
       "<table border=\"1\" class=\"dataframe\">\n",
       "  <thead>\n",
       "    <tr style=\"text-align: right;\">\n",
       "      <th></th>\n",
       "      <th>0</th>\n",
       "      <th>1</th>\n",
       "      <th>2</th>\n",
       "      <th>3</th>\n",
       "      <th>4</th>\n",
       "      <th>5</th>\n",
       "      <th>6</th>\n",
       "      <th>7</th>\n",
       "      <th>8</th>\n",
       "      <th>9</th>\n",
       "    </tr>\n",
       "  </thead>\n",
       "  <tbody>\n",
       "    <tr>\n",
       "      <th>0</th>\n",
       "      <td>0.435754</td>\n",
       "      <td>-0.102347</td>\n",
       "      <td>-0.296852</td>\n",
       "      <td>0.059568</td>\n",
       "      <td>0.068645</td>\n",
       "      <td>-0.601053</td>\n",
       "      <td>0.402622</td>\n",
       "      <td>0.077783</td>\n",
       "      <td>-0.157789</td>\n",
       "      <td>0.065585</td>\n",
       "    </tr>\n",
       "    <tr>\n",
       "      <th>1</th>\n",
       "      <td>-0.558604</td>\n",
       "      <td>0.198422</td>\n",
       "      <td>-0.476949</td>\n",
       "      <td>0.337714</td>\n",
       "      <td>0.739539</td>\n",
       "      <td>0.100422</td>\n",
       "      <td>-0.426229</td>\n",
       "      <td>0.720044</td>\n",
       "      <td>0.572315</td>\n",
       "      <td>0.137891</td>\n",
       "    </tr>\n",
       "    <tr>\n",
       "      <th>2</th>\n",
       "      <td>-0.396738</td>\n",
       "      <td>1.242654</td>\n",
       "      <td>0.292191</td>\n",
       "      <td>0.249984</td>\n",
       "      <td>0.086478</td>\n",
       "      <td>1.102601</td>\n",
       "      <td>0.422171</td>\n",
       "      <td>-0.285974</td>\n",
       "      <td>-0.295798</td>\n",
       "      <td>0.547821</td>\n",
       "    </tr>\n",
       "    <tr>\n",
       "      <th>3</th>\n",
       "      <td>0.417460</td>\n",
       "      <td>-0.140997</td>\n",
       "      <td>-0.320154</td>\n",
       "      <td>-0.107829</td>\n",
       "      <td>-0.064853</td>\n",
       "      <td>-0.527881</td>\n",
       "      <td>0.514789</td>\n",
       "      <td>0.116491</td>\n",
       "      <td>-0.345337</td>\n",
       "      <td>-0.048285</td>\n",
       "    </tr>\n",
       "    <tr>\n",
       "      <th>4</th>\n",
       "      <td>-0.348570</td>\n",
       "      <td>-0.243916</td>\n",
       "      <td>-0.200672</td>\n",
       "      <td>-0.126263</td>\n",
       "      <td>-0.252656</td>\n",
       "      <td>-0.075732</td>\n",
       "      <td>-0.221482</td>\n",
       "      <td>-0.036159</td>\n",
       "      <td>-0.511113</td>\n",
       "      <td>-0.424124</td>\n",
       "    </tr>\n",
       "    <tr>\n",
       "      <th>...</th>\n",
       "      <td>...</td>\n",
       "      <td>...</td>\n",
       "      <td>...</td>\n",
       "      <td>...</td>\n",
       "      <td>...</td>\n",
       "      <td>...</td>\n",
       "      <td>...</td>\n",
       "      <td>...</td>\n",
       "      <td>...</td>\n",
       "      <td>...</td>\n",
       "    </tr>\n",
       "    <tr>\n",
       "      <th>12586</th>\n",
       "      <td>0.445424</td>\n",
       "      <td>1.269067</td>\n",
       "      <td>0.875991</td>\n",
       "      <td>0.343203</td>\n",
       "      <td>-0.050117</td>\n",
       "      <td>0.083349</td>\n",
       "      <td>0.835046</td>\n",
       "      <td>-0.356056</td>\n",
       "      <td>-0.070039</td>\n",
       "      <td>-0.577512</td>\n",
       "    </tr>\n",
       "    <tr>\n",
       "      <th>12587</th>\n",
       "      <td>-0.554693</td>\n",
       "      <td>-0.387555</td>\n",
       "      <td>-0.667133</td>\n",
       "      <td>0.151255</td>\n",
       "      <td>0.218890</td>\n",
       "      <td>0.665423</td>\n",
       "      <td>0.375216</td>\n",
       "      <td>0.079043</td>\n",
       "      <td>0.084022</td>\n",
       "      <td>0.161981</td>\n",
       "    </tr>\n",
       "    <tr>\n",
       "      <th>12588</th>\n",
       "      <td>0.342630</td>\n",
       "      <td>-0.170423</td>\n",
       "      <td>-0.506671</td>\n",
       "      <td>0.022990</td>\n",
       "      <td>0.078903</td>\n",
       "      <td>-0.240774</td>\n",
       "      <td>0.574842</td>\n",
       "      <td>0.141427</td>\n",
       "      <td>-0.102652</td>\n",
       "      <td>0.195425</td>\n",
       "    </tr>\n",
       "    <tr>\n",
       "      <th>12589</th>\n",
       "      <td>-0.440138</td>\n",
       "      <td>-0.224481</td>\n",
       "      <td>-0.121588</td>\n",
       "      <td>0.193552</td>\n",
       "      <td>-0.623857</td>\n",
       "      <td>-0.261974</td>\n",
       "      <td>-0.270971</td>\n",
       "      <td>-0.088593</td>\n",
       "      <td>0.360414</td>\n",
       "      <td>0.484177</td>\n",
       "    </tr>\n",
       "    <tr>\n",
       "      <th>12590</th>\n",
       "      <td>0.404449</td>\n",
       "      <td>2.016973</td>\n",
       "      <td>0.076905</td>\n",
       "      <td>0.028520</td>\n",
       "      <td>-0.069037</td>\n",
       "      <td>0.044610</td>\n",
       "      <td>0.420554</td>\n",
       "      <td>0.374534</td>\n",
       "      <td>0.222340</td>\n",
       "      <td>-0.291447</td>\n",
       "    </tr>\n",
       "  </tbody>\n",
       "</table>\n",
       "<p>12591 rows × 10 columns</p>\n",
       "</div>"
      ],
      "text/plain": [
       "              0         1         2         3         4         5         6  \\\n",
       "0      0.435754 -0.102347 -0.296852  0.059568  0.068645 -0.601053  0.402622   \n",
       "1     -0.558604  0.198422 -0.476949  0.337714  0.739539  0.100422 -0.426229   \n",
       "2     -0.396738  1.242654  0.292191  0.249984  0.086478  1.102601  0.422171   \n",
       "3      0.417460 -0.140997 -0.320154 -0.107829 -0.064853 -0.527881  0.514789   \n",
       "4     -0.348570 -0.243916 -0.200672 -0.126263 -0.252656 -0.075732 -0.221482   \n",
       "...         ...       ...       ...       ...       ...       ...       ...   \n",
       "12586  0.445424  1.269067  0.875991  0.343203 -0.050117  0.083349  0.835046   \n",
       "12587 -0.554693 -0.387555 -0.667133  0.151255  0.218890  0.665423  0.375216   \n",
       "12588  0.342630 -0.170423 -0.506671  0.022990  0.078903 -0.240774  0.574842   \n",
       "12589 -0.440138 -0.224481 -0.121588  0.193552 -0.623857 -0.261974 -0.270971   \n",
       "12590  0.404449  2.016973  0.076905  0.028520 -0.069037  0.044610  0.420554   \n",
       "\n",
       "              7         8         9  \n",
       "0      0.077783 -0.157789  0.065585  \n",
       "1      0.720044  0.572315  0.137891  \n",
       "2     -0.285974 -0.295798  0.547821  \n",
       "3      0.116491 -0.345337 -0.048285  \n",
       "4     -0.036159 -0.511113 -0.424124  \n",
       "...         ...       ...       ...  \n",
       "12586 -0.356056 -0.070039 -0.577512  \n",
       "12587  0.079043  0.084022  0.161981  \n",
       "12588  0.141427 -0.102652  0.195425  \n",
       "12589 -0.088593  0.360414  0.484177  \n",
       "12590  0.374534  0.222340 -0.291447  \n",
       "\n",
       "[12591 rows x 10 columns]"
      ]
     },
     "execution_count": 206,
     "metadata": {},
     "output_type": "execute_result"
    }
   ],
   "source": [
    "dfpca"
   ]
  },
  {
   "cell_type": "code",
   "execution_count": 208,
   "metadata": {},
   "outputs": [
    {
     "data": {
      "text/plain": [
       "<matplotlib.axes._subplots.AxesSubplot at 0x7fdb7ef7bf50>"
      ]
     },
     "execution_count": 208,
     "metadata": {},
     "output_type": "execute_result"
    },
    {
     "data": {
      "image/png": "[encoded data removed]",
      "text/plain": [
       "<Figure size 432x288 with 1 Axes>"
      ]
     },
     "metadata": {
      "needs_background": "light"
     },
     "output_type": "display_data"
    }
   ],
   "source": [
    "sns.scatterplot(dfpca[0], dfpca[1], s = 10)"
   ]
  },
  {
   "cell_type": "code",
   "execution_count": 209,
   "metadata": {},
   "outputs": [
    {
     "name": "stderr",
     "output_type": "stream",
     "text": [
      "/Users/robholmstrom/miniconda3/lib/python3.7/site-packages/numba/np/ufunc/parallel.py:355: NumbaWarning: The TBB threading layer requires TBB version 2019.5 or later i.e., TBB_INTERFACE_VERSION >= 11005. Found TBB_INTERFACE_VERSION = 10005. The TBB threading layer is disabled.\n",
      "  warnings.warn(problem)\n"
     ]
    }
   ],
   "source": [
    "uppca = umap.UMAP(n_neighbors=50,\n",
    "                      min_dist=.3,\n",
    "                      metric='correlation').fit_transform(dfpca)\n"
   ]
  },
  {
   "cell_type": "code",
   "execution_count": 210,
   "metadata": {},
   "outputs": [
    {
     "data": {
      "text/plain": [
       "<matplotlib.axes._subplots.AxesSubplot at 0x7fdb59e6d450>"
      ]
     },
     "execution_count": 210,
     "metadata": {},
     "output_type": "execute_result"
    },
    {
     "data": {
      "image/png": "[encoded data removed]",
      "text/plain": [
       "<Figure size 432x288 with 1 Axes>"
      ]
     },
     "metadata": {
      "needs_background": "light"
     },
     "output_type": "display_data"
    }
   ],
   "source": [
    "sns.scatterplot(uppca[:,0], uppca[:,1], s = 10)"
   ]
  },
  {
   "cell_type": "code",
   "execution_count": 211,
   "metadata": {},
   "outputs": [],
   "source": [
    "from sklearn.mixture import GaussianMixture\n",
    "gmm = GaussianMixture(n_components = 3)\n",
    "gmm.fit(dfpca)\n",
    "pcagmmlabels = gmm.predict(dfpca)\n"
   ]
  },
  {
   "cell_type": "code",
   "execution_count": null,
   "metadata": {},
   "outputs": [],
   "source": [
    "sns.scatterplot(dfpca[0], dfpca[1], s = 10)"
   ]
  },
  {
   "cell_type": "code",
   "execution_count": null,
   "metadata": {},
   "outputs": [],
   "source": [
    "df_labeled = pd.concat([pd.Series(pcagmmlabels), df_vec], axis = 1).rename(columns = {0:'gmmlabels'})"
   ]
  },
  {
   "cell_type": "code",
   "execution_count": null,
   "metadata": {},
   "outputs": [],
   "source": [
    "df_labeled.info()"
   ]
  },
  {
   "cell_type": "code",
   "execution_count": null,
   "metadata": {},
   "outputs": [],
   "source": [
    "df_labeled.groupby('gmmlabels').mean()"
   ]
  },
  {
   "cell_type": "code",
   "execution_count": null,
   "metadata": {},
   "outputs": [],
   "source": [
    "df_vec.info()"
   ]
  },
  {
   "cell_type": "code",
   "execution_count": null,
   "metadata": {},
   "outputs": [],
   "source": [
    "df_vec.head()"
   ]
  },
  {
   "cell_type": "code",
   "execution_count": 2294,
   "metadata": {},
   "outputs": [],
   "source": [
    "\n",
    "up = umap.UMAP(n_neighbors=20,\n",
    "                      min_dist=.5,\n",
    "                      metric='euclidean').fit_transform(df_vec_scaled_ws)\n"
   ]
  },
  {
   "cell_type": "code",
   "execution_count": 2295,
   "metadata": {},
   "outputs": [
    {
     "data": {
      "text/plain": [
       "(12838, 2)"
      ]
     },
     "execution_count": 2295,
     "metadata": {},
     "output_type": "execute_result"
    }
   ],
   "source": [
    "up.shape"
   ]
  },
  {
   "cell_type": "code",
   "execution_count": 2296,
   "metadata": {},
   "outputs": [
    {
     "data": {
      "text/plain": [
       "<matplotlib.axes._subplots.AxesSubplot at 0x7f8386113350>"
      ]
     },
     "execution_count": 2296,
     "metadata": {},
     "output_type": "execute_result"
    },
    {
     "data": {
      "image/png": "[encoded data removed]",
      "text/plain": [
       "<Figure size 432x288 with 1 Axes>"
      ]
     },
     "metadata": {
      "needs_background": "light"
     },
     "output_type": "display_data"
    }
   ],
   "source": [
    "sns.scatterplot(up[:,0], up[:,1], s = 10)"
   ]
  },
  {
   "cell_type": "code",
   "execution_count": 2297,
   "metadata": {},
   "outputs": [],
   "source": [
    "km = KMeans(n_clusters = 6)\n",
    "km.fit_transform(up)\n",
    "upkmlabels = km.labels_"
   ]
  },
  {
   "cell_type": "code",
   "execution_count": 2298,
   "metadata": {},
   "outputs": [],
   "source": [
    "df_labeled = pd.concat([pd.Series(upkmlabels), df_labeled], axis = 1).rename(columns = {0:'upkmlabels'})"
   ]
  },
  {
   "cell_type": "code",
   "execution_count": 2299,
   "metadata": {},
   "outputs": [
    {
     "data": {
      "text/plain": [
       "(12838, 54)"
      ]
     },
     "execution_count": 2299,
     "metadata": {},
     "output_type": "execute_result"
    }
   ],
   "source": [
    "df_labeled.shape"
   ]
  },
  {
   "cell_type": "code",
   "execution_count": 2300,
   "metadata": {},
   "outputs": [
    {
     "data": {
      "text/plain": [
       "<matplotlib.axes._subplots.AxesSubplot at 0x7f74cfa13210>"
      ]
     },
     "execution_count": 2300,
     "metadata": {},
     "output_type": "execute_result"
    },
    {
     "data": {
      "image/png": "[encoded data removed]",
      "text/plain": [
       "<Figure size 432x288 with 1 Axes>"
      ]
     },
     "metadata": {
      "needs_background": "light"
     },
     "output_type": "display_data"
    }
   ],
   "source": [
    "sns.scatterplot(up[:,0], up[:,1], s = 10, hue = df_labeled['stars_avg'])"
   ]
  },
  {
   "cell_type": "code",
   "execution_count": 2259,
   "metadata": {},
   "outputs": [
    {
     "name": "stdout",
     "output_type": "stream",
     "text": [
      "Requirement already satisfied: vaderSentiment in /Users/robholmstrom/miniconda3/lib/python3.7/site-packages (3.3.2)\n",
      "Requirement already satisfied: requests in /Users/robholmstrom/miniconda3/lib/python3.7/site-packages (from vaderSentiment) (2.24.0)\n",
      "Requirement already satisfied: urllib3!=1.25.0,!=1.25.1,<1.26,>=1.21.1 in /Users/robholmstrom/miniconda3/lib/python3.7/site-packages (from requests->vaderSentiment) (1.25.10)\n",
      "Requirement already satisfied: chardet<4,>=3.0.2 in /Users/robholmstrom/miniconda3/lib/python3.7/site-packages (from requests->vaderSentiment) (3.0.4)\n",
      "Requirement already satisfied: certifi>=2017.4.17 in /Users/robholmstrom/miniconda3/lib/python3.7/site-packages (from requests->vaderSentiment) (2020.6.20)\n",
      "Requirement already satisfied: idna<3,>=2.5 in /Users/robholmstrom/miniconda3/lib/python3.7/site-packages (from requests->vaderSentiment) (2.10)\n",
      "Note: you may need to restart the kernel to use updated packages.\n"
     ]
    }
   ],
   "source": [
    "pip install vaderSentiment\n"
   ]
  },
  {
   "cell_type": "code",
   "execution_count": 1808,
   "metadata": {},
   "outputs": [],
   "source": [
    "from vaderSentiment.vaderSentiment import SentimentIntensityAnalyzer\n"
   ]
  },
  {
   "cell_type": "code",
   "execution_count": 1809,
   "metadata": {},
   "outputs": [],
   "source": [
    "analyzer = SentimentIntensityAnalyzer()\n",
    "\n"
   ]
  },
  {
   "cell_type": "code",
   "execution_count": 2269,
   "metadata": {},
   "outputs": [],
   "source": [
    "df_rev_cens = df2_3yrs.merge(df_census, on = 'business_id', how = 'inner')\n"
   ]
  },
  {
   "cell_type": "code",
   "execution_count": 2262,
   "metadata": {},
   "outputs": [
    {
     "name": "stdout",
     "output_type": "stream",
     "text": [
      "<class 'pandas.core.frame.DataFrame'>\n",
      "Int64Index: 759454 entries, 0 to 759453\n",
      "Data columns (total 31 columns):\n",
      " #   Column            Non-Null Count   Dtype         \n",
      "---  ------            --------------   -----         \n",
      " 0   review_id         759454 non-null  object        \n",
      " 1   user_id           759454 non-null  object        \n",
      " 2   business_id       759454 non-null  object        \n",
      " 3   stars             759454 non-null  int64         \n",
      " 4   useful            759454 non-null  int64         \n",
      " 5   funny             759454 non-null  int64         \n",
      " 6   cool              759454 non-null  int64         \n",
      " 7   text              759454 non-null  object        \n",
      " 8   date              759454 non-null  datetime64[ns]\n",
      " 9   text length       759454 non-null  int64         \n",
      " 10  year              759454 non-null  int64         \n",
      " 11  month             759454 non-null  object        \n",
      " 12  weekday           759454 non-null  object        \n",
      " 13  hour              759454 non-null  int64         \n",
      " 14  name              759454 non-null  object        \n",
      " 15  address           759454 non-null  object        \n",
      " 16  city              759454 non-null  object        \n",
      " 17  state             759454 non-null  object        \n",
      " 18  postal_code       759454 non-null  object        \n",
      " 19  latitude          759454 non-null  float64       \n",
      " 20  longitude         759454 non-null  float64       \n",
      " 21  review_count      759454 non-null  int64         \n",
      " 22  is_open           759454 non-null  int64         \n",
      " 23  stars_avg         759454 non-null  float64       \n",
      " 24  categories_fixed  759454 non-null  object        \n",
      " 25  food_type         759454 non-null  object        \n",
      " 26  ethnicity         759454 non-null  object        \n",
      " 27  venue             759454 non-null  object        \n",
      " 28  food_comb         759454 non-null  object        \n",
      " 29  geometry          759454 non-null  geometry      \n",
      " 30  agi_mean          759454 non-null  float64       \n",
      "dtypes: datetime64[ns](1), float64(4), geometry(1), int64(9), object(16)\n",
      "memory usage: 185.4+ MB\n"
     ]
    }
   ],
   "source": [
    "df_rev_cens.info()"
   ]
  },
  {
   "cell_type": "code",
   "execution_count": 2264,
   "metadata": {},
   "outputs": [],
   "source": [
    "text = df_rev_cens.iloc[0]['text']"
   ]
  },
  {
   "cell_type": "code",
   "execution_count": 2265,
   "metadata": {},
   "outputs": [
    {
     "data": {
      "text/plain": [
       "{'neg': 0.0, 'neu': 0.639, 'pos': 0.361, 'compound': 0.9402}"
      ]
     },
     "execution_count": 2265,
     "metadata": {},
     "output_type": "execute_result"
    }
   ],
   "source": [
    "analyzer.polarity_scores(text)"
   ]
  },
  {
   "cell_type": "code",
   "execution_count": 2268,
   "metadata": {},
   "outputs": [],
   "source": [
    "sentiment = []\n",
    "for i, row in df_rev_cens.iterrows():\n",
    "    data = analyzer.polarity_scores(row['text'])\n",
    "    data['text'] = row['text']\n",
    "  \n",
    "    sentiment.append(data)\n"
   ]
  },
  {
   "cell_type": "code",
   "execution_count": 1813,
   "metadata": {},
   "outputs": [
    {
     "data": {
      "text/plain": [
       "[{'neg': 0.028,\n",
       "  'neu': 0.768,\n",
       "  'pos': 0.204,\n",
       "  'compound': 0.9887,\n",
       "  'text': 'Oh happy day, finally have a Canes near my casa. Yes just as others are griping about the Drive thru is packed just like most of the other canes in the area but I like to go sit down to enjoy my chicken. The cashiers are pleasant and as far as food wise i have yet to receive any funky chicken. The clean up crew zips around the dining area constantly so it\\'s usually well kept. My only gripe is the one fella with Red hair he makes the rounds while cleaning but no smile or personality a few nights ago he tossed the napkins i just put on the table to help go with my meal. After I was done he just reached for my tray no \"excuse me or are you done with that?\"  I realize he\\'s trying to do his job quickly but a little table manners goes along way. That being said still like to grub here and glad that there\\'s finally a Cane\\'s close to me.'},\n",
       " {'neg': 0.0,\n",
       "  'neu': 0.596,\n",
       "  'pos': 0.404,\n",
       "  'compound': 0.962,\n",
       "  'text': 'Awesome office and staff, very professional and friendly. I saw Adam Garling PA-C and his assistant, they were very friendly, professional, and helpful. I highly recommend Centennial Dermatology! I will definitely return for more visits.'},\n",
       " {'neg': 0.07,\n",
       "  'neu': 0.885,\n",
       "  'pos': 0.046,\n",
       "  'compound': -0.5499,\n",
       "  'text': \"If I could give less than one star, that would have been my choice.  I rent a home and Per my lease agreement it is MY responsibility to pay their Pool Service company.  Within the last year they changed to PoolServ.  I have had  major issues with new techs every week, never checking PH balances, cleaning the filter, and not showing up at all 2 weeks in the past 2 months. I have had 4 different techs in the past 4 weeks.   I have emailed and called them and they never respond back nor even acknowledged my concerns or requests.  I cannot change companies but I'm required to still pay for lousy or no service.  Attached are a couple pictures of my pool recently due to one tech just didn't put any chlorine in it at all according to the tech who came the following week to attempt to clean it up.  Please think twice before working with these people.  No one wants to work with a business that doesn't return phone calls or emails.\"},\n",
       " {'neg': 0.029,\n",
       "  'neu': 0.819,\n",
       "  'pos': 0.152,\n",
       "  'compound': 0.9942,\n",
       "  'text': \"A close friend was in town and so instead of taking him to a more well established joint, we decided to try the newly opened Choolah. We were not disappointed.\\n\\nI am a bit of an amateur chef myself and consider my palate to be fairly sophisticated when it comes to all kinds of South Asian cuisine. This is not authentic Indian food - we don't have rice and salad bowls - but it is good, wholesome, high quality Indian food.\\n\\nI ordered a bowl of rice, yellow daal and the koftas (meatballs). The daal was perfect, the way daal should be cooked. The koftas were a little bland for my taste, but otherwise not bad...soft and the right texture. Paired with the many sauces and onions and the whole dish was wholesome and rich and very filling. My friend ordered the biryani, which, while not bad, still isn't the way real biryani should be, and I come from a city known for its biryani - but then I still haven't found a single place in America that makes biryani the way they do it back home.\\n\\nThe ambiance is good and there's plenty of room to sit. The line moves quickly and at most you'll face a 10-15 min wait on a crowded day. The only issue I had was with the music - being a designer, it bothers me that the music selection to go with such great interiors  could have been better...I would expect Bollywood classics or Indian classical fusion instead of the usual loud pop music.\\n\\nTldr: if you're looking for authentically prepared and presented Indian food you'll be disappointed. If you're looking for high quality Indian-American food, this is a great place to get it. Will be coming back to try their tikka masala and chicken next.\\n\\nUpdate: went there again with a bunch of friends and tried their chicken tikka masala and pav bhaji. This is hands down the best Indian place in Pittsburgh - the bhaji is to die for. Make sure you sprinkle lemon on top and have the pav with mango chutney.\"},\n",
       " {'neg': 0.082,\n",
       "  'neu': 0.918,\n",
       "  'pos': 0.0,\n",
       "  'compound': -0.8326,\n",
       "  'text': \"Tried to have my car repaired.  Even made an appointment.  I was told that all my appointment was for is to meet the service advisor, not get any work completed on my car.  Such a waste of time.  Even talked to the Service Manager, he didn't care.  Since that was the attitude of the service department, I can only expect that from the mechanics that would have worked on my car.  Went to another dealership, made an appointment and my car went in to be repaired.  Not told to come back later and they might get to my car. Very poor service.\"},\n",
       " {'neg': 0.032,\n",
       "  'neu': 0.811,\n",
       "  'pos': 0.157,\n",
       "  'compound': 0.9651,\n",
       "  'text': 'My husband and I go there once a week since last year. We LOVE seafood. Unfortunately, I regretfully say that this place is a hit and miss for us. Some weeks are good, fresh and saucy. Some weeks can be completely opposite. I never thought about writing a review until our experience last week. \\nWe ordered medium chicken wings and hot trifecta 2 lbs of shrimp. The wings came out SUPER spicy (probably hot) and the shrimp came out plain ( 99% butter and 1% spices). When we ordered we asked to make sure we have enough sauce but they came in almost dry. My husband and I love this place but we just never know what we will get that night. We just dodge the bullet and hopefully they will be better than last week.'},\n",
       " {'neg': 0.0,\n",
       "  'neu': 0.497,\n",
       "  'pos': 0.503,\n",
       "  'compound': 0.9648,\n",
       "  'text': \"Holy heck this place is amazing. I love their chicken tacos they're by far my favorite. Great customer service and all round awesome experience.\"},\n",
       " {'neg': 0.0,\n",
       "  'neu': 0.567,\n",
       "  'pos': 0.433,\n",
       "  'compound': 0.9642,\n",
       "  'text': 'I love the classes at this gym. Zumba and. Radio Hip Hop are my favorite. This is such a great fun and I love that it is so reasonably priced!'},\n",
       " {'neg': 0.03,\n",
       "  'neu': 0.767,\n",
       "  'pos': 0.204,\n",
       "  'compound': 0.9942,\n",
       "  'text': 'In the heart of Chinatown, I discovered it enroute to Kensington Market one day. It\\'s quite hard to see, if you don\\'t know it\\'s there. First experience was very positive - would definitely return!\\n\\nATMOSPHERE: Small space. Think Banh Mi Boys, and other trendy over-the-counter eateries. Vibe is casual. Free WiFi is nice.\\n\\nSERVICE: Okay. Staff does their job, but not overly helpful upon entering the space. Maybe because it\\'s an over-the-counter style place, but it would have been nice to be walked through their ordering process and menu.\\n\\nPRICE: Average. Depends on the size of pizza you order.The small pizza ($7-9.50) is filling for one. Large size pizza ($13-18.50) is good for sharing... or one VERY hungry person.  Pasta portions are very generous for the price tag ($9-14)\\n\\n\\nFOOD: My friends and I were here for the first time, and we thought it was a pizza place so we all ordered pizza. It wasn\\'t until we were waiting for the food to come, that we looked around and realised EVERY other table around us only had pasta on them. Guess we gotta come back to try! We did notice that the menu said their pasta is homemade. So will definitely come back.\\n\\nHere\\'s the pizza we ordered:\\n\\nPeking Duck Pizza - Very tasty! Rich flavours that work well. But it\\'s heavy, so come hungry - or order to share.\\n\\nMargherita - Good, but not the best. I recommend trying the more \"special\" toppings instead.\\n\\nShall return, and/or try other locations.'},\n",
       " {'neg': 0.0,\n",
       "  'neu': 0.639,\n",
       "  'pos': 0.361,\n",
       "  'compound': 0.9402,\n",
       "  'text': 'Always a fun outing to come for great hot dogs and ALL the fixings!  A great place to bring out of town company for a good lunch a new experience.'}]"
      ]
     },
     "execution_count": 1813,
     "metadata": {},
     "output_type": "execute_result"
    }
   ],
   "source": [
    "sentiment"
   ]
  },
  {
   "cell_type": "code",
   "execution_count": 1814,
   "metadata": {},
   "outputs": [
    {
     "data": {
      "text/html": [
       "<div>\n",
       "<style scoped>\n",
       "    .dataframe tbody tr th:only-of-type {\n",
       "        vertical-align: middle;\n",
       "    }\n",
       "\n",
       "    .dataframe tbody tr th {\n",
       "        vertical-align: top;\n",
       "    }\n",
       "\n",
       "    .dataframe thead th {\n",
       "        text-align: right;\n",
       "    }\n",
       "</style>\n",
       "<table border=\"1\" class=\"dataframe\">\n",
       "  <thead>\n",
       "    <tr style=\"text-align: right;\">\n",
       "      <th></th>\n",
       "      <th>neg</th>\n",
       "      <th>neu</th>\n",
       "      <th>pos</th>\n",
       "      <th>compound</th>\n",
       "      <th>text</th>\n",
       "    </tr>\n",
       "  </thead>\n",
       "  <tbody>\n",
       "    <tr>\n",
       "      <th>0</th>\n",
       "      <td>0.028</td>\n",
       "      <td>0.768</td>\n",
       "      <td>0.204</td>\n",
       "      <td>0.9887</td>\n",
       "      <td>Oh happy day, finally have a Canes near my cas...</td>\n",
       "    </tr>\n",
       "    <tr>\n",
       "      <th>1</th>\n",
       "      <td>0.000</td>\n",
       "      <td>0.596</td>\n",
       "      <td>0.404</td>\n",
       "      <td>0.9620</td>\n",
       "      <td>Awesome office and staff, very professional an...</td>\n",
       "    </tr>\n",
       "    <tr>\n",
       "      <th>2</th>\n",
       "      <td>0.070</td>\n",
       "      <td>0.885</td>\n",
       "      <td>0.046</td>\n",
       "      <td>-0.5499</td>\n",
       "      <td>If I could give less than one star, that would...</td>\n",
       "    </tr>\n",
       "    <tr>\n",
       "      <th>3</th>\n",
       "      <td>0.029</td>\n",
       "      <td>0.819</td>\n",
       "      <td>0.152</td>\n",
       "      <td>0.9942</td>\n",
       "      <td>A close friend was in town and so instead of t...</td>\n",
       "    </tr>\n",
       "    <tr>\n",
       "      <th>4</th>\n",
       "      <td>0.082</td>\n",
       "      <td>0.918</td>\n",
       "      <td>0.000</td>\n",
       "      <td>-0.8326</td>\n",
       "      <td>Tried to have my car repaired.  Even made an a...</td>\n",
       "    </tr>\n",
       "    <tr>\n",
       "      <th>5</th>\n",
       "      <td>0.032</td>\n",
       "      <td>0.811</td>\n",
       "      <td>0.157</td>\n",
       "      <td>0.9651</td>\n",
       "      <td>My husband and I go there once a week since la...</td>\n",
       "    </tr>\n",
       "    <tr>\n",
       "      <th>6</th>\n",
       "      <td>0.000</td>\n",
       "      <td>0.497</td>\n",
       "      <td>0.503</td>\n",
       "      <td>0.9648</td>\n",
       "      <td>Holy heck this place is amazing. I love their ...</td>\n",
       "    </tr>\n",
       "    <tr>\n",
       "      <th>7</th>\n",
       "      <td>0.000</td>\n",
       "      <td>0.567</td>\n",
       "      <td>0.433</td>\n",
       "      <td>0.9642</td>\n",
       "      <td>I love the classes at this gym. Zumba and. Rad...</td>\n",
       "    </tr>\n",
       "    <tr>\n",
       "      <th>8</th>\n",
       "      <td>0.030</td>\n",
       "      <td>0.767</td>\n",
       "      <td>0.204</td>\n",
       "      <td>0.9942</td>\n",
       "      <td>In the heart of Chinatown, I discovered it enr...</td>\n",
       "    </tr>\n",
       "    <tr>\n",
       "      <th>9</th>\n",
       "      <td>0.000</td>\n",
       "      <td>0.639</td>\n",
       "      <td>0.361</td>\n",
       "      <td>0.9402</td>\n",
       "      <td>Always a fun outing to come for great hot dogs...</td>\n",
       "    </tr>\n",
       "  </tbody>\n",
       "</table>\n",
       "</div>"
      ],
      "text/plain": [
       "     neg    neu    pos  compound  \\\n",
       "0  0.028  0.768  0.204    0.9887   \n",
       "1  0.000  0.596  0.404    0.9620   \n",
       "2  0.070  0.885  0.046   -0.5499   \n",
       "3  0.029  0.819  0.152    0.9942   \n",
       "4  0.082  0.918  0.000   -0.8326   \n",
       "5  0.032  0.811  0.157    0.9651   \n",
       "6  0.000  0.497  0.503    0.9648   \n",
       "7  0.000  0.567  0.433    0.9642   \n",
       "8  0.030  0.767  0.204    0.9942   \n",
       "9  0.000  0.639  0.361    0.9402   \n",
       "\n",
       "                                                text  \n",
       "0  Oh happy day, finally have a Canes near my cas...  \n",
       "1  Awesome office and staff, very professional an...  \n",
       "2  If I could give less than one star, that would...  \n",
       "3  A close friend was in town and so instead of t...  \n",
       "4  Tried to have my car repaired.  Even made an a...  \n",
       "5  My husband and I go there once a week since la...  \n",
       "6  Holy heck this place is amazing. I love their ...  \n",
       "7  I love the classes at this gym. Zumba and. Rad...  \n",
       "8  In the heart of Chinatown, I discovered it enr...  \n",
       "9  Always a fun outing to come for great hot dogs...  "
      ]
     },
     "execution_count": 1814,
     "metadata": {},
     "output_type": "execute_result"
    }
   ],
   "source": [
    "pd.DataFrame(sentiment)"
   ]
  },
  {
   "cell_type": "code",
   "execution_count": null,
   "metadata": {},
   "outputs": [],
   "source": []
  }
 ],
 "metadata": {
  "kernelspec": {
   "display_name": "Python 3",
   "language": "python",
   "name": "python3"
  },
  "language_info": {
   "codemirror_mode": {
    "name": "ipython",
    "version": 3
   },
   "file_extension": ".py",
   "mimetype": "text/x-python",
   "name": "python",
   "nbconvert_exporter": "python",
   "pygments_lexer": "ipython3",
   "version": "3.7.7"
  }
 },
 "nbformat": 4,
 "nbformat_minor": 4
}
