{
 "cells": [
  {
   "cell_type": "markdown",
   "metadata": {
    "colab_type": "text",
    "id": "AqgEl8DX4qhs"
   },
   "source": [
    "Notes to try: Feature importance; conversion of data to 0 and 1; logistic regression threshold"
   ]
  },
  {
   "cell_type": "code",
   "execution_count": 2,
   "metadata": {
    "colab": {
     "base_uri": "https://localhost:8080/",
     "height": 71
    },
    "colab_type": "code",
    "executionInfo": {
     "elapsed": 1283,
     "status": "ok",
     "timestamp": 1592692370264,
     "user": {
      "displayName": "Sam Holmstrom",
      "photoUrl": "",
      "userId": "05645048604521877205"
     },
     "user_tz": 300
    },
    "id": "c2_oBcuN4qht",
    "outputId": "0dd39331-42f0-4cb9-b277-fd755463f746"
   },
   "outputs": [],
   "source": [
    "import pandas as pd\n",
    "from sklearn.linear_model import LogisticRegression\n",
    "from sklearn.model_selection import train_test_split\n",
    "import numpy as np\n",
    "from sklearn.model_selection import  cross_val_score\n",
    "from sklearn.ensemble import RandomForestClassifier\n",
    "from sklearn.neighbors import KNeighborsClassifier\n",
    "from sklearn.svm import SVC\n",
    "from sklearn.model_selection import GridSearchCV\n",
    "from sklearn.metrics import plot_confusion_matrix\n",
    "from sklearn.feature_selection import SelectKBest, f_classif\n",
    "from sklearn.metrics import classification_report\n",
    "from sklearn.model_selection import cross_validate\n",
    "from sklearn.metrics import roc_curve,log_loss, precision_score, recall_score, confusion_matrix, classification_report, accuracy_score, f1_score\n",
    "from sklearn.metrics import make_scorer\n",
    "import seaborn as sns\n",
    "import matplotlib.pyplot as plt\n",
    "import itertools\n"
   ]
  },
  {
   "cell_type": "code",
   "execution_count": 4,
   "metadata": {
    "colab": {},
    "colab_type": "code",
    "executionInfo": {
     "elapsed": 861,
     "status": "ok",
     "timestamp": 1592692373181,
     "user": {
      "displayName": "Sam Holmstrom",
      "photoUrl": "",
      "userId": "05645048604521877205"
     },
     "user_tz": 300
    },
    "id": "Rj0W4Agu4qhw"
   },
   "outputs": [],
   "source": [
    "dfraw = pd.read_csv('https://raw.githubusercontent.com/robholmstrom/Sams_github/master/Capstones/Capstone2/Capstone_2_datasets/patient.csv')"
   ]
  },
  {
   "cell_type": "code",
   "execution_count": 5,
   "metadata": {
    "colab": {
     "base_uri": "https://localhost:8080/",
     "height": 34
    },
    "colab_type": "code",
    "executionInfo": {
     "elapsed": 264,
     "status": "ok",
     "timestamp": 1592692375167,
     "user": {
      "displayName": "Sam Holmstrom",
      "photoUrl": "",
      "userId": "05645048604521877205"
     },
     "user_tz": 300
    },
    "id": "MWlh25w04qhy",
    "outputId": "a763b791-310f-47ff-86e8-2117fabdd118"
   },
   "outputs": [
    {
     "data": {
      "text/plain": [
       "(95839, 20)"
      ]
     },
     "execution_count": 5,
     "metadata": {},
     "output_type": "execute_result"
    }
   ],
   "source": [
    "dfraw.shape"
   ]
  },
  {
   "cell_type": "code",
   "execution_count": 6,
   "metadata": {
    "colab": {},
    "colab_type": "code",
    "executionInfo": {
     "elapsed": 315,
     "status": "ok",
     "timestamp": 1592692377080,
     "user": {
      "displayName": "Sam Holmstrom",
      "photoUrl": "",
      "userId": "05645048604521877205"
     },
     "user_tz": 300
    },
    "id": "1SoNvoYY4qh1"
   },
   "outputs": [],
   "source": [
    "pd.set_option(\"display.max_rows\", 101)"
   ]
  },
  {
   "cell_type": "code",
   "execution_count": 7,
   "metadata": {
    "colab": {
     "base_uri": "https://localhost:8080/",
     "height": 162
    },
    "colab_type": "code",
    "executionInfo": {
     "elapsed": 334,
     "status": "ok",
     "timestamp": 1592692378333,
     "user": {
      "displayName": "Sam Holmstrom",
      "photoUrl": "",
      "userId": "05645048604521877205"
     },
     "user_tz": 300
    },
    "id": "XbIixWnZ4qh4",
    "outputId": "94faca8d-9db9-4c09-d310-947eefebe6f5"
   },
   "outputs": [
    {
     "data": {
      "text/html": [
       "<div>\n",
       "<style scoped>\n",
       "    .dataframe tbody tr th:only-of-type {\n",
       "        vertical-align: middle;\n",
       "    }\n",
       "\n",
       "    .dataframe tbody tr th {\n",
       "        vertical-align: top;\n",
       "    }\n",
       "\n",
       "    .dataframe thead th {\n",
       "        text-align: right;\n",
       "    }\n",
       "</style>\n",
       "<table border=\"1\" class=\"dataframe\">\n",
       "  <thead>\n",
       "    <tr style=\"text-align: right;\">\n",
       "      <th></th>\n",
       "      <th>sex</th>\n",
       "      <th>patient_type</th>\n",
       "      <th>intubated</th>\n",
       "      <th>pneumonia</th>\n",
       "      <th>age</th>\n",
       "      <th>pregnant</th>\n",
       "      <th>diabetes</th>\n",
       "      <th>copd</th>\n",
       "      <th>asthma</th>\n",
       "      <th>immunosuppression</th>\n",
       "      <th>hypertension</th>\n",
       "      <th>other_diseases</th>\n",
       "      <th>cardiovascular</th>\n",
       "      <th>obesity</th>\n",
       "      <th>chronic_kidney_failure</th>\n",
       "      <th>smoker</th>\n",
       "      <th>another_case</th>\n",
       "      <th>outcome</th>\n",
       "      <th>icu</th>\n",
       "      <th>death_date</th>\n",
       "    </tr>\n",
       "  </thead>\n",
       "  <tbody>\n",
       "    <tr>\n",
       "      <th>0</th>\n",
       "      <td>2</td>\n",
       "      <td>1</td>\n",
       "      <td>97</td>\n",
       "      <td>2</td>\n",
       "      <td>42</td>\n",
       "      <td>97</td>\n",
       "      <td>2</td>\n",
       "      <td>2</td>\n",
       "      <td>1</td>\n",
       "      <td>2</td>\n",
       "      <td>2</td>\n",
       "      <td>2</td>\n",
       "      <td>2</td>\n",
       "      <td>2</td>\n",
       "      <td>2</td>\n",
       "      <td>2</td>\n",
       "      <td>99</td>\n",
       "      <td>1</td>\n",
       "      <td>97</td>\n",
       "      <td>9999-99-99</td>\n",
       "    </tr>\n",
       "    <tr>\n",
       "      <th>1</th>\n",
       "      <td>1</td>\n",
       "      <td>1</td>\n",
       "      <td>97</td>\n",
       "      <td>2</td>\n",
       "      <td>51</td>\n",
       "      <td>2</td>\n",
       "      <td>2</td>\n",
       "      <td>2</td>\n",
       "      <td>2</td>\n",
       "      <td>2</td>\n",
       "      <td>2</td>\n",
       "      <td>2</td>\n",
       "      <td>2</td>\n",
       "      <td>2</td>\n",
       "      <td>2</td>\n",
       "      <td>2</td>\n",
       "      <td>99</td>\n",
       "      <td>1</td>\n",
       "      <td>97</td>\n",
       "      <td>9999-99-99</td>\n",
       "    </tr>\n",
       "    <tr>\n",
       "      <th>2</th>\n",
       "      <td>2</td>\n",
       "      <td>2</td>\n",
       "      <td>2</td>\n",
       "      <td>2</td>\n",
       "      <td>51</td>\n",
       "      <td>97</td>\n",
       "      <td>1</td>\n",
       "      <td>2</td>\n",
       "      <td>2</td>\n",
       "      <td>2</td>\n",
       "      <td>1</td>\n",
       "      <td>2</td>\n",
       "      <td>2</td>\n",
       "      <td>1</td>\n",
       "      <td>2</td>\n",
       "      <td>2</td>\n",
       "      <td>99</td>\n",
       "      <td>1</td>\n",
       "      <td>2</td>\n",
       "      <td>9999-99-99</td>\n",
       "    </tr>\n",
       "  </tbody>\n",
       "</table>\n",
       "</div>"
      ],
      "text/plain": [
       "   sex  patient_type  intubated  pneumonia  age  pregnant  diabetes  copd  \\\n",
       "0    2             1         97          2   42        97         2     2   \n",
       "1    1             1         97          2   51         2         2     2   \n",
       "2    2             2          2          2   51        97         1     2   \n",
       "\n",
       "   asthma  immunosuppression  hypertension  other_diseases  cardiovascular  \\\n",
       "0       1                  2             2               2               2   \n",
       "1       2                  2             2               2               2   \n",
       "2       2                  2             1               2               2   \n",
       "\n",
       "   obesity  chronic_kidney_failure  smoker  another_case  outcome  icu  \\\n",
       "0        2                       2       2            99        1   97   \n",
       "1        2                       2       2            99        1   97   \n",
       "2        1                       2       2            99        1    2   \n",
       "\n",
       "   death_date  \n",
       "0  9999-99-99  \n",
       "1  9999-99-99  \n",
       "2  9999-99-99  "
      ]
     },
     "execution_count": 7,
     "metadata": {},
     "output_type": "execute_result"
    }
   ],
   "source": [
    "dfraw.head(3)"
   ]
  },
  {
   "cell_type": "code",
   "execution_count": 8,
   "metadata": {
    "colab": {
     "base_uri": "https://localhost:8080/",
     "height": 476
    },
    "colab_type": "code",
    "executionInfo": {
     "elapsed": 310,
     "status": "ok",
     "timestamp": 1592692381097,
     "user": {
      "displayName": "Sam Holmstrom",
      "photoUrl": "",
      "userId": "05645048604521877205"
     },
     "user_tz": 300
    },
    "id": "X9f3-S6D4qh9",
    "outputId": "5571a152-bd8b-4848-ad50-e00cbf9c7c0a"
   },
   "outputs": [
    {
     "name": "stdout",
     "output_type": "stream",
     "text": [
      "<class 'pandas.core.frame.DataFrame'>\n",
      "RangeIndex: 95839 entries, 0 to 95838\n",
      "Data columns (total 20 columns):\n",
      " #   Column                  Non-Null Count  Dtype \n",
      "---  ------                  --------------  ----- \n",
      " 0   sex                     95839 non-null  int64 \n",
      " 1   patient_type            95839 non-null  int64 \n",
      " 2   intubated               95839 non-null  int64 \n",
      " 3   pneumonia               95839 non-null  int64 \n",
      " 4   age                     95839 non-null  int64 \n",
      " 5   pregnant                95839 non-null  int64 \n",
      " 6   diabetes                95839 non-null  int64 \n",
      " 7   copd                    95839 non-null  int64 \n",
      " 8   asthma                  95839 non-null  int64 \n",
      " 9   immunosuppression       95839 non-null  int64 \n",
      " 10  hypertension            95839 non-null  int64 \n",
      " 11  other_diseases          95839 non-null  int64 \n",
      " 12  cardiovascular          95839 non-null  int64 \n",
      " 13  obesity                 95839 non-null  int64 \n",
      " 14  chronic_kidney_failure  95839 non-null  int64 \n",
      " 15  smoker                  95839 non-null  int64 \n",
      " 16  another_case            95839 non-null  int64 \n",
      " 17  outcome                 95839 non-null  int64 \n",
      " 18  icu                     95839 non-null  int64 \n",
      " 19  death_date              95839 non-null  object\n",
      "dtypes: int64(19), object(1)\n",
      "memory usage: 14.6+ MB\n"
     ]
    }
   ],
   "source": [
    "dfraw.info()"
   ]
  },
  {
   "cell_type": "code",
   "execution_count": 9,
   "metadata": {
    "colab": {
     "base_uri": "https://localhost:8080/",
     "height": 102
    },
    "colab_type": "code",
    "executionInfo": {
     "elapsed": 377,
     "status": "ok",
     "timestamp": 1592692383398,
     "user": {
      "displayName": "Sam Holmstrom",
      "photoUrl": "",
      "userId": "05645048604521877205"
     },
     "user_tz": 300
    },
    "id": "U3AvnPDy4qh_",
    "outputId": "f04c30d3-c9b4-44af-aa0c-b8bfb8e661bb"
   },
   "outputs": [
    {
     "data": {
      "text/plain": [
       "Index(['sex', 'patient_type', 'intubated', 'pneumonia', 'age', 'pregnant',\n",
       "       'diabetes', 'copd', 'asthma', 'immunosuppression', 'hypertension',\n",
       "       'other_diseases', 'cardiovascular', 'obesity', 'chronic_kidney_failure',\n",
       "       'smoker', 'another_case', 'outcome', 'icu', 'death_date'],\n",
       "      dtype='object')"
      ]
     },
     "execution_count": 9,
     "metadata": {},
     "output_type": "execute_result"
    }
   ],
   "source": [
    "dfraw.columns"
   ]
  },
  {
   "cell_type": "markdown",
   "metadata": {
    "colab_type": "text",
    "id": "L-JIIkWX4qiB"
   },
   "source": [
    "# Data cleaning"
   ]
  },
  {
   "cell_type": "code",
   "execution_count": 10,
   "metadata": {
    "colab": {
     "base_uri": "https://localhost:8080/",
     "height": 102
    },
    "colab_type": "code",
    "executionInfo": {
     "elapsed": 497,
     "status": "ok",
     "timestamp": 1592692385628,
     "user": {
      "displayName": "Sam Holmstrom",
      "photoUrl": "",
      "userId": "05645048604521877205"
     },
     "user_tz": 300
    },
    "id": "tIWsQkf44qiC",
    "outputId": "2a60a7c8-43dd-4457-dc71-22b987130dbf"
   },
   "outputs": [
    {
     "data": {
      "text/plain": [
       "Index(['age', 'sex', 'intubated', 'pneumonia', 'pregnant', 'diabetes', 'copd',\n",
       "       'asthma', 'immunosuppression', 'hypertension', 'other_diseases',\n",
       "       'cardiovascular', 'obesity', 'chronic_kidney_failure', 'smoker', 'icu',\n",
       "       'outcome_1', 'outcome_2', 'outcome_3'],\n",
       "      dtype='object')"
      ]
     },
     "execution_count": 10,
     "metadata": {},
     "output_type": "execute_result"
    }
   ],
   "source": [
    "# DO NOT ALTER THESE LISTS!!!!!\n",
    "\n",
    "# Select out continous variable in seperate list\n",
    "unaltercols = ['age','outcome']\n",
    "# Select all columns that  will be treated the same way\n",
    "altercols = ['sex', 'patient_type', 'intubated', 'pneumonia',  'pregnant',\n",
    "       'diabetes', 'copd', 'asthma', 'immunosuppression', 'hypertension',\n",
    "       'other_diseases', 'cardiovascular', 'obesity', 'chronic_kidney_failure',\n",
    "       'smoker', 'icu']\n",
    "\n",
    "# Eliminate unclears (98 values), clear nulls (99)  and convert non-applicable (97) to 'no' for all columns\n",
    "# except pregnant or icu columns.\n",
    "# This will allow more choice downstream.\n",
    "dfreplace = pd.concat([dfraw[unaltercols], dfraw[altercols].replace({99:np.nan, 97:2, 98:np.nan})], axis = 1)\n",
    "\n",
    "# Further eliminate nulls from pregnant column\n",
    "#dfreplace1 = pd.concat([dfreplace,dfraw['pregnant'].replace(98,np.nan)], axis = 1)                    \n",
    "\n",
    "# Further eliminate nulls from icu column\n",
    "#dfreplace2 = pd.concat([dfreplace, dfraw['icu'].replace(99, np.nan)],axis=1)\n",
    "dfreplace2 = dfreplace.loc[dfreplace['patient_type'] == 2,:]\n",
    "dfreplace2 = pd.get_dummies(dfreplace2, columns = ['outcome']).drop('patient_type', axis = 1)\n",
    "dfreplace2.columns"
   ]
  },
  {
   "cell_type": "code",
   "execution_count": 11,
   "metadata": {
    "colab": {
     "base_uri": "https://localhost:8080/",
     "height": 459
    },
    "colab_type": "code",
    "executionInfo": {
     "elapsed": 607,
     "status": "ok",
     "timestamp": 1592692388757,
     "user": {
      "displayName": "Sam Holmstrom",
      "photoUrl": "",
      "userId": "05645048604521877205"
     },
     "user_tz": 300
    },
    "id": "VLaf5KIZ4qiE",
    "outputId": "54f30536-0adb-4b45-8998-148066e18aef"
   },
   "outputs": [
    {
     "name": "stdout",
     "output_type": "stream",
     "text": [
      "<class 'pandas.core.frame.DataFrame'>\n",
      "Int64Index: 25571 entries, 2 to 95836\n",
      "Data columns (total 19 columns):\n",
      " #   Column                  Non-Null Count  Dtype  \n",
      "---  ------                  --------------  -----  \n",
      " 0   age                     25571 non-null  int64  \n",
      " 1   sex                     25571 non-null  float64\n",
      " 2   intubated               25547 non-null  float64\n",
      " 3   pneumonia               25571 non-null  float64\n",
      " 4   pregnant                25521 non-null  float64\n",
      " 5   diabetes                25386 non-null  float64\n",
      " 6   copd                    25397 non-null  float64\n",
      " 7   asthma                  25391 non-null  float64\n",
      " 8   immunosuppression       25377 non-null  float64\n",
      " 9   hypertension            25397 non-null  float64\n",
      " 10  other_diseases          25289 non-null  float64\n",
      " 11  cardiovascular          25382 non-null  float64\n",
      " 12  obesity                 25394 non-null  float64\n",
      " 13  chronic_kidney_failure  25391 non-null  float64\n",
      " 14  smoker                  25392 non-null  float64\n",
      " 15  icu                     25546 non-null  float64\n",
      " 16  outcome_1               25571 non-null  uint8  \n",
      " 17  outcome_2               25571 non-null  uint8  \n",
      " 18  outcome_3               25571 non-null  uint8  \n",
      "dtypes: float64(15), int64(1), uint8(3)\n",
      "memory usage: 3.4 MB\n"
     ]
    }
   ],
   "source": [
    "dfreplace2.info()"
   ]
  },
  {
   "cell_type": "markdown",
   "metadata": {
    "colab_type": "text",
    "id": "U_pq49TU4qiG"
   },
   "source": [
    "# Feature engineering"
   ]
  },
  {
   "cell_type": "code",
   "execution_count": 12,
   "metadata": {
    "colab": {
     "base_uri": "https://localhost:8080/",
     "height": 187
    },
    "colab_type": "code",
    "executionInfo": {
     "elapsed": 337,
     "status": "ok",
     "timestamp": 1592693873207,
     "user": {
      "displayName": "Sam Holmstrom",
      "photoUrl": "",
      "userId": "05645048604521877205"
     },
     "user_tz": 300
    },
    "id": "HbLz4emm4qiI",
    "outputId": "3ec748fc-ee01-4402-fe3d-9d3760636e40"
   },
   "outputs": [
    {
     "data": {
      "text/plain": [
       "['sex',\n",
       " 'pregnant',\n",
       " 'diabetes',\n",
       " 'copd',\n",
       " 'asthma',\n",
       " 'hypertension',\n",
       " 'cardiovascular',\n",
       " 'chronic_kidney_failure',\n",
       " 'smoker',\n",
       " 'outcome_3']"
      ]
     },
     "execution_count": 12,
     "metadata": {},
     "output_type": "execute_result"
    }
   ],
   "source": [
    "# In case pregnancy is as feature, the following code builds two dataframes to choose from: dfpreg or dfall \n",
    "target = 'intubated'\n",
    "class_balance = 'yes'\n",
    "\n",
    "\n",
    "dfpreg = dfreplace2.loc[(dfreplace2['age']>=dfreplace2.loc[dfreplace2['pregnant']==1]['age'].min()) & (dfreplace2['age']<=dfreplace2.loc[dfreplace2['pregnant']==1]['age'].max()) & (dfreplace2['sex'] == 1)]\n",
    "if 'sex' in dfpreg: dfpreg = dfpreg.drop('sex', axis = 1).drop('icu', axis = 1)\n",
    "\n",
    "dficu = dfreplace2.loc[(dfreplace2['icu']==1)].drop('icu', axis = 1)\n",
    "\n",
    "dfall = dfreplace2.copy().drop('icu', axis = 1)\n",
    "\n",
    "custom_feat_cols = ['age', 'pneumonia', 'immunosuppression', 'other_diseases', 'obesity',\n",
    "       'outcome_1', 'outcome_2']\n",
    "\n",
    "\n",
    "\n",
    "\n",
    "\n",
    "  \n",
    "\n",
    "dfdropcols = [x for x in dfall if x != target and x not in custom_feat_cols]\n",
    "\n",
    "dfdropcols"
   ]
  },
  {
   "cell_type": "code",
   "execution_count": 13,
   "metadata": {
    "colab": {},
    "colab_type": "code",
    "executionInfo": {
     "elapsed": 432,
     "status": "ok",
     "timestamp": 1592693876720,
     "user": {
      "displayName": "Sam Holmstrom",
      "photoUrl": "",
      "userId": "05645048604521877205"
     },
     "user_tz": 300
    },
    "id": "1ZbggIARIC5L"
   },
   "outputs": [],
   "source": [
    "\n",
    "dfpregdrop= pd.concat([dfall['sex'], dfpreg], axis = 1).drop(dfdropcols, axis = 1)\n",
    "dfalldrop= dfall.drop(dfdropcols, axis = 1)\n",
    "dficudrop= pd.concat([dficu], axis = 1).drop(dfdropcols, axis = 1)\n",
    "\n",
    "# Choose df here:\n",
    "\n",
    "df = dficudrop\n",
    "\n"
   ]
  },
  {
   "cell_type": "code",
   "execution_count": 14,
   "metadata": {
    "colab": {},
    "colab_type": "code",
    "executionInfo": {
     "elapsed": 333,
     "status": "ok",
     "timestamp": 1592693878490,
     "user": {
      "displayName": "Sam Holmstrom",
      "photoUrl": "",
      "userId": "05645048604521877205"
     },
     "user_tz": 300
    },
    "id": "YqAMRUmA6Lro"
   },
   "outputs": [],
   "source": [
    "if target == 'icu': \n",
    "  df['icu'] = dfreplace2['icu']\n",
    "  if 'intubated' in df:\n",
    "    df = df.drop('intubated', axis = 1)"
   ]
  },
  {
   "cell_type": "code",
   "execution_count": 15,
   "metadata": {
    "colab": {},
    "colab_type": "code",
    "executionInfo": {
     "elapsed": 636,
     "status": "ok",
     "timestamp": 1592693881011,
     "user": {
      "displayName": "Sam Holmstrom",
      "photoUrl": "",
      "userId": "05645048604521877205"
     },
     "user_tz": 300
    },
    "id": "AZSFMJhu4qiK"
   },
   "outputs": [],
   "source": [
    "#Convert all 2s to 0 as they represent 'no' and 1 represents yes, except age, if in columns\n",
    "\n",
    "if 'age' in df:\n",
    "    columns_for_conversion = df.columns.tolist()\n",
    "    columns_for_conversion.remove('age')\n",
    "    df[columns_for_conversion] = df.loc[:,columns_for_conversion].replace(2,0)\n",
    "else:\n",
    "    df.replace(2,0, inplace=True)\n",
    "    \n",
    "\n"
   ]
  },
  {
   "cell_type": "code",
   "execution_count": 16,
   "metadata": {
    "colab": {
     "base_uri": "https://localhost:8080/",
     "height": 272
    },
    "colab_type": "code",
    "executionInfo": {
     "elapsed": 341,
     "status": "ok",
     "timestamp": 1592693883467,
     "user": {
      "displayName": "Sam Holmstrom",
      "photoUrl": "",
      "userId": "05645048604521877205"
     },
     "user_tz": 300
    },
    "id": "-IzTcMXG4qiM",
    "outputId": "141b81c2-9733-44dc-b6a4-6d789943b5cf"
   },
   "outputs": [
    {
     "name": "stdout",
     "output_type": "stream",
     "text": [
      "<class 'pandas.core.frame.DataFrame'>\n",
      "Int64Index: 2127 entries, 18 to 95824\n",
      "Data columns (total 8 columns):\n",
      " #   Column             Non-Null Count  Dtype  \n",
      "---  ------             --------------  -----  \n",
      " 0   age                2127 non-null   int64  \n",
      " 1   intubated          2127 non-null   float64\n",
      " 2   pneumonia          2127 non-null   float64\n",
      " 3   immunosuppression  2127 non-null   float64\n",
      " 4   other_diseases     2127 non-null   float64\n",
      " 5   obesity            2127 non-null   float64\n",
      " 6   outcome_1          2127 non-null   uint8  \n",
      " 7   outcome_2          2127 non-null   uint8  \n",
      "dtypes: float64(5), int64(1), uint8(2)\n",
      "memory usage: 120.5 KB\n"
     ]
    }
   ],
   "source": [
    "# Deleting leftover nulls from conversion of 99 and 98 to NaN\n",
    "df_non_nulls = df.dropna()\n",
    "\n",
    "# Checking nulls have been eliminated\n",
    "df_non_nulls.info()"
   ]
  },
  {
   "cell_type": "code",
   "execution_count": 17,
   "metadata": {
    "colab": {
     "base_uri": "https://localhost:8080/",
     "height": 297
    },
    "colab_type": "code",
    "executionInfo": {
     "elapsed": 573,
     "status": "ok",
     "timestamp": 1592693886242,
     "user": {
      "displayName": "Sam Holmstrom",
      "photoUrl": "",
      "userId": "05645048604521877205"
     },
     "user_tz": 300
    },
    "id": "mT7jr95D4qiO",
    "outputId": "6f658f9a-4d29-4b33-8150-41ee657e32cc",
    "scrolled": false
   },
   "outputs": [
    {
     "data": {
      "text/html": [
       "<div>\n",
       "<style scoped>\n",
       "    .dataframe tbody tr th:only-of-type {\n",
       "        vertical-align: middle;\n",
       "    }\n",
       "\n",
       "    .dataframe tbody tr th {\n",
       "        vertical-align: top;\n",
       "    }\n",
       "\n",
       "    .dataframe thead th {\n",
       "        text-align: right;\n",
       "    }\n",
       "</style>\n",
       "<table border=\"1\" class=\"dataframe\">\n",
       "  <thead>\n",
       "    <tr style=\"text-align: right;\">\n",
       "      <th></th>\n",
       "      <th>age</th>\n",
       "      <th>intubated</th>\n",
       "      <th>pneumonia</th>\n",
       "      <th>immunosuppression</th>\n",
       "      <th>other_diseases</th>\n",
       "      <th>obesity</th>\n",
       "      <th>outcome_1</th>\n",
       "      <th>outcome_2</th>\n",
       "    </tr>\n",
       "  </thead>\n",
       "  <tbody>\n",
       "    <tr>\n",
       "      <th>age</th>\n",
       "      <td>1.000000</td>\n",
       "      <td>0.074865</td>\n",
       "      <td>0.144601</td>\n",
       "      <td>-0.080505</td>\n",
       "      <td>-0.059744</td>\n",
       "      <td>0.086224</td>\n",
       "      <td>0.212248</td>\n",
       "      <td>-0.221036</td>\n",
       "    </tr>\n",
       "    <tr>\n",
       "      <th>intubated</th>\n",
       "      <td>0.074865</td>\n",
       "      <td>1.000000</td>\n",
       "      <td>0.242915</td>\n",
       "      <td>-0.041955</td>\n",
       "      <td>-0.050374</td>\n",
       "      <td>0.058181</td>\n",
       "      <td>0.141628</td>\n",
       "      <td>-0.117195</td>\n",
       "    </tr>\n",
       "    <tr>\n",
       "      <th>pneumonia</th>\n",
       "      <td>0.144601</td>\n",
       "      <td>0.242915</td>\n",
       "      <td>1.000000</td>\n",
       "      <td>-0.020579</td>\n",
       "      <td>-0.026533</td>\n",
       "      <td>0.053071</td>\n",
       "      <td>0.128167</td>\n",
       "      <td>-0.153664</td>\n",
       "    </tr>\n",
       "    <tr>\n",
       "      <th>immunosuppression</th>\n",
       "      <td>-0.080505</td>\n",
       "      <td>-0.041955</td>\n",
       "      <td>-0.020579</td>\n",
       "      <td>1.000000</td>\n",
       "      <td>0.222673</td>\n",
       "      <td>-0.014880</td>\n",
       "      <td>-0.134185</td>\n",
       "      <td>0.135765</td>\n",
       "    </tr>\n",
       "    <tr>\n",
       "      <th>other_diseases</th>\n",
       "      <td>-0.059744</td>\n",
       "      <td>-0.050374</td>\n",
       "      <td>-0.026533</td>\n",
       "      <td>0.222673</td>\n",
       "      <td>1.000000</td>\n",
       "      <td>-0.022621</td>\n",
       "      <td>-0.121600</td>\n",
       "      <td>0.131174</td>\n",
       "    </tr>\n",
       "    <tr>\n",
       "      <th>obesity</th>\n",
       "      <td>0.086224</td>\n",
       "      <td>0.058181</td>\n",
       "      <td>0.053071</td>\n",
       "      <td>-0.014880</td>\n",
       "      <td>-0.022621</td>\n",
       "      <td>1.000000</td>\n",
       "      <td>0.089727</td>\n",
       "      <td>-0.101076</td>\n",
       "    </tr>\n",
       "    <tr>\n",
       "      <th>outcome_1</th>\n",
       "      <td>0.212248</td>\n",
       "      <td>0.141628</td>\n",
       "      <td>0.128167</td>\n",
       "      <td>-0.134185</td>\n",
       "      <td>-0.121600</td>\n",
       "      <td>0.089727</td>\n",
       "      <td>1.000000</td>\n",
       "      <td>-0.814053</td>\n",
       "    </tr>\n",
       "    <tr>\n",
       "      <th>outcome_2</th>\n",
       "      <td>-0.221036</td>\n",
       "      <td>-0.117195</td>\n",
       "      <td>-0.153664</td>\n",
       "      <td>0.135765</td>\n",
       "      <td>0.131174</td>\n",
       "      <td>-0.101076</td>\n",
       "      <td>-0.814053</td>\n",
       "      <td>1.000000</td>\n",
       "    </tr>\n",
       "  </tbody>\n",
       "</table>\n",
       "</div>"
      ],
      "text/plain": [
       "                        age  intubated  pneumonia  immunosuppression  \\\n",
       "age                1.000000   0.074865   0.144601          -0.080505   \n",
       "intubated          0.074865   1.000000   0.242915          -0.041955   \n",
       "pneumonia          0.144601   0.242915   1.000000          -0.020579   \n",
       "immunosuppression -0.080505  -0.041955  -0.020579           1.000000   \n",
       "other_diseases    -0.059744  -0.050374  -0.026533           0.222673   \n",
       "obesity            0.086224   0.058181   0.053071          -0.014880   \n",
       "outcome_1          0.212248   0.141628   0.128167          -0.134185   \n",
       "outcome_2         -0.221036  -0.117195  -0.153664           0.135765   \n",
       "\n",
       "                   other_diseases   obesity  outcome_1  outcome_2  \n",
       "age                     -0.059744  0.086224   0.212248  -0.221036  \n",
       "intubated               -0.050374  0.058181   0.141628  -0.117195  \n",
       "pneumonia               -0.026533  0.053071   0.128167  -0.153664  \n",
       "immunosuppression        0.222673 -0.014880  -0.134185   0.135765  \n",
       "other_diseases           1.000000 -0.022621  -0.121600   0.131174  \n",
       "obesity                 -0.022621  1.000000   0.089727  -0.101076  \n",
       "outcome_1               -0.121600  0.089727   1.000000  -0.814053  \n",
       "outcome_2                0.131174 -0.101076  -0.814053   1.000000  "
      ]
     },
     "execution_count": 17,
     "metadata": {},
     "output_type": "execute_result"
    }
   ],
   "source": [
    "# Investigate cross-feature correlations to eliminate multicolinearity\n",
    "df_non_nulls.corr()"
   ]
  },
  {
   "cell_type": "code",
   "execution_count": 18,
   "metadata": {
    "colab": {},
    "colab_type": "code",
    "executionInfo": {
     "elapsed": 354,
     "status": "ok",
     "timestamp": 1592693890471,
     "user": {
      "displayName": "Sam Holmstrom",
      "photoUrl": "",
      "userId": "05645048604521877205"
     },
     "user_tz": 300
    },
    "id": "_LDepCva4qiP"
   },
   "outputs": [],
   "source": [
    "# Seperate features and target for modeling\n",
    "X = df_non_nulls.drop(target, axis=1)\n",
    "y = df_non_nulls[target]"
   ]
  },
  {
   "cell_type": "code",
   "execution_count": 19,
   "metadata": {
    "colab": {
     "base_uri": "https://localhost:8080/",
     "height": 34
    },
    "colab_type": "code",
    "executionInfo": {
     "elapsed": 517,
     "status": "ok",
     "timestamp": 1592693168109,
     "user": {
      "displayName": "Sam Holmstrom",
      "photoUrl": "",
      "userId": "05645048604521877205"
     },
     "user_tz": 300
    },
    "id": "JRxLe2HqUumE",
    "outputId": "f447d098-1825-486a-abd7-8bbfacfebfe2"
   },
   "outputs": [
    {
     "data": {
      "text/plain": [
       "(2127, 7)"
      ]
     },
     "execution_count": 19,
     "metadata": {},
     "output_type": "execute_result"
    }
   ],
   "source": [
    "X.shape"
   ]
  },
  {
   "cell_type": "code",
   "execution_count": 20,
   "metadata": {
    "colab": {
     "base_uri": "https://localhost:8080/",
     "height": 68
    },
    "colab_type": "code",
    "executionInfo": {
     "elapsed": 476,
     "status": "ok",
     "timestamp": 1592693892513,
     "user": {
      "displayName": "Sam Holmstrom",
      "photoUrl": "",
      "userId": "05645048604521877205"
     },
     "user_tz": 300
    },
    "id": "3SAZVsyJ4qiR",
    "outputId": "c3cfae8d-dbe4-4830-d80f-970bdcb0bfae"
   },
   "outputs": [
    {
     "name": "stdout",
     "output_type": "stream",
     "text": [
      "Index(['age', 'pneumonia', 'immunosuppression', 'other_diseases', 'obesity',\n",
      "       'outcome_1', 'outcome_2'],\n",
      "      dtype='object')\n"
     ]
    }
   ],
   "source": [
    "k = 7\n",
    "if len(X.columns) >= k:\n",
    "    skb = SelectKBest(k = k, score_func = f_classif)\n",
    "    best_kfit = skb.fit(X, y)\n",
    "    X_best_feat = best_kfit.fit_transform(X,y)\n",
    "\n",
    "    X_best_feat = pd.DataFrame(X_best_feat, columns=X.columns[best_kfit.get_support()])\n",
    "\n",
    "    print(X_best_feat.columns)\n",
    "else:\n",
    "    pass"
   ]
  },
  {
   "cell_type": "code",
   "execution_count": 21,
   "metadata": {
    "colab": {},
    "colab_type": "code",
    "executionInfo": {
     "elapsed": 279,
     "status": "ok",
     "timestamp": 1592693895352,
     "user": {
      "displayName": "Sam Holmstrom",
      "photoUrl": "",
      "userId": "05645048604521877205"
     },
     "user_tz": 300
    },
    "id": "J38k_Lgk4qiT"
   },
   "outputs": [],
   "source": [
    "X_train, X_test, y_train, y_test = train_test_split(X, y, test_size = 0.2)"
   ]
  },
  {
   "cell_type": "code",
   "execution_count": 22,
   "metadata": {
    "colab": {},
    "colab_type": "code",
    "executionInfo": {
     "elapsed": 317,
     "status": "ok",
     "timestamp": 1592693897110,
     "user": {
      "displayName": "Sam Holmstrom",
      "photoUrl": "",
      "userId": "05645048604521877205"
     },
     "user_tz": 300
    },
    "id": "kKRMzK6u4qiV"
   },
   "outputs": [],
   "source": [
    "if class_balance == 'yes':\n",
    "    from sklearn.utils import resample\n",
    "    X1 = pd.concat([X_train,y_train], axis=1)\n",
    "\n",
    "    not_target = X1[X1[target]==0]\n",
    "    targetsam = X1[X1[target]==1]\n",
    "    upsample_target = resample(targetsam,replace=True, n_samples=len(not_target))\n",
    "    upsampled = pd.concat([not_target, upsample_target])\n",
    "    y_train = upsampled[target]\n",
    "    X_train = upsampled.drop(target, axis=1)\n",
    "else:\n",
    "    pass"
   ]
  },
  {
   "cell_type": "code",
   "execution_count": 23,
   "metadata": {
    "colab": {
     "base_uri": "https://localhost:8080/",
     "height": 34
    },
    "colab_type": "code",
    "executionInfo": {
     "elapsed": 321,
     "status": "ok",
     "timestamp": 1592693626744,
     "user": {
      "displayName": "Sam Holmstrom",
      "photoUrl": "",
      "userId": "05645048604521877205"
     },
     "user_tz": 300
    },
    "id": "wFXWfimmZh5F",
    "outputId": "aadce0f7-41ab-4651-89c6-2425be9c96b3"
   },
   "outputs": [
    {
     "name": "stdout",
     "output_type": "stream",
     "text": [
      "1862 1862\n"
     ]
    }
   ],
   "source": [
    "print(len(X_train), len(y_train))"
   ]
  },
  {
   "cell_type": "code",
   "execution_count": 24,
   "metadata": {
    "colab": {
     "base_uri": "https://localhost:8080/",
     "height": 295
    },
    "colab_type": "code",
    "executionInfo": {
     "elapsed": 511,
     "status": "ok",
     "timestamp": 1592693899856,
     "user": {
      "displayName": "Sam Holmstrom",
      "photoUrl": "",
      "userId": "05645048604521877205"
     },
     "user_tz": 300
    },
    "id": "YtBLH2lo4qiY",
    "outputId": "218579bc-5093-4c98-ed19-8e2d31f803eb",
    "scrolled": true
   },
   "outputs": [
    {
     "data": {
      "image/png": "[encoded data removed]",
      "text/plain": [
       "<Figure size 432x288 with 1 Axes>"
      ]
     },
     "metadata": {
      "needs_background": "light"
     },
     "output_type": "display_data"
    }
   ],
   "source": [
    "sns.countplot(y_train)\n",
    "plt.title('Class Balance')\n",
    "plt.show()\n"
   ]
  },
  {
   "cell_type": "markdown",
   "metadata": {
    "colab_type": "text",
    "id": "bjQdbZbh4qiZ"
   },
   "source": [
    "# Logistic Regressions"
   ]
  },
  {
   "cell_type": "markdown",
   "metadata": {
    "colab_type": "text",
    "id": "9MMbHKGK4qia"
   },
   "source": [
    "Class imbalance will pose a problem for predicting instances of the less frequent category e.g intubated"
   ]
  },
  {
   "cell_type": "code",
   "execution_count": 25,
   "metadata": {
    "colab": {
     "base_uri": "https://localhost:8080/",
     "height": 299
    },
    "colab_type": "code",
    "executionInfo": {
     "elapsed": 2548,
     "status": "ok",
     "timestamp": 1592693905114,
     "user": {
      "displayName": "Sam Holmstrom",
      "photoUrl": "",
      "userId": "05645048604521877205"
     },
     "user_tz": 300
    },
    "id": "It_vsELs4qia",
    "outputId": "f9c410f1-a911-4ac4-df79-85e9b665f2df"
   },
   "outputs": [
    {
     "name": "stdout",
     "output_type": "stream",
     "text": [
      "{'C': 1, 'max_iter': 10000, 'penalty': 'l2', 'solver': 'lbfgs'}\n",
      "Best threshold for test macro average recall score for intubated is  0.5700000000000001\n"
     ]
    },
    {
     "data": {
      "image/png": "[encoded data removed]",
      "text/plain": [
       "<Figure size 432x288 with 1 Axes>"
      ]
     },
     "metadata": {
      "needs_background": "light"
     },
     "output_type": "display_data"
    }
   ],
   "source": [
    "lr1 = LogisticRegression()\n",
    "thresholds = [x for x in np.arange(.01,1,.01)]\n",
    "c_values = [10**x for x in range(-3,2)]\n",
    "params = {'solver':['liblinear','lbfgs'], 'C':c_values, 'penalty':['l2'], 'max_iter': [10000]}\n",
    "\n",
    "gslr1 = GridSearchCV(lr1, params)\n",
    "gslr1.fit(X_train, y_train)\n",
    "\n",
    "\n",
    "print(gslr1.best_params_)\n",
    "    \n",
    "y_test_predlr1 = gslr1.predict(X_test)\n",
    "y_train_predlr1 = gslr1.predict(X_train)\n",
    "\n",
    "\n",
    "y_train_probs = gslr1.predict_proba(X_train)\n",
    "y_test_probs = gslr1.predict_proba(X_test)\n",
    "\n",
    "test_intubation_scores = []\n",
    "train_intubation_scores = []\n",
    "y_pred_test_thresh = []\n",
    "y_pred_train_thresh = []\n",
    "for i in thresholds:\n",
    "    \n",
    "    y_pred_test_thresh = [1 if x[1] >= i else 0 for x in y_test_probs]\n",
    "    test_intubation_scores.append(recall_score(y_test, y_pred_test_thresh, average = 'macro'))\n",
    "    \n",
    "    y_pred_train_thresh = [1 if x[1] >= i else 0 for x in y_train_probs]\n",
    "    train_intubation_scores.append(recall_score(y_train, y_pred_train_thresh, average = 'macro'))\n",
    "\n",
    "best_test_thresh = thresholds[test_intubation_scores.index(max(test_intubation_scores))]\n",
    "best_train_thresh = thresholds[train_intubation_scores.index(max(train_intubation_scores))]\n",
    "\n",
    "y_pred_test = [1 if x[1] >= best_test_thresh else 0 for x in y_test_probs]   \n",
    "y_pred_train = [1 if x[1] >= best_train_thresh else 0 for x in y_train_probs]\n",
    "\n",
    "sns.lineplot(thresholds, test_intubation_scores)\n",
    "\n",
    "\n",
    "print(f'Best threshold for test macro average recall score for {target} is ', best_test_thresh)\n",
    "\n"
   ]
  },
  {
   "cell_type": "code",
   "execution_count": 26,
   "metadata": {
    "colab": {},
    "colab_type": "code",
    "executionInfo": {
     "elapsed": 320,
     "status": "ok",
     "timestamp": 1592693911099,
     "user": {
      "displayName": "Sam Holmstrom",
      "photoUrl": "",
      "userId": "05645048604521877205"
     },
     "user_tz": 300
    },
    "id": "6albIokT4qih"
   },
   "outputs": [],
   "source": [
    "def plot_confusion_matrix(cm,\n",
    "                          target_names,\n",
    "                          title='Confusion matrix',\n",
    "                          cmap=None,\n",
    "                          normalize=None):\n",
    "    \"\"\"\n",
    "    given a sklearn confusion matrix (cm), make a nice plot\n",
    "\n",
    "    Arguments\n",
    "    ---------\n",
    "    cm:           confusion matrix from sklearn.metrics.confusion_matrix\n",
    "\n",
    "    target_names: given classification classes such as [0, 1, 2]\n",
    "                  the class names, for example: ['high', 'medium', 'low']\n",
    "\n",
    "    title:        the text to display at the top of the matrix\n",
    "\n",
    "    cmap:         the gradient of the values displayed from matplotlib.pyplot.cm\n",
    "                  see http://matplotlib.org/examples/color/colormaps_reference.html\n",
    "                  plt.get_cmap('jet') or plt.cm.Blues\n",
    "\n",
    "    normalize:    If False, plot the raw numbers\n",
    "                  If True, plot the proportions\n",
    "\n",
    "    Usage\n",
    "    -----\n",
    "    plot_confusion_matrix(cm           = cm,                  # confusion matrix created by\n",
    "                                                              # sklearn.metrics.confusion_matrix\n",
    "                          normalize    = True,                # show proportions\n",
    "                          target_names = y_labels_vals,       # list of names of the classes\n",
    "                          title        = best_estimator_name) # title of graph\n",
    "\n",
    "    Citiation\n",
    "    ---------\n",
    "    http://scikit-learn.org/stable/auto_examples/model_selection/plot_confusion_matrix.html\n",
    "\n",
    "    \"\"\"\n",
    "    \n",
    "   \n",
    "\n",
    "    accuracy = np.trace(cm) / float(np.sum(cm))\n",
    "    misclass = 1 - accuracy\n",
    "\n",
    "    if cmap is None:\n",
    "        cmap = plt.get_cmap('Blues')\n",
    "        \n",
    "    plt.figure(figsize=(8, 6))\n",
    "    plt.imshow(cm, interpolation='nearest', cmap=cmap)\n",
    "    plt.title(title)\n",
    "    plt.colorbar()\n",
    "\n",
    "    if target_names is not None:\n",
    "        tick_marks = np.arange(len(target_names))\n",
    "        plt.xticks(tick_marks, target_names, rotation=45)\n",
    "        plt.yticks(tick_marks, target_names)\n",
    "\n",
    "    if normalize:\n",
    "        cm = cm.astype('float') / cm.sum(axis=1)[:, np.newaxis]\n",
    "\n",
    "\n",
    "    thresh = cm.max() / 1.5 if normalize else cm.max() / 2\n",
    "    for i, j in itertools.product(range(cm.shape[0]), range(cm.shape[1])):\n",
    "        if normalize:\n",
    "            plt.text(j, i, \"{:0.4f}\".format(cm[i, j]),\n",
    "                     horizontalalignment=\"center\",\n",
    "                     color=\"white\" if cm[i, j] > thresh else \"black\", fontsize=20)\n",
    "        else:\n",
    "            plt.text(j, i, \"{:,}\".format(cm[i, j]),\n",
    "                     horizontalalignment=\"center\",\n",
    "                     color=\"white\" if cm[i, j] > thresh else \"black\",fontsize=20)\n",
    "\n",
    "\n",
    "    plt.tight_layout()\n",
    "    plt.ylabel('True label')\n",
    "    plt.xlabel('Predicted label\\naccuracy={:0.4f}; misclass={:0.4f}'.format(accuracy, misclass))\n",
    "    plt.show()"
   ]
  },
  {
   "cell_type": "code",
   "execution_count": 27,
   "metadata": {
    "colab": {
     "base_uri": "https://localhost:8080/",
     "height": 34
    },
    "colab_type": "code",
    "executionInfo": {
     "elapsed": 306,
     "status": "ok",
     "timestamp": 1592693913483,
     "user": {
      "displayName": "Sam Holmstrom",
      "photoUrl": "",
      "userId": "05645048604521877205"
     },
     "user_tz": 300
    },
    "id": "FylTCh7C4qii",
    "outputId": "eace2838-0294-49a8-8495-668cb4aa746f"
   },
   "outputs": [
    {
     "name": "stdout",
     "output_type": "stream",
     "text": [
      "LR1 confusion matrix\n"
     ]
    }
   ],
   "source": [
    "from sklearn.metrics import confusion_matrix\n",
    "print('LR1 confusion matrix')\n",
    "lr1train = confusion_matrix(y_train, y_pred_train, normalize= None)\n",
    "lr1test = confusion_matrix(y_test, y_pred_test, normalize = None)\n"
   ]
  },
  {
   "cell_type": "code",
   "execution_count": 28,
   "metadata": {
    "colab": {
     "base_uri": "https://localhost:8080/",
     "height": 467
    },
    "colab_type": "code",
    "executionInfo": {
     "elapsed": 672,
     "status": "ok",
     "timestamp": 1592693915989,
     "user": {
      "displayName": "Sam Holmstrom",
      "photoUrl": "",
      "userId": "05645048604521877205"
     },
     "user_tz": 300
    },
    "id": "vWeunZdd4qil",
    "outputId": "a5850eb4-45a8-4394-c171-9eea3134d19b",
    "scrolled": true
   },
   "outputs": [
    {
     "data": {
      "image/png": "[encoded data removed]",
      "text/plain": [
       "<Figure size 576x432 with 2 Axes>"
      ]
     },
     "metadata": {
      "needs_background": "light"
     },
     "output_type": "display_data"
    }
   ],
   "source": [
    "target_names = ['not '+target, target]\n",
    "plot_confusion_matrix(lr1test,\n",
    "                          target_names,\n",
    "                          title='Confusion matrix',\n",
    "                          cmap=None,\n",
    "                          normalize=None)"
   ]
  },
  {
   "cell_type": "code",
   "execution_count": 29,
   "metadata": {
    "colab": {
     "base_uri": "https://localhost:8080/",
     "height": 51
    },
    "colab_type": "code",
    "executionInfo": {
     "elapsed": 314,
     "status": "ok",
     "timestamp": 1592693920031,
     "user": {
      "displayName": "Sam Holmstrom",
      "photoUrl": "",
      "userId": "05645048604521877205"
     },
     "user_tz": 300
    },
    "id": "MqrmQ8mF4qim",
    "outputId": "62735f4c-d4cb-406f-a76f-e9124e7fd5ea"
   },
   "outputs": [
    {
     "name": "stdout",
     "output_type": "stream",
     "text": [
      "Test macro average recall score is  0.6270079435127979\n",
      "Train macro average recall score is  0.5993555316863588\n"
     ]
    }
   ],
   "source": [
    "print('Test macro average recall score is ',recall_score(y_test, y_pred_test, average = 'macro'))\n",
    "print('Train macro average recall score is ', recall_score(y_train, y_pred_train,average = 'macro'))"
   ]
  },
  {
   "cell_type": "code",
   "execution_count": 30,
   "metadata": {
    "colab": {
     "base_uri": "https://localhost:8080/",
     "height": 297
    },
    "colab_type": "code",
    "executionInfo": {
     "elapsed": 340,
     "status": "ok",
     "timestamp": 1592693923894,
     "user": {
      "displayName": "Sam Holmstrom",
      "photoUrl": "",
      "userId": "05645048604521877205"
     },
     "user_tz": 300
    },
    "id": "eiQB7A5Z4qio",
    "outputId": "2b21d079-f634-444b-c6d9-481c8424d178",
    "scrolled": false
   },
   "outputs": [
    {
     "data": {
      "text/html": [
       "<div>\n",
       "<style scoped>\n",
       "    .dataframe tbody tr th:only-of-type {\n",
       "        vertical-align: middle;\n",
       "    }\n",
       "\n",
       "    .dataframe tbody tr th {\n",
       "        vertical-align: top;\n",
       "    }\n",
       "\n",
       "    .dataframe thead th {\n",
       "        text-align: right;\n",
       "    }\n",
       "</style>\n",
       "<table border=\"1\" class=\"dataframe\">\n",
       "  <thead>\n",
       "    <tr style=\"text-align: right;\">\n",
       "      <th></th>\n",
       "      <th>Coef</th>\n",
       "    </tr>\n",
       "  </thead>\n",
       "  <tbody>\n",
       "    <tr>\n",
       "      <th>pneumonia</th>\n",
       "      <td>1.250169</td>\n",
       "    </tr>\n",
       "    <tr>\n",
       "      <th>outcome_1</th>\n",
       "      <td>0.464327</td>\n",
       "    </tr>\n",
       "    <tr>\n",
       "      <th>obesity</th>\n",
       "      <td>0.194141</td>\n",
       "    </tr>\n",
       "    <tr>\n",
       "      <th>outcome_2</th>\n",
       "      <td>0.157579</td>\n",
       "    </tr>\n",
       "    <tr>\n",
       "      <th>other_diseases</th>\n",
       "      <td>0.143691</td>\n",
       "    </tr>\n",
       "    <tr>\n",
       "      <th>immunosuppression</th>\n",
       "      <td>0.078995</td>\n",
       "    </tr>\n",
       "    <tr>\n",
       "      <th>age</th>\n",
       "      <td>0.002447</td>\n",
       "    </tr>\n",
       "    <tr>\n",
       "      <th>INTERCEPT</th>\n",
       "      <td>-1.484928</td>\n",
       "    </tr>\n",
       "  </tbody>\n",
       "</table>\n",
       "</div>"
      ],
      "text/plain": [
       "                       Coef\n",
       "pneumonia          1.250169\n",
       "outcome_1          0.464327\n",
       "obesity            0.194141\n",
       "outcome_2          0.157579\n",
       "other_diseases     0.143691\n",
       "immunosuppression  0.078995\n",
       "age                0.002447\n",
       "INTERCEPT         -1.484928"
      ]
     },
     "execution_count": 30,
     "metadata": {},
     "output_type": "execute_result"
    }
   ],
   "source": [
    "                                         \n",
    "lr1best = LogisticRegression(**gslr1.best_params_)\n",
    "lr1best.fit(X_train, y_train)\n",
    "abs_coefs = np.abs(lr1best.coef_[0])\n",
    "coefs = pd.DataFrame(abs_coefs, index=X_train.columns, columns=['Coef'])\n",
    "coefs.loc['INTERCEPT'] = [lr1best.intercept_[0]]\n",
    "coefs.sort_values('Coef', ascending=False)\n"
   ]
  },
  {
   "cell_type": "markdown",
   "metadata": {
    "colab_type": "text",
    "id": "9Rtm0JdI4qiq"
   },
   "source": [
    "# Random Forests"
   ]
  },
  {
   "cell_type": "code",
   "execution_count": 31,
   "metadata": {
    "colab": {
     "base_uri": "https://localhost:8080/",
     "height": 51
    },
    "colab_type": "code",
    "executionInfo": {
     "elapsed": 18669,
     "status": "ok",
     "timestamp": 1592693947950,
     "user": {
      "displayName": "Sam Holmstrom",
      "photoUrl": "",
      "userId": "05645048604521877205"
     },
     "user_tz": 300
    },
    "id": "F6b6qFbL4qiq",
    "outputId": "2fb2533a-73a4-480d-d718-db42e0bdac81"
   },
   "outputs": [
    {
     "name": "stdout",
     "output_type": "stream",
     "text": [
      "Test macro average recall score is  0.6259488084730803\n",
      "Train macro average recall score is  0.6192266380236305\n"
     ]
    }
   ],
   "source": [
    "\n",
    "rf1 = RandomForestClassifier(max_depth=3,  max_features=4,  n_estimators=10000)\n",
    "rf1.fit(X_train, y_train)\n",
    "\n",
    "y_test_predrf1 = rf1.predict(X_test)\n",
    "y_train_predrf1 = rf1.predict(X_train)\n",
    "print('Test macro average recall score is ', recall_score(y_test, y_test_predrf1, average = 'macro'))\n",
    "print('Train macro average recall score is ', recall_score(y_train, y_train_predrf1,average = 'macro'))\n"
   ]
  },
  {
   "cell_type": "code",
   "execution_count": 32,
   "metadata": {
    "colab": {},
    "colab_type": "code",
    "id": "aUnDNspl4qir"
   },
   "outputs": [
    {
     "name": "stdout",
     "output_type": "stream",
     "text": [
      "RF1 confusion matrix\n",
      "Training\n",
      " [[452 479]\n",
      " [230 701]]\n",
      "Test\n",
      " [[ 96 124]\n",
      " [ 38 168]]\n"
     ]
    }
   ],
   "source": [
    "print('RF1 confusion matrix')\n",
    "print('Training\\n', confusion_matrix(y_train, y_train_predrf1, normalize= None))\n",
    "print('Test\\n', confusion_matrix(y_test, y_test_predrf1, normalize = None))"
   ]
  },
  {
   "cell_type": "markdown",
   "metadata": {
    "colab_type": "text",
    "id": "NOnhN9Tt4qit"
   },
   "source": [
    "# K Nearest Neighbors"
   ]
  },
  {
   "cell_type": "code",
   "execution_count": 33,
   "metadata": {
    "colab": {},
    "colab_type": "code",
    "id": "-EvIYCjh4qiu"
   },
   "outputs": [
    {
     "name": "stdout",
     "output_type": "stream",
     "text": [
      "Test macro average recall score is  0.513901147396293\n",
      "Train macro average recall score is  0.6976369495166488\n"
     ]
    }
   ],
   "source": [
    "\n",
    "knn1 = KNeighborsClassifier(n_neighbors=6, weights='uniform', leaf_size=20)\n",
    "knn1.fit(X_train, y_train)\n",
    "\n",
    "y_test_predknn1 = knn1.predict(X_test)\n",
    "y_train_predknn1 = knn1.predict(X_train)\n",
    "print('Test macro average recall score is ',recall_score(y_test, y_test_predknn1,average = 'macro'))\n",
    "print('Train macro average recall score is ',recall_score(y_train, y_train_predknn1,average = 'macro'))\n"
   ]
  },
  {
   "cell_type": "code",
   "execution_count": 34,
   "metadata": {
    "colab": {},
    "colab_type": "code",
    "id": "vQxbPYjn4qiv"
   },
   "outputs": [
    {
     "name": "stdout",
     "output_type": "stream",
     "text": [
      "KNN1 cv scores are [0.60321716 0.5924933  0.59408602 0.6344086  0.60752688]\n"
     ]
    }
   ],
   "source": [
    "\n",
    "print(f'KNN1 cv scores are {cross_val_score(knn1, X_train, y_train, cv= 5)}')\n",
    "\n"
   ]
  },
  {
   "cell_type": "code",
   "execution_count": 35,
   "metadata": {
    "colab": {},
    "colab_type": "code",
    "id": "yUUgY3YH4qix"
   },
   "outputs": [
    {
     "name": "stdout",
     "output_type": "stream",
     "text": [
      "knn1 confusion matrix\n",
      "Training\n",
      " [[720 211]\n",
      " [352 579]]\n",
      "Test\n",
      " [[130  90]\n",
      " [116  90]]\n"
     ]
    }
   ],
   "source": [
    "print('knn1 confusion matrix')\n",
    "print('Training\\n', confusion_matrix(y_train, y_train_predknn1, normalize= None))\n",
    "print('Test\\n', confusion_matrix(y_test, y_test_predknn1, normalize = None))"
   ]
  },
  {
   "cell_type": "markdown",
   "metadata": {
    "colab_type": "text",
    "id": "5HTPSomc4qiy"
   },
   "source": [
    "# Support Vector Classification"
   ]
  },
  {
   "cell_type": "code",
   "execution_count": 36,
   "metadata": {
    "colab": {},
    "colab_type": "code",
    "id": "bk8VwTFa4qiz"
   },
   "outputs": [
    {
     "name": "stdout",
     "output_type": "stream",
     "text": [
      "Test macro average recall score is  0.584819064430715\n",
      "Train macro average recall score is  0.5891514500537057\n",
      "{'C': 0.1, 'kernel': 'linear'}\n"
     ]
    }
   ],
   "source": [
    "c_values = [10**x for x in range(-2, 0)]\n",
    "svmlin = SVC()\n",
    "parameters = {'kernel':['linear'], 'C':c_values}\n",
    "svmgrid = GridSearchCV(svmlin, parameters)\n",
    "svmgrid.fit(X_train, y_train)\n",
    "\n",
    "y_train_predsvmgrid = svmgrid.predict(X_train)\n",
    "y_test_predsvmgrid = svmgrid.predict(X_test)\n",
    "\n",
    "print('Test macro average recall score is ', recall_score(y_test, y_test_predsvmgrid,average = 'macro'))\n",
    "print('Train macro average recall score is ', recall_score(y_train, y_train_predsvmgrid,average = 'macro'))\n",
    "print(svmgrid.best_params_)\n"
   ]
  },
  {
   "cell_type": "code",
   "execution_count": 37,
   "metadata": {
    "colab": {},
    "colab_type": "code",
    "id": "eyQsxgeu4qi0"
   },
   "outputs": [
    {
     "name": "stdout",
     "output_type": "stream",
     "text": [
      "svmrbf confusion matrix\n",
      "Training\n",
      " [[244 687]\n",
      " [ 78 853]]\n",
      "Test\n",
      " [[ 48 172]\n",
      " [ 10 196]]\n"
     ]
    }
   ],
   "source": [
    "\n",
    "print('svmrbf confusion matrix')\n",
    "print('Training\\n', confusion_matrix(y_train, y_train_predsvmgrid, normalize= None))\n",
    "print('Test\\n', confusion_matrix(y_test,y_test_predsvmgrid, normalize = None))\n"
   ]
  },
  {
   "cell_type": "code",
   "execution_count": 38,
   "metadata": {
    "colab": {},
    "colab_type": "code",
    "id": "jGFNJH0s4qi2"
   },
   "outputs": [
    {
     "name": "stdout",
     "output_type": "stream",
     "text": [
      "SVMlin cv scores are [0.54225352 0.52816901 0.54117647 0.53411765 0.55529412]\n"
     ]
    }
   ],
   "source": [
    "print(f'SVMlin cv scores are {cross_val_score(svmlin, X, y, cv= 5)}')"
   ]
  },
  {
   "cell_type": "code",
   "execution_count": null,
   "metadata": {
    "colab": {},
    "colab_type": "code",
    "id": "CRR7Sule4qi3"
   },
   "outputs": [],
   "source": []
  },
  {
   "cell_type": "code",
   "execution_count": null,
   "metadata": {
    "colab": {},
    "colab_type": "code",
    "id": "9NySxw7W4qi6"
   },
   "outputs": [],
   "source": []
  }
 ],
 "metadata": {
  "colab": {
   "collapsed_sections": [],
   "name": "C2_061420.ipynb",
   "provenance": [
    {
     "file_id": "1CCSW5c1QlTfpU1LD8gQ6E_f0MyXgiyMC",
     "timestamp": 1592190414749
    }
   ]
  },
  "kernelspec": {
   "display_name": "Python 3",
   "language": "python",
   "name": "python3"
  },
  "language_info": {
   "codemirror_mode": {
    "name": "ipython",
    "version": 3
   },
   "file_extension": ".py",
   "mimetype": "text/x-python",
   "name": "python",
   "nbconvert_exporter": "python",
   "pygments_lexer": "ipython3",
   "version": "3.7.7"
  }
 },
 "nbformat": 4,
 "nbformat_minor": 1
}
